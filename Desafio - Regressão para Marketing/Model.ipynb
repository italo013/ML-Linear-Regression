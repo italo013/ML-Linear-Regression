{
 "cells": [
  {
   "cell_type": "code",
   "execution_count": null,
   "metadata": {},
   "outputs": [],
   "source": []
  },
  {
   "attachments": {},
   "cell_type": "markdown",
   "metadata": {},
   "source": [
    "# Desafio: Construindo um modelo de Regressão para Marketing"
   ]
  },
  {
   "attachments": {},
   "cell_type": "markdown",
   "metadata": {},
   "source": [
    "# Contexto - Introdução\n",
    "Uma empresa está investindo mensalmente em plataformas de publicidade online, como Youtube, Facebook e newspaper, para a prospecção de leads (pessoas interessadas em seus produtos). A fim de acompanhar o desempenho desses investimentos, a empresa registra todos os gastos com publicidade e todos os retornos de vendas gerados a partir desses investimentos.\n",
    "\n",
    "Para entender melhor a relação entre as variáveis presentes nesses registros e identificar os fatores que mais impactam na geração de leads, a empresa solicitou a análise de um especialista em dados. Além disso, a empresa busca criar um modelo de predição de valores para estimar o retorno de vendas que pode ser gerado a partir de um determinado investimento em publicidade.\n",
    "\n",
    "# Sobre os dados\n",
    "A tabela contém informações dos investimentos feitos pelo youtube, facebook, newspaper e também a quantidade de cada. \n",
    "\n",
    "| Coluna    | Descrição              |\n",
    "|-----------|------------------------|\n",
    "| youtube   | Investimento youtube   |\n",
    "| facebook  | Investimento facebook  |\n",
    "| newspaper | Investimento newspaper |\n",
    "| sales     | Valor das vendas       |"
   ]
  },
  {
   "attachments": {},
   "cell_type": "markdown",
   "metadata": {},
   "source": [
    "# Etapas de Desenvolvimento\n",
    "\n",
    "Para te ajudar nesse processo, detalhar o processo nas etapas a seguir:\n",
    "\n",
    "## Etapa 01) Análise Descritiva\n",
    "Esta etapa consiste em explorar os dados do dataset para compreender melhor as variáveis e identificar problemas. Para isso, é recomendado utilizar a biblioteca Pandas para importar e manipular os dados e realizar cálculos estatísticos, além das bibliotecas de visualização.\n",
    "\n",
    "É importante investigar o tipo de dado em cada variável, os valores e a distribuição dos\n",
    "dados. Ao final, espera-se ter uma interpretação sólida dos dados para avançar para a\n",
    "próxima etapa"
   ]
  },
  {
   "cell_type": "code",
   "execution_count": null,
   "metadata": {},
   "outputs": [],
   "source": []
  },
  {
   "cell_type": "code",
   "execution_count": null,
   "metadata": {},
   "outputs": [],
   "source": []
  },
  {
   "cell_type": "code",
   "execution_count": null,
   "metadata": {},
   "outputs": [],
   "source": []
  },
  {
   "cell_type": "code",
   "execution_count": null,
   "metadata": {},
   "outputs": [],
   "source": []
  },
  {
   "cell_type": "code",
   "execution_count": null,
   "metadata": {},
   "outputs": [],
   "source": []
  },
  {
   "cell_type": "code",
   "execution_count": null,
   "metadata": {},
   "outputs": [],
   "source": []
  }
 ],
 "metadata": {
  "language_info": {
   "name": "python"
  },
  "orig_nbformat": 4
 },
 "nbformat": 4,
 "nbformat_minor": 2
}
