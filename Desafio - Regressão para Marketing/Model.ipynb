{
 "cells": [
  {
   "attachments": {},
   "cell_type": "markdown",
   "metadata": {},
   "source": [
    "# Desafio: Construindo um modelo de Regressão para Marketing"
   ]
  },
  {
   "attachments": {},
   "cell_type": "markdown",
   "metadata": {},
   "source": [
    "# Contexto - Introdução"
   ]
  },
  {
   "attachments": {},
   "cell_type": "markdown",
   "metadata": {},
   "source": [
    "Uma empresa está investindo mensalmente em plataformas de publicidade online, como Youtube, Facebook e newspaper, para a prospecção de leads (pessoas interessadas em seus produtos). A fim de acompanhar o desempenho desses investimentos, a empresa registra todos os gastos com publicidade e todos os retornos de vendas gerados a partir desses investimentos.\n",
    "\n",
    "Para **entender** melhor **a relação entre as variáveis** presentes nesses registros e **identificar os fatores que mais impactam** na geração de leads, a empresa solicitou a análise de um especialista em dados. **Além disso, a empresa busca criar um modelo de predição** de valores para estimar o retorno de vendas que pode ser gerado a partir de um determinado investimento em publicidade."
   ]
  },
  {
   "attachments": {},
   "cell_type": "markdown",
   "metadata": {},
   "source": [
    "# Sobre os dados"
   ]
  },
  {
   "attachments": {},
   "cell_type": "markdown",
   "metadata": {},
   "source": [
    "A tabela contém informações dos investimentos feitos pelo youtube, facebook, newspaper e também a quantidade de cada. \n",
    "\n",
    "| Coluna    | Descrição              |\n",
    "|-----------|------------------------|\n",
    "| youtube   | Investimento youtube   |\n",
    "| facebook  | Investimento facebook  |\n",
    "| newspaper | Investimento newspaper |\n",
    "| sales     | Valor das vendas       |"
   ]
  },
  {
   "attachments": {},
   "cell_type": "markdown",
   "metadata": {},
   "source": [
    "# Importando as Bibliotecas"
   ]
  },
  {
   "cell_type": "code",
   "execution_count": 19,
   "metadata": {},
   "outputs": [],
   "source": [
    "#Manipulação de Dados\n",
    "import pandas as pd\n",
    "import numpy as np\n",
    "import math\n",
    "\n",
    "#Visualização\n",
    "import plotly.express as px\n",
    "import plotly.subplots as sp\n",
    "import plotly.graph_objs as go\n",
    "import plotly.figure_factory as ff\n",
    "from plotly.subplots            import make_subplots\n",
    "\n",
    "#Modelo\n",
    "from sklearn.model_selection import train_test_split\n",
    "from sklearn.linear_model import LinearRegression\n",
    "from sklearn.metrics import mean_squared_error, r2_score\n",
    "\n",
    "#Display\n",
    "import warnings\n",
    "import handcalcs.render\n",
    "from IPython.display            import Markdown"
   ]
  },
  {
   "attachments": {},
   "cell_type": "markdown",
   "metadata": {},
   "source": [
    "# Funções Auxiliares e Configurações"
   ]
  },
  {
   "cell_type": "code",
   "execution_count": 2,
   "metadata": {},
   "outputs": [],
   "source": [
    "warnings.filterwarnings(\"ignore\")\n",
    "pd.options.display.float_format = '{:.2f}'.format\n",
    "\n",
    "def df_informations(df):\n",
    "    # Cria um Dataframe com as informações relativas ao Dataset\n",
    "    df_info = pd.DataFrame({'Not Null': df.notnull().sum(),\n",
    "                            'Null': df.isnull().sum(),\n",
    "                            'Perce Null': df.isnull().sum() / len(df),\n",
    "                            'Dtype': df.dtypes\n",
    "                })\n",
    "    \n",
    "    # Cria outro Dataframe com todos os types do df\n",
    "    df_dtype = df_info['Dtype'].value_counts().reset_index()\n",
    "    df_dtype.columns = ['Dtype', 'Count']\n",
    "    df_dtype['Perce'] = round(df_dtype['Count'] / df_dtype['Count'].sum(), 2)\n",
    "    \n",
    "    # Verificando se tem linhas duplicadas\n",
    "    duplicado = df.duplicated().sum()\n",
    "    mensagem = 'Não possui linhas duplicadas.' if duplicado == 0 else f\"Tem {duplicado} linhas duplicadas, o que representa {round(duplicado/len(df)*100, 2)}% do total de linhas.\"\n",
    "\n",
    "    # Texto automático das dimensões do df\n",
    "    text = f'Dataset tem {df.shape[0]} linhas e {df.shape[1]} colunas. {mensagem} Sobre o dataset, temos:'\n",
    "\n",
    "    # Colore os Dataframes\n",
    "    df_info = df_info.style.background_gradient(cmap='jet', subset=['Perce Null']).format({'Perce Null': '{:.2%}'})\n",
    "    df_dtype = df_dtype.style.background_gradient(cmap='YlGn', subset=['Perce']).format({'Perce': '{:.2%}'})\n",
    "\n",
    "    # Texto final com Markdown\n",
    "    display(Markdown(\"<H3 style='text-align:left;float:lfet;'>Informações sobre o Dataset\"))\n",
    "    display(Markdown(f'<H5> {text}'))\n",
    "    display(df_info)\n",
    "    display(Markdown(\"<H3 style='text-align:left;float:lfet;'>Sobre Dtypes, temos:\"))\n",
    "    display(df_dtype)\n",
    "    display(Markdown(\"<H3 style='text-align:left;float:lfet;'>Estatística Descritiva\"))\n",
    "    display(df.describe(percentiles=[0.01, 0.25, 0.5, 0.75, 0.99]).T)\n",
    "\n",
    "def plot_distribution_and_boxplot(df):\n",
    "    # Obtém a lista de colunas numéricas\n",
    "    num_cols = df.select_dtypes(include=[np.number]).columns\n",
    "    \n",
    "    # Cria a lista de títulos para os subplots\n",
    "    subplot_titles = [title for col in num_cols for title in [f\"Histograma - {col}\", f\"Boxplot - {col}\"]]\n",
    "    \n",
    "    # Cria a figura com subplots\n",
    "    fig = sp.make_subplots(rows=len(num_cols), cols=2, subplot_titles=subplot_titles)\n",
    "    \n",
    "    # Define cores\n",
    "    colors = ['blue', 'red', 'green', 'purple', 'orange', 'brown', 'pink', 'yellow', 'cyan', 'magenta', \n",
    "              'lime', 'lavender', 'maroon', 'navy', 'olive', 'teal', 'aqua', 'fuchsia', 'gray', 'silver']\n",
    "    \n",
    "    # Adiciona os gráficos à figura para cada coluna numérica\n",
    "    for i, col in enumerate(num_cols, start=1):\n",
    "        # Define a cor usando a lógica de ciclagem\n",
    "        color = colors[i % len(colors)]\n",
    "        \n",
    "        # Adiciona o histograma\n",
    "        fig.add_trace(go.Histogram(x=df[col], nbinsx=40, marker_color=color, \n",
    "                                    showlegend=False),\n",
    "                      row=i, col=1)\n",
    "        \n",
    "        # Adiciona o boxplot\n",
    "        fig.add_trace(go.Box(y=df[col], marker_color=color, showlegend=False),\n",
    "                      row=i, col=2)\n",
    "    \n",
    "    # Configura o layout\n",
    "    fig.update_layout(height=300*len(num_cols), title_text=\"Distribuição e Boxplot para cada variável numérica\")\n",
    "    fig.show()\n"
   ]
  },
  {
   "attachments": {},
   "cell_type": "markdown",
   "metadata": {},
   "source": [
    "# Importando o Dataset"
   ]
  },
  {
   "cell_type": "code",
   "execution_count": 3,
   "metadata": {},
   "outputs": [
    {
     "data": {
      "text/html": [
       "<div>\n",
       "<style scoped>\n",
       "    .dataframe tbody tr th:only-of-type {\n",
       "        vertical-align: middle;\n",
       "    }\n",
       "\n",
       "    .dataframe tbody tr th {\n",
       "        vertical-align: top;\n",
       "    }\n",
       "\n",
       "    .dataframe thead th {\n",
       "        text-align: right;\n",
       "    }\n",
       "</style>\n",
       "<table border=\"1\" class=\"dataframe\">\n",
       "  <thead>\n",
       "    <tr style=\"text-align: right;\">\n",
       "      <th></th>\n",
       "      <th>youtube</th>\n",
       "      <th>facebook</th>\n",
       "      <th>newspaper</th>\n",
       "      <th>sales</th>\n",
       "    </tr>\n",
       "  </thead>\n",
       "  <tbody>\n",
       "    <tr>\n",
       "      <th>0</th>\n",
       "      <td>84.72</td>\n",
       "      <td>19.20</td>\n",
       "      <td>48.96</td>\n",
       "      <td>12.60</td>\n",
       "    </tr>\n",
       "    <tr>\n",
       "      <th>1</th>\n",
       "      <td>351.48</td>\n",
       "      <td>33.96</td>\n",
       "      <td>51.84</td>\n",
       "      <td>25.68</td>\n",
       "    </tr>\n",
       "    <tr>\n",
       "      <th>2</th>\n",
       "      <td>135.48</td>\n",
       "      <td>20.88</td>\n",
       "      <td>46.32</td>\n",
       "      <td>14.28</td>\n",
       "    </tr>\n",
       "    <tr>\n",
       "      <th>3</th>\n",
       "      <td>116.64</td>\n",
       "      <td>1.80</td>\n",
       "      <td>36.00</td>\n",
       "      <td>11.52</td>\n",
       "    </tr>\n",
       "    <tr>\n",
       "      <th>4</th>\n",
       "      <td>318.72</td>\n",
       "      <td>24.00</td>\n",
       "      <td>0.36</td>\n",
       "      <td>20.88</td>\n",
       "    </tr>\n",
       "    <tr>\n",
       "      <th>...</th>\n",
       "      <td>...</td>\n",
       "      <td>...</td>\n",
       "      <td>...</td>\n",
       "      <td>...</td>\n",
       "    </tr>\n",
       "    <tr>\n",
       "      <th>166</th>\n",
       "      <td>45.84</td>\n",
       "      <td>4.44</td>\n",
       "      <td>16.56</td>\n",
       "      <td>9.12</td>\n",
       "    </tr>\n",
       "    <tr>\n",
       "      <th>167</th>\n",
       "      <td>113.04</td>\n",
       "      <td>5.88</td>\n",
       "      <td>9.72</td>\n",
       "      <td>11.64</td>\n",
       "    </tr>\n",
       "    <tr>\n",
       "      <th>168</th>\n",
       "      <td>212.40</td>\n",
       "      <td>11.16</td>\n",
       "      <td>7.68</td>\n",
       "      <td>15.36</td>\n",
       "    </tr>\n",
       "    <tr>\n",
       "      <th>169</th>\n",
       "      <td>340.32</td>\n",
       "      <td>50.40</td>\n",
       "      <td>79.44</td>\n",
       "      <td>30.60</td>\n",
       "    </tr>\n",
       "    <tr>\n",
       "      <th>170</th>\n",
       "      <td>278.52</td>\n",
       "      <td>10.32</td>\n",
       "      <td>10.44</td>\n",
       "      <td>16.08</td>\n",
       "    </tr>\n",
       "  </tbody>\n",
       "</table>\n",
       "<p>171 rows × 4 columns</p>\n",
       "</div>"
      ],
      "text/plain": [
       "     youtube  facebook  newspaper  sales\n",
       "0      84.72     19.20      48.96  12.60\n",
       "1     351.48     33.96      51.84  25.68\n",
       "2     135.48     20.88      46.32  14.28\n",
       "3     116.64      1.80      36.00  11.52\n",
       "4     318.72     24.00       0.36  20.88\n",
       "..       ...       ...        ...    ...\n",
       "166    45.84      4.44      16.56   9.12\n",
       "167   113.04      5.88       9.72  11.64\n",
       "168   212.40     11.16       7.68  15.36\n",
       "169   340.32     50.40      79.44  30.60\n",
       "170   278.52     10.32      10.44  16.08\n",
       "\n",
       "[171 rows x 4 columns]"
      ]
     },
     "execution_count": 3,
     "metadata": {},
     "output_type": "execute_result"
    }
   ],
   "source": [
    "df = pd.read_csv('MKT.csv')\n",
    "df"
   ]
  },
  {
   "attachments": {},
   "cell_type": "markdown",
   "metadata": {},
   "source": [
    "# Etapas de Desenvolvimento\n",
    "\n",
    "Para te ajudar nesse processo, detalhar o processo nas etapas a seguir:"
   ]
  },
  {
   "attachments": {},
   "cell_type": "markdown",
   "metadata": {},
   "source": [
    "## Etapa 01) Análise Descritiva\n",
    "Esta etapa consiste em explorar os dados do dataset para **compreender melhor as variáveis e identificar problemas**. Para isso, é recomendado utilizar a biblioteca **Pandas** para importar e manipular os dados e realizar cálculos estatísticos, além das bibliotecas de visualização.\n",
    "\n",
    "É importante investigar o tipo de dado em cada variável, os valores e a distribuição dos\n",
    "dados. Ao final, espera-se ter uma interpretação sólida dos dados para avançar para a\n",
    "próxima etapa"
   ]
  },
  {
   "attachments": {},
   "cell_type": "markdown",
   "metadata": {},
   "source": [
    "### Análise Descritiva do Dataset"
   ]
  },
  {
   "cell_type": "code",
   "execution_count": 4,
   "metadata": {},
   "outputs": [
    {
     "data": {
      "text/markdown": [
       "<H3 style='text-align:left;float:lfet;'>Informações sobre o Dataset"
      ],
      "text/plain": [
       "<IPython.core.display.Markdown object>"
      ]
     },
     "metadata": {},
     "output_type": "display_data"
    },
    {
     "data": {
      "text/markdown": [
       "<H5> Dataset tem 171 linhas e 4 colunas. Não possui linhas duplicadas. Sobre o dataset, temos:"
      ],
      "text/plain": [
       "<IPython.core.display.Markdown object>"
      ]
     },
     "metadata": {},
     "output_type": "display_data"
    },
    {
     "data": {
      "text/html": [
       "<style type=\"text/css\">\n",
       "#T_ad4fe_row0_col2, #T_ad4fe_row1_col2, #T_ad4fe_row2_col2, #T_ad4fe_row3_col2 {\n",
       "  background-color: #000080;\n",
       "  color: #f1f1f1;\n",
       "}\n",
       "</style>\n",
       "<table id=\"T_ad4fe\">\n",
       "  <thead>\n",
       "    <tr>\n",
       "      <th class=\"blank level0\" >&nbsp;</th>\n",
       "      <th id=\"T_ad4fe_level0_col0\" class=\"col_heading level0 col0\" >Not Null</th>\n",
       "      <th id=\"T_ad4fe_level0_col1\" class=\"col_heading level0 col1\" >Null</th>\n",
       "      <th id=\"T_ad4fe_level0_col2\" class=\"col_heading level0 col2\" >Perce Null</th>\n",
       "      <th id=\"T_ad4fe_level0_col3\" class=\"col_heading level0 col3\" >Dtype</th>\n",
       "    </tr>\n",
       "  </thead>\n",
       "  <tbody>\n",
       "    <tr>\n",
       "      <th id=\"T_ad4fe_level0_row0\" class=\"row_heading level0 row0\" >youtube</th>\n",
       "      <td id=\"T_ad4fe_row0_col0\" class=\"data row0 col0\" >171</td>\n",
       "      <td id=\"T_ad4fe_row0_col1\" class=\"data row0 col1\" >0</td>\n",
       "      <td id=\"T_ad4fe_row0_col2\" class=\"data row0 col2\" >0.00%</td>\n",
       "      <td id=\"T_ad4fe_row0_col3\" class=\"data row0 col3\" >float64</td>\n",
       "    </tr>\n",
       "    <tr>\n",
       "      <th id=\"T_ad4fe_level0_row1\" class=\"row_heading level0 row1\" >facebook</th>\n",
       "      <td id=\"T_ad4fe_row1_col0\" class=\"data row1 col0\" >171</td>\n",
       "      <td id=\"T_ad4fe_row1_col1\" class=\"data row1 col1\" >0</td>\n",
       "      <td id=\"T_ad4fe_row1_col2\" class=\"data row1 col2\" >0.00%</td>\n",
       "      <td id=\"T_ad4fe_row1_col3\" class=\"data row1 col3\" >float64</td>\n",
       "    </tr>\n",
       "    <tr>\n",
       "      <th id=\"T_ad4fe_level0_row2\" class=\"row_heading level0 row2\" >newspaper</th>\n",
       "      <td id=\"T_ad4fe_row2_col0\" class=\"data row2 col0\" >171</td>\n",
       "      <td id=\"T_ad4fe_row2_col1\" class=\"data row2 col1\" >0</td>\n",
       "      <td id=\"T_ad4fe_row2_col2\" class=\"data row2 col2\" >0.00%</td>\n",
       "      <td id=\"T_ad4fe_row2_col3\" class=\"data row2 col3\" >float64</td>\n",
       "    </tr>\n",
       "    <tr>\n",
       "      <th id=\"T_ad4fe_level0_row3\" class=\"row_heading level0 row3\" >sales</th>\n",
       "      <td id=\"T_ad4fe_row3_col0\" class=\"data row3 col0\" >171</td>\n",
       "      <td id=\"T_ad4fe_row3_col1\" class=\"data row3 col1\" >0</td>\n",
       "      <td id=\"T_ad4fe_row3_col2\" class=\"data row3 col2\" >0.00%</td>\n",
       "      <td id=\"T_ad4fe_row3_col3\" class=\"data row3 col3\" >float64</td>\n",
       "    </tr>\n",
       "  </tbody>\n",
       "</table>\n"
      ],
      "text/plain": [
       "<pandas.io.formats.style.Styler at 0x13e3aed7a10>"
      ]
     },
     "metadata": {},
     "output_type": "display_data"
    },
    {
     "data": {
      "text/markdown": [
       "<H3 style='text-align:left;float:lfet;'>Sobre Dtypes, temos:"
      ],
      "text/plain": [
       "<IPython.core.display.Markdown object>"
      ]
     },
     "metadata": {},
     "output_type": "display_data"
    },
    {
     "data": {
      "text/html": [
       "<style type=\"text/css\">\n",
       "#T_10b7c_row0_col2 {\n",
       "  background-color: #ffffe5;\n",
       "  color: #000000;\n",
       "}\n",
       "</style>\n",
       "<table id=\"T_10b7c\">\n",
       "  <thead>\n",
       "    <tr>\n",
       "      <th class=\"blank level0\" >&nbsp;</th>\n",
       "      <th id=\"T_10b7c_level0_col0\" class=\"col_heading level0 col0\" >Dtype</th>\n",
       "      <th id=\"T_10b7c_level0_col1\" class=\"col_heading level0 col1\" >Count</th>\n",
       "      <th id=\"T_10b7c_level0_col2\" class=\"col_heading level0 col2\" >Perce</th>\n",
       "    </tr>\n",
       "  </thead>\n",
       "  <tbody>\n",
       "    <tr>\n",
       "      <th id=\"T_10b7c_level0_row0\" class=\"row_heading level0 row0\" >0</th>\n",
       "      <td id=\"T_10b7c_row0_col0\" class=\"data row0 col0\" >float64</td>\n",
       "      <td id=\"T_10b7c_row0_col1\" class=\"data row0 col1\" >4</td>\n",
       "      <td id=\"T_10b7c_row0_col2\" class=\"data row0 col2\" >100.00%</td>\n",
       "    </tr>\n",
       "  </tbody>\n",
       "</table>\n"
      ],
      "text/plain": [
       "<pandas.io.formats.style.Styler at 0x13e3b953450>"
      ]
     },
     "metadata": {},
     "output_type": "display_data"
    },
    {
     "data": {
      "text/markdown": [
       "<H3 style='text-align:left;float:lfet;'>Estatística Descritiva"
      ],
      "text/plain": [
       "<IPython.core.display.Markdown object>"
      ]
     },
     "metadata": {},
     "output_type": "display_data"
    },
    {
     "data": {
      "text/html": [
       "<div>\n",
       "<style scoped>\n",
       "    .dataframe tbody tr th:only-of-type {\n",
       "        vertical-align: middle;\n",
       "    }\n",
       "\n",
       "    .dataframe tbody tr th {\n",
       "        vertical-align: top;\n",
       "    }\n",
       "\n",
       "    .dataframe thead th {\n",
       "        text-align: right;\n",
       "    }\n",
       "</style>\n",
       "<table border=\"1\" class=\"dataframe\">\n",
       "  <thead>\n",
       "    <tr style=\"text-align: right;\">\n",
       "      <th></th>\n",
       "      <th>count</th>\n",
       "      <th>mean</th>\n",
       "      <th>std</th>\n",
       "      <th>min</th>\n",
       "      <th>1%</th>\n",
       "      <th>25%</th>\n",
       "      <th>50%</th>\n",
       "      <th>75%</th>\n",
       "      <th>99%</th>\n",
       "      <th>max</th>\n",
       "    </tr>\n",
       "  </thead>\n",
       "  <tbody>\n",
       "    <tr>\n",
       "      <th>youtube</th>\n",
       "      <td>171.00</td>\n",
       "      <td>178.02</td>\n",
       "      <td>102.45</td>\n",
       "      <td>0.84</td>\n",
       "      <td>6.01</td>\n",
       "      <td>91.08</td>\n",
       "      <td>179.76</td>\n",
       "      <td>262.98</td>\n",
       "      <td>351.73</td>\n",
       "      <td>355.68</td>\n",
       "    </tr>\n",
       "    <tr>\n",
       "      <th>facebook</th>\n",
       "      <td>171.00</td>\n",
       "      <td>27.67</td>\n",
       "      <td>17.91</td>\n",
       "      <td>0.00</td>\n",
       "      <td>0.44</td>\n",
       "      <td>11.70</td>\n",
       "      <td>26.76</td>\n",
       "      <td>43.68</td>\n",
       "      <td>59.28</td>\n",
       "      <td>59.52</td>\n",
       "    </tr>\n",
       "    <tr>\n",
       "      <th>newspaper</th>\n",
       "      <td>171.00</td>\n",
       "      <td>35.24</td>\n",
       "      <td>24.90</td>\n",
       "      <td>0.36</td>\n",
       "      <td>1.75</td>\n",
       "      <td>13.74</td>\n",
       "      <td>31.08</td>\n",
       "      <td>50.88</td>\n",
       "      <td>103.42</td>\n",
       "      <td>121.08</td>\n",
       "    </tr>\n",
       "    <tr>\n",
       "      <th>sales</th>\n",
       "      <td>171.00</td>\n",
       "      <td>16.92</td>\n",
       "      <td>6.31</td>\n",
       "      <td>1.92</td>\n",
       "      <td>5.60</td>\n",
       "      <td>12.54</td>\n",
       "      <td>15.48</td>\n",
       "      <td>20.82</td>\n",
       "      <td>30.85</td>\n",
       "      <td>32.40</td>\n",
       "    </tr>\n",
       "  </tbody>\n",
       "</table>\n",
       "</div>"
      ],
      "text/plain": [
       "           count   mean    std  min   1%   25%    50%    75%    99%    max\n",
       "youtube   171.00 178.02 102.45 0.84 6.01 91.08 179.76 262.98 351.73 355.68\n",
       "facebook  171.00  27.67  17.91 0.00 0.44 11.70  26.76  43.68  59.28  59.52\n",
       "newspaper 171.00  35.24  24.90 0.36 1.75 13.74  31.08  50.88 103.42 121.08\n",
       "sales     171.00  16.92   6.31 1.92 5.60 12.54  15.48  20.82  30.85  32.40"
      ]
     },
     "metadata": {},
     "output_type": "display_data"
    }
   ],
   "source": [
    "df_informations(df)"
   ]
  },
  {
   "attachments": {},
   "cell_type": "markdown",
   "metadata": {},
   "source": [
    "As informações **.describe** podem ser úteis para entender a dispersão e a tendência central dos dados.\n",
    "\n",
    "- <font color='chartreuse'>Média</font>: Representa a tendência central dos dados;\n",
    "- <font color='chartreuse'>Desvio Padrão</font>: Indica a dispersão, sugerindo uma variabilidade dos valores;\n",
    "- <font color='chartreuse'>Quartis</font>: Fornecem informações sobre a distribuição dos dados ao longo de diferentes partes; e\n",
    "- <font color='chartreuse'>Valor Mínimo e Máximo</font>: Indicam a faixa em que os dados estão concentrados.\n",
    "\n",
    "Logo, podemos observar que:\n",
    "\n",
    "1. **Variável \"youtube\":**\n",
    "    * A média de investimento do YouTube é de aproximadamente 178.02, o que nos mostra que é o que mais recebe invetimento.\n",
    "    * O desvio padrão é relativamente alto (102.45), o que sugere que os dados do YouTube apresentam uma dispersão considerável em relação à média.\n",
    "    * Os quartis indicam que 25% dos dados estão abaixo de 91.08, 50% estão abaixo de 179.76 e 75% estão abaixo de 262.98.\n",
    "    * O valor mínimo é de 0.84 e o valor máximo é de 355.68, mostrando que a faixa de visualizações varia de forma considerável.\n",
    "<br></br>\n",
    "1. **Variável \"facebook\":**\n",
    "    * A média (27.67) de investimento do Facebook é aproximadamente 6.5x menor em relação ao Youtube.\n",
    "    * O desvio padrão é de 17.91, indicando uma dispersão alta (64.72%) em relação à média.\n",
    "    * Os quartis mostram que 25% dos dados estão abaixo de 11.70, 50% estão abaixo de 26.76 e 75% estão abaixo de 43.68.\n",
    "    * O valor mínimo é 0.00 e o valor máximo é 59.52, mostrando a faixa de valores para a métrica do Facebook.\n",
    "<br></br>\n",
    "1. **Variável \"newspaper\":**\n",
    "    * A média (35.24) do newspaper é a segunda maior ficando atrás apenas do Youtube.\n",
    "    * O desvio padrão é de 24.90, indicando uma dispersão relativamente alta (70.65%) em relação à média.\n",
    "    * Os quartis mostram que 25% dos dados estão abaixo de 13.74, 50% estão abaixo de 31.08 e 75% estão abaixo de 50.88.\n",
    "    * O valor mínimo é 0.36 e o valor máximo é 121.08, indicando uma ampla faixa de valores.\n",
    "<br></br>\n",
    "1. **Variável \"sales\":**\n",
    "    * A média para os dados de vendas é de aproximadamente 16.92.\n",
    "    * O desvio padrão é de 6.31, sugerindo uma dispersão moderada (37.29%) em relação à média.\n",
    "    * Os quartis mostram que 25% dos dados estão abaixo de 12.54, 50% estão abaixo de 15.48 e 75% estão abaixo de 20.82.\n",
    "    * O valor mínimo é 1.92 e o valor máximo é 32.40, mostrando a faixa de valores para as vendas."
   ]
  },
  {
   "attachments": {},
   "cell_type": "markdown",
   "metadata": {},
   "source": [
    "### Análise Gráfica"
   ]
  },
  {
   "cell_type": "code",
   "execution_count": 5,
   "metadata": {},
   "outputs": [
    {
     "data": {
      "application/vnd.plotly.v1+json": {
       "config": {
        "plotlyServerURL": "https://plot.ly"
       },
       "data": [
        {
         "marker": {
          "color": "red"
         },
         "nbinsx": 40,
         "showlegend": false,
         "type": "histogram",
         "x": [
          84.72,
          351.48,
          135.48,
          116.64,
          318.72,
          114.84,
          348.84,
          320.28,
          89.64,
          51.72,
          273.6,
          243,
          212.4,
          352.32,
          248.28,
          30.12,
          210.12,
          107.64,
          287.88,
          272.64,
          80.28,
          239.76,
          120.48,
          259.68,
          219.12,
          315.24,
          238.68,
          8.76,
          163.44,
          252.96,
          252.84,
          64.2,
          313.56,
          287.16,
          123.24,
          157.32,
          82.8,
          37.8,
          167.16,
          284.88,
          260.16,
          238.92,
          131.76,
          32.16,
          155.28,
          256.08,
          20.28,
          33,
          144.6,
          6.48,
          139.2,
          91.68,
          287.76,
          90.36,
          82.08,
          256.2,
          231.84,
          91.56,
          132.84,
          105.96,
          131.76,
          161.16,
          34.32,
          261.24,
          301.08,
          128.88,
          195.96,
          237.12,
          221.88,
          347.64,
          162.24,
          266.88,
          355.68,
          336.24,
          225.48,
          285.84,
          165.48,
          30,
          108.48,
          15.72,
          306.48,
          270.96,
          290.04,
          210.84,
          251.52,
          93.84,
          90.12,
          167.04,
          91.68,
          150.84,
          23.28,
          169.56,
          22.56,
          268.8,
          147.72,
          275.4,
          104.64,
          9.36,
          96.24,
          264.36,
          71.52,
          0.84,
          318.24,
          10.08,
          263.76,
          44.28,
          57.96,
          30.72,
          328.44,
          51.6,
          221.88,
          88.08,
          232.44,
          264.6,
          125.52,
          115.44,
          168.36,
          288.12,
          291.84,
          45.6,
          53.64,
          336.84,
          145.2,
          237.12,
          205.56,
          225.36,
          4.92,
          112.68,
          179.76,
          14.04,
          158.04,
          207,
          102.84,
          226.08,
          196.2,
          140.64,
          281.4,
          21.48,
          248.16,
          258.48,
          341.16,
          60,
          197.4,
          23.52,
          202.08,
          266.88,
          332.28,
          298.08,
          204.24,
          332.04,
          198.72,
          187.92,
          262.2,
          67.44,
          345.12,
          304.56,
          246,
          167.4,
          229.32,
          343.2,
          22.44,
          47.4,
          90.6,
          20.64,
          200.16,
          179.64,
          45.84,
          113.04,
          212.4,
          340.32,
          278.52
         ],
         "xaxis": "x",
         "yaxis": "y"
        },
        {
         "marker": {
          "color": "red"
         },
         "showlegend": false,
         "type": "box",
         "xaxis": "x2",
         "y": [
          84.72,
          351.48,
          135.48,
          116.64,
          318.72,
          114.84,
          348.84,
          320.28,
          89.64,
          51.72,
          273.6,
          243,
          212.4,
          352.32,
          248.28,
          30.12,
          210.12,
          107.64,
          287.88,
          272.64,
          80.28,
          239.76,
          120.48,
          259.68,
          219.12,
          315.24,
          238.68,
          8.76,
          163.44,
          252.96,
          252.84,
          64.2,
          313.56,
          287.16,
          123.24,
          157.32,
          82.8,
          37.8,
          167.16,
          284.88,
          260.16,
          238.92,
          131.76,
          32.16,
          155.28,
          256.08,
          20.28,
          33,
          144.6,
          6.48,
          139.2,
          91.68,
          287.76,
          90.36,
          82.08,
          256.2,
          231.84,
          91.56,
          132.84,
          105.96,
          131.76,
          161.16,
          34.32,
          261.24,
          301.08,
          128.88,
          195.96,
          237.12,
          221.88,
          347.64,
          162.24,
          266.88,
          355.68,
          336.24,
          225.48,
          285.84,
          165.48,
          30,
          108.48,
          15.72,
          306.48,
          270.96,
          290.04,
          210.84,
          251.52,
          93.84,
          90.12,
          167.04,
          91.68,
          150.84,
          23.28,
          169.56,
          22.56,
          268.8,
          147.72,
          275.4,
          104.64,
          9.36,
          96.24,
          264.36,
          71.52,
          0.84,
          318.24,
          10.08,
          263.76,
          44.28,
          57.96,
          30.72,
          328.44,
          51.6,
          221.88,
          88.08,
          232.44,
          264.6,
          125.52,
          115.44,
          168.36,
          288.12,
          291.84,
          45.6,
          53.64,
          336.84,
          145.2,
          237.12,
          205.56,
          225.36,
          4.92,
          112.68,
          179.76,
          14.04,
          158.04,
          207,
          102.84,
          226.08,
          196.2,
          140.64,
          281.4,
          21.48,
          248.16,
          258.48,
          341.16,
          60,
          197.4,
          23.52,
          202.08,
          266.88,
          332.28,
          298.08,
          204.24,
          332.04,
          198.72,
          187.92,
          262.2,
          67.44,
          345.12,
          304.56,
          246,
          167.4,
          229.32,
          343.2,
          22.44,
          47.4,
          90.6,
          20.64,
          200.16,
          179.64,
          45.84,
          113.04,
          212.4,
          340.32,
          278.52
         ],
         "yaxis": "y2"
        },
        {
         "marker": {
          "color": "green"
         },
         "nbinsx": 40,
         "showlegend": false,
         "type": "histogram",
         "x": [
          19.2,
          33.96,
          20.88,
          1.8,
          24,
          1.68,
          4.92,
          52.56,
          59.28,
          32.04,
          45.24,
          26.76,
          40.08,
          33.24,
          10.08,
          30.84,
          27,
          11.88,
          49.8,
          18.96,
          14.04,
          3.72,
          11.52,
          50.04,
          55.44,
          34.56,
          59.28,
          33.72,
          23.04,
          59.52,
          35.4,
          2.4,
          51.24,
          18.6,
          35.52,
          51.36,
          11.16,
          29.52,
          17.4,
          33,
          52.68,
          36.72,
          17.16,
          39.6,
          6.84,
          29.52,
          52.44,
          1.92,
          34.2,
          35.88,
          9.24,
          32.04,
          4.92,
          24.36,
          53.4,
          51.6,
          22.08,
          33,
          48.72,
          30.6,
          57.36,
          5.88,
          1.8,
          40.2,
          43.8,
          16.8,
          37.92,
          4.2,
          25.2,
          50.76,
          50.04,
          5.16,
          43.56,
          12.12,
          20.64,
          41.16,
          55.68,
          13.2,
          0.36,
          0.48,
          32.28,
          9.84,
          45.6,
          18.48,
          24.72,
          56.16,
          42,
          17.16,
          0.96,
          44.28,
          19.2,
          32.16,
          26.04,
          2.88,
          41.52,
          38.76,
          14.16,
          46.68,
          0,
          58.8,
          14.4,
          47.52,
          3.48,
          32.64,
          40.2,
          46.32,
          56.4,
          46.8,
          34.68,
          31.08,
          52.68,
          20.4,
          42.48,
          39.84,
          6.84,
          17.76,
          2.28,
          8.76,
          58.8,
          48.36,
          30.96,
          16.68,
          10.08,
          27.96,
          47.64,
          25.32,
          13.92,
          52.2,
          1.56,
          44.28,
          22.08,
          21.72,
          42.96,
          21.72,
          44.16,
          17.64,
          4.08,
          45.12,
          6.24,
          28.32,
          12.72,
          13.92,
          25.08,
          24.12,
          8.52,
          4.08,
          58.68,
          36.24,
          9.36,
          2.76,
          12,
          3.12,
          6.48,
          6.84,
          51.6,
          25.56,
          54.12,
          2.52,
          34.44,
          16.68,
          14.52,
          49.32,
          12.96,
          4.92,
          50.4,
          42.72,
          4.44,
          5.88,
          11.16,
          50.4,
          10.32
         ],
         "xaxis": "x3",
         "yaxis": "y3"
        },
        {
         "marker": {
          "color": "green"
         },
         "showlegend": false,
         "type": "box",
         "xaxis": "x4",
         "y": [
          19.2,
          33.96,
          20.88,
          1.8,
          24,
          1.68,
          4.92,
          52.56,
          59.28,
          32.04,
          45.24,
          26.76,
          40.08,
          33.24,
          10.08,
          30.84,
          27,
          11.88,
          49.8,
          18.96,
          14.04,
          3.72,
          11.52,
          50.04,
          55.44,
          34.56,
          59.28,
          33.72,
          23.04,
          59.52,
          35.4,
          2.4,
          51.24,
          18.6,
          35.52,
          51.36,
          11.16,
          29.52,
          17.4,
          33,
          52.68,
          36.72,
          17.16,
          39.6,
          6.84,
          29.52,
          52.44,
          1.92,
          34.2,
          35.88,
          9.24,
          32.04,
          4.92,
          24.36,
          53.4,
          51.6,
          22.08,
          33,
          48.72,
          30.6,
          57.36,
          5.88,
          1.8,
          40.2,
          43.8,
          16.8,
          37.92,
          4.2,
          25.2,
          50.76,
          50.04,
          5.16,
          43.56,
          12.12,
          20.64,
          41.16,
          55.68,
          13.2,
          0.36,
          0.48,
          32.28,
          9.84,
          45.6,
          18.48,
          24.72,
          56.16,
          42,
          17.16,
          0.96,
          44.28,
          19.2,
          32.16,
          26.04,
          2.88,
          41.52,
          38.76,
          14.16,
          46.68,
          0,
          58.8,
          14.4,
          47.52,
          3.48,
          32.64,
          40.2,
          46.32,
          56.4,
          46.8,
          34.68,
          31.08,
          52.68,
          20.4,
          42.48,
          39.84,
          6.84,
          17.76,
          2.28,
          8.76,
          58.8,
          48.36,
          30.96,
          16.68,
          10.08,
          27.96,
          47.64,
          25.32,
          13.92,
          52.2,
          1.56,
          44.28,
          22.08,
          21.72,
          42.96,
          21.72,
          44.16,
          17.64,
          4.08,
          45.12,
          6.24,
          28.32,
          12.72,
          13.92,
          25.08,
          24.12,
          8.52,
          4.08,
          58.68,
          36.24,
          9.36,
          2.76,
          12,
          3.12,
          6.48,
          6.84,
          51.6,
          25.56,
          54.12,
          2.52,
          34.44,
          16.68,
          14.52,
          49.32,
          12.96,
          4.92,
          50.4,
          42.72,
          4.44,
          5.88,
          11.16,
          50.4,
          10.32
         ],
         "yaxis": "y4"
        },
        {
         "marker": {
          "color": "purple"
         },
         "nbinsx": 40,
         "showlegend": false,
         "type": "histogram",
         "x": [
          48.96,
          51.84,
          46.32,
          36,
          0.36,
          8.88,
          10.2,
          6,
          54.84,
          42.12,
          38.4,
          37.92,
          46.44,
          2.16,
          31.68,
          51.96,
          37.8,
          42.84,
          22.2,
          59.88,
          44.16,
          41.52,
          4.32,
          47.52,
          70.44,
          19.08,
          72,
          49.68,
          19.92,
          45.24,
          11.16,
          25.68,
          65.64,
          32.76,
          10.08,
          34.68,
          1.08,
          2.64,
          12.24,
          13.2,
          32.64,
          46.44,
          38.04,
          23.16,
          37.56,
          15.72,
          107.28,
          24.84,
          17.04,
          11.28,
          27.72,
          26.76,
          44.28,
          39,
          42.72,
          40.56,
          78.84,
          19.2,
          75.84,
          88.08,
          61.68,
          11.16,
          39.6,
          70.8,
          86.76,
          13.08,
          63.48,
          7.08,
          26.4,
          61.44,
          55.08,
          59.76,
          121.08,
          25.68,
          21.48,
          6.36,
          70.8,
          35.64,
          27.84,
          30.72,
          6.6,
          67.8,
          27.84,
          2.88,
          12.84,
          41.4,
          63.24,
          30.72,
          17.76,
          95.04,
          26.76,
          55.44,
          60.48,
          18.72,
          14.88,
          89.04,
          31.08,
          60.72,
          11.04,
          3.84,
          51.72,
          10.44,
          51.6,
          2.52,
          54.12,
          78.72,
          10.2,
          11.16,
          71.64,
          24.6,
          2.04,
          15.48,
          90.72,
          45.48,
          41.28,
          46.68,
          10.8,
          10.44,
          53.16,
          14.28,
          24.72,
          44.4,
          58.44,
          17.04,
          45.24,
          11.4,
          6.84,
          60.6,
          29.16,
          54.24,
          41.52,
          36.84,
          59.16,
          30.72,
          8.88,
          6.48,
          101.76,
          25.92,
          23.28,
          69.12,
          7.68,
          22.08,
          56.88,
          20.4,
          15.36,
          15.72,
          50.16,
          24.36,
          42.24,
          28.44,
          21.12,
          9.96,
          32.88,
          35.64,
          86.16,
          36,
          23.52,
          31.92,
          21.84,
          4.44,
          28.08,
          6.96,
          7.2,
          37.92,
          4.32,
          7.2,
          16.56,
          9.72,
          7.68,
          79.44,
          10.44
         ],
         "xaxis": "x5",
         "yaxis": "y5"
        },
        {
         "marker": {
          "color": "purple"
         },
         "showlegend": false,
         "type": "box",
         "xaxis": "x6",
         "y": [
          48.96,
          51.84,
          46.32,
          36,
          0.36,
          8.88,
          10.2,
          6,
          54.84,
          42.12,
          38.4,
          37.92,
          46.44,
          2.16,
          31.68,
          51.96,
          37.8,
          42.84,
          22.2,
          59.88,
          44.16,
          41.52,
          4.32,
          47.52,
          70.44,
          19.08,
          72,
          49.68,
          19.92,
          45.24,
          11.16,
          25.68,
          65.64,
          32.76,
          10.08,
          34.68,
          1.08,
          2.64,
          12.24,
          13.2,
          32.64,
          46.44,
          38.04,
          23.16,
          37.56,
          15.72,
          107.28,
          24.84,
          17.04,
          11.28,
          27.72,
          26.76,
          44.28,
          39,
          42.72,
          40.56,
          78.84,
          19.2,
          75.84,
          88.08,
          61.68,
          11.16,
          39.6,
          70.8,
          86.76,
          13.08,
          63.48,
          7.08,
          26.4,
          61.44,
          55.08,
          59.76,
          121.08,
          25.68,
          21.48,
          6.36,
          70.8,
          35.64,
          27.84,
          30.72,
          6.6,
          67.8,
          27.84,
          2.88,
          12.84,
          41.4,
          63.24,
          30.72,
          17.76,
          95.04,
          26.76,
          55.44,
          60.48,
          18.72,
          14.88,
          89.04,
          31.08,
          60.72,
          11.04,
          3.84,
          51.72,
          10.44,
          51.6,
          2.52,
          54.12,
          78.72,
          10.2,
          11.16,
          71.64,
          24.6,
          2.04,
          15.48,
          90.72,
          45.48,
          41.28,
          46.68,
          10.8,
          10.44,
          53.16,
          14.28,
          24.72,
          44.4,
          58.44,
          17.04,
          45.24,
          11.4,
          6.84,
          60.6,
          29.16,
          54.24,
          41.52,
          36.84,
          59.16,
          30.72,
          8.88,
          6.48,
          101.76,
          25.92,
          23.28,
          69.12,
          7.68,
          22.08,
          56.88,
          20.4,
          15.36,
          15.72,
          50.16,
          24.36,
          42.24,
          28.44,
          21.12,
          9.96,
          32.88,
          35.64,
          86.16,
          36,
          23.52,
          31.92,
          21.84,
          4.44,
          28.08,
          6.96,
          7.2,
          37.92,
          4.32,
          7.2,
          16.56,
          9.72,
          7.68,
          79.44,
          10.44
         ],
         "yaxis": "y6"
        },
        {
         "marker": {
          "color": "orange"
         },
         "nbinsx": 40,
         "showlegend": false,
         "type": "histogram",
         "x": [
          12.6,
          25.68,
          14.28,
          11.52,
          20.88,
          11.4,
          15.36,
          30.48,
          17.64,
          12.12,
          25.8,
          19.92,
          20.52,
          24.84,
          15.48,
          10.2,
          17.88,
          12.72,
          27.84,
          17.76,
          11.64,
          13.68,
          12.84,
          27.12,
          25.44,
          24.24,
          28.44,
          6.6,
          15.84,
          28.56,
          22.08,
          9.72,
          29.04,
          18.84,
          16.8,
          21.6,
          11.16,
          11.4,
          16.08,
          22.68,
          26.76,
          21.96,
          14.88,
          10.56,
          13.2,
          20.4,
          10.44,
          8.28,
          17.04,
          6.36,
          13.2,
          14.16,
          14.76,
          13.56,
          16.32,
          26.04,
          18.24,
          14.4,
          19.2,
          15.48,
          20.04,
          13.44,
          8.76,
          23.28,
          26.64,
          13.8,
          20.28,
          14.04,
          18.6,
          30.48,
          20.64,
          14.04,
          28.56,
          17.76,
          17.64,
          24.84,
          23.04,
          8.64,
          10.44,
          6.36,
          23.76,
          16.08,
          26.16,
          16.92,
          19.08,
          17.52,
          15.12,
          14.64,
          11.28,
          19.08,
          7.92,
          18.6,
          8.4,
          13.92,
          18.24,
          23.64,
          12.72,
          7.92,
          10.56,
          29.64,
          11.64,
          1.92,
          15.24,
          6.84,
          23.52,
          12.96,
          13.92,
          11.4,
          24.96,
          11.52,
          24.84,
          13.08,
          23.04,
          24.12,
          12.48,
          13.68,
          12.36,
          15.84,
          30.48,
          13.08,
          12.12,
          19.32,
          13.92,
          19.92,
          22.8,
          18.72,
          3.84,
          18.36,
          12.12,
          8.76,
          15.48,
          17.28,
          15.96,
          17.88,
          21.6,
          14.28,
          14.28,
          9.6,
          14.64,
          20.52,
          18,
          10.08,
          17.4,
          9.12,
          14.04,
          13.8,
          32.4,
          24.24,
          14.04,
          14.16,
          15.12,
          12.6,
          14.64,
          10.44,
          31.44,
          21.12,
          27.12,
          12.36,
          20.76,
          19.08,
          8.04,
          12.96,
          11.88,
          7.08,
          23.52,
          20.76,
          9.12,
          11.64,
          15.36,
          30.6,
          16.08
         ],
         "xaxis": "x7",
         "yaxis": "y7"
        },
        {
         "marker": {
          "color": "orange"
         },
         "showlegend": false,
         "type": "box",
         "xaxis": "x8",
         "y": [
          12.6,
          25.68,
          14.28,
          11.52,
          20.88,
          11.4,
          15.36,
          30.48,
          17.64,
          12.12,
          25.8,
          19.92,
          20.52,
          24.84,
          15.48,
          10.2,
          17.88,
          12.72,
          27.84,
          17.76,
          11.64,
          13.68,
          12.84,
          27.12,
          25.44,
          24.24,
          28.44,
          6.6,
          15.84,
          28.56,
          22.08,
          9.72,
          29.04,
          18.84,
          16.8,
          21.6,
          11.16,
          11.4,
          16.08,
          22.68,
          26.76,
          21.96,
          14.88,
          10.56,
          13.2,
          20.4,
          10.44,
          8.28,
          17.04,
          6.36,
          13.2,
          14.16,
          14.76,
          13.56,
          16.32,
          26.04,
          18.24,
          14.4,
          19.2,
          15.48,
          20.04,
          13.44,
          8.76,
          23.28,
          26.64,
          13.8,
          20.28,
          14.04,
          18.6,
          30.48,
          20.64,
          14.04,
          28.56,
          17.76,
          17.64,
          24.84,
          23.04,
          8.64,
          10.44,
          6.36,
          23.76,
          16.08,
          26.16,
          16.92,
          19.08,
          17.52,
          15.12,
          14.64,
          11.28,
          19.08,
          7.92,
          18.6,
          8.4,
          13.92,
          18.24,
          23.64,
          12.72,
          7.92,
          10.56,
          29.64,
          11.64,
          1.92,
          15.24,
          6.84,
          23.52,
          12.96,
          13.92,
          11.4,
          24.96,
          11.52,
          24.84,
          13.08,
          23.04,
          24.12,
          12.48,
          13.68,
          12.36,
          15.84,
          30.48,
          13.08,
          12.12,
          19.32,
          13.92,
          19.92,
          22.8,
          18.72,
          3.84,
          18.36,
          12.12,
          8.76,
          15.48,
          17.28,
          15.96,
          17.88,
          21.6,
          14.28,
          14.28,
          9.6,
          14.64,
          20.52,
          18,
          10.08,
          17.4,
          9.12,
          14.04,
          13.8,
          32.4,
          24.24,
          14.04,
          14.16,
          15.12,
          12.6,
          14.64,
          10.44,
          31.44,
          21.12,
          27.12,
          12.36,
          20.76,
          19.08,
          8.04,
          12.96,
          11.88,
          7.08,
          23.52,
          20.76,
          9.12,
          11.64,
          15.36,
          30.6,
          16.08
         ],
         "yaxis": "y8"
        }
       ],
       "layout": {
        "annotations": [
         {
          "font": {
           "size": 16
          },
          "showarrow": false,
          "text": "Histograma - youtube",
          "x": 0.225,
          "xanchor": "center",
          "xref": "paper",
          "y": 1,
          "yanchor": "bottom",
          "yref": "paper"
         },
         {
          "font": {
           "size": 16
          },
          "showarrow": false,
          "text": "Boxplot - youtube",
          "x": 0.775,
          "xanchor": "center",
          "xref": "paper",
          "y": 1,
          "yanchor": "bottom",
          "yref": "paper"
         },
         {
          "font": {
           "size": 16
          },
          "showarrow": false,
          "text": "Histograma - facebook",
          "x": 0.225,
          "xanchor": "center",
          "xref": "paper",
          "y": 0.71875,
          "yanchor": "bottom",
          "yref": "paper"
         },
         {
          "font": {
           "size": 16
          },
          "showarrow": false,
          "text": "Boxplot - facebook",
          "x": 0.775,
          "xanchor": "center",
          "xref": "paper",
          "y": 0.71875,
          "yanchor": "bottom",
          "yref": "paper"
         },
         {
          "font": {
           "size": 16
          },
          "showarrow": false,
          "text": "Histograma - newspaper",
          "x": 0.225,
          "xanchor": "center",
          "xref": "paper",
          "y": 0.4375,
          "yanchor": "bottom",
          "yref": "paper"
         },
         {
          "font": {
           "size": 16
          },
          "showarrow": false,
          "text": "Boxplot - newspaper",
          "x": 0.775,
          "xanchor": "center",
          "xref": "paper",
          "y": 0.4375,
          "yanchor": "bottom",
          "yref": "paper"
         },
         {
          "font": {
           "size": 16
          },
          "showarrow": false,
          "text": "Histograma - sales",
          "x": 0.225,
          "xanchor": "center",
          "xref": "paper",
          "y": 0.15625,
          "yanchor": "bottom",
          "yref": "paper"
         },
         {
          "font": {
           "size": 16
          },
          "showarrow": false,
          "text": "Boxplot - sales",
          "x": 0.775,
          "xanchor": "center",
          "xref": "paper",
          "y": 0.15625,
          "yanchor": "bottom",
          "yref": "paper"
         }
        ],
        "height": 1200,
        "template": {
         "data": {
          "bar": [
           {
            "error_x": {
             "color": "#2a3f5f"
            },
            "error_y": {
             "color": "#2a3f5f"
            },
            "marker": {
             "line": {
              "color": "#E5ECF6",
              "width": 0.5
             },
             "pattern": {
              "fillmode": "overlay",
              "size": 10,
              "solidity": 0.2
             }
            },
            "type": "bar"
           }
          ],
          "barpolar": [
           {
            "marker": {
             "line": {
              "color": "#E5ECF6",
              "width": 0.5
             },
             "pattern": {
              "fillmode": "overlay",
              "size": 10,
              "solidity": 0.2
             }
            },
            "type": "barpolar"
           }
          ],
          "carpet": [
           {
            "aaxis": {
             "endlinecolor": "#2a3f5f",
             "gridcolor": "white",
             "linecolor": "white",
             "minorgridcolor": "white",
             "startlinecolor": "#2a3f5f"
            },
            "baxis": {
             "endlinecolor": "#2a3f5f",
             "gridcolor": "white",
             "linecolor": "white",
             "minorgridcolor": "white",
             "startlinecolor": "#2a3f5f"
            },
            "type": "carpet"
           }
          ],
          "choropleth": [
           {
            "colorbar": {
             "outlinewidth": 0,
             "ticks": ""
            },
            "type": "choropleth"
           }
          ],
          "contour": [
           {
            "colorbar": {
             "outlinewidth": 0,
             "ticks": ""
            },
            "colorscale": [
             [
              0,
              "#0d0887"
             ],
             [
              0.1111111111111111,
              "#46039f"
             ],
             [
              0.2222222222222222,
              "#7201a8"
             ],
             [
              0.3333333333333333,
              "#9c179e"
             ],
             [
              0.4444444444444444,
              "#bd3786"
             ],
             [
              0.5555555555555556,
              "#d8576b"
             ],
             [
              0.6666666666666666,
              "#ed7953"
             ],
             [
              0.7777777777777778,
              "#fb9f3a"
             ],
             [
              0.8888888888888888,
              "#fdca26"
             ],
             [
              1,
              "#f0f921"
             ]
            ],
            "type": "contour"
           }
          ],
          "contourcarpet": [
           {
            "colorbar": {
             "outlinewidth": 0,
             "ticks": ""
            },
            "type": "contourcarpet"
           }
          ],
          "heatmap": [
           {
            "colorbar": {
             "outlinewidth": 0,
             "ticks": ""
            },
            "colorscale": [
             [
              0,
              "#0d0887"
             ],
             [
              0.1111111111111111,
              "#46039f"
             ],
             [
              0.2222222222222222,
              "#7201a8"
             ],
             [
              0.3333333333333333,
              "#9c179e"
             ],
             [
              0.4444444444444444,
              "#bd3786"
             ],
             [
              0.5555555555555556,
              "#d8576b"
             ],
             [
              0.6666666666666666,
              "#ed7953"
             ],
             [
              0.7777777777777778,
              "#fb9f3a"
             ],
             [
              0.8888888888888888,
              "#fdca26"
             ],
             [
              1,
              "#f0f921"
             ]
            ],
            "type": "heatmap"
           }
          ],
          "heatmapgl": [
           {
            "colorbar": {
             "outlinewidth": 0,
             "ticks": ""
            },
            "colorscale": [
             [
              0,
              "#0d0887"
             ],
             [
              0.1111111111111111,
              "#46039f"
             ],
             [
              0.2222222222222222,
              "#7201a8"
             ],
             [
              0.3333333333333333,
              "#9c179e"
             ],
             [
              0.4444444444444444,
              "#bd3786"
             ],
             [
              0.5555555555555556,
              "#d8576b"
             ],
             [
              0.6666666666666666,
              "#ed7953"
             ],
             [
              0.7777777777777778,
              "#fb9f3a"
             ],
             [
              0.8888888888888888,
              "#fdca26"
             ],
             [
              1,
              "#f0f921"
             ]
            ],
            "type": "heatmapgl"
           }
          ],
          "histogram": [
           {
            "marker": {
             "pattern": {
              "fillmode": "overlay",
              "size": 10,
              "solidity": 0.2
             }
            },
            "type": "histogram"
           }
          ],
          "histogram2d": [
           {
            "colorbar": {
             "outlinewidth": 0,
             "ticks": ""
            },
            "colorscale": [
             [
              0,
              "#0d0887"
             ],
             [
              0.1111111111111111,
              "#46039f"
             ],
             [
              0.2222222222222222,
              "#7201a8"
             ],
             [
              0.3333333333333333,
              "#9c179e"
             ],
             [
              0.4444444444444444,
              "#bd3786"
             ],
             [
              0.5555555555555556,
              "#d8576b"
             ],
             [
              0.6666666666666666,
              "#ed7953"
             ],
             [
              0.7777777777777778,
              "#fb9f3a"
             ],
             [
              0.8888888888888888,
              "#fdca26"
             ],
             [
              1,
              "#f0f921"
             ]
            ],
            "type": "histogram2d"
           }
          ],
          "histogram2dcontour": [
           {
            "colorbar": {
             "outlinewidth": 0,
             "ticks": ""
            },
            "colorscale": [
             [
              0,
              "#0d0887"
             ],
             [
              0.1111111111111111,
              "#46039f"
             ],
             [
              0.2222222222222222,
              "#7201a8"
             ],
             [
              0.3333333333333333,
              "#9c179e"
             ],
             [
              0.4444444444444444,
              "#bd3786"
             ],
             [
              0.5555555555555556,
              "#d8576b"
             ],
             [
              0.6666666666666666,
              "#ed7953"
             ],
             [
              0.7777777777777778,
              "#fb9f3a"
             ],
             [
              0.8888888888888888,
              "#fdca26"
             ],
             [
              1,
              "#f0f921"
             ]
            ],
            "type": "histogram2dcontour"
           }
          ],
          "mesh3d": [
           {
            "colorbar": {
             "outlinewidth": 0,
             "ticks": ""
            },
            "type": "mesh3d"
           }
          ],
          "parcoords": [
           {
            "line": {
             "colorbar": {
              "outlinewidth": 0,
              "ticks": ""
             }
            },
            "type": "parcoords"
           }
          ],
          "pie": [
           {
            "automargin": true,
            "type": "pie"
           }
          ],
          "scatter": [
           {
            "fillpattern": {
             "fillmode": "overlay",
             "size": 10,
             "solidity": 0.2
            },
            "type": "scatter"
           }
          ],
          "scatter3d": [
           {
            "line": {
             "colorbar": {
              "outlinewidth": 0,
              "ticks": ""
             }
            },
            "marker": {
             "colorbar": {
              "outlinewidth": 0,
              "ticks": ""
             }
            },
            "type": "scatter3d"
           }
          ],
          "scattercarpet": [
           {
            "marker": {
             "colorbar": {
              "outlinewidth": 0,
              "ticks": ""
             }
            },
            "type": "scattercarpet"
           }
          ],
          "scattergeo": [
           {
            "marker": {
             "colorbar": {
              "outlinewidth": 0,
              "ticks": ""
             }
            },
            "type": "scattergeo"
           }
          ],
          "scattergl": [
           {
            "marker": {
             "colorbar": {
              "outlinewidth": 0,
              "ticks": ""
             }
            },
            "type": "scattergl"
           }
          ],
          "scattermapbox": [
           {
            "marker": {
             "colorbar": {
              "outlinewidth": 0,
              "ticks": ""
             }
            },
            "type": "scattermapbox"
           }
          ],
          "scatterpolar": [
           {
            "marker": {
             "colorbar": {
              "outlinewidth": 0,
              "ticks": ""
             }
            },
            "type": "scatterpolar"
           }
          ],
          "scatterpolargl": [
           {
            "marker": {
             "colorbar": {
              "outlinewidth": 0,
              "ticks": ""
             }
            },
            "type": "scatterpolargl"
           }
          ],
          "scatterternary": [
           {
            "marker": {
             "colorbar": {
              "outlinewidth": 0,
              "ticks": ""
             }
            },
            "type": "scatterternary"
           }
          ],
          "surface": [
           {
            "colorbar": {
             "outlinewidth": 0,
             "ticks": ""
            },
            "colorscale": [
             [
              0,
              "#0d0887"
             ],
             [
              0.1111111111111111,
              "#46039f"
             ],
             [
              0.2222222222222222,
              "#7201a8"
             ],
             [
              0.3333333333333333,
              "#9c179e"
             ],
             [
              0.4444444444444444,
              "#bd3786"
             ],
             [
              0.5555555555555556,
              "#d8576b"
             ],
             [
              0.6666666666666666,
              "#ed7953"
             ],
             [
              0.7777777777777778,
              "#fb9f3a"
             ],
             [
              0.8888888888888888,
              "#fdca26"
             ],
             [
              1,
              "#f0f921"
             ]
            ],
            "type": "surface"
           }
          ],
          "table": [
           {
            "cells": {
             "fill": {
              "color": "#EBF0F8"
             },
             "line": {
              "color": "white"
             }
            },
            "header": {
             "fill": {
              "color": "#C8D4E3"
             },
             "line": {
              "color": "white"
             }
            },
            "type": "table"
           }
          ]
         },
         "layout": {
          "annotationdefaults": {
           "arrowcolor": "#2a3f5f",
           "arrowhead": 0,
           "arrowwidth": 1
          },
          "autotypenumbers": "strict",
          "coloraxis": {
           "colorbar": {
            "outlinewidth": 0,
            "ticks": ""
           }
          },
          "colorscale": {
           "diverging": [
            [
             0,
             "#8e0152"
            ],
            [
             0.1,
             "#c51b7d"
            ],
            [
             0.2,
             "#de77ae"
            ],
            [
             0.3,
             "#f1b6da"
            ],
            [
             0.4,
             "#fde0ef"
            ],
            [
             0.5,
             "#f7f7f7"
            ],
            [
             0.6,
             "#e6f5d0"
            ],
            [
             0.7,
             "#b8e186"
            ],
            [
             0.8,
             "#7fbc41"
            ],
            [
             0.9,
             "#4d9221"
            ],
            [
             1,
             "#276419"
            ]
           ],
           "sequential": [
            [
             0,
             "#0d0887"
            ],
            [
             0.1111111111111111,
             "#46039f"
            ],
            [
             0.2222222222222222,
             "#7201a8"
            ],
            [
             0.3333333333333333,
             "#9c179e"
            ],
            [
             0.4444444444444444,
             "#bd3786"
            ],
            [
             0.5555555555555556,
             "#d8576b"
            ],
            [
             0.6666666666666666,
             "#ed7953"
            ],
            [
             0.7777777777777778,
             "#fb9f3a"
            ],
            [
             0.8888888888888888,
             "#fdca26"
            ],
            [
             1,
             "#f0f921"
            ]
           ],
           "sequentialminus": [
            [
             0,
             "#0d0887"
            ],
            [
             0.1111111111111111,
             "#46039f"
            ],
            [
             0.2222222222222222,
             "#7201a8"
            ],
            [
             0.3333333333333333,
             "#9c179e"
            ],
            [
             0.4444444444444444,
             "#bd3786"
            ],
            [
             0.5555555555555556,
             "#d8576b"
            ],
            [
             0.6666666666666666,
             "#ed7953"
            ],
            [
             0.7777777777777778,
             "#fb9f3a"
            ],
            [
             0.8888888888888888,
             "#fdca26"
            ],
            [
             1,
             "#f0f921"
            ]
           ]
          },
          "colorway": [
           "#636efa",
           "#EF553B",
           "#00cc96",
           "#ab63fa",
           "#FFA15A",
           "#19d3f3",
           "#FF6692",
           "#B6E880",
           "#FF97FF",
           "#FECB52"
          ],
          "font": {
           "color": "#2a3f5f"
          },
          "geo": {
           "bgcolor": "white",
           "lakecolor": "white",
           "landcolor": "#E5ECF6",
           "showlakes": true,
           "showland": true,
           "subunitcolor": "white"
          },
          "hoverlabel": {
           "align": "left"
          },
          "hovermode": "closest",
          "mapbox": {
           "style": "light"
          },
          "paper_bgcolor": "white",
          "plot_bgcolor": "#E5ECF6",
          "polar": {
           "angularaxis": {
            "gridcolor": "white",
            "linecolor": "white",
            "ticks": ""
           },
           "bgcolor": "#E5ECF6",
           "radialaxis": {
            "gridcolor": "white",
            "linecolor": "white",
            "ticks": ""
           }
          },
          "scene": {
           "xaxis": {
            "backgroundcolor": "#E5ECF6",
            "gridcolor": "white",
            "gridwidth": 2,
            "linecolor": "white",
            "showbackground": true,
            "ticks": "",
            "zerolinecolor": "white"
           },
           "yaxis": {
            "backgroundcolor": "#E5ECF6",
            "gridcolor": "white",
            "gridwidth": 2,
            "linecolor": "white",
            "showbackground": true,
            "ticks": "",
            "zerolinecolor": "white"
           },
           "zaxis": {
            "backgroundcolor": "#E5ECF6",
            "gridcolor": "white",
            "gridwidth": 2,
            "linecolor": "white",
            "showbackground": true,
            "ticks": "",
            "zerolinecolor": "white"
           }
          },
          "shapedefaults": {
           "line": {
            "color": "#2a3f5f"
           }
          },
          "ternary": {
           "aaxis": {
            "gridcolor": "white",
            "linecolor": "white",
            "ticks": ""
           },
           "baxis": {
            "gridcolor": "white",
            "linecolor": "white",
            "ticks": ""
           },
           "bgcolor": "#E5ECF6",
           "caxis": {
            "gridcolor": "white",
            "linecolor": "white",
            "ticks": ""
           }
          },
          "title": {
           "x": 0.05
          },
          "xaxis": {
           "automargin": true,
           "gridcolor": "white",
           "linecolor": "white",
           "ticks": "",
           "title": {
            "standoff": 15
           },
           "zerolinecolor": "white",
           "zerolinewidth": 2
          },
          "yaxis": {
           "automargin": true,
           "gridcolor": "white",
           "linecolor": "white",
           "ticks": "",
           "title": {
            "standoff": 15
           },
           "zerolinecolor": "white",
           "zerolinewidth": 2
          }
         }
        },
        "title": {
         "text": "Distribuição e Boxplot para cada variável numérica"
        },
        "xaxis": {
         "anchor": "y",
         "domain": [
          0,
          0.45
         ]
        },
        "xaxis2": {
         "anchor": "y2",
         "domain": [
          0.55,
          1
         ]
        },
        "xaxis3": {
         "anchor": "y3",
         "domain": [
          0,
          0.45
         ]
        },
        "xaxis4": {
         "anchor": "y4",
         "domain": [
          0.55,
          1
         ]
        },
        "xaxis5": {
         "anchor": "y5",
         "domain": [
          0,
          0.45
         ]
        },
        "xaxis6": {
         "anchor": "y6",
         "domain": [
          0.55,
          1
         ]
        },
        "xaxis7": {
         "anchor": "y7",
         "domain": [
          0,
          0.45
         ]
        },
        "xaxis8": {
         "anchor": "y8",
         "domain": [
          0.55,
          1
         ]
        },
        "yaxis": {
         "anchor": "x",
         "domain": [
          0.84375,
          1
         ]
        },
        "yaxis2": {
         "anchor": "x2",
         "domain": [
          0.84375,
          1
         ]
        },
        "yaxis3": {
         "anchor": "x3",
         "domain": [
          0.5625,
          0.71875
         ]
        },
        "yaxis4": {
         "anchor": "x4",
         "domain": [
          0.5625,
          0.71875
         ]
        },
        "yaxis5": {
         "anchor": "x5",
         "domain": [
          0.28125,
          0.4375
         ]
        },
        "yaxis6": {
         "anchor": "x6",
         "domain": [
          0.28125,
          0.4375
         ]
        },
        "yaxis7": {
         "anchor": "x7",
         "domain": [
          0,
          0.15625
         ]
        },
        "yaxis8": {
         "anchor": "x8",
         "domain": [
          0,
          0.15625
         ]
        }
       }
      }
     },
     "metadata": {},
     "output_type": "display_data"
    }
   ],
   "source": [
    "plot_distribution_and_boxplot(df)"
   ]
  },
  {
   "attachments": {},
   "cell_type": "markdown",
   "metadata": {},
   "source": [
    "## Etapa 02) Análise Exploratória\n",
    "Neta etapa iremos explorar mais a fundo os dados, **identificando relações entre as variáveis e descobrindo padrões relevantes**. Para isso, utilize técnicas de visualização de dados e análises estatísticas, buscando possíveis correlações e identificando possíveis outliers ou desvios da normalidade."
   ]
  },
  {
   "attachments": {},
   "cell_type": "markdown",
   "metadata": {},
   "source": [
    "### Correlação"
   ]
  },
  {
   "attachments": {},
   "cell_type": "markdown",
   "metadata": {},
   "source": [
    "#### Definição de Correlação"
   ]
  },
  {
   "attachments": {},
   "cell_type": "markdown",
   "metadata": {},
   "source": [
    "A correlação é uma medida estatística que *avalia a relação entre duas variáveis*. Ela indica a direção e a intensidade dessa relação, ou seja, se as variáveis se movem em conjunto (correlação positiva) ou de forma oposta (correlação negativa), e o quão forte essa relação é.\n",
    "\n",
    "A força da correlação pode ser definida com base no valor do coeficiente de correlação, que varia de -1 a +1. Aqui estão as interpretações comuns para determinar a força da correlação:\n",
    "\n",
    "1. <font color='yellow'>Correlação fraca:</font>\n",
    "    * Quando o coeficiente de correlação está próximo de 0, a correlação é considerada fraca.\n",
    "    * Seja ela positiva ou negativa, a relação entre as variáveis é considerada fraca se o coeficiente de correlação estiver próximo de zero (por exemplo, entre -0,3 e 0,3).\n",
    "    * Nesse caso, as variáveis têm uma associação limitada e seus movimentos não são consistentes.\n",
    "<br></br>\n",
    "2. <font color='orange'>Correlação média:</font>\n",
    "    * Uma correlação é considerada média quando o coeficiente de correlação está em torno de -0,5 a -0,3 ou de 0,3 a 0,5.\n",
    "    * A relação entre as variáveis é moderada e mostra algum grau de consistência em seus movimentos.\n",
    "    * Uma correlação média indica que as variáveis têm alguma influência mútua, mas não é uma relação forte.\n",
    "<br></br>\n",
    "3. <font color='chartreuse'>Correlação forte:</font>\n",
    "    * A correlação é considerada forte quando o coeficiente de correlação está próximo de -1 ou 1.\n",
    "    * Uma correlação positiva forte (próxima de +1) indica que as variáveis estão fortemente relacionadas e tendem a se mover na mesma direção.\n",
    "    * Uma correlação negativa forte (próxima de -1) indica que as variáveis estão fortemente relacionadas, mas se movem em direções opostas.\n",
    "    * Nesses casos, as variáveis têm uma associação consistente e os movimentos de uma variável estão altamente relacionados aos movimentos da outra.\n",
    "\n",
    "\n",
    "É importante destacar que a força da correlação pode variar de acordo com o contexto e o domínio dos dados. Além disso, a correlação não implica causalidade direta, ou seja, apenas porque duas variáveis estão correlacionadas, não significa que uma causa a outra."
   ]
  },
  {
   "attachments": {},
   "cell_type": "markdown",
   "metadata": {},
   "source": [
    "#### Matriz de Correlação"
   ]
  },
  {
   "cell_type": "code",
   "execution_count": 6,
   "metadata": {},
   "outputs": [
    {
     "data": {
      "application/vnd.plotly.v1+json": {
       "config": {
        "plotlyServerURL": "https://plot.ly"
       },
       "data": [
        {
         "colorscale": [
          [
           0,
           "#440154"
          ],
          [
           0.1111111111111111,
           "#482878"
          ],
          [
           0.2222222222222222,
           "#3e4989"
          ],
          [
           0.3333333333333333,
           "#31688e"
          ],
          [
           0.4444444444444444,
           "#26828e"
          ],
          [
           0.5555555555555556,
           "#1f9e89"
          ],
          [
           0.6666666666666666,
           "#35b779"
          ],
          [
           0.7777777777777778,
           "#6ece58"
          ],
          [
           0.8888888888888888,
           "#b5de2b"
          ],
          [
           1,
           "#fde725"
          ]
         ],
         "type": "heatmap",
         "x": [
          "youtube",
          "facebook",
          "newspaper",
          "sales"
         ],
         "y": [
          "youtube",
          "facebook",
          "newspaper",
          "sales"
         ],
         "z": [
          [
           1,
           0.08653838911529717,
           0.1107593897645278,
           0.7820300203008933
          ],
          [
           0.08653838911529717,
           1,
           0.2934254231048905,
           0.6029180163242245
          ],
          [
           0.1107593897645278,
           0.2934254231048905,
           1,
           0.2549869780348229
          ],
          [
           0.7820300203008933,
           0.6029180163242245,
           0.2549869780348229,
           1
          ]
         ]
        }
       ],
       "layout": {
        "annotations": [
         {
          "font": {
           "color": "white"
          },
          "showarrow": false,
          "text": "1.0",
          "x": "youtube",
          "y": "youtube"
         },
         {
          "font": {
           "color": "white"
          },
          "showarrow": false,
          "text": "0.09",
          "x": "facebook",
          "y": "youtube"
         },
         {
          "font": {
           "color": "white"
          },
          "showarrow": false,
          "text": "0.11",
          "x": "newspaper",
          "y": "youtube"
         },
         {
          "font": {
           "color": "white"
          },
          "showarrow": false,
          "text": "0.78",
          "x": "sales",
          "y": "youtube"
         },
         {
          "font": {
           "color": "white"
          },
          "showarrow": false,
          "text": "0.09",
          "x": "youtube",
          "y": "facebook"
         },
         {
          "font": {
           "color": "white"
          },
          "showarrow": false,
          "text": "1.0",
          "x": "facebook",
          "y": "facebook"
         },
         {
          "font": {
           "color": "white"
          },
          "showarrow": false,
          "text": "0.29",
          "x": "newspaper",
          "y": "facebook"
         },
         {
          "font": {
           "color": "white"
          },
          "showarrow": false,
          "text": "0.6",
          "x": "sales",
          "y": "facebook"
         },
         {
          "font": {
           "color": "white"
          },
          "showarrow": false,
          "text": "0.11",
          "x": "youtube",
          "y": "newspaper"
         },
         {
          "font": {
           "color": "white"
          },
          "showarrow": false,
          "text": "0.29",
          "x": "facebook",
          "y": "newspaper"
         },
         {
          "font": {
           "color": "white"
          },
          "showarrow": false,
          "text": "1.0",
          "x": "newspaper",
          "y": "newspaper"
         },
         {
          "font": {
           "color": "white"
          },
          "showarrow": false,
          "text": "0.25",
          "x": "sales",
          "y": "newspaper"
         },
         {
          "font": {
           "color": "white"
          },
          "showarrow": false,
          "text": "0.78",
          "x": "youtube",
          "y": "sales"
         },
         {
          "font": {
           "color": "white"
          },
          "showarrow": false,
          "text": "0.6",
          "x": "facebook",
          "y": "sales"
         },
         {
          "font": {
           "color": "white"
          },
          "showarrow": false,
          "text": "0.25",
          "x": "newspaper",
          "y": "sales"
         },
         {
          "font": {
           "color": "white"
          },
          "showarrow": false,
          "text": "1.0",
          "x": "sales",
          "y": "sales"
         }
        ],
        "height": 500,
        "template": {
         "data": {
          "bar": [
           {
            "error_x": {
             "color": "#2a3f5f"
            },
            "error_y": {
             "color": "#2a3f5f"
            },
            "marker": {
             "line": {
              "color": "#E5ECF6",
              "width": 0.5
             },
             "pattern": {
              "fillmode": "overlay",
              "size": 10,
              "solidity": 0.2
             }
            },
            "type": "bar"
           }
          ],
          "barpolar": [
           {
            "marker": {
             "line": {
              "color": "#E5ECF6",
              "width": 0.5
             },
             "pattern": {
              "fillmode": "overlay",
              "size": 10,
              "solidity": 0.2
             }
            },
            "type": "barpolar"
           }
          ],
          "carpet": [
           {
            "aaxis": {
             "endlinecolor": "#2a3f5f",
             "gridcolor": "white",
             "linecolor": "white",
             "minorgridcolor": "white",
             "startlinecolor": "#2a3f5f"
            },
            "baxis": {
             "endlinecolor": "#2a3f5f",
             "gridcolor": "white",
             "linecolor": "white",
             "minorgridcolor": "white",
             "startlinecolor": "#2a3f5f"
            },
            "type": "carpet"
           }
          ],
          "choropleth": [
           {
            "colorbar": {
             "outlinewidth": 0,
             "ticks": ""
            },
            "type": "choropleth"
           }
          ],
          "contour": [
           {
            "colorbar": {
             "outlinewidth": 0,
             "ticks": ""
            },
            "colorscale": [
             [
              0,
              "#0d0887"
             ],
             [
              0.1111111111111111,
              "#46039f"
             ],
             [
              0.2222222222222222,
              "#7201a8"
             ],
             [
              0.3333333333333333,
              "#9c179e"
             ],
             [
              0.4444444444444444,
              "#bd3786"
             ],
             [
              0.5555555555555556,
              "#d8576b"
             ],
             [
              0.6666666666666666,
              "#ed7953"
             ],
             [
              0.7777777777777778,
              "#fb9f3a"
             ],
             [
              0.8888888888888888,
              "#fdca26"
             ],
             [
              1,
              "#f0f921"
             ]
            ],
            "type": "contour"
           }
          ],
          "contourcarpet": [
           {
            "colorbar": {
             "outlinewidth": 0,
             "ticks": ""
            },
            "type": "contourcarpet"
           }
          ],
          "heatmap": [
           {
            "colorbar": {
             "outlinewidth": 0,
             "ticks": ""
            },
            "colorscale": [
             [
              0,
              "#0d0887"
             ],
             [
              0.1111111111111111,
              "#46039f"
             ],
             [
              0.2222222222222222,
              "#7201a8"
             ],
             [
              0.3333333333333333,
              "#9c179e"
             ],
             [
              0.4444444444444444,
              "#bd3786"
             ],
             [
              0.5555555555555556,
              "#d8576b"
             ],
             [
              0.6666666666666666,
              "#ed7953"
             ],
             [
              0.7777777777777778,
              "#fb9f3a"
             ],
             [
              0.8888888888888888,
              "#fdca26"
             ],
             [
              1,
              "#f0f921"
             ]
            ],
            "type": "heatmap"
           }
          ],
          "heatmapgl": [
           {
            "colorbar": {
             "outlinewidth": 0,
             "ticks": ""
            },
            "colorscale": [
             [
              0,
              "#0d0887"
             ],
             [
              0.1111111111111111,
              "#46039f"
             ],
             [
              0.2222222222222222,
              "#7201a8"
             ],
             [
              0.3333333333333333,
              "#9c179e"
             ],
             [
              0.4444444444444444,
              "#bd3786"
             ],
             [
              0.5555555555555556,
              "#d8576b"
             ],
             [
              0.6666666666666666,
              "#ed7953"
             ],
             [
              0.7777777777777778,
              "#fb9f3a"
             ],
             [
              0.8888888888888888,
              "#fdca26"
             ],
             [
              1,
              "#f0f921"
             ]
            ],
            "type": "heatmapgl"
           }
          ],
          "histogram": [
           {
            "marker": {
             "pattern": {
              "fillmode": "overlay",
              "size": 10,
              "solidity": 0.2
             }
            },
            "type": "histogram"
           }
          ],
          "histogram2d": [
           {
            "colorbar": {
             "outlinewidth": 0,
             "ticks": ""
            },
            "colorscale": [
             [
              0,
              "#0d0887"
             ],
             [
              0.1111111111111111,
              "#46039f"
             ],
             [
              0.2222222222222222,
              "#7201a8"
             ],
             [
              0.3333333333333333,
              "#9c179e"
             ],
             [
              0.4444444444444444,
              "#bd3786"
             ],
             [
              0.5555555555555556,
              "#d8576b"
             ],
             [
              0.6666666666666666,
              "#ed7953"
             ],
             [
              0.7777777777777778,
              "#fb9f3a"
             ],
             [
              0.8888888888888888,
              "#fdca26"
             ],
             [
              1,
              "#f0f921"
             ]
            ],
            "type": "histogram2d"
           }
          ],
          "histogram2dcontour": [
           {
            "colorbar": {
             "outlinewidth": 0,
             "ticks": ""
            },
            "colorscale": [
             [
              0,
              "#0d0887"
             ],
             [
              0.1111111111111111,
              "#46039f"
             ],
             [
              0.2222222222222222,
              "#7201a8"
             ],
             [
              0.3333333333333333,
              "#9c179e"
             ],
             [
              0.4444444444444444,
              "#bd3786"
             ],
             [
              0.5555555555555556,
              "#d8576b"
             ],
             [
              0.6666666666666666,
              "#ed7953"
             ],
             [
              0.7777777777777778,
              "#fb9f3a"
             ],
             [
              0.8888888888888888,
              "#fdca26"
             ],
             [
              1,
              "#f0f921"
             ]
            ],
            "type": "histogram2dcontour"
           }
          ],
          "mesh3d": [
           {
            "colorbar": {
             "outlinewidth": 0,
             "ticks": ""
            },
            "type": "mesh3d"
           }
          ],
          "parcoords": [
           {
            "line": {
             "colorbar": {
              "outlinewidth": 0,
              "ticks": ""
             }
            },
            "type": "parcoords"
           }
          ],
          "pie": [
           {
            "automargin": true,
            "type": "pie"
           }
          ],
          "scatter": [
           {
            "fillpattern": {
             "fillmode": "overlay",
             "size": 10,
             "solidity": 0.2
            },
            "type": "scatter"
           }
          ],
          "scatter3d": [
           {
            "line": {
             "colorbar": {
              "outlinewidth": 0,
              "ticks": ""
             }
            },
            "marker": {
             "colorbar": {
              "outlinewidth": 0,
              "ticks": ""
             }
            },
            "type": "scatter3d"
           }
          ],
          "scattercarpet": [
           {
            "marker": {
             "colorbar": {
              "outlinewidth": 0,
              "ticks": ""
             }
            },
            "type": "scattercarpet"
           }
          ],
          "scattergeo": [
           {
            "marker": {
             "colorbar": {
              "outlinewidth": 0,
              "ticks": ""
             }
            },
            "type": "scattergeo"
           }
          ],
          "scattergl": [
           {
            "marker": {
             "colorbar": {
              "outlinewidth": 0,
              "ticks": ""
             }
            },
            "type": "scattergl"
           }
          ],
          "scattermapbox": [
           {
            "marker": {
             "colorbar": {
              "outlinewidth": 0,
              "ticks": ""
             }
            },
            "type": "scattermapbox"
           }
          ],
          "scatterpolar": [
           {
            "marker": {
             "colorbar": {
              "outlinewidth": 0,
              "ticks": ""
             }
            },
            "type": "scatterpolar"
           }
          ],
          "scatterpolargl": [
           {
            "marker": {
             "colorbar": {
              "outlinewidth": 0,
              "ticks": ""
             }
            },
            "type": "scatterpolargl"
           }
          ],
          "scatterternary": [
           {
            "marker": {
             "colorbar": {
              "outlinewidth": 0,
              "ticks": ""
             }
            },
            "type": "scatterternary"
           }
          ],
          "surface": [
           {
            "colorbar": {
             "outlinewidth": 0,
             "ticks": ""
            },
            "colorscale": [
             [
              0,
              "#0d0887"
             ],
             [
              0.1111111111111111,
              "#46039f"
             ],
             [
              0.2222222222222222,
              "#7201a8"
             ],
             [
              0.3333333333333333,
              "#9c179e"
             ],
             [
              0.4444444444444444,
              "#bd3786"
             ],
             [
              0.5555555555555556,
              "#d8576b"
             ],
             [
              0.6666666666666666,
              "#ed7953"
             ],
             [
              0.7777777777777778,
              "#fb9f3a"
             ],
             [
              0.8888888888888888,
              "#fdca26"
             ],
             [
              1,
              "#f0f921"
             ]
            ],
            "type": "surface"
           }
          ],
          "table": [
           {
            "cells": {
             "fill": {
              "color": "#EBF0F8"
             },
             "line": {
              "color": "white"
             }
            },
            "header": {
             "fill": {
              "color": "#C8D4E3"
             },
             "line": {
              "color": "white"
             }
            },
            "type": "table"
           }
          ]
         },
         "layout": {
          "annotationdefaults": {
           "arrowcolor": "#2a3f5f",
           "arrowhead": 0,
           "arrowwidth": 1
          },
          "autotypenumbers": "strict",
          "coloraxis": {
           "colorbar": {
            "outlinewidth": 0,
            "ticks": ""
           }
          },
          "colorscale": {
           "diverging": [
            [
             0,
             "#8e0152"
            ],
            [
             0.1,
             "#c51b7d"
            ],
            [
             0.2,
             "#de77ae"
            ],
            [
             0.3,
             "#f1b6da"
            ],
            [
             0.4,
             "#fde0ef"
            ],
            [
             0.5,
             "#f7f7f7"
            ],
            [
             0.6,
             "#e6f5d0"
            ],
            [
             0.7,
             "#b8e186"
            ],
            [
             0.8,
             "#7fbc41"
            ],
            [
             0.9,
             "#4d9221"
            ],
            [
             1,
             "#276419"
            ]
           ],
           "sequential": [
            [
             0,
             "#0d0887"
            ],
            [
             0.1111111111111111,
             "#46039f"
            ],
            [
             0.2222222222222222,
             "#7201a8"
            ],
            [
             0.3333333333333333,
             "#9c179e"
            ],
            [
             0.4444444444444444,
             "#bd3786"
            ],
            [
             0.5555555555555556,
             "#d8576b"
            ],
            [
             0.6666666666666666,
             "#ed7953"
            ],
            [
             0.7777777777777778,
             "#fb9f3a"
            ],
            [
             0.8888888888888888,
             "#fdca26"
            ],
            [
             1,
             "#f0f921"
            ]
           ],
           "sequentialminus": [
            [
             0,
             "#0d0887"
            ],
            [
             0.1111111111111111,
             "#46039f"
            ],
            [
             0.2222222222222222,
             "#7201a8"
            ],
            [
             0.3333333333333333,
             "#9c179e"
            ],
            [
             0.4444444444444444,
             "#bd3786"
            ],
            [
             0.5555555555555556,
             "#d8576b"
            ],
            [
             0.6666666666666666,
             "#ed7953"
            ],
            [
             0.7777777777777778,
             "#fb9f3a"
            ],
            [
             0.8888888888888888,
             "#fdca26"
            ],
            [
             1,
             "#f0f921"
            ]
           ]
          },
          "colorway": [
           "#636efa",
           "#EF553B",
           "#00cc96",
           "#ab63fa",
           "#FFA15A",
           "#19d3f3",
           "#FF6692",
           "#B6E880",
           "#FF97FF",
           "#FECB52"
          ],
          "font": {
           "color": "#2a3f5f"
          },
          "geo": {
           "bgcolor": "white",
           "lakecolor": "white",
           "landcolor": "#E5ECF6",
           "showlakes": true,
           "showland": true,
           "subunitcolor": "white"
          },
          "hoverlabel": {
           "align": "left"
          },
          "hovermode": "closest",
          "mapbox": {
           "style": "light"
          },
          "paper_bgcolor": "white",
          "plot_bgcolor": "#E5ECF6",
          "polar": {
           "angularaxis": {
            "gridcolor": "white",
            "linecolor": "white",
            "ticks": ""
           },
           "bgcolor": "#E5ECF6",
           "radialaxis": {
            "gridcolor": "white",
            "linecolor": "white",
            "ticks": ""
           }
          },
          "scene": {
           "xaxis": {
            "backgroundcolor": "#E5ECF6",
            "gridcolor": "white",
            "gridwidth": 2,
            "linecolor": "white",
            "showbackground": true,
            "ticks": "",
            "zerolinecolor": "white"
           },
           "yaxis": {
            "backgroundcolor": "#E5ECF6",
            "gridcolor": "white",
            "gridwidth": 2,
            "linecolor": "white",
            "showbackground": true,
            "ticks": "",
            "zerolinecolor": "white"
           },
           "zaxis": {
            "backgroundcolor": "#E5ECF6",
            "gridcolor": "white",
            "gridwidth": 2,
            "linecolor": "white",
            "showbackground": true,
            "ticks": "",
            "zerolinecolor": "white"
           }
          },
          "shapedefaults": {
           "line": {
            "color": "#2a3f5f"
           }
          },
          "ternary": {
           "aaxis": {
            "gridcolor": "white",
            "linecolor": "white",
            "ticks": ""
           },
           "baxis": {
            "gridcolor": "white",
            "linecolor": "white",
            "ticks": ""
           },
           "bgcolor": "#E5ECF6",
           "caxis": {
            "gridcolor": "white",
            "linecolor": "white",
            "ticks": ""
           }
          },
          "title": {
           "x": 0.05
          },
          "xaxis": {
           "automargin": true,
           "gridcolor": "white",
           "linecolor": "white",
           "ticks": "",
           "title": {
            "standoff": 15
           },
           "zerolinecolor": "white",
           "zerolinewidth": 2
          },
          "yaxis": {
           "automargin": true,
           "gridcolor": "white",
           "linecolor": "white",
           "ticks": "",
           "title": {
            "standoff": 15
           },
           "zerolinecolor": "white",
           "zerolinewidth": 2
          }
         }
        },
        "title": {
         "text": "Matriz de Correlação"
        },
        "width": 600
       }
      }
     },
     "metadata": {},
     "output_type": "display_data"
    }
   ],
   "source": [
    "# Matriz de Correlação\n",
    "correlation_matrix = df.corr()\n",
    "\n",
    "# Cria o gráfico de heatmap\n",
    "fig = go.Figure(data=go.Heatmap(\n",
    "                   z=correlation_matrix,\n",
    "                   x=correlation_matrix.columns,\n",
    "                   y=correlation_matrix.columns,\n",
    "                   colorscale='Viridis'))\n",
    "\n",
    "# Adiciona anotações\n",
    "annotations = []\n",
    "for i, row in enumerate(correlation_matrix.values):\n",
    "    for j, val in enumerate(row):\n",
    "        annotations.append(go.layout.Annotation(text=str(round(val, 2)), x=correlation_matrix.columns[j], y=correlation_matrix.columns[i], \n",
    "                                                showarrow=False, font=dict(color='white')))\n",
    "\n",
    "# Atualiza layout\n",
    "fig.update_layout(title='Matriz de Correlação',\n",
    "                  annotations=annotations,\n",
    "                  height=500, width=600)\n",
    "\n",
    "fig.show()\n"
   ]
  },
  {
   "attachments": {},
   "cell_type": "markdown",
   "metadata": {},
   "source": [
    "Explicado o que é correlação, podemos observar que:\n",
    "\n",
    "1. A correlação entre \"youtube\" e \"sales\" é de 0.78, o que indica uma correlação positiva forte. Isso sugere que há uma forte relação entre o investimento no YouTube e as vendas. Aumento nas vendas tendem a estar associados ao aumento de investimento no YouTube.\n",
    "\n",
    "2. A correlação entre \"facebook\" e \"sales\" é de 0.60, o que indica uma correlação positiva forte. Isso sugere que há uma relação forte entre o investimento no Facebook e as vendas. Aumentos nas vendas tendem a estar associados ao aumento de investimento no Facebook.\n",
    "\n",
    "3. A correlação entre \"newspaper\" e \"sales\" é de 0.25, o que indica uma correlação positiva fraca. Isso sugere que há uma relação fraca entre o investimento em newspaper e as vendas. A influência dos newspaper nas vendas é limitada, pois a correlação é relativamente baixa."
   ]
  },
  {
   "attachments": {},
   "cell_type": "markdown",
   "metadata": {},
   "source": [
    "#### Scatter plot: Sales vs Investimento"
   ]
  },
  {
   "cell_type": "code",
   "execution_count": 7,
   "metadata": {},
   "outputs": [
    {
     "data": {
      "application/vnd.plotly.v1+json": {
       "config": {
        "plotlyServerURL": "https://plot.ly"
       },
       "data": [
        {
         "customdata": [
          [
           "youtube"
          ],
          [
           "youtube"
          ],
          [
           "youtube"
          ],
          [
           "youtube"
          ],
          [
           "youtube"
          ],
          [
           "youtube"
          ],
          [
           "youtube"
          ],
          [
           "youtube"
          ],
          [
           "youtube"
          ],
          [
           "youtube"
          ],
          [
           "youtube"
          ],
          [
           "youtube"
          ],
          [
           "youtube"
          ],
          [
           "youtube"
          ],
          [
           "youtube"
          ],
          [
           "youtube"
          ],
          [
           "youtube"
          ],
          [
           "youtube"
          ],
          [
           "youtube"
          ],
          [
           "youtube"
          ],
          [
           "youtube"
          ],
          [
           "youtube"
          ],
          [
           "youtube"
          ],
          [
           "youtube"
          ],
          [
           "youtube"
          ],
          [
           "youtube"
          ],
          [
           "youtube"
          ],
          [
           "youtube"
          ],
          [
           "youtube"
          ],
          [
           "youtube"
          ],
          [
           "youtube"
          ],
          [
           "youtube"
          ],
          [
           "youtube"
          ],
          [
           "youtube"
          ],
          [
           "youtube"
          ],
          [
           "youtube"
          ],
          [
           "youtube"
          ],
          [
           "youtube"
          ],
          [
           "youtube"
          ],
          [
           "youtube"
          ],
          [
           "youtube"
          ],
          [
           "youtube"
          ],
          [
           "youtube"
          ],
          [
           "youtube"
          ],
          [
           "youtube"
          ],
          [
           "youtube"
          ],
          [
           "youtube"
          ],
          [
           "youtube"
          ],
          [
           "youtube"
          ],
          [
           "youtube"
          ],
          [
           "youtube"
          ],
          [
           "youtube"
          ],
          [
           "youtube"
          ],
          [
           "youtube"
          ],
          [
           "youtube"
          ],
          [
           "youtube"
          ],
          [
           "youtube"
          ],
          [
           "youtube"
          ],
          [
           "youtube"
          ],
          [
           "youtube"
          ],
          [
           "youtube"
          ],
          [
           "youtube"
          ],
          [
           "youtube"
          ],
          [
           "youtube"
          ],
          [
           "youtube"
          ],
          [
           "youtube"
          ],
          [
           "youtube"
          ],
          [
           "youtube"
          ],
          [
           "youtube"
          ],
          [
           "youtube"
          ],
          [
           "youtube"
          ],
          [
           "youtube"
          ],
          [
           "youtube"
          ],
          [
           "youtube"
          ],
          [
           "youtube"
          ],
          [
           "youtube"
          ],
          [
           "youtube"
          ],
          [
           "youtube"
          ],
          [
           "youtube"
          ],
          [
           "youtube"
          ],
          [
           "youtube"
          ],
          [
           "youtube"
          ],
          [
           "youtube"
          ],
          [
           "youtube"
          ],
          [
           "youtube"
          ],
          [
           "youtube"
          ],
          [
           "youtube"
          ],
          [
           "youtube"
          ],
          [
           "youtube"
          ],
          [
           "youtube"
          ],
          [
           "youtube"
          ],
          [
           "youtube"
          ],
          [
           "youtube"
          ],
          [
           "youtube"
          ],
          [
           "youtube"
          ],
          [
           "youtube"
          ],
          [
           "youtube"
          ],
          [
           "youtube"
          ],
          [
           "youtube"
          ],
          [
           "youtube"
          ],
          [
           "youtube"
          ],
          [
           "youtube"
          ],
          [
           "youtube"
          ],
          [
           "youtube"
          ],
          [
           "youtube"
          ],
          [
           "youtube"
          ],
          [
           "youtube"
          ],
          [
           "youtube"
          ],
          [
           "youtube"
          ],
          [
           "youtube"
          ],
          [
           "youtube"
          ],
          [
           "youtube"
          ],
          [
           "youtube"
          ],
          [
           "youtube"
          ],
          [
           "youtube"
          ],
          [
           "youtube"
          ],
          [
           "youtube"
          ],
          [
           "youtube"
          ],
          [
           "youtube"
          ],
          [
           "youtube"
          ],
          [
           "youtube"
          ],
          [
           "youtube"
          ],
          [
           "youtube"
          ],
          [
           "youtube"
          ],
          [
           "youtube"
          ],
          [
           "youtube"
          ],
          [
           "youtube"
          ],
          [
           "youtube"
          ],
          [
           "youtube"
          ],
          [
           "youtube"
          ],
          [
           "youtube"
          ],
          [
           "youtube"
          ],
          [
           "youtube"
          ],
          [
           "youtube"
          ],
          [
           "youtube"
          ],
          [
           "youtube"
          ],
          [
           "youtube"
          ],
          [
           "youtube"
          ],
          [
           "youtube"
          ],
          [
           "youtube"
          ],
          [
           "youtube"
          ],
          [
           "youtube"
          ],
          [
           "youtube"
          ],
          [
           "youtube"
          ],
          [
           "youtube"
          ],
          [
           "youtube"
          ],
          [
           "youtube"
          ],
          [
           "youtube"
          ],
          [
           "youtube"
          ],
          [
           "youtube"
          ],
          [
           "youtube"
          ],
          [
           "youtube"
          ],
          [
           "youtube"
          ],
          [
           "youtube"
          ],
          [
           "youtube"
          ],
          [
           "youtube"
          ],
          [
           "youtube"
          ],
          [
           "youtube"
          ],
          [
           "youtube"
          ],
          [
           "youtube"
          ],
          [
           "youtube"
          ],
          [
           "youtube"
          ],
          [
           "youtube"
          ],
          [
           "youtube"
          ],
          [
           "youtube"
          ],
          [
           "youtube"
          ],
          [
           "youtube"
          ],
          [
           "youtube"
          ],
          [
           "youtube"
          ],
          [
           "youtube"
          ],
          [
           "youtube"
          ]
         ],
         "hovertemplate": "platform=%{customdata[0]}<br>symbol=circle<br>Investimento=%{x}<br>Sales=%{y}<extra></extra>",
         "legendgroup": "youtube, circle",
         "marker": {
          "color": "#636efa",
          "symbol": "circle"
         },
         "mode": "markers",
         "name": "youtube, circle",
         "orientation": "v",
         "showlegend": true,
         "type": "scatter",
         "x": [
          84.72,
          351.48,
          135.48,
          116.64,
          318.72,
          114.84,
          348.84,
          320.28,
          89.64,
          51.72,
          273.6,
          243,
          212.4,
          352.32,
          248.28,
          30.12,
          210.12,
          107.64,
          287.88,
          272.64,
          80.28,
          239.76,
          120.48,
          259.68,
          219.12,
          315.24,
          238.68,
          8.76,
          163.44,
          252.96,
          252.84,
          64.2,
          313.56,
          287.16,
          123.24,
          157.32,
          82.8,
          37.8,
          167.16,
          284.88,
          260.16,
          238.92,
          131.76,
          32.16,
          155.28,
          256.08,
          20.28,
          33,
          144.6,
          6.48,
          139.2,
          91.68,
          287.76,
          90.36,
          82.08,
          256.2,
          231.84,
          91.56,
          132.84,
          105.96,
          131.76,
          161.16,
          34.32,
          261.24,
          301.08,
          128.88,
          195.96,
          237.12,
          221.88,
          347.64,
          162.24,
          266.88,
          355.68,
          336.24,
          225.48,
          285.84,
          165.48,
          30,
          108.48,
          15.72,
          306.48,
          270.96,
          290.04,
          210.84,
          251.52,
          93.84,
          90.12,
          167.04,
          91.68,
          150.84,
          23.28,
          169.56,
          22.56,
          268.8,
          147.72,
          275.4,
          104.64,
          9.36,
          96.24,
          264.36,
          71.52,
          0.84,
          318.24,
          10.08,
          263.76,
          44.28,
          57.96,
          30.72,
          328.44,
          51.6,
          221.88,
          88.08,
          232.44,
          264.6,
          125.52,
          115.44,
          168.36,
          288.12,
          291.84,
          45.6,
          53.64,
          336.84,
          145.2,
          237.12,
          205.56,
          225.36,
          4.92,
          112.68,
          179.76,
          14.04,
          158.04,
          207,
          102.84,
          226.08,
          196.2,
          140.64,
          281.4,
          21.48,
          248.16,
          258.48,
          341.16,
          60,
          197.4,
          23.52,
          202.08,
          266.88,
          332.28,
          298.08,
          204.24,
          332.04,
          198.72,
          187.92,
          262.2,
          67.44,
          345.12,
          304.56,
          246,
          167.4,
          229.32,
          343.2,
          22.44,
          47.4,
          90.6,
          20.64,
          200.16,
          179.64,
          45.84,
          113.04,
          212.4,
          340.32,
          278.52
         ],
         "xaxis": "x",
         "y": [
          12.6,
          25.68,
          14.28,
          11.52,
          20.88,
          11.4,
          15.36,
          30.48,
          17.64,
          12.12,
          25.8,
          19.92,
          20.52,
          24.84,
          15.48,
          10.2,
          17.88,
          12.72,
          27.84,
          17.76,
          11.64,
          13.68,
          12.84,
          27.12,
          25.44,
          24.24,
          28.44,
          6.6,
          15.84,
          28.56,
          22.08,
          9.72,
          29.04,
          18.84,
          16.8,
          21.6,
          11.16,
          11.4,
          16.08,
          22.68,
          26.76,
          21.96,
          14.88,
          10.56,
          13.2,
          20.4,
          10.44,
          8.28,
          17.04,
          6.36,
          13.2,
          14.16,
          14.76,
          13.56,
          16.32,
          26.04,
          18.24,
          14.4,
          19.2,
          15.48,
          20.04,
          13.44,
          8.76,
          23.28,
          26.64,
          13.8,
          20.28,
          14.04,
          18.6,
          30.48,
          20.64,
          14.04,
          28.56,
          17.76,
          17.64,
          24.84,
          23.04,
          8.64,
          10.44,
          6.36,
          23.76,
          16.08,
          26.16,
          16.92,
          19.08,
          17.52,
          15.12,
          14.64,
          11.28,
          19.08,
          7.92,
          18.6,
          8.4,
          13.92,
          18.24,
          23.64,
          12.72,
          7.92,
          10.56,
          29.64,
          11.64,
          1.92,
          15.24,
          6.84,
          23.52,
          12.96,
          13.92,
          11.4,
          24.96,
          11.52,
          24.84,
          13.08,
          23.04,
          24.12,
          12.48,
          13.68,
          12.36,
          15.84,
          30.48,
          13.08,
          12.12,
          19.32,
          13.92,
          19.92,
          22.8,
          18.72,
          3.84,
          18.36,
          12.12,
          8.76,
          15.48,
          17.28,
          15.96,
          17.88,
          21.6,
          14.28,
          14.28,
          9.6,
          14.64,
          20.52,
          18,
          10.08,
          17.4,
          9.12,
          14.04,
          13.8,
          32.4,
          24.24,
          14.04,
          14.16,
          15.12,
          12.6,
          14.64,
          10.44,
          31.44,
          21.12,
          27.12,
          12.36,
          20.76,
          19.08,
          8.04,
          12.96,
          11.88,
          7.08,
          23.52,
          20.76,
          9.12,
          11.64,
          15.36,
          30.6,
          16.08
         ],
         "yaxis": "y"
        },
        {
         "customdata": [
          [
           "facebook"
          ],
          [
           "facebook"
          ],
          [
           "facebook"
          ],
          [
           "facebook"
          ],
          [
           "facebook"
          ],
          [
           "facebook"
          ],
          [
           "facebook"
          ],
          [
           "facebook"
          ],
          [
           "facebook"
          ],
          [
           "facebook"
          ],
          [
           "facebook"
          ],
          [
           "facebook"
          ],
          [
           "facebook"
          ],
          [
           "facebook"
          ],
          [
           "facebook"
          ],
          [
           "facebook"
          ],
          [
           "facebook"
          ],
          [
           "facebook"
          ],
          [
           "facebook"
          ],
          [
           "facebook"
          ],
          [
           "facebook"
          ],
          [
           "facebook"
          ],
          [
           "facebook"
          ],
          [
           "facebook"
          ],
          [
           "facebook"
          ],
          [
           "facebook"
          ],
          [
           "facebook"
          ],
          [
           "facebook"
          ],
          [
           "facebook"
          ],
          [
           "facebook"
          ],
          [
           "facebook"
          ],
          [
           "facebook"
          ],
          [
           "facebook"
          ],
          [
           "facebook"
          ],
          [
           "facebook"
          ],
          [
           "facebook"
          ],
          [
           "facebook"
          ],
          [
           "facebook"
          ],
          [
           "facebook"
          ],
          [
           "facebook"
          ],
          [
           "facebook"
          ],
          [
           "facebook"
          ],
          [
           "facebook"
          ],
          [
           "facebook"
          ],
          [
           "facebook"
          ],
          [
           "facebook"
          ],
          [
           "facebook"
          ],
          [
           "facebook"
          ],
          [
           "facebook"
          ],
          [
           "facebook"
          ],
          [
           "facebook"
          ],
          [
           "facebook"
          ],
          [
           "facebook"
          ],
          [
           "facebook"
          ],
          [
           "facebook"
          ],
          [
           "facebook"
          ],
          [
           "facebook"
          ],
          [
           "facebook"
          ],
          [
           "facebook"
          ],
          [
           "facebook"
          ],
          [
           "facebook"
          ],
          [
           "facebook"
          ],
          [
           "facebook"
          ],
          [
           "facebook"
          ],
          [
           "facebook"
          ],
          [
           "facebook"
          ],
          [
           "facebook"
          ],
          [
           "facebook"
          ],
          [
           "facebook"
          ],
          [
           "facebook"
          ],
          [
           "facebook"
          ],
          [
           "facebook"
          ],
          [
           "facebook"
          ],
          [
           "facebook"
          ],
          [
           "facebook"
          ],
          [
           "facebook"
          ],
          [
           "facebook"
          ],
          [
           "facebook"
          ],
          [
           "facebook"
          ],
          [
           "facebook"
          ],
          [
           "facebook"
          ],
          [
           "facebook"
          ],
          [
           "facebook"
          ],
          [
           "facebook"
          ],
          [
           "facebook"
          ],
          [
           "facebook"
          ],
          [
           "facebook"
          ],
          [
           "facebook"
          ],
          [
           "facebook"
          ],
          [
           "facebook"
          ],
          [
           "facebook"
          ],
          [
           "facebook"
          ],
          [
           "facebook"
          ],
          [
           "facebook"
          ],
          [
           "facebook"
          ],
          [
           "facebook"
          ],
          [
           "facebook"
          ],
          [
           "facebook"
          ],
          [
           "facebook"
          ],
          [
           "facebook"
          ],
          [
           "facebook"
          ],
          [
           "facebook"
          ],
          [
           "facebook"
          ],
          [
           "facebook"
          ],
          [
           "facebook"
          ],
          [
           "facebook"
          ],
          [
           "facebook"
          ],
          [
           "facebook"
          ],
          [
           "facebook"
          ],
          [
           "facebook"
          ],
          [
           "facebook"
          ],
          [
           "facebook"
          ],
          [
           "facebook"
          ],
          [
           "facebook"
          ],
          [
           "facebook"
          ],
          [
           "facebook"
          ],
          [
           "facebook"
          ],
          [
           "facebook"
          ],
          [
           "facebook"
          ],
          [
           "facebook"
          ],
          [
           "facebook"
          ],
          [
           "facebook"
          ],
          [
           "facebook"
          ],
          [
           "facebook"
          ],
          [
           "facebook"
          ],
          [
           "facebook"
          ],
          [
           "facebook"
          ],
          [
           "facebook"
          ],
          [
           "facebook"
          ],
          [
           "facebook"
          ],
          [
           "facebook"
          ],
          [
           "facebook"
          ],
          [
           "facebook"
          ],
          [
           "facebook"
          ],
          [
           "facebook"
          ],
          [
           "facebook"
          ],
          [
           "facebook"
          ],
          [
           "facebook"
          ],
          [
           "facebook"
          ],
          [
           "facebook"
          ],
          [
           "facebook"
          ],
          [
           "facebook"
          ],
          [
           "facebook"
          ],
          [
           "facebook"
          ],
          [
           "facebook"
          ],
          [
           "facebook"
          ],
          [
           "facebook"
          ],
          [
           "facebook"
          ],
          [
           "facebook"
          ],
          [
           "facebook"
          ],
          [
           "facebook"
          ],
          [
           "facebook"
          ],
          [
           "facebook"
          ],
          [
           "facebook"
          ],
          [
           "facebook"
          ],
          [
           "facebook"
          ],
          [
           "facebook"
          ],
          [
           "facebook"
          ],
          [
           "facebook"
          ],
          [
           "facebook"
          ],
          [
           "facebook"
          ],
          [
           "facebook"
          ],
          [
           "facebook"
          ],
          [
           "facebook"
          ],
          [
           "facebook"
          ],
          [
           "facebook"
          ],
          [
           "facebook"
          ],
          [
           "facebook"
          ],
          [
           "facebook"
          ],
          [
           "facebook"
          ],
          [
           "facebook"
          ]
         ],
         "hovertemplate": "platform=%{customdata[0]}<br>symbol=diamond<br>Investimento=%{x}<br>Sales=%{y}<extra></extra>",
         "legendgroup": "facebook, diamond",
         "marker": {
          "color": "#EF553B",
          "symbol": "diamond"
         },
         "mode": "markers",
         "name": "facebook, diamond",
         "orientation": "v",
         "showlegend": true,
         "type": "scatter",
         "x": [
          19.2,
          33.96,
          20.88,
          1.8,
          24,
          1.68,
          4.92,
          52.56,
          59.28,
          32.04,
          45.24,
          26.76,
          40.08,
          33.24,
          10.08,
          30.84,
          27,
          11.88,
          49.8,
          18.96,
          14.04,
          3.72,
          11.52,
          50.04,
          55.44,
          34.56,
          59.28,
          33.72,
          23.04,
          59.52,
          35.4,
          2.4,
          51.24,
          18.6,
          35.52,
          51.36,
          11.16,
          29.52,
          17.4,
          33,
          52.68,
          36.72,
          17.16,
          39.6,
          6.84,
          29.52,
          52.44,
          1.92,
          34.2,
          35.88,
          9.24,
          32.04,
          4.92,
          24.36,
          53.4,
          51.6,
          22.08,
          33,
          48.72,
          30.6,
          57.36,
          5.88,
          1.8,
          40.2,
          43.8,
          16.8,
          37.92,
          4.2,
          25.2,
          50.76,
          50.04,
          5.16,
          43.56,
          12.12,
          20.64,
          41.16,
          55.68,
          13.2,
          0.36,
          0.48,
          32.28,
          9.84,
          45.6,
          18.48,
          24.72,
          56.16,
          42,
          17.16,
          0.96,
          44.28,
          19.2,
          32.16,
          26.04,
          2.88,
          41.52,
          38.76,
          14.16,
          46.68,
          0,
          58.8,
          14.4,
          47.52,
          3.48,
          32.64,
          40.2,
          46.32,
          56.4,
          46.8,
          34.68,
          31.08,
          52.68,
          20.4,
          42.48,
          39.84,
          6.84,
          17.76,
          2.28,
          8.76,
          58.8,
          48.36,
          30.96,
          16.68,
          10.08,
          27.96,
          47.64,
          25.32,
          13.92,
          52.2,
          1.56,
          44.28,
          22.08,
          21.72,
          42.96,
          21.72,
          44.16,
          17.64,
          4.08,
          45.12,
          6.24,
          28.32,
          12.72,
          13.92,
          25.08,
          24.12,
          8.52,
          4.08,
          58.68,
          36.24,
          9.36,
          2.76,
          12,
          3.12,
          6.48,
          6.84,
          51.6,
          25.56,
          54.12,
          2.52,
          34.44,
          16.68,
          14.52,
          49.32,
          12.96,
          4.92,
          50.4,
          42.72,
          4.44,
          5.88,
          11.16,
          50.4,
          10.32
         ],
         "xaxis": "x",
         "y": [
          12.6,
          25.68,
          14.28,
          11.52,
          20.88,
          11.4,
          15.36,
          30.48,
          17.64,
          12.12,
          25.8,
          19.92,
          20.52,
          24.84,
          15.48,
          10.2,
          17.88,
          12.72,
          27.84,
          17.76,
          11.64,
          13.68,
          12.84,
          27.12,
          25.44,
          24.24,
          28.44,
          6.6,
          15.84,
          28.56,
          22.08,
          9.72,
          29.04,
          18.84,
          16.8,
          21.6,
          11.16,
          11.4,
          16.08,
          22.68,
          26.76,
          21.96,
          14.88,
          10.56,
          13.2,
          20.4,
          10.44,
          8.28,
          17.04,
          6.36,
          13.2,
          14.16,
          14.76,
          13.56,
          16.32,
          26.04,
          18.24,
          14.4,
          19.2,
          15.48,
          20.04,
          13.44,
          8.76,
          23.28,
          26.64,
          13.8,
          20.28,
          14.04,
          18.6,
          30.48,
          20.64,
          14.04,
          28.56,
          17.76,
          17.64,
          24.84,
          23.04,
          8.64,
          10.44,
          6.36,
          23.76,
          16.08,
          26.16,
          16.92,
          19.08,
          17.52,
          15.12,
          14.64,
          11.28,
          19.08,
          7.92,
          18.6,
          8.4,
          13.92,
          18.24,
          23.64,
          12.72,
          7.92,
          10.56,
          29.64,
          11.64,
          1.92,
          15.24,
          6.84,
          23.52,
          12.96,
          13.92,
          11.4,
          24.96,
          11.52,
          24.84,
          13.08,
          23.04,
          24.12,
          12.48,
          13.68,
          12.36,
          15.84,
          30.48,
          13.08,
          12.12,
          19.32,
          13.92,
          19.92,
          22.8,
          18.72,
          3.84,
          18.36,
          12.12,
          8.76,
          15.48,
          17.28,
          15.96,
          17.88,
          21.6,
          14.28,
          14.28,
          9.6,
          14.64,
          20.52,
          18,
          10.08,
          17.4,
          9.12,
          14.04,
          13.8,
          32.4,
          24.24,
          14.04,
          14.16,
          15.12,
          12.6,
          14.64,
          10.44,
          31.44,
          21.12,
          27.12,
          12.36,
          20.76,
          19.08,
          8.04,
          12.96,
          11.88,
          7.08,
          23.52,
          20.76,
          9.12,
          11.64,
          15.36,
          30.6,
          16.08
         ],
         "yaxis": "y"
        },
        {
         "customdata": [
          [
           "newspaper"
          ],
          [
           "newspaper"
          ],
          [
           "newspaper"
          ],
          [
           "newspaper"
          ],
          [
           "newspaper"
          ],
          [
           "newspaper"
          ],
          [
           "newspaper"
          ],
          [
           "newspaper"
          ],
          [
           "newspaper"
          ],
          [
           "newspaper"
          ],
          [
           "newspaper"
          ],
          [
           "newspaper"
          ],
          [
           "newspaper"
          ],
          [
           "newspaper"
          ],
          [
           "newspaper"
          ],
          [
           "newspaper"
          ],
          [
           "newspaper"
          ],
          [
           "newspaper"
          ],
          [
           "newspaper"
          ],
          [
           "newspaper"
          ],
          [
           "newspaper"
          ],
          [
           "newspaper"
          ],
          [
           "newspaper"
          ],
          [
           "newspaper"
          ],
          [
           "newspaper"
          ],
          [
           "newspaper"
          ],
          [
           "newspaper"
          ],
          [
           "newspaper"
          ],
          [
           "newspaper"
          ],
          [
           "newspaper"
          ],
          [
           "newspaper"
          ],
          [
           "newspaper"
          ],
          [
           "newspaper"
          ],
          [
           "newspaper"
          ],
          [
           "newspaper"
          ],
          [
           "newspaper"
          ],
          [
           "newspaper"
          ],
          [
           "newspaper"
          ],
          [
           "newspaper"
          ],
          [
           "newspaper"
          ],
          [
           "newspaper"
          ],
          [
           "newspaper"
          ],
          [
           "newspaper"
          ],
          [
           "newspaper"
          ],
          [
           "newspaper"
          ],
          [
           "newspaper"
          ],
          [
           "newspaper"
          ],
          [
           "newspaper"
          ],
          [
           "newspaper"
          ],
          [
           "newspaper"
          ],
          [
           "newspaper"
          ],
          [
           "newspaper"
          ],
          [
           "newspaper"
          ],
          [
           "newspaper"
          ],
          [
           "newspaper"
          ],
          [
           "newspaper"
          ],
          [
           "newspaper"
          ],
          [
           "newspaper"
          ],
          [
           "newspaper"
          ],
          [
           "newspaper"
          ],
          [
           "newspaper"
          ],
          [
           "newspaper"
          ],
          [
           "newspaper"
          ],
          [
           "newspaper"
          ],
          [
           "newspaper"
          ],
          [
           "newspaper"
          ],
          [
           "newspaper"
          ],
          [
           "newspaper"
          ],
          [
           "newspaper"
          ],
          [
           "newspaper"
          ],
          [
           "newspaper"
          ],
          [
           "newspaper"
          ],
          [
           "newspaper"
          ],
          [
           "newspaper"
          ],
          [
           "newspaper"
          ],
          [
           "newspaper"
          ],
          [
           "newspaper"
          ],
          [
           "newspaper"
          ],
          [
           "newspaper"
          ],
          [
           "newspaper"
          ],
          [
           "newspaper"
          ],
          [
           "newspaper"
          ],
          [
           "newspaper"
          ],
          [
           "newspaper"
          ],
          [
           "newspaper"
          ],
          [
           "newspaper"
          ],
          [
           "newspaper"
          ],
          [
           "newspaper"
          ],
          [
           "newspaper"
          ],
          [
           "newspaper"
          ],
          [
           "newspaper"
          ],
          [
           "newspaper"
          ],
          [
           "newspaper"
          ],
          [
           "newspaper"
          ],
          [
           "newspaper"
          ],
          [
           "newspaper"
          ],
          [
           "newspaper"
          ],
          [
           "newspaper"
          ],
          [
           "newspaper"
          ],
          [
           "newspaper"
          ],
          [
           "newspaper"
          ],
          [
           "newspaper"
          ],
          [
           "newspaper"
          ],
          [
           "newspaper"
          ],
          [
           "newspaper"
          ],
          [
           "newspaper"
          ],
          [
           "newspaper"
          ],
          [
           "newspaper"
          ],
          [
           "newspaper"
          ],
          [
           "newspaper"
          ],
          [
           "newspaper"
          ],
          [
           "newspaper"
          ],
          [
           "newspaper"
          ],
          [
           "newspaper"
          ],
          [
           "newspaper"
          ],
          [
           "newspaper"
          ],
          [
           "newspaper"
          ],
          [
           "newspaper"
          ],
          [
           "newspaper"
          ],
          [
           "newspaper"
          ],
          [
           "newspaper"
          ],
          [
           "newspaper"
          ],
          [
           "newspaper"
          ],
          [
           "newspaper"
          ],
          [
           "newspaper"
          ],
          [
           "newspaper"
          ],
          [
           "newspaper"
          ],
          [
           "newspaper"
          ],
          [
           "newspaper"
          ],
          [
           "newspaper"
          ],
          [
           "newspaper"
          ],
          [
           "newspaper"
          ],
          [
           "newspaper"
          ],
          [
           "newspaper"
          ],
          [
           "newspaper"
          ],
          [
           "newspaper"
          ],
          [
           "newspaper"
          ],
          [
           "newspaper"
          ],
          [
           "newspaper"
          ],
          [
           "newspaper"
          ],
          [
           "newspaper"
          ],
          [
           "newspaper"
          ],
          [
           "newspaper"
          ],
          [
           "newspaper"
          ],
          [
           "newspaper"
          ],
          [
           "newspaper"
          ],
          [
           "newspaper"
          ],
          [
           "newspaper"
          ],
          [
           "newspaper"
          ],
          [
           "newspaper"
          ],
          [
           "newspaper"
          ],
          [
           "newspaper"
          ],
          [
           "newspaper"
          ],
          [
           "newspaper"
          ],
          [
           "newspaper"
          ],
          [
           "newspaper"
          ],
          [
           "newspaper"
          ],
          [
           "newspaper"
          ],
          [
           "newspaper"
          ],
          [
           "newspaper"
          ],
          [
           "newspaper"
          ],
          [
           "newspaper"
          ],
          [
           "newspaper"
          ],
          [
           "newspaper"
          ],
          [
           "newspaper"
          ],
          [
           "newspaper"
          ],
          [
           "newspaper"
          ],
          [
           "newspaper"
          ],
          [
           "newspaper"
          ],
          [
           "newspaper"
          ],
          [
           "newspaper"
          ]
         ],
         "hovertemplate": "platform=%{customdata[0]}<br>symbol=square<br>Investimento=%{x}<br>Sales=%{y}<extra></extra>",
         "legendgroup": "newspaper, square",
         "marker": {
          "color": "#00cc96",
          "symbol": "square"
         },
         "mode": "markers",
         "name": "newspaper, square",
         "orientation": "v",
         "showlegend": true,
         "type": "scatter",
         "x": [
          48.96,
          51.84,
          46.32,
          36,
          0.36,
          8.88,
          10.2,
          6,
          54.84,
          42.12,
          38.4,
          37.92,
          46.44,
          2.16,
          31.68,
          51.96,
          37.8,
          42.84,
          22.2,
          59.88,
          44.16,
          41.52,
          4.32,
          47.52,
          70.44,
          19.08,
          72,
          49.68,
          19.92,
          45.24,
          11.16,
          25.68,
          65.64,
          32.76,
          10.08,
          34.68,
          1.08,
          2.64,
          12.24,
          13.2,
          32.64,
          46.44,
          38.04,
          23.16,
          37.56,
          15.72,
          107.28,
          24.84,
          17.04,
          11.28,
          27.72,
          26.76,
          44.28,
          39,
          42.72,
          40.56,
          78.84,
          19.2,
          75.84,
          88.08,
          61.68,
          11.16,
          39.6,
          70.8,
          86.76,
          13.08,
          63.48,
          7.08,
          26.4,
          61.44,
          55.08,
          59.76,
          121.08,
          25.68,
          21.48,
          6.36,
          70.8,
          35.64,
          27.84,
          30.72,
          6.6,
          67.8,
          27.84,
          2.88,
          12.84,
          41.4,
          63.24,
          30.72,
          17.76,
          95.04,
          26.76,
          55.44,
          60.48,
          18.72,
          14.88,
          89.04,
          31.08,
          60.72,
          11.04,
          3.84,
          51.72,
          10.44,
          51.6,
          2.52,
          54.12,
          78.72,
          10.2,
          11.16,
          71.64,
          24.6,
          2.04,
          15.48,
          90.72,
          45.48,
          41.28,
          46.68,
          10.8,
          10.44,
          53.16,
          14.28,
          24.72,
          44.4,
          58.44,
          17.04,
          45.24,
          11.4,
          6.84,
          60.6,
          29.16,
          54.24,
          41.52,
          36.84,
          59.16,
          30.72,
          8.88,
          6.48,
          101.76,
          25.92,
          23.28,
          69.12,
          7.68,
          22.08,
          56.88,
          20.4,
          15.36,
          15.72,
          50.16,
          24.36,
          42.24,
          28.44,
          21.12,
          9.96,
          32.88,
          35.64,
          86.16,
          36,
          23.52,
          31.92,
          21.84,
          4.44,
          28.08,
          6.96,
          7.2,
          37.92,
          4.32,
          7.2,
          16.56,
          9.72,
          7.68,
          79.44,
          10.44
         ],
         "xaxis": "x",
         "y": [
          12.6,
          25.68,
          14.28,
          11.52,
          20.88,
          11.4,
          15.36,
          30.48,
          17.64,
          12.12,
          25.8,
          19.92,
          20.52,
          24.84,
          15.48,
          10.2,
          17.88,
          12.72,
          27.84,
          17.76,
          11.64,
          13.68,
          12.84,
          27.12,
          25.44,
          24.24,
          28.44,
          6.6,
          15.84,
          28.56,
          22.08,
          9.72,
          29.04,
          18.84,
          16.8,
          21.6,
          11.16,
          11.4,
          16.08,
          22.68,
          26.76,
          21.96,
          14.88,
          10.56,
          13.2,
          20.4,
          10.44,
          8.28,
          17.04,
          6.36,
          13.2,
          14.16,
          14.76,
          13.56,
          16.32,
          26.04,
          18.24,
          14.4,
          19.2,
          15.48,
          20.04,
          13.44,
          8.76,
          23.28,
          26.64,
          13.8,
          20.28,
          14.04,
          18.6,
          30.48,
          20.64,
          14.04,
          28.56,
          17.76,
          17.64,
          24.84,
          23.04,
          8.64,
          10.44,
          6.36,
          23.76,
          16.08,
          26.16,
          16.92,
          19.08,
          17.52,
          15.12,
          14.64,
          11.28,
          19.08,
          7.92,
          18.6,
          8.4,
          13.92,
          18.24,
          23.64,
          12.72,
          7.92,
          10.56,
          29.64,
          11.64,
          1.92,
          15.24,
          6.84,
          23.52,
          12.96,
          13.92,
          11.4,
          24.96,
          11.52,
          24.84,
          13.08,
          23.04,
          24.12,
          12.48,
          13.68,
          12.36,
          15.84,
          30.48,
          13.08,
          12.12,
          19.32,
          13.92,
          19.92,
          22.8,
          18.72,
          3.84,
          18.36,
          12.12,
          8.76,
          15.48,
          17.28,
          15.96,
          17.88,
          21.6,
          14.28,
          14.28,
          9.6,
          14.64,
          20.52,
          18,
          10.08,
          17.4,
          9.12,
          14.04,
          13.8,
          32.4,
          24.24,
          14.04,
          14.16,
          15.12,
          12.6,
          14.64,
          10.44,
          31.44,
          21.12,
          27.12,
          12.36,
          20.76,
          19.08,
          8.04,
          12.96,
          11.88,
          7.08,
          23.52,
          20.76,
          9.12,
          11.64,
          15.36,
          30.6,
          16.08
         ],
         "yaxis": "y"
        }
       ],
       "layout": {
        "legend": {
         "title": {
          "text": "platform, symbol"
         },
         "tracegroupgap": 0
        },
        "template": {
         "data": {
          "bar": [
           {
            "error_x": {
             "color": "#2a3f5f"
            },
            "error_y": {
             "color": "#2a3f5f"
            },
            "marker": {
             "line": {
              "color": "#E5ECF6",
              "width": 0.5
             },
             "pattern": {
              "fillmode": "overlay",
              "size": 10,
              "solidity": 0.2
             }
            },
            "type": "bar"
           }
          ],
          "barpolar": [
           {
            "marker": {
             "line": {
              "color": "#E5ECF6",
              "width": 0.5
             },
             "pattern": {
              "fillmode": "overlay",
              "size": 10,
              "solidity": 0.2
             }
            },
            "type": "barpolar"
           }
          ],
          "carpet": [
           {
            "aaxis": {
             "endlinecolor": "#2a3f5f",
             "gridcolor": "white",
             "linecolor": "white",
             "minorgridcolor": "white",
             "startlinecolor": "#2a3f5f"
            },
            "baxis": {
             "endlinecolor": "#2a3f5f",
             "gridcolor": "white",
             "linecolor": "white",
             "minorgridcolor": "white",
             "startlinecolor": "#2a3f5f"
            },
            "type": "carpet"
           }
          ],
          "choropleth": [
           {
            "colorbar": {
             "outlinewidth": 0,
             "ticks": ""
            },
            "type": "choropleth"
           }
          ],
          "contour": [
           {
            "colorbar": {
             "outlinewidth": 0,
             "ticks": ""
            },
            "colorscale": [
             [
              0,
              "#0d0887"
             ],
             [
              0.1111111111111111,
              "#46039f"
             ],
             [
              0.2222222222222222,
              "#7201a8"
             ],
             [
              0.3333333333333333,
              "#9c179e"
             ],
             [
              0.4444444444444444,
              "#bd3786"
             ],
             [
              0.5555555555555556,
              "#d8576b"
             ],
             [
              0.6666666666666666,
              "#ed7953"
             ],
             [
              0.7777777777777778,
              "#fb9f3a"
             ],
             [
              0.8888888888888888,
              "#fdca26"
             ],
             [
              1,
              "#f0f921"
             ]
            ],
            "type": "contour"
           }
          ],
          "contourcarpet": [
           {
            "colorbar": {
             "outlinewidth": 0,
             "ticks": ""
            },
            "type": "contourcarpet"
           }
          ],
          "heatmap": [
           {
            "colorbar": {
             "outlinewidth": 0,
             "ticks": ""
            },
            "colorscale": [
             [
              0,
              "#0d0887"
             ],
             [
              0.1111111111111111,
              "#46039f"
             ],
             [
              0.2222222222222222,
              "#7201a8"
             ],
             [
              0.3333333333333333,
              "#9c179e"
             ],
             [
              0.4444444444444444,
              "#bd3786"
             ],
             [
              0.5555555555555556,
              "#d8576b"
             ],
             [
              0.6666666666666666,
              "#ed7953"
             ],
             [
              0.7777777777777778,
              "#fb9f3a"
             ],
             [
              0.8888888888888888,
              "#fdca26"
             ],
             [
              1,
              "#f0f921"
             ]
            ],
            "type": "heatmap"
           }
          ],
          "heatmapgl": [
           {
            "colorbar": {
             "outlinewidth": 0,
             "ticks": ""
            },
            "colorscale": [
             [
              0,
              "#0d0887"
             ],
             [
              0.1111111111111111,
              "#46039f"
             ],
             [
              0.2222222222222222,
              "#7201a8"
             ],
             [
              0.3333333333333333,
              "#9c179e"
             ],
             [
              0.4444444444444444,
              "#bd3786"
             ],
             [
              0.5555555555555556,
              "#d8576b"
             ],
             [
              0.6666666666666666,
              "#ed7953"
             ],
             [
              0.7777777777777778,
              "#fb9f3a"
             ],
             [
              0.8888888888888888,
              "#fdca26"
             ],
             [
              1,
              "#f0f921"
             ]
            ],
            "type": "heatmapgl"
           }
          ],
          "histogram": [
           {
            "marker": {
             "pattern": {
              "fillmode": "overlay",
              "size": 10,
              "solidity": 0.2
             }
            },
            "type": "histogram"
           }
          ],
          "histogram2d": [
           {
            "colorbar": {
             "outlinewidth": 0,
             "ticks": ""
            },
            "colorscale": [
             [
              0,
              "#0d0887"
             ],
             [
              0.1111111111111111,
              "#46039f"
             ],
             [
              0.2222222222222222,
              "#7201a8"
             ],
             [
              0.3333333333333333,
              "#9c179e"
             ],
             [
              0.4444444444444444,
              "#bd3786"
             ],
             [
              0.5555555555555556,
              "#d8576b"
             ],
             [
              0.6666666666666666,
              "#ed7953"
             ],
             [
              0.7777777777777778,
              "#fb9f3a"
             ],
             [
              0.8888888888888888,
              "#fdca26"
             ],
             [
              1,
              "#f0f921"
             ]
            ],
            "type": "histogram2d"
           }
          ],
          "histogram2dcontour": [
           {
            "colorbar": {
             "outlinewidth": 0,
             "ticks": ""
            },
            "colorscale": [
             [
              0,
              "#0d0887"
             ],
             [
              0.1111111111111111,
              "#46039f"
             ],
             [
              0.2222222222222222,
              "#7201a8"
             ],
             [
              0.3333333333333333,
              "#9c179e"
             ],
             [
              0.4444444444444444,
              "#bd3786"
             ],
             [
              0.5555555555555556,
              "#d8576b"
             ],
             [
              0.6666666666666666,
              "#ed7953"
             ],
             [
              0.7777777777777778,
              "#fb9f3a"
             ],
             [
              0.8888888888888888,
              "#fdca26"
             ],
             [
              1,
              "#f0f921"
             ]
            ],
            "type": "histogram2dcontour"
           }
          ],
          "mesh3d": [
           {
            "colorbar": {
             "outlinewidth": 0,
             "ticks": ""
            },
            "type": "mesh3d"
           }
          ],
          "parcoords": [
           {
            "line": {
             "colorbar": {
              "outlinewidth": 0,
              "ticks": ""
             }
            },
            "type": "parcoords"
           }
          ],
          "pie": [
           {
            "automargin": true,
            "type": "pie"
           }
          ],
          "scatter": [
           {
            "fillpattern": {
             "fillmode": "overlay",
             "size": 10,
             "solidity": 0.2
            },
            "type": "scatter"
           }
          ],
          "scatter3d": [
           {
            "line": {
             "colorbar": {
              "outlinewidth": 0,
              "ticks": ""
             }
            },
            "marker": {
             "colorbar": {
              "outlinewidth": 0,
              "ticks": ""
             }
            },
            "type": "scatter3d"
           }
          ],
          "scattercarpet": [
           {
            "marker": {
             "colorbar": {
              "outlinewidth": 0,
              "ticks": ""
             }
            },
            "type": "scattercarpet"
           }
          ],
          "scattergeo": [
           {
            "marker": {
             "colorbar": {
              "outlinewidth": 0,
              "ticks": ""
             }
            },
            "type": "scattergeo"
           }
          ],
          "scattergl": [
           {
            "marker": {
             "colorbar": {
              "outlinewidth": 0,
              "ticks": ""
             }
            },
            "type": "scattergl"
           }
          ],
          "scattermapbox": [
           {
            "marker": {
             "colorbar": {
              "outlinewidth": 0,
              "ticks": ""
             }
            },
            "type": "scattermapbox"
           }
          ],
          "scatterpolar": [
           {
            "marker": {
             "colorbar": {
              "outlinewidth": 0,
              "ticks": ""
             }
            },
            "type": "scatterpolar"
           }
          ],
          "scatterpolargl": [
           {
            "marker": {
             "colorbar": {
              "outlinewidth": 0,
              "ticks": ""
             }
            },
            "type": "scatterpolargl"
           }
          ],
          "scatterternary": [
           {
            "marker": {
             "colorbar": {
              "outlinewidth": 0,
              "ticks": ""
             }
            },
            "type": "scatterternary"
           }
          ],
          "surface": [
           {
            "colorbar": {
             "outlinewidth": 0,
             "ticks": ""
            },
            "colorscale": [
             [
              0,
              "#0d0887"
             ],
             [
              0.1111111111111111,
              "#46039f"
             ],
             [
              0.2222222222222222,
              "#7201a8"
             ],
             [
              0.3333333333333333,
              "#9c179e"
             ],
             [
              0.4444444444444444,
              "#bd3786"
             ],
             [
              0.5555555555555556,
              "#d8576b"
             ],
             [
              0.6666666666666666,
              "#ed7953"
             ],
             [
              0.7777777777777778,
              "#fb9f3a"
             ],
             [
              0.8888888888888888,
              "#fdca26"
             ],
             [
              1,
              "#f0f921"
             ]
            ],
            "type": "surface"
           }
          ],
          "table": [
           {
            "cells": {
             "fill": {
              "color": "#EBF0F8"
             },
             "line": {
              "color": "white"
             }
            },
            "header": {
             "fill": {
              "color": "#C8D4E3"
             },
             "line": {
              "color": "white"
             }
            },
            "type": "table"
           }
          ]
         },
         "layout": {
          "annotationdefaults": {
           "arrowcolor": "#2a3f5f",
           "arrowhead": 0,
           "arrowwidth": 1
          },
          "autotypenumbers": "strict",
          "coloraxis": {
           "colorbar": {
            "outlinewidth": 0,
            "ticks": ""
           }
          },
          "colorscale": {
           "diverging": [
            [
             0,
             "#8e0152"
            ],
            [
             0.1,
             "#c51b7d"
            ],
            [
             0.2,
             "#de77ae"
            ],
            [
             0.3,
             "#f1b6da"
            ],
            [
             0.4,
             "#fde0ef"
            ],
            [
             0.5,
             "#f7f7f7"
            ],
            [
             0.6,
             "#e6f5d0"
            ],
            [
             0.7,
             "#b8e186"
            ],
            [
             0.8,
             "#7fbc41"
            ],
            [
             0.9,
             "#4d9221"
            ],
            [
             1,
             "#276419"
            ]
           ],
           "sequential": [
            [
             0,
             "#0d0887"
            ],
            [
             0.1111111111111111,
             "#46039f"
            ],
            [
             0.2222222222222222,
             "#7201a8"
            ],
            [
             0.3333333333333333,
             "#9c179e"
            ],
            [
             0.4444444444444444,
             "#bd3786"
            ],
            [
             0.5555555555555556,
             "#d8576b"
            ],
            [
             0.6666666666666666,
             "#ed7953"
            ],
            [
             0.7777777777777778,
             "#fb9f3a"
            ],
            [
             0.8888888888888888,
             "#fdca26"
            ],
            [
             1,
             "#f0f921"
            ]
           ],
           "sequentialminus": [
            [
             0,
             "#0d0887"
            ],
            [
             0.1111111111111111,
             "#46039f"
            ],
            [
             0.2222222222222222,
             "#7201a8"
            ],
            [
             0.3333333333333333,
             "#9c179e"
            ],
            [
             0.4444444444444444,
             "#bd3786"
            ],
            [
             0.5555555555555556,
             "#d8576b"
            ],
            [
             0.6666666666666666,
             "#ed7953"
            ],
            [
             0.7777777777777778,
             "#fb9f3a"
            ],
            [
             0.8888888888888888,
             "#fdca26"
            ],
            [
             1,
             "#f0f921"
            ]
           ]
          },
          "colorway": [
           "#636efa",
           "#EF553B",
           "#00cc96",
           "#ab63fa",
           "#FFA15A",
           "#19d3f3",
           "#FF6692",
           "#B6E880",
           "#FF97FF",
           "#FECB52"
          ],
          "font": {
           "color": "#2a3f5f"
          },
          "geo": {
           "bgcolor": "white",
           "lakecolor": "white",
           "landcolor": "#E5ECF6",
           "showlakes": true,
           "showland": true,
           "subunitcolor": "white"
          },
          "hoverlabel": {
           "align": "left"
          },
          "hovermode": "closest",
          "mapbox": {
           "style": "light"
          },
          "paper_bgcolor": "white",
          "plot_bgcolor": "#E5ECF6",
          "polar": {
           "angularaxis": {
            "gridcolor": "white",
            "linecolor": "white",
            "ticks": ""
           },
           "bgcolor": "#E5ECF6",
           "radialaxis": {
            "gridcolor": "white",
            "linecolor": "white",
            "ticks": ""
           }
          },
          "scene": {
           "xaxis": {
            "backgroundcolor": "#E5ECF6",
            "gridcolor": "white",
            "gridwidth": 2,
            "linecolor": "white",
            "showbackground": true,
            "ticks": "",
            "zerolinecolor": "white"
           },
           "yaxis": {
            "backgroundcolor": "#E5ECF6",
            "gridcolor": "white",
            "gridwidth": 2,
            "linecolor": "white",
            "showbackground": true,
            "ticks": "",
            "zerolinecolor": "white"
           },
           "zaxis": {
            "backgroundcolor": "#E5ECF6",
            "gridcolor": "white",
            "gridwidth": 2,
            "linecolor": "white",
            "showbackground": true,
            "ticks": "",
            "zerolinecolor": "white"
           }
          },
          "shapedefaults": {
           "line": {
            "color": "#2a3f5f"
           }
          },
          "ternary": {
           "aaxis": {
            "gridcolor": "white",
            "linecolor": "white",
            "ticks": ""
           },
           "baxis": {
            "gridcolor": "white",
            "linecolor": "white",
            "ticks": ""
           },
           "bgcolor": "#E5ECF6",
           "caxis": {
            "gridcolor": "white",
            "linecolor": "white",
            "ticks": ""
           }
          },
          "title": {
           "x": 0.05
          },
          "xaxis": {
           "automargin": true,
           "gridcolor": "white",
           "linecolor": "white",
           "ticks": "",
           "title": {
            "standoff": 15
           },
           "zerolinecolor": "white",
           "zerolinewidth": 2
          },
          "yaxis": {
           "automargin": true,
           "gridcolor": "white",
           "linecolor": "white",
           "ticks": "",
           "title": {
            "standoff": 15
           },
           "zerolinecolor": "white",
           "zerolinewidth": 2
          }
         }
        },
        "title": {
         "text": "Scatter plot: Sales vs Investimento"
        },
        "xaxis": {
         "anchor": "y",
         "domain": [
          0,
          1
         ],
         "title": {
          "text": "Investimento"
         }
        },
        "yaxis": {
         "anchor": "x",
         "domain": [
          0,
          1
         ],
         "title": {
          "text": "Sales"
         }
        }
       }
      }
     },
     "metadata": {},
     "output_type": "display_data"
    }
   ],
   "source": [
    "# Reestrutura os dados para um formato longo\n",
    "df_melted = df.melt(id_vars='sales', var_name='platform', value_name='investment')\n",
    "\n",
    "# Cria um dicionário com os símbolos para cada plataforma\n",
    "symbols = {'youtube': 'circle', 'facebook': 'diamond', 'newspaper': 'square'}\n",
    "\n",
    "# Cria o gráfico de dispersão\n",
    "fig = px.scatter(df_melted, x='investment', y='sales', color='platform', \n",
    "                 symbol=df_melted['platform'].map(symbols), \n",
    "                 title='Scatter plot: Sales vs Investimento',\n",
    "                 labels={'investment':'Investimento', 'sales':'Sales'}, \n",
    "                 hover_data=['platform', 'investment', 'sales'])\n",
    "\n",
    "fig.show()\n"
   ]
  },
  {
   "attachments": {},
   "cell_type": "markdown",
   "metadata": {},
   "source": [
    "Analisando o Scatter plot é possível observar que é necessário desprender ou investir muito mais dinheiro no Youtube para ter o mesmo retorno que as demais plataformas. Em contra partida o Facebook e Newspaper possuem uma distribuição semelhante, onde a relação Sales vs Investimento é mais vantajosa, sendo necessário despender menos dinheiro para um retorno maior."
   ]
  },
  {
   "attachments": {},
   "cell_type": "markdown",
   "metadata": {},
   "source": [
    "### Analisando a Eficiência da relação Sales vs Investimento"
   ]
  },
  {
   "attachments": {},
   "cell_type": "markdown",
   "metadata": {},
   "source": [
    "#### Cálculo do ROI individual"
   ]
  },
  {
   "attachments": {},
   "cell_type": "markdown",
   "metadata": {},
   "source": [
    "Uma forma de avaliar a eficiência dos investimentos em marketing é através do cálculo do Retorno sobre Investimento (ROI, em inglês Return on Investment). O ROI é uma métrica amplamente utilizada para avaliar a rentabilidade de um investimento. Ele é calculado da seguinte maneira:\n",
    "\n",
    "**ROI = (Retorno do Investimento - Custo do Investimento) / Custo do Investimento**\n",
    "\n",
    "Onde:\n",
    "\n",
    "* Retorno do Investimento corresponde às Vendas (sales)\n",
    "* Custo do Investimento é o valor investido nas plataformas (Youtube, Facebook e Newspaper)\n",
    "\n",
    "\n",
    "Nossos dados indicam que as vendas (sales) estão correlacionadas com o valor investido em cada uma das plataformas. Ou seja, existe uma relação entre o valor investido e as vendas resultantes. Entretanto, é importante ressaltar que o valor total de vendas é influenciado pelo investimento em todas as plataformas, e não apenas em uma individualmente.\n",
    "\n",
    "Embora calcular o ROI individual de cada plataforma possa não fornecer um quadro completamente preciso, pode ser uma maneira útil de começar a analisar a eficácia dos investimentos em marketing em cada plataforma.\n",
    "\n",
    "Para simplificar, vamos fazer a suposição de que cada dólar investido em uma plataforma específica contribui igualmente para o total de vendas. Por exemplo, se investimos $84.72 no Youtube e $19.20 no Facebook, vamos considerar que cada um desses investimentos contribuiu igualmente para gerar as vendas de $12.60.\n",
    "\n",
    "Com base nessas suposições, podemos prosseguir para analisar qual plataforma proporciona o melhor retorno sobre o investimento."
   ]
  },
  {
   "cell_type": "code",
   "execution_count": 8,
   "metadata": {},
   "outputs": [
    {
     "data": {
      "text/html": [
       "<div>\n",
       "<style scoped>\n",
       "    .dataframe tbody tr th:only-of-type {\n",
       "        vertical-align: middle;\n",
       "    }\n",
       "\n",
       "    .dataframe tbody tr th {\n",
       "        vertical-align: top;\n",
       "    }\n",
       "\n",
       "    .dataframe thead th {\n",
       "        text-align: right;\n",
       "    }\n",
       "</style>\n",
       "<table border=\"1\" class=\"dataframe\">\n",
       "  <thead>\n",
       "    <tr style=\"text-align: right;\">\n",
       "      <th></th>\n",
       "      <th>youtube</th>\n",
       "      <th>facebook</th>\n",
       "      <th>newspaper</th>\n",
       "      <th>sales</th>\n",
       "      <th>ROI_youtube</th>\n",
       "      <th>ROI_facebook</th>\n",
       "      <th>ROI_newspaper</th>\n",
       "    </tr>\n",
       "  </thead>\n",
       "  <tbody>\n",
       "    <tr>\n",
       "      <th>0</th>\n",
       "      <td>84.72</td>\n",
       "      <td>19.20</td>\n",
       "      <td>48.96</td>\n",
       "      <td>12.60</td>\n",
       "      <td>-0.85</td>\n",
       "      <td>-0.34</td>\n",
       "      <td>-0.74</td>\n",
       "    </tr>\n",
       "    <tr>\n",
       "      <th>1</th>\n",
       "      <td>351.48</td>\n",
       "      <td>33.96</td>\n",
       "      <td>51.84</td>\n",
       "      <td>25.68</td>\n",
       "      <td>-0.93</td>\n",
       "      <td>-0.24</td>\n",
       "      <td>-0.50</td>\n",
       "    </tr>\n",
       "    <tr>\n",
       "      <th>2</th>\n",
       "      <td>135.48</td>\n",
       "      <td>20.88</td>\n",
       "      <td>46.32</td>\n",
       "      <td>14.28</td>\n",
       "      <td>-0.89</td>\n",
       "      <td>-0.32</td>\n",
       "      <td>-0.69</td>\n",
       "    </tr>\n",
       "    <tr>\n",
       "      <th>3</th>\n",
       "      <td>116.64</td>\n",
       "      <td>1.80</td>\n",
       "      <td>36.00</td>\n",
       "      <td>11.52</td>\n",
       "      <td>-0.90</td>\n",
       "      <td>5.40</td>\n",
       "      <td>-0.68</td>\n",
       "    </tr>\n",
       "    <tr>\n",
       "      <th>4</th>\n",
       "      <td>318.72</td>\n",
       "      <td>24.00</td>\n",
       "      <td>0.36</td>\n",
       "      <td>20.88</td>\n",
       "      <td>-0.93</td>\n",
       "      <td>-0.13</td>\n",
       "      <td>57.00</td>\n",
       "    </tr>\n",
       "    <tr>\n",
       "      <th>...</th>\n",
       "      <td>...</td>\n",
       "      <td>...</td>\n",
       "      <td>...</td>\n",
       "      <td>...</td>\n",
       "      <td>...</td>\n",
       "      <td>...</td>\n",
       "      <td>...</td>\n",
       "    </tr>\n",
       "    <tr>\n",
       "      <th>166</th>\n",
       "      <td>45.84</td>\n",
       "      <td>4.44</td>\n",
       "      <td>16.56</td>\n",
       "      <td>9.12</td>\n",
       "      <td>-0.80</td>\n",
       "      <td>1.05</td>\n",
       "      <td>-0.45</td>\n",
       "    </tr>\n",
       "    <tr>\n",
       "      <th>167</th>\n",
       "      <td>113.04</td>\n",
       "      <td>5.88</td>\n",
       "      <td>9.72</td>\n",
       "      <td>11.64</td>\n",
       "      <td>-0.90</td>\n",
       "      <td>0.98</td>\n",
       "      <td>0.20</td>\n",
       "    </tr>\n",
       "    <tr>\n",
       "      <th>168</th>\n",
       "      <td>212.40</td>\n",
       "      <td>11.16</td>\n",
       "      <td>7.68</td>\n",
       "      <td>15.36</td>\n",
       "      <td>-0.93</td>\n",
       "      <td>0.38</td>\n",
       "      <td>1.00</td>\n",
       "    </tr>\n",
       "    <tr>\n",
       "      <th>169</th>\n",
       "      <td>340.32</td>\n",
       "      <td>50.40</td>\n",
       "      <td>79.44</td>\n",
       "      <td>30.60</td>\n",
       "      <td>-0.91</td>\n",
       "      <td>-0.39</td>\n",
       "      <td>-0.61</td>\n",
       "    </tr>\n",
       "    <tr>\n",
       "      <th>170</th>\n",
       "      <td>278.52</td>\n",
       "      <td>10.32</td>\n",
       "      <td>10.44</td>\n",
       "      <td>16.08</td>\n",
       "      <td>-0.94</td>\n",
       "      <td>0.56</td>\n",
       "      <td>0.54</td>\n",
       "    </tr>\n",
       "  </tbody>\n",
       "</table>\n",
       "<p>171 rows × 7 columns</p>\n",
       "</div>"
      ],
      "text/plain": [
       "     youtube  facebook  newspaper  sales  ROI_youtube  ROI_facebook   \n",
       "0      84.72     19.20      48.96  12.60        -0.85         -0.34  \\\n",
       "1     351.48     33.96      51.84  25.68        -0.93         -0.24   \n",
       "2     135.48     20.88      46.32  14.28        -0.89         -0.32   \n",
       "3     116.64      1.80      36.00  11.52        -0.90          5.40   \n",
       "4     318.72     24.00       0.36  20.88        -0.93         -0.13   \n",
       "..       ...       ...        ...    ...          ...           ...   \n",
       "166    45.84      4.44      16.56   9.12        -0.80          1.05   \n",
       "167   113.04      5.88       9.72  11.64        -0.90          0.98   \n",
       "168   212.40     11.16       7.68  15.36        -0.93          0.38   \n",
       "169   340.32     50.40      79.44  30.60        -0.91         -0.39   \n",
       "170   278.52     10.32      10.44  16.08        -0.94          0.56   \n",
       "\n",
       "     ROI_newspaper  \n",
       "0            -0.74  \n",
       "1            -0.50  \n",
       "2            -0.69  \n",
       "3            -0.68  \n",
       "4            57.00  \n",
       "..             ...  \n",
       "166          -0.45  \n",
       "167           0.20  \n",
       "168           1.00  \n",
       "169          -0.61  \n",
       "170           0.54  \n",
       "\n",
       "[171 rows x 7 columns]"
      ]
     },
     "execution_count": 8,
     "metadata": {},
     "output_type": "execute_result"
    }
   ],
   "source": [
    "df['ROI_youtube'] = (df['sales'] - df['youtube']) / df['youtube']\n",
    "df['ROI_facebook'] = (df['sales'] - df['facebook']) / df['facebook']\n",
    "df['ROI_newspaper'] = (df['sales'] - df['newspaper']) / df['newspaper']\n",
    "df"
   ]
  },
  {
   "cell_type": "code",
   "execution_count": 9,
   "metadata": {},
   "outputs": [
    {
     "data": {
      "text/html": [
       "<div>\n",
       "<style scoped>\n",
       "    .dataframe tbody tr th:only-of-type {\n",
       "        vertical-align: middle;\n",
       "    }\n",
       "\n",
       "    .dataframe tbody tr th {\n",
       "        vertical-align: top;\n",
       "    }\n",
       "\n",
       "    .dataframe thead th {\n",
       "        text-align: right;\n",
       "    }\n",
       "</style>\n",
       "<table border=\"1\" class=\"dataframe\">\n",
       "  <thead>\n",
       "    <tr style=\"text-align: right;\">\n",
       "      <th></th>\n",
       "      <th>count</th>\n",
       "      <th>mean</th>\n",
       "      <th>std</th>\n",
       "      <th>min</th>\n",
       "      <th>25%</th>\n",
       "      <th>50%</th>\n",
       "      <th>75%</th>\n",
       "      <th>max</th>\n",
       "    </tr>\n",
       "  </thead>\n",
       "  <tbody>\n",
       "    <tr>\n",
       "      <th>youtube</th>\n",
       "      <td>171.00</td>\n",
       "      <td>178.02</td>\n",
       "      <td>102.45</td>\n",
       "      <td>0.84</td>\n",
       "      <td>91.08</td>\n",
       "      <td>179.76</td>\n",
       "      <td>262.98</td>\n",
       "      <td>355.68</td>\n",
       "    </tr>\n",
       "    <tr>\n",
       "      <th>facebook</th>\n",
       "      <td>171.00</td>\n",
       "      <td>27.67</td>\n",
       "      <td>17.91</td>\n",
       "      <td>0.00</td>\n",
       "      <td>11.70</td>\n",
       "      <td>26.76</td>\n",
       "      <td>43.68</td>\n",
       "      <td>59.52</td>\n",
       "    </tr>\n",
       "    <tr>\n",
       "      <th>newspaper</th>\n",
       "      <td>171.00</td>\n",
       "      <td>35.24</td>\n",
       "      <td>24.90</td>\n",
       "      <td>0.36</td>\n",
       "      <td>13.74</td>\n",
       "      <td>31.08</td>\n",
       "      <td>50.88</td>\n",
       "      <td>121.08</td>\n",
       "    </tr>\n",
       "    <tr>\n",
       "      <th>sales</th>\n",
       "      <td>171.00</td>\n",
       "      <td>16.92</td>\n",
       "      <td>6.31</td>\n",
       "      <td>1.92</td>\n",
       "      <td>12.54</td>\n",
       "      <td>15.48</td>\n",
       "      <td>20.82</td>\n",
       "      <td>32.40</td>\n",
       "    </tr>\n",
       "    <tr>\n",
       "      <th>ROI_youtube</th>\n",
       "      <td>171.00</td>\n",
       "      <td>-0.84</td>\n",
       "      <td>0.22</td>\n",
       "      <td>-0.96</td>\n",
       "      <td>-0.92</td>\n",
       "      <td>-0.90</td>\n",
       "      <td>-0.85</td>\n",
       "      <td>1.29</td>\n",
       "    </tr>\n",
       "    <tr>\n",
       "      <th>ROI_facebook</th>\n",
       "      <td>171.00</td>\n",
       "      <td>inf</td>\n",
       "      <td>NaN</td>\n",
       "      <td>-0.96</td>\n",
       "      <td>-0.52</td>\n",
       "      <td>-0.32</td>\n",
       "      <td>0.32</td>\n",
       "      <td>inf</td>\n",
       "    </tr>\n",
       "    <tr>\n",
       "      <th>ROI_newspaper</th>\n",
       "      <td>171.00</td>\n",
       "      <td>0.41</td>\n",
       "      <td>4.70</td>\n",
       "      <td>-0.90</td>\n",
       "      <td>-0.68</td>\n",
       "      <td>-0.51</td>\n",
       "      <td>0.10</td>\n",
       "      <td>57.00</td>\n",
       "    </tr>\n",
       "  </tbody>\n",
       "</table>\n",
       "</div>"
      ],
      "text/plain": [
       "               count   mean    std   min   25%    50%    75%    max\n",
       "youtube       171.00 178.02 102.45  0.84 91.08 179.76 262.98 355.68\n",
       "facebook      171.00  27.67  17.91  0.00 11.70  26.76  43.68  59.52\n",
       "newspaper     171.00  35.24  24.90  0.36 13.74  31.08  50.88 121.08\n",
       "sales         171.00  16.92   6.31  1.92 12.54  15.48  20.82  32.40\n",
       "ROI_youtube   171.00  -0.84   0.22 -0.96 -0.92  -0.90  -0.85   1.29\n",
       "ROI_facebook  171.00    inf    NaN -0.96 -0.52  -0.32   0.32    inf\n",
       "ROI_newspaper 171.00   0.41   4.70 -0.90 -0.68  -0.51   0.10  57.00"
      ]
     },
     "execution_count": 9,
     "metadata": {},
     "output_type": "execute_result"
    }
   ],
   "source": [
    "df.describe().T"
   ]
  },
  {
   "attachments": {},
   "cell_type": "markdown",
   "metadata": {},
   "source": [
    "##### Corrigindo o inf do ROI_facebook"
   ]
  },
  {
   "attachments": {},
   "cell_type": "markdown",
   "metadata": {},
   "source": [
    "Após análise dos dados foi observado que na linha 98 do dataset a variável facebook é igual a 0, sendo assim quando calculamos o ROI, temos:\n",
    "\n",
    "**ROI = (10.56-0)/0**\n",
    "\n",
    "Matematicamente não é possível dividir um número por zero, então para corrigir esse problema vamos adotar uma premissa."
   ]
  },
  {
   "cell_type": "code",
   "execution_count": 10,
   "metadata": {},
   "outputs": [
    {
     "data": {
      "text/plain": [
       "youtube         96.24\n",
       "facebook         0.00\n",
       "newspaper       11.04\n",
       "sales           10.56\n",
       "ROI_youtube     -0.89\n",
       "ROI_facebook      inf\n",
       "ROI_newspaper   -0.04\n",
       "Name: 98, dtype: float64"
      ]
     },
     "execution_count": 10,
     "metadata": {},
     "output_type": "execute_result"
    }
   ],
   "source": [
    "df.loc[98]"
   ]
  },
  {
   "attachments": {},
   "cell_type": "markdown",
   "metadata": {},
   "source": [
    "Como premissa vamos adotar que o 0 será a média."
   ]
  },
  {
   "cell_type": "code",
   "execution_count": 11,
   "metadata": {},
   "outputs": [],
   "source": [
    "df['ROI_facebook'][98] = df['facebook'].mean()"
   ]
  },
  {
   "cell_type": "code",
   "execution_count": 12,
   "metadata": {},
   "outputs": [
    {
     "data": {
      "text/html": [
       "<div>\n",
       "<style scoped>\n",
       "    .dataframe tbody tr th:only-of-type {\n",
       "        vertical-align: middle;\n",
       "    }\n",
       "\n",
       "    .dataframe tbody tr th {\n",
       "        vertical-align: top;\n",
       "    }\n",
       "\n",
       "    .dataframe thead th {\n",
       "        text-align: right;\n",
       "    }\n",
       "</style>\n",
       "<table border=\"1\" class=\"dataframe\">\n",
       "  <thead>\n",
       "    <tr style=\"text-align: right;\">\n",
       "      <th></th>\n",
       "      <th>count</th>\n",
       "      <th>mean</th>\n",
       "      <th>std</th>\n",
       "      <th>min</th>\n",
       "      <th>25%</th>\n",
       "      <th>50%</th>\n",
       "      <th>75%</th>\n",
       "      <th>max</th>\n",
       "    </tr>\n",
       "  </thead>\n",
       "  <tbody>\n",
       "    <tr>\n",
       "      <th>youtube</th>\n",
       "      <td>171.00</td>\n",
       "      <td>178.02</td>\n",
       "      <td>102.45</td>\n",
       "      <td>0.84</td>\n",
       "      <td>91.08</td>\n",
       "      <td>179.76</td>\n",
       "      <td>262.98</td>\n",
       "      <td>355.68</td>\n",
       "    </tr>\n",
       "    <tr>\n",
       "      <th>facebook</th>\n",
       "      <td>171.00</td>\n",
       "      <td>27.67</td>\n",
       "      <td>17.91</td>\n",
       "      <td>0.00</td>\n",
       "      <td>11.70</td>\n",
       "      <td>26.76</td>\n",
       "      <td>43.68</td>\n",
       "      <td>59.52</td>\n",
       "    </tr>\n",
       "    <tr>\n",
       "      <th>newspaper</th>\n",
       "      <td>171.00</td>\n",
       "      <td>35.24</td>\n",
       "      <td>24.90</td>\n",
       "      <td>0.36</td>\n",
       "      <td>13.74</td>\n",
       "      <td>31.08</td>\n",
       "      <td>50.88</td>\n",
       "      <td>121.08</td>\n",
       "    </tr>\n",
       "    <tr>\n",
       "      <th>sales</th>\n",
       "      <td>171.00</td>\n",
       "      <td>16.92</td>\n",
       "      <td>6.31</td>\n",
       "      <td>1.92</td>\n",
       "      <td>12.54</td>\n",
       "      <td>15.48</td>\n",
       "      <td>20.82</td>\n",
       "      <td>32.40</td>\n",
       "    </tr>\n",
       "    <tr>\n",
       "      <th>ROI_youtube</th>\n",
       "      <td>171.00</td>\n",
       "      <td>-0.84</td>\n",
       "      <td>0.22</td>\n",
       "      <td>-0.96</td>\n",
       "      <td>-0.92</td>\n",
       "      <td>-0.90</td>\n",
       "      <td>-0.85</td>\n",
       "      <td>1.29</td>\n",
       "    </tr>\n",
       "    <tr>\n",
       "      <th>ROI_facebook</th>\n",
       "      <td>171.00</td>\n",
       "      <td>0.62</td>\n",
       "      <td>3.48</td>\n",
       "      <td>-0.96</td>\n",
       "      <td>-0.52</td>\n",
       "      <td>-0.32</td>\n",
       "      <td>0.32</td>\n",
       "      <td>28.00</td>\n",
       "    </tr>\n",
       "    <tr>\n",
       "      <th>ROI_newspaper</th>\n",
       "      <td>171.00</td>\n",
       "      <td>0.41</td>\n",
       "      <td>4.70</td>\n",
       "      <td>-0.90</td>\n",
       "      <td>-0.68</td>\n",
       "      <td>-0.51</td>\n",
       "      <td>0.10</td>\n",
       "      <td>57.00</td>\n",
       "    </tr>\n",
       "  </tbody>\n",
       "</table>\n",
       "</div>"
      ],
      "text/plain": [
       "               count   mean    std   min   25%    50%    75%    max\n",
       "youtube       171.00 178.02 102.45  0.84 91.08 179.76 262.98 355.68\n",
       "facebook      171.00  27.67  17.91  0.00 11.70  26.76  43.68  59.52\n",
       "newspaper     171.00  35.24  24.90  0.36 13.74  31.08  50.88 121.08\n",
       "sales         171.00  16.92   6.31  1.92 12.54  15.48  20.82  32.40\n",
       "ROI_youtube   171.00  -0.84   0.22 -0.96 -0.92  -0.90  -0.85   1.29\n",
       "ROI_facebook  171.00   0.62   3.48 -0.96 -0.52  -0.32   0.32  28.00\n",
       "ROI_newspaper 171.00   0.41   4.70 -0.90 -0.68  -0.51   0.10  57.00"
      ]
     },
     "execution_count": 12,
     "metadata": {},
     "output_type": "execute_result"
    }
   ],
   "source": [
    "df.describe().T"
   ]
  },
  {
   "attachments": {},
   "cell_type": "markdown",
   "metadata": {},
   "source": [
    "O ROI negativo, isso geralmente significa que o custo do investimento excede o retorno que você obteve. No contexto de uma campanha de marketing, isso poderia significar que o dinheiro que você gastou na campanha é maior do que a receita gerada por essa campanha.\n",
    "\n",
    "Por exemplo, com um ROI médio de -0.90, se o valor investido foi de R$100, a perda média, de acordo com esse ROI, seria de R$90.\n",
    "\n",
    "* **ROI_youtube:** ROI médio de **<font color='red'>-0.84</font>** sugere que, em média, para cada unidade de moeda investida, a perda foi de 84% do valor investido. Essa é uma situação financeira **<font color='red'>muito ruim</font>**, indicando que o investimento está perdendo dinheiro em vez de gerar lucro.\n",
    "  \n",
    "* **ROI_facebook:** ROI médio de **<font color='chartreuse'>0.62</font>** sugere que, em média, para cada unidade de moeda investida, o ganho foi de 62% do valor investido. Essa é uma situação financeira **<font color='chartreuse'>muito boa</font>**, indicando que o investimento está gerando lucro.\n",
    "  \n",
    "* **ROI_newspaper:** ROI médio de **<font color='chartreuse'>0.41</font>** sugere que, em média, para cada unidade de moeda investida, o ganho foi de 41% do valor investido. Essa é uma situação financeira **<font color='chartreuse'>muito boa</font>**, indicando que o investimento está gerando lucro.\n"
   ]
  },
  {
   "attachments": {},
   "cell_type": "markdown",
   "metadata": {},
   "source": [
    "#### Cálculo do ROI consolidado"
   ]
  },
  {
   "attachments": {},
   "cell_type": "markdown",
   "metadata": {},
   "source": [
    "Primeiramente vamos precisar somar o valor investido em todas as plataformas."
   ]
  },
  {
   "cell_type": "code",
   "execution_count": 13,
   "metadata": {},
   "outputs": [
    {
     "data": {
      "text/html": [
       "<div>\n",
       "<style scoped>\n",
       "    .dataframe tbody tr th:only-of-type {\n",
       "        vertical-align: middle;\n",
       "    }\n",
       "\n",
       "    .dataframe tbody tr th {\n",
       "        vertical-align: top;\n",
       "    }\n",
       "\n",
       "    .dataframe thead th {\n",
       "        text-align: right;\n",
       "    }\n",
       "</style>\n",
       "<table border=\"1\" class=\"dataframe\">\n",
       "  <thead>\n",
       "    <tr style=\"text-align: right;\">\n",
       "      <th></th>\n",
       "      <th>youtube</th>\n",
       "      <th>facebook</th>\n",
       "      <th>newspaper</th>\n",
       "      <th>sales</th>\n",
       "      <th>ROI_youtube</th>\n",
       "      <th>ROI_facebook</th>\n",
       "      <th>ROI_newspaper</th>\n",
       "      <th>plataformas</th>\n",
       "    </tr>\n",
       "  </thead>\n",
       "  <tbody>\n",
       "    <tr>\n",
       "      <th>0</th>\n",
       "      <td>84.72</td>\n",
       "      <td>19.20</td>\n",
       "      <td>48.96</td>\n",
       "      <td>12.60</td>\n",
       "      <td>-0.85</td>\n",
       "      <td>-0.34</td>\n",
       "      <td>-0.74</td>\n",
       "      <td>152.88</td>\n",
       "    </tr>\n",
       "    <tr>\n",
       "      <th>1</th>\n",
       "      <td>351.48</td>\n",
       "      <td>33.96</td>\n",
       "      <td>51.84</td>\n",
       "      <td>25.68</td>\n",
       "      <td>-0.93</td>\n",
       "      <td>-0.24</td>\n",
       "      <td>-0.50</td>\n",
       "      <td>437.28</td>\n",
       "    </tr>\n",
       "    <tr>\n",
       "      <th>2</th>\n",
       "      <td>135.48</td>\n",
       "      <td>20.88</td>\n",
       "      <td>46.32</td>\n",
       "      <td>14.28</td>\n",
       "      <td>-0.89</td>\n",
       "      <td>-0.32</td>\n",
       "      <td>-0.69</td>\n",
       "      <td>202.68</td>\n",
       "    </tr>\n",
       "    <tr>\n",
       "      <th>3</th>\n",
       "      <td>116.64</td>\n",
       "      <td>1.80</td>\n",
       "      <td>36.00</td>\n",
       "      <td>11.52</td>\n",
       "      <td>-0.90</td>\n",
       "      <td>5.40</td>\n",
       "      <td>-0.68</td>\n",
       "      <td>154.44</td>\n",
       "    </tr>\n",
       "    <tr>\n",
       "      <th>4</th>\n",
       "      <td>318.72</td>\n",
       "      <td>24.00</td>\n",
       "      <td>0.36</td>\n",
       "      <td>20.88</td>\n",
       "      <td>-0.93</td>\n",
       "      <td>-0.13</td>\n",
       "      <td>57.00</td>\n",
       "      <td>343.08</td>\n",
       "    </tr>\n",
       "    <tr>\n",
       "      <th>...</th>\n",
       "      <td>...</td>\n",
       "      <td>...</td>\n",
       "      <td>...</td>\n",
       "      <td>...</td>\n",
       "      <td>...</td>\n",
       "      <td>...</td>\n",
       "      <td>...</td>\n",
       "      <td>...</td>\n",
       "    </tr>\n",
       "    <tr>\n",
       "      <th>166</th>\n",
       "      <td>45.84</td>\n",
       "      <td>4.44</td>\n",
       "      <td>16.56</td>\n",
       "      <td>9.12</td>\n",
       "      <td>-0.80</td>\n",
       "      <td>1.05</td>\n",
       "      <td>-0.45</td>\n",
       "      <td>66.84</td>\n",
       "    </tr>\n",
       "    <tr>\n",
       "      <th>167</th>\n",
       "      <td>113.04</td>\n",
       "      <td>5.88</td>\n",
       "      <td>9.72</td>\n",
       "      <td>11.64</td>\n",
       "      <td>-0.90</td>\n",
       "      <td>0.98</td>\n",
       "      <td>0.20</td>\n",
       "      <td>128.64</td>\n",
       "    </tr>\n",
       "    <tr>\n",
       "      <th>168</th>\n",
       "      <td>212.40</td>\n",
       "      <td>11.16</td>\n",
       "      <td>7.68</td>\n",
       "      <td>15.36</td>\n",
       "      <td>-0.93</td>\n",
       "      <td>0.38</td>\n",
       "      <td>1.00</td>\n",
       "      <td>231.24</td>\n",
       "    </tr>\n",
       "    <tr>\n",
       "      <th>169</th>\n",
       "      <td>340.32</td>\n",
       "      <td>50.40</td>\n",
       "      <td>79.44</td>\n",
       "      <td>30.60</td>\n",
       "      <td>-0.91</td>\n",
       "      <td>-0.39</td>\n",
       "      <td>-0.61</td>\n",
       "      <td>470.16</td>\n",
       "    </tr>\n",
       "    <tr>\n",
       "      <th>170</th>\n",
       "      <td>278.52</td>\n",
       "      <td>10.32</td>\n",
       "      <td>10.44</td>\n",
       "      <td>16.08</td>\n",
       "      <td>-0.94</td>\n",
       "      <td>0.56</td>\n",
       "      <td>0.54</td>\n",
       "      <td>299.28</td>\n",
       "    </tr>\n",
       "  </tbody>\n",
       "</table>\n",
       "<p>171 rows × 8 columns</p>\n",
       "</div>"
      ],
      "text/plain": [
       "     youtube  facebook  newspaper  sales  ROI_youtube  ROI_facebook   \n",
       "0      84.72     19.20      48.96  12.60        -0.85         -0.34  \\\n",
       "1     351.48     33.96      51.84  25.68        -0.93         -0.24   \n",
       "2     135.48     20.88      46.32  14.28        -0.89         -0.32   \n",
       "3     116.64      1.80      36.00  11.52        -0.90          5.40   \n",
       "4     318.72     24.00       0.36  20.88        -0.93         -0.13   \n",
       "..       ...       ...        ...    ...          ...           ...   \n",
       "166    45.84      4.44      16.56   9.12        -0.80          1.05   \n",
       "167   113.04      5.88       9.72  11.64        -0.90          0.98   \n",
       "168   212.40     11.16       7.68  15.36        -0.93          0.38   \n",
       "169   340.32     50.40      79.44  30.60        -0.91         -0.39   \n",
       "170   278.52     10.32      10.44  16.08        -0.94          0.56   \n",
       "\n",
       "     ROI_newspaper  plataformas  \n",
       "0            -0.74       152.88  \n",
       "1            -0.50       437.28  \n",
       "2            -0.69       202.68  \n",
       "3            -0.68       154.44  \n",
       "4            57.00       343.08  \n",
       "..             ...          ...  \n",
       "166          -0.45        66.84  \n",
       "167           0.20       128.64  \n",
       "168           1.00       231.24  \n",
       "169          -0.61       470.16  \n",
       "170           0.54       299.28  \n",
       "\n",
       "[171 rows x 8 columns]"
      ]
     },
     "execution_count": 13,
     "metadata": {},
     "output_type": "execute_result"
    }
   ],
   "source": [
    "df['plataformas'] = df['youtube'] + df['facebook'] + df['newspaper']\n",
    "df"
   ]
  },
  {
   "attachments": {},
   "cell_type": "markdown",
   "metadata": {},
   "source": [
    "Depois, calcular o ROI consolidado."
   ]
  },
  {
   "cell_type": "code",
   "execution_count": 14,
   "metadata": {},
   "outputs": [
    {
     "data": {
      "text/html": [
       "<div>\n",
       "<style scoped>\n",
       "    .dataframe tbody tr th:only-of-type {\n",
       "        vertical-align: middle;\n",
       "    }\n",
       "\n",
       "    .dataframe tbody tr th {\n",
       "        vertical-align: top;\n",
       "    }\n",
       "\n",
       "    .dataframe thead th {\n",
       "        text-align: right;\n",
       "    }\n",
       "</style>\n",
       "<table border=\"1\" class=\"dataframe\">\n",
       "  <thead>\n",
       "    <tr style=\"text-align: right;\">\n",
       "      <th></th>\n",
       "      <th>youtube</th>\n",
       "      <th>facebook</th>\n",
       "      <th>newspaper</th>\n",
       "      <th>sales</th>\n",
       "      <th>ROI_youtube</th>\n",
       "      <th>ROI_facebook</th>\n",
       "      <th>ROI_newspaper</th>\n",
       "      <th>plataformas</th>\n",
       "      <th>ROI</th>\n",
       "    </tr>\n",
       "  </thead>\n",
       "  <tbody>\n",
       "    <tr>\n",
       "      <th>0</th>\n",
       "      <td>84.72</td>\n",
       "      <td>19.20</td>\n",
       "      <td>48.96</td>\n",
       "      <td>12.60</td>\n",
       "      <td>-0.85</td>\n",
       "      <td>-0.34</td>\n",
       "      <td>-0.74</td>\n",
       "      <td>152.88</td>\n",
       "      <td>-0.92</td>\n",
       "    </tr>\n",
       "    <tr>\n",
       "      <th>1</th>\n",
       "      <td>351.48</td>\n",
       "      <td>33.96</td>\n",
       "      <td>51.84</td>\n",
       "      <td>25.68</td>\n",
       "      <td>-0.93</td>\n",
       "      <td>-0.24</td>\n",
       "      <td>-0.50</td>\n",
       "      <td>437.28</td>\n",
       "      <td>-0.94</td>\n",
       "    </tr>\n",
       "    <tr>\n",
       "      <th>2</th>\n",
       "      <td>135.48</td>\n",
       "      <td>20.88</td>\n",
       "      <td>46.32</td>\n",
       "      <td>14.28</td>\n",
       "      <td>-0.89</td>\n",
       "      <td>-0.32</td>\n",
       "      <td>-0.69</td>\n",
       "      <td>202.68</td>\n",
       "      <td>-0.93</td>\n",
       "    </tr>\n",
       "    <tr>\n",
       "      <th>3</th>\n",
       "      <td>116.64</td>\n",
       "      <td>1.80</td>\n",
       "      <td>36.00</td>\n",
       "      <td>11.52</td>\n",
       "      <td>-0.90</td>\n",
       "      <td>5.40</td>\n",
       "      <td>-0.68</td>\n",
       "      <td>154.44</td>\n",
       "      <td>-0.93</td>\n",
       "    </tr>\n",
       "    <tr>\n",
       "      <th>4</th>\n",
       "      <td>318.72</td>\n",
       "      <td>24.00</td>\n",
       "      <td>0.36</td>\n",
       "      <td>20.88</td>\n",
       "      <td>-0.93</td>\n",
       "      <td>-0.13</td>\n",
       "      <td>57.00</td>\n",
       "      <td>343.08</td>\n",
       "      <td>-0.94</td>\n",
       "    </tr>\n",
       "    <tr>\n",
       "      <th>...</th>\n",
       "      <td>...</td>\n",
       "      <td>...</td>\n",
       "      <td>...</td>\n",
       "      <td>...</td>\n",
       "      <td>...</td>\n",
       "      <td>...</td>\n",
       "      <td>...</td>\n",
       "      <td>...</td>\n",
       "      <td>...</td>\n",
       "    </tr>\n",
       "    <tr>\n",
       "      <th>166</th>\n",
       "      <td>45.84</td>\n",
       "      <td>4.44</td>\n",
       "      <td>16.56</td>\n",
       "      <td>9.12</td>\n",
       "      <td>-0.80</td>\n",
       "      <td>1.05</td>\n",
       "      <td>-0.45</td>\n",
       "      <td>66.84</td>\n",
       "      <td>-0.86</td>\n",
       "    </tr>\n",
       "    <tr>\n",
       "      <th>167</th>\n",
       "      <td>113.04</td>\n",
       "      <td>5.88</td>\n",
       "      <td>9.72</td>\n",
       "      <td>11.64</td>\n",
       "      <td>-0.90</td>\n",
       "      <td>0.98</td>\n",
       "      <td>0.20</td>\n",
       "      <td>128.64</td>\n",
       "      <td>-0.91</td>\n",
       "    </tr>\n",
       "    <tr>\n",
       "      <th>168</th>\n",
       "      <td>212.40</td>\n",
       "      <td>11.16</td>\n",
       "      <td>7.68</td>\n",
       "      <td>15.36</td>\n",
       "      <td>-0.93</td>\n",
       "      <td>0.38</td>\n",
       "      <td>1.00</td>\n",
       "      <td>231.24</td>\n",
       "      <td>-0.93</td>\n",
       "    </tr>\n",
       "    <tr>\n",
       "      <th>169</th>\n",
       "      <td>340.32</td>\n",
       "      <td>50.40</td>\n",
       "      <td>79.44</td>\n",
       "      <td>30.60</td>\n",
       "      <td>-0.91</td>\n",
       "      <td>-0.39</td>\n",
       "      <td>-0.61</td>\n",
       "      <td>470.16</td>\n",
       "      <td>-0.93</td>\n",
       "    </tr>\n",
       "    <tr>\n",
       "      <th>170</th>\n",
       "      <td>278.52</td>\n",
       "      <td>10.32</td>\n",
       "      <td>10.44</td>\n",
       "      <td>16.08</td>\n",
       "      <td>-0.94</td>\n",
       "      <td>0.56</td>\n",
       "      <td>0.54</td>\n",
       "      <td>299.28</td>\n",
       "      <td>-0.95</td>\n",
       "    </tr>\n",
       "  </tbody>\n",
       "</table>\n",
       "<p>171 rows × 9 columns</p>\n",
       "</div>"
      ],
      "text/plain": [
       "     youtube  facebook  newspaper  sales  ROI_youtube  ROI_facebook   \n",
       "0      84.72     19.20      48.96  12.60        -0.85         -0.34  \\\n",
       "1     351.48     33.96      51.84  25.68        -0.93         -0.24   \n",
       "2     135.48     20.88      46.32  14.28        -0.89         -0.32   \n",
       "3     116.64      1.80      36.00  11.52        -0.90          5.40   \n",
       "4     318.72     24.00       0.36  20.88        -0.93         -0.13   \n",
       "..       ...       ...        ...    ...          ...           ...   \n",
       "166    45.84      4.44      16.56   9.12        -0.80          1.05   \n",
       "167   113.04      5.88       9.72  11.64        -0.90          0.98   \n",
       "168   212.40     11.16       7.68  15.36        -0.93          0.38   \n",
       "169   340.32     50.40      79.44  30.60        -0.91         -0.39   \n",
       "170   278.52     10.32      10.44  16.08        -0.94          0.56   \n",
       "\n",
       "     ROI_newspaper  plataformas   ROI  \n",
       "0            -0.74       152.88 -0.92  \n",
       "1            -0.50       437.28 -0.94  \n",
       "2            -0.69       202.68 -0.93  \n",
       "3            -0.68       154.44 -0.93  \n",
       "4            57.00       343.08 -0.94  \n",
       "..             ...          ...   ...  \n",
       "166          -0.45        66.84 -0.86  \n",
       "167           0.20       128.64 -0.91  \n",
       "168           1.00       231.24 -0.93  \n",
       "169          -0.61       470.16 -0.93  \n",
       "170           0.54       299.28 -0.95  \n",
       "\n",
       "[171 rows x 9 columns]"
      ]
     },
     "execution_count": 14,
     "metadata": {},
     "output_type": "execute_result"
    }
   ],
   "source": [
    "df['ROI'] = (df['sales'] - df['plataformas']) / df['plataformas']\n",
    "df"
   ]
  },
  {
   "cell_type": "code",
   "execution_count": 15,
   "metadata": {},
   "outputs": [
    {
     "data": {
      "text/html": [
       "<div>\n",
       "<style scoped>\n",
       "    .dataframe tbody tr th:only-of-type {\n",
       "        vertical-align: middle;\n",
       "    }\n",
       "\n",
       "    .dataframe tbody tr th {\n",
       "        vertical-align: top;\n",
       "    }\n",
       "\n",
       "    .dataframe thead th {\n",
       "        text-align: right;\n",
       "    }\n",
       "</style>\n",
       "<table border=\"1\" class=\"dataframe\">\n",
       "  <thead>\n",
       "    <tr style=\"text-align: right;\">\n",
       "      <th></th>\n",
       "      <th>count</th>\n",
       "      <th>mean</th>\n",
       "      <th>std</th>\n",
       "      <th>min</th>\n",
       "      <th>25%</th>\n",
       "      <th>50%</th>\n",
       "      <th>75%</th>\n",
       "      <th>max</th>\n",
       "    </tr>\n",
       "  </thead>\n",
       "  <tbody>\n",
       "    <tr>\n",
       "      <th>youtube</th>\n",
       "      <td>171.00</td>\n",
       "      <td>178.02</td>\n",
       "      <td>102.45</td>\n",
       "      <td>0.84</td>\n",
       "      <td>91.08</td>\n",
       "      <td>179.76</td>\n",
       "      <td>262.98</td>\n",
       "      <td>355.68</td>\n",
       "    </tr>\n",
       "    <tr>\n",
       "      <th>facebook</th>\n",
       "      <td>171.00</td>\n",
       "      <td>27.67</td>\n",
       "      <td>17.91</td>\n",
       "      <td>0.00</td>\n",
       "      <td>11.70</td>\n",
       "      <td>26.76</td>\n",
       "      <td>43.68</td>\n",
       "      <td>59.52</td>\n",
       "    </tr>\n",
       "    <tr>\n",
       "      <th>newspaper</th>\n",
       "      <td>171.00</td>\n",
       "      <td>35.24</td>\n",
       "      <td>24.90</td>\n",
       "      <td>0.36</td>\n",
       "      <td>13.74</td>\n",
       "      <td>31.08</td>\n",
       "      <td>50.88</td>\n",
       "      <td>121.08</td>\n",
       "    </tr>\n",
       "    <tr>\n",
       "      <th>sales</th>\n",
       "      <td>171.00</td>\n",
       "      <td>16.92</td>\n",
       "      <td>6.31</td>\n",
       "      <td>1.92</td>\n",
       "      <td>12.54</td>\n",
       "      <td>15.48</td>\n",
       "      <td>20.82</td>\n",
       "      <td>32.40</td>\n",
       "    </tr>\n",
       "    <tr>\n",
       "      <th>ROI_youtube</th>\n",
       "      <td>171.00</td>\n",
       "      <td>-0.84</td>\n",
       "      <td>0.22</td>\n",
       "      <td>-0.96</td>\n",
       "      <td>-0.92</td>\n",
       "      <td>-0.90</td>\n",
       "      <td>-0.85</td>\n",
       "      <td>1.29</td>\n",
       "    </tr>\n",
       "    <tr>\n",
       "      <th>ROI_facebook</th>\n",
       "      <td>171.00</td>\n",
       "      <td>0.62</td>\n",
       "      <td>3.48</td>\n",
       "      <td>-0.96</td>\n",
       "      <td>-0.52</td>\n",
       "      <td>-0.32</td>\n",
       "      <td>0.32</td>\n",
       "      <td>28.00</td>\n",
       "    </tr>\n",
       "    <tr>\n",
       "      <th>ROI_newspaper</th>\n",
       "      <td>171.00</td>\n",
       "      <td>0.41</td>\n",
       "      <td>4.70</td>\n",
       "      <td>-0.90</td>\n",
       "      <td>-0.68</td>\n",
       "      <td>-0.51</td>\n",
       "      <td>0.10</td>\n",
       "      <td>57.00</td>\n",
       "    </tr>\n",
       "    <tr>\n",
       "      <th>plataformas</th>\n",
       "      <td>171.00</td>\n",
       "      <td>240.93</td>\n",
       "      <td>112.17</td>\n",
       "      <td>25.68</td>\n",
       "      <td>146.82</td>\n",
       "      <td>248.40</td>\n",
       "      <td>337.74</td>\n",
       "      <td>520.32</td>\n",
       "    </tr>\n",
       "    <tr>\n",
       "      <th>ROI</th>\n",
       "      <td>171.00</td>\n",
       "      <td>-0.92</td>\n",
       "      <td>0.02</td>\n",
       "      <td>-0.97</td>\n",
       "      <td>-0.94</td>\n",
       "      <td>-0.93</td>\n",
       "      <td>-0.91</td>\n",
       "      <td>-0.84</td>\n",
       "    </tr>\n",
       "  </tbody>\n",
       "</table>\n",
       "</div>"
      ],
      "text/plain": [
       "               count   mean    std   min    25%    50%    75%    max\n",
       "youtube       171.00 178.02 102.45  0.84  91.08 179.76 262.98 355.68\n",
       "facebook      171.00  27.67  17.91  0.00  11.70  26.76  43.68  59.52\n",
       "newspaper     171.00  35.24  24.90  0.36  13.74  31.08  50.88 121.08\n",
       "sales         171.00  16.92   6.31  1.92  12.54  15.48  20.82  32.40\n",
       "ROI_youtube   171.00  -0.84   0.22 -0.96  -0.92  -0.90  -0.85   1.29\n",
       "ROI_facebook  171.00   0.62   3.48 -0.96  -0.52  -0.32   0.32  28.00\n",
       "ROI_newspaper 171.00   0.41   4.70 -0.90  -0.68  -0.51   0.10  57.00\n",
       "plataformas   171.00 240.93 112.17 25.68 146.82 248.40 337.74 520.32\n",
       "ROI           171.00  -0.92   0.02 -0.97  -0.94  -0.93  -0.91  -0.84"
      ]
     },
     "execution_count": 15,
     "metadata": {},
     "output_type": "execute_result"
    }
   ],
   "source": [
    "df.describe().T"
   ]
  },
  {
   "attachments": {},
   "cell_type": "markdown",
   "metadata": {},
   "source": [
    "ROI médio Consolidado de **<font color='red'>-0.92</font>** sugere que, em média, para cada unidade de moeda investida, a perda foi de 92% do valor investido. Essa é uma situação financeira **<font color='red'>muito ruim</font>**, indicando que o investimento está perdendo dinheiro em vez de gerar lucro."
   ]
  },
  {
   "attachments": {},
   "cell_type": "markdown",
   "metadata": {},
   "source": [
    "### Outliers"
   ]
  },
  {
   "attachments": {},
   "cell_type": "markdown",
   "metadata": {},
   "source": [
    "#### Definição de Outliers"
   ]
  },
  {
   "attachments": {},
   "cell_type": "markdown",
   "metadata": {},
   "source": [
    "Outliers são valores em um conjunto de dados que são significativamente diferentes dos outros. Eles são valores extremos que se desviam da média e das medidas padrão do conjunto de dados.\n",
    "\n",
    "Para identificar outliers em um conjunto de dados, você pode usar vários métodos. Aqui estão algumas opções populares:\n",
    "\n",
    "1. **Gráficos Boxplot**\n",
    "   \n",
    "2. **Z-Score**\n",
    "   \n",
    "3. **Desvio absoluto mediano (MAD)**\n",
    "   \n",
    "4. <font color='orange'>**Regra do IQR (Interquartile Range)**</font>\n",
    "\n",
    "A análise de outliers é crucial para uma análise de dados precisa, pois outliers podem distorcer os resultados. Boxplots são uma ferramenta gráfica comum para identificar outliers, baseando-se no Intervalo Interquartil (IQR).\n",
    "\n",
    "Apesar da facilidade de identificar outliers visualmente em boxplots, elaborei uma função para calcular numericamente o IQR e os limites de outliers. Essa função nos permite entender melhor o processo de detecção de outliers.\n",
    "\n",
    "Apesar de útil, não é necessário calcular manualmente esses valores sempre. Ferramentas como boxplots fazem isso automaticamente, facilitando a identificação de outliers. Na sequência, utilizaremos boxplots para visualizar a presença de outliers em nossos dados.\n",
    "\n",
    "O IQR é a diferença entre o terceiro quartil (Q3) e o primeiro quartil (Q1) dos dados. Qualquer ponto de dados que esteja abaixo de <font color='orange'>**Q1-1.5IQR**</font> ou acima de <font color='orange'>**Q3+1.5IQR**</font> pode ser considerado um outlier."
   ]
  },
  {
   "attachments": {},
   "cell_type": "markdown",
   "metadata": {},
   "source": [
    "#### Cálculo dos Outliers"
   ]
  },
  {
   "cell_type": "code",
   "execution_count": 16,
   "metadata": {},
   "outputs": [
    {
     "data": {
      "text/html": [
       "<div>\n",
       "<style scoped>\n",
       "    .dataframe tbody tr th:only-of-type {\n",
       "        vertical-align: middle;\n",
       "    }\n",
       "\n",
       "    .dataframe tbody tr th {\n",
       "        vertical-align: top;\n",
       "    }\n",
       "\n",
       "    .dataframe thead th {\n",
       "        text-align: right;\n",
       "    }\n",
       "</style>\n",
       "<table border=\"1\" class=\"dataframe\">\n",
       "  <thead>\n",
       "    <tr style=\"text-align: right;\">\n",
       "      <th></th>\n",
       "      <th>Coluna</th>\n",
       "      <th>Q1</th>\n",
       "      <th>Q3</th>\n",
       "      <th>IQR</th>\n",
       "      <th>Lower Bound</th>\n",
       "      <th>Upper Bound</th>\n",
       "      <th>Min</th>\n",
       "      <th>Max</th>\n",
       "    </tr>\n",
       "  </thead>\n",
       "  <tbody>\n",
       "    <tr>\n",
       "      <th>0</th>\n",
       "      <td>youtube</td>\n",
       "      <td>91.08</td>\n",
       "      <td>262.98</td>\n",
       "      <td>171.90</td>\n",
       "      <td>-166.77</td>\n",
       "      <td>520.83</td>\n",
       "      <td>0.84</td>\n",
       "      <td>355.68</td>\n",
       "    </tr>\n",
       "    <tr>\n",
       "      <th>1</th>\n",
       "      <td>facebook</td>\n",
       "      <td>11.70</td>\n",
       "      <td>43.68</td>\n",
       "      <td>31.98</td>\n",
       "      <td>-36.27</td>\n",
       "      <td>91.65</td>\n",
       "      <td>0.00</td>\n",
       "      <td>59.52</td>\n",
       "    </tr>\n",
       "    <tr>\n",
       "      <th>2</th>\n",
       "      <td>newspaper</td>\n",
       "      <td>13.74</td>\n",
       "      <td>50.88</td>\n",
       "      <td>37.14</td>\n",
       "      <td>-41.97</td>\n",
       "      <td>106.59</td>\n",
       "      <td>0.36</td>\n",
       "      <td>121.08</td>\n",
       "    </tr>\n",
       "    <tr>\n",
       "      <th>3</th>\n",
       "      <td>sales</td>\n",
       "      <td>12.54</td>\n",
       "      <td>20.82</td>\n",
       "      <td>8.28</td>\n",
       "      <td>0.12</td>\n",
       "      <td>33.24</td>\n",
       "      <td>1.92</td>\n",
       "      <td>32.40</td>\n",
       "    </tr>\n",
       "  </tbody>\n",
       "</table>\n",
       "</div>"
      ],
      "text/plain": [
       "      Coluna    Q1     Q3    IQR  Lower Bound  Upper Bound  Min    Max\n",
       "0    youtube 91.08 262.98 171.90      -166.77       520.83 0.84 355.68\n",
       "1   facebook 11.70  43.68  31.98       -36.27        91.65 0.00  59.52\n",
       "2  newspaper 13.74  50.88  37.14       -41.97       106.59 0.36 121.08\n",
       "3      sales 12.54  20.82   8.28         0.12        33.24 1.92  32.40"
      ]
     },
     "execution_count": 16,
     "metadata": {},
     "output_type": "execute_result"
    }
   ],
   "source": [
    "def calculate_iqr(df):\n",
    "    # Define um DataFrame vazio para armazenar os resultados\n",
    "    iqr_df = pd.DataFrame(columns=['Coluna', 'Q1', 'Q3', 'IQR', 'Lower Bound', 'Upper Bound', 'Min', 'Max'])\n",
    "    \n",
    "    for col in df.columns:\n",
    "        if np.issubdtype(df[col].dtype, np.number):  # Se a coluna for numérica\n",
    "            Q1 = df[col].quantile(0.25)\n",
    "            Q3 = df[col].quantile(0.75)\n",
    "            IQR = Q3 - Q1\n",
    "            lower_bound = Q1 - 1.5 * IQR\n",
    "            upper_bound = Q3 + 1.5 * IQR\n",
    "            min_val = df[col].min() # valor mínimo\n",
    "            max_val = df[col].max() # valor máximo\n",
    "            # Cria um dicionário temporário com os dados\n",
    "            temp_dict = {'Coluna': col, 'Q1': Q1, 'Q3': Q3, 'IQR': IQR, \n",
    "                         'Lower Bound': lower_bound, 'Upper Bound': upper_bound, \n",
    "                         'Min': min_val, 'Max': max_val}\n",
    "            # Cria um DataFrame temporário a partir do dicionário\n",
    "            temp_df = pd.DataFrame([temp_dict])\n",
    "            # Concatena este DataFrame temporário com o DataFrame principal\n",
    "            iqr_df = pd.concat([iqr_df, temp_df], ignore_index=True)\n",
    "    return iqr_df\n",
    "\n",
    "# Usando a função no DataFrame df\n",
    "iqr_df = calculate_iqr(df[['youtube', 'facebook', 'newspaper', 'sales']])\n",
    "iqr_df\n"
   ]
  },
  {
   "attachments": {},
   "cell_type": "markdown",
   "metadata": {},
   "source": [
    "Os outliers são valores que desviam notavelmente do restante dos dados. No contexto do IQR, outliers são aqueles valores que estão **abaixo** do \"Lower Bound\" ou **acima** do \"Upper Bound\". Assim, na tabela IQR que geramos, qualquer valor da coluna \"Min\" menor que o respectivo \"Lower Bound\" e qualquer valor da coluna \"Max\" maior que o respectivo \"Upper Bound\" são considerados outliers."
   ]
  },
  {
   "cell_type": "code",
   "execution_count": 17,
   "metadata": {},
   "outputs": [
    {
     "data": {
      "application/vnd.plotly.v1+json": {
       "config": {
        "plotlyServerURL": "https://plot.ly"
       },
       "data": [
        {
         "boxmean": true,
         "name": "youtube",
         "showlegend": false,
         "type": "box",
         "xaxis": "x",
         "y": [
          84.72,
          351.48,
          135.48,
          116.64,
          318.72,
          114.84,
          348.84,
          320.28,
          89.64,
          51.72,
          273.6,
          243,
          212.4,
          352.32,
          248.28,
          30.12,
          210.12,
          107.64,
          287.88,
          272.64,
          80.28,
          239.76,
          120.48,
          259.68,
          219.12,
          315.24,
          238.68,
          8.76,
          163.44,
          252.96,
          252.84,
          64.2,
          313.56,
          287.16,
          123.24,
          157.32,
          82.8,
          37.8,
          167.16,
          284.88,
          260.16,
          238.92,
          131.76,
          32.16,
          155.28,
          256.08,
          20.28,
          33,
          144.6,
          6.48,
          139.2,
          91.68,
          287.76,
          90.36,
          82.08,
          256.2,
          231.84,
          91.56,
          132.84,
          105.96,
          131.76,
          161.16,
          34.32,
          261.24,
          301.08,
          128.88,
          195.96,
          237.12,
          221.88,
          347.64,
          162.24,
          266.88,
          355.68,
          336.24,
          225.48,
          285.84,
          165.48,
          30,
          108.48,
          15.72,
          306.48,
          270.96,
          290.04,
          210.84,
          251.52,
          93.84,
          90.12,
          167.04,
          91.68,
          150.84,
          23.28,
          169.56,
          22.56,
          268.8,
          147.72,
          275.4,
          104.64,
          9.36,
          96.24,
          264.36,
          71.52,
          0.84,
          318.24,
          10.08,
          263.76,
          44.28,
          57.96,
          30.72,
          328.44,
          51.6,
          221.88,
          88.08,
          232.44,
          264.6,
          125.52,
          115.44,
          168.36,
          288.12,
          291.84,
          45.6,
          53.64,
          336.84,
          145.2,
          237.12,
          205.56,
          225.36,
          4.92,
          112.68,
          179.76,
          14.04,
          158.04,
          207,
          102.84,
          226.08,
          196.2,
          140.64,
          281.4,
          21.48,
          248.16,
          258.48,
          341.16,
          60,
          197.4,
          23.52,
          202.08,
          266.88,
          332.28,
          298.08,
          204.24,
          332.04,
          198.72,
          187.92,
          262.2,
          67.44,
          345.12,
          304.56,
          246,
          167.4,
          229.32,
          343.2,
          22.44,
          47.4,
          90.6,
          20.64,
          200.16,
          179.64,
          45.84,
          113.04,
          212.4,
          340.32,
          278.52
         ],
         "yaxis": "y"
        },
        {
         "boxmean": true,
         "name": "facebook",
         "showlegend": false,
         "type": "box",
         "xaxis": "x2",
         "y": [
          19.2,
          33.96,
          20.88,
          1.8,
          24,
          1.68,
          4.92,
          52.56,
          59.28,
          32.04,
          45.24,
          26.76,
          40.08,
          33.24,
          10.08,
          30.84,
          27,
          11.88,
          49.8,
          18.96,
          14.04,
          3.72,
          11.52,
          50.04,
          55.44,
          34.56,
          59.28,
          33.72,
          23.04,
          59.52,
          35.4,
          2.4,
          51.24,
          18.6,
          35.52,
          51.36,
          11.16,
          29.52,
          17.4,
          33,
          52.68,
          36.72,
          17.16,
          39.6,
          6.84,
          29.52,
          52.44,
          1.92,
          34.2,
          35.88,
          9.24,
          32.04,
          4.92,
          24.36,
          53.4,
          51.6,
          22.08,
          33,
          48.72,
          30.6,
          57.36,
          5.88,
          1.8,
          40.2,
          43.8,
          16.8,
          37.92,
          4.2,
          25.2,
          50.76,
          50.04,
          5.16,
          43.56,
          12.12,
          20.64,
          41.16,
          55.68,
          13.2,
          0.36,
          0.48,
          32.28,
          9.84,
          45.6,
          18.48,
          24.72,
          56.16,
          42,
          17.16,
          0.96,
          44.28,
          19.2,
          32.16,
          26.04,
          2.88,
          41.52,
          38.76,
          14.16,
          46.68,
          0,
          58.8,
          14.4,
          47.52,
          3.48,
          32.64,
          40.2,
          46.32,
          56.4,
          46.8,
          34.68,
          31.08,
          52.68,
          20.4,
          42.48,
          39.84,
          6.84,
          17.76,
          2.28,
          8.76,
          58.8,
          48.36,
          30.96,
          16.68,
          10.08,
          27.96,
          47.64,
          25.32,
          13.92,
          52.2,
          1.56,
          44.28,
          22.08,
          21.72,
          42.96,
          21.72,
          44.16,
          17.64,
          4.08,
          45.12,
          6.24,
          28.32,
          12.72,
          13.92,
          25.08,
          24.12,
          8.52,
          4.08,
          58.68,
          36.24,
          9.36,
          2.76,
          12,
          3.12,
          6.48,
          6.84,
          51.6,
          25.56,
          54.12,
          2.52,
          34.44,
          16.68,
          14.52,
          49.32,
          12.96,
          4.92,
          50.4,
          42.72,
          4.44,
          5.88,
          11.16,
          50.4,
          10.32
         ],
         "yaxis": "y2"
        },
        {
         "boxmean": true,
         "name": "newspaper",
         "showlegend": false,
         "type": "box",
         "xaxis": "x3",
         "y": [
          48.96,
          51.84,
          46.32,
          36,
          0.36,
          8.88,
          10.2,
          6,
          54.84,
          42.12,
          38.4,
          37.92,
          46.44,
          2.16,
          31.68,
          51.96,
          37.8,
          42.84,
          22.2,
          59.88,
          44.16,
          41.52,
          4.32,
          47.52,
          70.44,
          19.08,
          72,
          49.68,
          19.92,
          45.24,
          11.16,
          25.68,
          65.64,
          32.76,
          10.08,
          34.68,
          1.08,
          2.64,
          12.24,
          13.2,
          32.64,
          46.44,
          38.04,
          23.16,
          37.56,
          15.72,
          107.28,
          24.84,
          17.04,
          11.28,
          27.72,
          26.76,
          44.28,
          39,
          42.72,
          40.56,
          78.84,
          19.2,
          75.84,
          88.08,
          61.68,
          11.16,
          39.6,
          70.8,
          86.76,
          13.08,
          63.48,
          7.08,
          26.4,
          61.44,
          55.08,
          59.76,
          121.08,
          25.68,
          21.48,
          6.36,
          70.8,
          35.64,
          27.84,
          30.72,
          6.6,
          67.8,
          27.84,
          2.88,
          12.84,
          41.4,
          63.24,
          30.72,
          17.76,
          95.04,
          26.76,
          55.44,
          60.48,
          18.72,
          14.88,
          89.04,
          31.08,
          60.72,
          11.04,
          3.84,
          51.72,
          10.44,
          51.6,
          2.52,
          54.12,
          78.72,
          10.2,
          11.16,
          71.64,
          24.6,
          2.04,
          15.48,
          90.72,
          45.48,
          41.28,
          46.68,
          10.8,
          10.44,
          53.16,
          14.28,
          24.72,
          44.4,
          58.44,
          17.04,
          45.24,
          11.4,
          6.84,
          60.6,
          29.16,
          54.24,
          41.52,
          36.84,
          59.16,
          30.72,
          8.88,
          6.48,
          101.76,
          25.92,
          23.28,
          69.12,
          7.68,
          22.08,
          56.88,
          20.4,
          15.36,
          15.72,
          50.16,
          24.36,
          42.24,
          28.44,
          21.12,
          9.96,
          32.88,
          35.64,
          86.16,
          36,
          23.52,
          31.92,
          21.84,
          4.44,
          28.08,
          6.96,
          7.2,
          37.92,
          4.32,
          7.2,
          16.56,
          9.72,
          7.68,
          79.44,
          10.44
         ],
         "yaxis": "y3"
        },
        {
         "boxmean": true,
         "name": "sales",
         "showlegend": false,
         "type": "box",
         "xaxis": "x4",
         "y": [
          12.6,
          25.68,
          14.28,
          11.52,
          20.88,
          11.4,
          15.36,
          30.48,
          17.64,
          12.12,
          25.8,
          19.92,
          20.52,
          24.84,
          15.48,
          10.2,
          17.88,
          12.72,
          27.84,
          17.76,
          11.64,
          13.68,
          12.84,
          27.12,
          25.44,
          24.24,
          28.44,
          6.6,
          15.84,
          28.56,
          22.08,
          9.72,
          29.04,
          18.84,
          16.8,
          21.6,
          11.16,
          11.4,
          16.08,
          22.68,
          26.76,
          21.96,
          14.88,
          10.56,
          13.2,
          20.4,
          10.44,
          8.28,
          17.04,
          6.36,
          13.2,
          14.16,
          14.76,
          13.56,
          16.32,
          26.04,
          18.24,
          14.4,
          19.2,
          15.48,
          20.04,
          13.44,
          8.76,
          23.28,
          26.64,
          13.8,
          20.28,
          14.04,
          18.6,
          30.48,
          20.64,
          14.04,
          28.56,
          17.76,
          17.64,
          24.84,
          23.04,
          8.64,
          10.44,
          6.36,
          23.76,
          16.08,
          26.16,
          16.92,
          19.08,
          17.52,
          15.12,
          14.64,
          11.28,
          19.08,
          7.92,
          18.6,
          8.4,
          13.92,
          18.24,
          23.64,
          12.72,
          7.92,
          10.56,
          29.64,
          11.64,
          1.92,
          15.24,
          6.84,
          23.52,
          12.96,
          13.92,
          11.4,
          24.96,
          11.52,
          24.84,
          13.08,
          23.04,
          24.12,
          12.48,
          13.68,
          12.36,
          15.84,
          30.48,
          13.08,
          12.12,
          19.32,
          13.92,
          19.92,
          22.8,
          18.72,
          3.84,
          18.36,
          12.12,
          8.76,
          15.48,
          17.28,
          15.96,
          17.88,
          21.6,
          14.28,
          14.28,
          9.6,
          14.64,
          20.52,
          18,
          10.08,
          17.4,
          9.12,
          14.04,
          13.8,
          32.4,
          24.24,
          14.04,
          14.16,
          15.12,
          12.6,
          14.64,
          10.44,
          31.44,
          21.12,
          27.12,
          12.36,
          20.76,
          19.08,
          8.04,
          12.96,
          11.88,
          7.08,
          23.52,
          20.76,
          9.12,
          11.64,
          15.36,
          30.6,
          16.08
         ],
         "yaxis": "y4"
        }
       ],
       "layout": {
        "height": 800,
        "template": {
         "data": {
          "bar": [
           {
            "error_x": {
             "color": "#2a3f5f"
            },
            "error_y": {
             "color": "#2a3f5f"
            },
            "marker": {
             "line": {
              "color": "#E5ECF6",
              "width": 0.5
             },
             "pattern": {
              "fillmode": "overlay",
              "size": 10,
              "solidity": 0.2
             }
            },
            "type": "bar"
           }
          ],
          "barpolar": [
           {
            "marker": {
             "line": {
              "color": "#E5ECF6",
              "width": 0.5
             },
             "pattern": {
              "fillmode": "overlay",
              "size": 10,
              "solidity": 0.2
             }
            },
            "type": "barpolar"
           }
          ],
          "carpet": [
           {
            "aaxis": {
             "endlinecolor": "#2a3f5f",
             "gridcolor": "white",
             "linecolor": "white",
             "minorgridcolor": "white",
             "startlinecolor": "#2a3f5f"
            },
            "baxis": {
             "endlinecolor": "#2a3f5f",
             "gridcolor": "white",
             "linecolor": "white",
             "minorgridcolor": "white",
             "startlinecolor": "#2a3f5f"
            },
            "type": "carpet"
           }
          ],
          "choropleth": [
           {
            "colorbar": {
             "outlinewidth": 0,
             "ticks": ""
            },
            "type": "choropleth"
           }
          ],
          "contour": [
           {
            "colorbar": {
             "outlinewidth": 0,
             "ticks": ""
            },
            "colorscale": [
             [
              0,
              "#0d0887"
             ],
             [
              0.1111111111111111,
              "#46039f"
             ],
             [
              0.2222222222222222,
              "#7201a8"
             ],
             [
              0.3333333333333333,
              "#9c179e"
             ],
             [
              0.4444444444444444,
              "#bd3786"
             ],
             [
              0.5555555555555556,
              "#d8576b"
             ],
             [
              0.6666666666666666,
              "#ed7953"
             ],
             [
              0.7777777777777778,
              "#fb9f3a"
             ],
             [
              0.8888888888888888,
              "#fdca26"
             ],
             [
              1,
              "#f0f921"
             ]
            ],
            "type": "contour"
           }
          ],
          "contourcarpet": [
           {
            "colorbar": {
             "outlinewidth": 0,
             "ticks": ""
            },
            "type": "contourcarpet"
           }
          ],
          "heatmap": [
           {
            "colorbar": {
             "outlinewidth": 0,
             "ticks": ""
            },
            "colorscale": [
             [
              0,
              "#0d0887"
             ],
             [
              0.1111111111111111,
              "#46039f"
             ],
             [
              0.2222222222222222,
              "#7201a8"
             ],
             [
              0.3333333333333333,
              "#9c179e"
             ],
             [
              0.4444444444444444,
              "#bd3786"
             ],
             [
              0.5555555555555556,
              "#d8576b"
             ],
             [
              0.6666666666666666,
              "#ed7953"
             ],
             [
              0.7777777777777778,
              "#fb9f3a"
             ],
             [
              0.8888888888888888,
              "#fdca26"
             ],
             [
              1,
              "#f0f921"
             ]
            ],
            "type": "heatmap"
           }
          ],
          "heatmapgl": [
           {
            "colorbar": {
             "outlinewidth": 0,
             "ticks": ""
            },
            "colorscale": [
             [
              0,
              "#0d0887"
             ],
             [
              0.1111111111111111,
              "#46039f"
             ],
             [
              0.2222222222222222,
              "#7201a8"
             ],
             [
              0.3333333333333333,
              "#9c179e"
             ],
             [
              0.4444444444444444,
              "#bd3786"
             ],
             [
              0.5555555555555556,
              "#d8576b"
             ],
             [
              0.6666666666666666,
              "#ed7953"
             ],
             [
              0.7777777777777778,
              "#fb9f3a"
             ],
             [
              0.8888888888888888,
              "#fdca26"
             ],
             [
              1,
              "#f0f921"
             ]
            ],
            "type": "heatmapgl"
           }
          ],
          "histogram": [
           {
            "marker": {
             "pattern": {
              "fillmode": "overlay",
              "size": 10,
              "solidity": 0.2
             }
            },
            "type": "histogram"
           }
          ],
          "histogram2d": [
           {
            "colorbar": {
             "outlinewidth": 0,
             "ticks": ""
            },
            "colorscale": [
             [
              0,
              "#0d0887"
             ],
             [
              0.1111111111111111,
              "#46039f"
             ],
             [
              0.2222222222222222,
              "#7201a8"
             ],
             [
              0.3333333333333333,
              "#9c179e"
             ],
             [
              0.4444444444444444,
              "#bd3786"
             ],
             [
              0.5555555555555556,
              "#d8576b"
             ],
             [
              0.6666666666666666,
              "#ed7953"
             ],
             [
              0.7777777777777778,
              "#fb9f3a"
             ],
             [
              0.8888888888888888,
              "#fdca26"
             ],
             [
              1,
              "#f0f921"
             ]
            ],
            "type": "histogram2d"
           }
          ],
          "histogram2dcontour": [
           {
            "colorbar": {
             "outlinewidth": 0,
             "ticks": ""
            },
            "colorscale": [
             [
              0,
              "#0d0887"
             ],
             [
              0.1111111111111111,
              "#46039f"
             ],
             [
              0.2222222222222222,
              "#7201a8"
             ],
             [
              0.3333333333333333,
              "#9c179e"
             ],
             [
              0.4444444444444444,
              "#bd3786"
             ],
             [
              0.5555555555555556,
              "#d8576b"
             ],
             [
              0.6666666666666666,
              "#ed7953"
             ],
             [
              0.7777777777777778,
              "#fb9f3a"
             ],
             [
              0.8888888888888888,
              "#fdca26"
             ],
             [
              1,
              "#f0f921"
             ]
            ],
            "type": "histogram2dcontour"
           }
          ],
          "mesh3d": [
           {
            "colorbar": {
             "outlinewidth": 0,
             "ticks": ""
            },
            "type": "mesh3d"
           }
          ],
          "parcoords": [
           {
            "line": {
             "colorbar": {
              "outlinewidth": 0,
              "ticks": ""
             }
            },
            "type": "parcoords"
           }
          ],
          "pie": [
           {
            "automargin": true,
            "type": "pie"
           }
          ],
          "scatter": [
           {
            "fillpattern": {
             "fillmode": "overlay",
             "size": 10,
             "solidity": 0.2
            },
            "type": "scatter"
           }
          ],
          "scatter3d": [
           {
            "line": {
             "colorbar": {
              "outlinewidth": 0,
              "ticks": ""
             }
            },
            "marker": {
             "colorbar": {
              "outlinewidth": 0,
              "ticks": ""
             }
            },
            "type": "scatter3d"
           }
          ],
          "scattercarpet": [
           {
            "marker": {
             "colorbar": {
              "outlinewidth": 0,
              "ticks": ""
             }
            },
            "type": "scattercarpet"
           }
          ],
          "scattergeo": [
           {
            "marker": {
             "colorbar": {
              "outlinewidth": 0,
              "ticks": ""
             }
            },
            "type": "scattergeo"
           }
          ],
          "scattergl": [
           {
            "marker": {
             "colorbar": {
              "outlinewidth": 0,
              "ticks": ""
             }
            },
            "type": "scattergl"
           }
          ],
          "scattermapbox": [
           {
            "marker": {
             "colorbar": {
              "outlinewidth": 0,
              "ticks": ""
             }
            },
            "type": "scattermapbox"
           }
          ],
          "scatterpolar": [
           {
            "marker": {
             "colorbar": {
              "outlinewidth": 0,
              "ticks": ""
             }
            },
            "type": "scatterpolar"
           }
          ],
          "scatterpolargl": [
           {
            "marker": {
             "colorbar": {
              "outlinewidth": 0,
              "ticks": ""
             }
            },
            "type": "scatterpolargl"
           }
          ],
          "scatterternary": [
           {
            "marker": {
             "colorbar": {
              "outlinewidth": 0,
              "ticks": ""
             }
            },
            "type": "scatterternary"
           }
          ],
          "surface": [
           {
            "colorbar": {
             "outlinewidth": 0,
             "ticks": ""
            },
            "colorscale": [
             [
              0,
              "#0d0887"
             ],
             [
              0.1111111111111111,
              "#46039f"
             ],
             [
              0.2222222222222222,
              "#7201a8"
             ],
             [
              0.3333333333333333,
              "#9c179e"
             ],
             [
              0.4444444444444444,
              "#bd3786"
             ],
             [
              0.5555555555555556,
              "#d8576b"
             ],
             [
              0.6666666666666666,
              "#ed7953"
             ],
             [
              0.7777777777777778,
              "#fb9f3a"
             ],
             [
              0.8888888888888888,
              "#fdca26"
             ],
             [
              1,
              "#f0f921"
             ]
            ],
            "type": "surface"
           }
          ],
          "table": [
           {
            "cells": {
             "fill": {
              "color": "#EBF0F8"
             },
             "line": {
              "color": "white"
             }
            },
            "header": {
             "fill": {
              "color": "#C8D4E3"
             },
             "line": {
              "color": "white"
             }
            },
            "type": "table"
           }
          ]
         },
         "layout": {
          "annotationdefaults": {
           "arrowcolor": "#2a3f5f",
           "arrowhead": 0,
           "arrowwidth": 1
          },
          "autotypenumbers": "strict",
          "coloraxis": {
           "colorbar": {
            "outlinewidth": 0,
            "ticks": ""
           }
          },
          "colorscale": {
           "diverging": [
            [
             0,
             "#8e0152"
            ],
            [
             0.1,
             "#c51b7d"
            ],
            [
             0.2,
             "#de77ae"
            ],
            [
             0.3,
             "#f1b6da"
            ],
            [
             0.4,
             "#fde0ef"
            ],
            [
             0.5,
             "#f7f7f7"
            ],
            [
             0.6,
             "#e6f5d0"
            ],
            [
             0.7,
             "#b8e186"
            ],
            [
             0.8,
             "#7fbc41"
            ],
            [
             0.9,
             "#4d9221"
            ],
            [
             1,
             "#276419"
            ]
           ],
           "sequential": [
            [
             0,
             "#0d0887"
            ],
            [
             0.1111111111111111,
             "#46039f"
            ],
            [
             0.2222222222222222,
             "#7201a8"
            ],
            [
             0.3333333333333333,
             "#9c179e"
            ],
            [
             0.4444444444444444,
             "#bd3786"
            ],
            [
             0.5555555555555556,
             "#d8576b"
            ],
            [
             0.6666666666666666,
             "#ed7953"
            ],
            [
             0.7777777777777778,
             "#fb9f3a"
            ],
            [
             0.8888888888888888,
             "#fdca26"
            ],
            [
             1,
             "#f0f921"
            ]
           ],
           "sequentialminus": [
            [
             0,
             "#0d0887"
            ],
            [
             0.1111111111111111,
             "#46039f"
            ],
            [
             0.2222222222222222,
             "#7201a8"
            ],
            [
             0.3333333333333333,
             "#9c179e"
            ],
            [
             0.4444444444444444,
             "#bd3786"
            ],
            [
             0.5555555555555556,
             "#d8576b"
            ],
            [
             0.6666666666666666,
             "#ed7953"
            ],
            [
             0.7777777777777778,
             "#fb9f3a"
            ],
            [
             0.8888888888888888,
             "#fdca26"
            ],
            [
             1,
             "#f0f921"
            ]
           ]
          },
          "colorway": [
           "#636efa",
           "#EF553B",
           "#00cc96",
           "#ab63fa",
           "#FFA15A",
           "#19d3f3",
           "#FF6692",
           "#B6E880",
           "#FF97FF",
           "#FECB52"
          ],
          "font": {
           "color": "#2a3f5f"
          },
          "geo": {
           "bgcolor": "white",
           "lakecolor": "white",
           "landcolor": "#E5ECF6",
           "showlakes": true,
           "showland": true,
           "subunitcolor": "white"
          },
          "hoverlabel": {
           "align": "left"
          },
          "hovermode": "closest",
          "mapbox": {
           "style": "light"
          },
          "paper_bgcolor": "white",
          "plot_bgcolor": "#E5ECF6",
          "polar": {
           "angularaxis": {
            "gridcolor": "white",
            "linecolor": "white",
            "ticks": ""
           },
           "bgcolor": "#E5ECF6",
           "radialaxis": {
            "gridcolor": "white",
            "linecolor": "white",
            "ticks": ""
           }
          },
          "scene": {
           "xaxis": {
            "backgroundcolor": "#E5ECF6",
            "gridcolor": "white",
            "gridwidth": 2,
            "linecolor": "white",
            "showbackground": true,
            "ticks": "",
            "zerolinecolor": "white"
           },
           "yaxis": {
            "backgroundcolor": "#E5ECF6",
            "gridcolor": "white",
            "gridwidth": 2,
            "linecolor": "white",
            "showbackground": true,
            "ticks": "",
            "zerolinecolor": "white"
           },
           "zaxis": {
            "backgroundcolor": "#E5ECF6",
            "gridcolor": "white",
            "gridwidth": 2,
            "linecolor": "white",
            "showbackground": true,
            "ticks": "",
            "zerolinecolor": "white"
           }
          },
          "shapedefaults": {
           "line": {
            "color": "#2a3f5f"
           }
          },
          "ternary": {
           "aaxis": {
            "gridcolor": "white",
            "linecolor": "white",
            "ticks": ""
           },
           "baxis": {
            "gridcolor": "white",
            "linecolor": "white",
            "ticks": ""
           },
           "bgcolor": "#E5ECF6",
           "caxis": {
            "gridcolor": "white",
            "linecolor": "white",
            "ticks": ""
           }
          },
          "title": {
           "x": 0.05
          },
          "xaxis": {
           "automargin": true,
           "gridcolor": "white",
           "linecolor": "white",
           "ticks": "",
           "title": {
            "standoff": 15
           },
           "zerolinecolor": "white",
           "zerolinewidth": 2
          },
          "yaxis": {
           "automargin": true,
           "gridcolor": "white",
           "linecolor": "white",
           "ticks": "",
           "title": {
            "standoff": 15
           },
           "zerolinecolor": "white",
           "zerolinewidth": 2
          }
         }
        },
        "title": {
         "text": "Boxplot de cada coluna numérica"
        },
        "xaxis": {
         "anchor": "y",
         "domain": [
          0,
          0.45
         ]
        },
        "xaxis2": {
         "anchor": "y2",
         "domain": [
          0.55,
          1
         ]
        },
        "xaxis3": {
         "anchor": "y3",
         "domain": [
          0,
          0.45
         ]
        },
        "xaxis4": {
         "anchor": "y4",
         "domain": [
          0.55,
          1
         ]
        },
        "yaxis": {
         "anchor": "x",
         "domain": [
          0.575,
          1
         ]
        },
        "yaxis2": {
         "anchor": "x2",
         "domain": [
          0.575,
          1
         ]
        },
        "yaxis3": {
         "anchor": "x3",
         "domain": [
          0,
          0.425
         ]
        },
        "yaxis4": {
         "anchor": "x4",
         "domain": [
          0,
          0.425
         ]
        }
       }
      }
     },
     "metadata": {},
     "output_type": "display_data"
    }
   ],
   "source": [
    "def plot_boxplots(df):\n",
    "    # Calcula o número de linhas para os subplots\n",
    "    num_rows = math.ceil(len(df.columns) / 2)\n",
    "\n",
    "    # Cria a figura com subplots\n",
    "    fig = make_subplots(rows=num_rows, cols=2)\n",
    "\n",
    "    # Adiciona os boxplots à figura para cada coluna numérica\n",
    "    for i, col in enumerate(df.columns, start=1):\n",
    "        fig.add_trace(\n",
    "            go.Box(\n",
    "                y=df[col], \n",
    "                name=col, \n",
    "                boxmean=True, \n",
    "                showlegend=False\n",
    "            ), \n",
    "            row=(i-1)//2 + 1, \n",
    "            col=((i-1)%2) + 1\n",
    "        )\n",
    "\n",
    "    # Atualiza o layout da figura\n",
    "    fig.update_layout(height=400*num_rows, title_text=\"Boxplot de cada coluna numérica\")\n",
    "\n",
    "    # Mostra a figura\n",
    "    fig.show()\n",
    "\n",
    "# Usando a função com nosso DataFrame df\n",
    "plot_boxplots(df[['youtube', 'facebook', 'newspaper', 'sales']])\n"
   ]
  },
  {
   "attachments": {},
   "cell_type": "markdown",
   "metadata": {},
   "source": [
    "Ao analisar os boxplots das nossas variáveis 'youtube', 'facebook', 'newspaper' e 'sales', notamos que apenas a variável 'newspaper' apresenta outliers. No entanto, essa quantidade de outliers parece ser pequena e, portanto, é improvável que cause um impacto significativo em nossa análise posterior ou distorça nossos resultados."
   ]
  },
  {
   "attachments": {},
   "cell_type": "markdown",
   "metadata": {},
   "source": [
    "### Conclusão Etapa 2 - Análise Exploratória"
   ]
  },
  {
   "attachments": {},
   "cell_type": "markdown",
   "metadata": {},
   "source": [
    "1. **Correlação:** A análise de correlação indicou que o investimento em YouTube e Facebook tem uma forte relação positiva com as vendas, com o YouTube mostrando a relação mais forte. Isso sugere que aumentar o investimento nessas plataformas poderia resultar em um aumento nas vendas. Por outro lado, o investimento em Newspaper mostrou uma relação mais fraca com as vendas, indicando que essa plataforma pode não ser tão eficaz para impulsionar as vendas.\n",
    "\n",
    "2. **Sales vc Investimento:** Ao analisar a relação de investimento vs vendas através dos gráficos de dispersão, notamos que o investimento no YouTube requer mais recursos para alcançar o mesmo nível de vendas comparado ao Facebook e Newspaper. Isso indica que o Facebook e Newspaper podem oferecer um retorno maior por unidade de investimento.\n",
    "\n",
    "3. **Eficiência - ROI Individual:** O cálculo do ROI por plataforma revelou uma situação preocupante para o YouTube, com um ROI médio de -0.84. Isso sugere que o investimento no YouTube está atualmente gerando uma perda em vez de lucro. Em contrapartida, o Facebook e o Newspaper mostraram um ROI positivo, indicando que esses investimentos estão gerando lucro.\n",
    "\n",
    "4. **Eficiência - ROI Consolidado:** Entretanto, ao considerar o ROI consolidado de todos os investimentos, vemos que a situação geral é de perda, com um ROI de -0.92. Isso indica que o investimento total em marketing está gerando uma perda, o que pode requerer uma reavaliação da estratégia de marketing.\n",
    "\n",
    "5. **Outliers:** Por último, a análise de outliers revelou a existência de alguns outliers apenas na variável Newspaper. Embora a presença de outliers possa impactar algumas análises estatísticas, a quantidade observada é pequena e, portamente, é pouco provável que altere significativamente nossas conclusões."
   ]
  },
  {
   "attachments": {},
   "cell_type": "markdown",
   "metadata": {},
   "source": [
    "## Etapa 03) Modelagem\n",
    "Para esta etapa, deve-se **construir um modelo** simples de **regressão** que permita a previsão solicitada pela empresa, com base nos dados disponíveis. Para isto, importe as bibliotecas necessárias e carregue os conjuntos de dados para iniciar a sua construção!"
   ]
  },
  {
   "attachments": {},
   "cell_type": "markdown",
   "metadata": {},
   "source": [
    "### Separando em conjuntos de Treino e Teste"
   ]
  },
  {
   "cell_type": "code",
   "execution_count": 21,
   "metadata": {},
   "outputs": [
    {
     "name": "stdout",
     "output_type": "stream",
     "text": [
      "Treino: (136, 3) (136,)\n",
      "Teste: (35, 3) (35,)\n"
     ]
    }
   ],
   "source": [
    "# Dividindo o conjunto de dados\n",
    "X = df[['youtube', 'facebook', 'newspaper']]\n",
    "y = df['sales']\n",
    "\n",
    "# Dividindo os dados em conjuntos de treino e teste\n",
    "X_train, X_test, y_train, y_test = train_test_split(X, y, test_size=0.20, random_state=42)\n",
    "\n",
    "# Verificando os tamanhos dos conjuntos de treino e teste\n",
    "print(\"Treino:\", X_train.shape, y_train.shape)\n",
    "print(\"Teste:\", X_test.shape, y_test.shape)"
   ]
  },
  {
   "attachments": {},
   "cell_type": "markdown",
   "metadata": {},
   "source": [
    "#### Treinando o modelo de Regressão Linear"
   ]
  },
  {
   "cell_type": "code",
   "execution_count": 22,
   "metadata": {},
   "outputs": [],
   "source": [
    "# Criando e treinando o modelo de regressão linear\n",
    "model = LinearRegression()\n",
    "model.fit(X_train, y_train)\n",
    "\n",
    "# Previsão do conjunto de teste\n",
    "y_pred = model.predict(X_test)"
   ]
  },
  {
   "attachments": {},
   "cell_type": "markdown",
   "metadata": {},
   "source": [
    "#### Avaliação do Modelo"
   ]
  },
  {
   "cell_type": "code",
   "execution_count": 23,
   "metadata": {},
   "outputs": [
    {
     "name": "stdout",
     "output_type": "stream",
     "text": [
      "RMSE:  2.361522863329236\n",
      "R2:  0.872863085701216\n"
     ]
    }
   ],
   "source": [
    "# Avaliação do modelo\n",
    "rmse = mean_squared_error(y_test, y_pred, squared=False)\n",
    "r2 = r2_score(y_test, y_pred)\n",
    "\n",
    "print(\"RMSE: \", rmse)\n",
    "print(\"R2: \", r2)"
   ]
  },
  {
   "cell_type": "code",
   "execution_count": 27,
   "metadata": {},
   "outputs": [
    {
     "data": {
      "application/vnd.plotly.v1+json": {
       "config": {
        "plotlyServerURL": "https://plot.ly"
       },
       "data": [
        {
         "hovertemplate": "split=train<br>sales=%{x}<br>prediction=%{y}<extra></extra>",
         "legendgroup": "train",
         "marker": {
          "color": "#636efa",
          "symbol": "circle"
         },
         "mode": "markers",
         "name": "train",
         "orientation": "v",
         "showlegend": true,
         "type": "scatter",
         "x": [
          12.6,
          25.68,
          11.52,
          20.88,
          11.4,
          15.36,
          30.48,
          17.64,
          25.8,
          19.92,
          24.84,
          15.48,
          12.72,
          11.64,
          13.68,
          27.12,
          24.24,
          6.6,
          15.84,
          29.04,
          18.84,
          16.8,
          21.6,
          11.4,
          16.08,
          22.68,
          26.76,
          21.96,
          10.56,
          13.2,
          10.44,
          8.28,
          17.04,
          6.36,
          13.2,
          14.76,
          13.56,
          16.32,
          14.4,
          19.2,
          15.48,
          13.44,
          8.76,
          23.28,
          26.64,
          13.8,
          14.04,
          18.6,
          20.64,
          14.04,
          28.56,
          17.76,
          17.64,
          8.64,
          6.36,
          23.76,
          16.08,
          16.92,
          19.08,
          17.52,
          15.12,
          14.64,
          11.28,
          19.08,
          18.6,
          8.4,
          13.92,
          18.24,
          12.72,
          7.92,
          10.56,
          29.64,
          15.24,
          6.84,
          12.96,
          13.92,
          11.4,
          24.84,
          13.08,
          13.68,
          12.36,
          30.48,
          13.08,
          12.12,
          19.32,
          13.92,
          19.92,
          18.72,
          3.84,
          18.36,
          12.12,
          8.76,
          15.48,
          17.28,
          17.88,
          21.6,
          14.64,
          10.08,
          17.4,
          9.12,
          32.4,
          14.04,
          14.16,
          15.12,
          12.6,
          10.44,
          31.44,
          21.12,
          27.12,
          20.76,
          8.04,
          12.96,
          7.08,
          23.52,
          20.76,
          9.12,
          15.36,
          30.6,
          16.08
         ],
         "xaxis": "x",
         "y": [
          11.101074262288535,
          25.93902765757244,
          9.27392046916452,
          22.591539956326024,
          9.173637271141697,
          20.363954986235463,
          28.03238858595376,
          18.86030811055791,
          24.540566722279806,
          19.681540149759762,
          25.84834369970777,
          16.78425429138879,
          10.761697229297518,
          9.930550418686206,
          15.20157742914442,
          24.81258695764471,
          24.417582859403858,
          10.39683618814818,
          15.386788869532927,
          27.47218786183351,
          20.144505176272766,
          15.917355245831072,
          20.433986059227372,
          10.926502850637107,
          14.49536999173194,
          22.75216297406076,
          25.332795612912456,
          21.36899749329765,
          12.56435914682257,
          11.968795374554155,
          14.430478692328846,
          5.515910293998028,
          16.63403971321398,
          10.705160883761145,
          11.694363948689585,
          17.59737553828966,
          12.327862263005903,
          17.414289497013343,
          14.009672164692558,
          18.824964795628922,
          14.20012927404828,
          12.057721351770146,
          5.551029704064149,
          23.02943337780382,
          25.50580743289465,
          12.651446974716386,
          15.177140914026037,
          18.434705845988965,
          20.405452554494936,
          16.696244983856072,
          27.924958402368688,
          21.146151976883985,
          17.740594196689457,
          7.500137452470087,
          4.462923527366338,
          23.594376568855594,
          17.759780571399183,
          16.674899526852187,
          19.686556673003338,
          18.46529351613561,
          15.631149431607513,
          14.442302456740276,
          7.989762938932064,
          18.80129869050232,
          17.373842431564952,
          9.575067446580642,
          16.359847564700747,
          18.152034348115592,
          11.056419121711198,
          12.859763514261699,
          8.01633127311851,
          26.677564000915254,
          18.703838102389092,
          10.259812849867757,
          14.368656433297517,
          16.892213288568726,
          13.854923511925547,
          23.605974097016208,
          11.483224877353337,
          12.219691249770785,
          11.706318812480339,
          27.91348488894551,
          14.820732387410839,
          11.9105828100779,
          22.028310587384354,
          12.119482602477,
          19.64416127831239,
          18.61666869506335,
          6.505363713236771,
          18.56988123411392,
          12.083916733644699,
          12.620915171569072,
          14.959138337376782,
          17.105977488359585,
          17.969580073747615,
          20.841535817816883,
          16.05780625437125,
          8.993942317120055,
          17.301051137846923,
          9.262832484301702,
          29.719968026189214,
          14.655985878535514,
          19.195591760093656,
          14.905728655036643,
          12.748883019654807,
          7.997046056417994,
          28.964209410298302,
          22.23978776765032,
          24.96454617852018,
          20.509451199911112,
          7.407552274448815,
          15.083659003997202,
          5.519421671975958,
          22.194731858151854,
          19.822131783844725,
          6.571559341099682,
          15.368170326969294,
          28.522395746764147,
          18.199683068118546
         ],
         "yaxis": "y"
        },
        {
         "alignmentgroup": "True",
         "bingroup": "x",
         "histnorm": "probability",
         "hovertemplate": "split=train<br>sales=%{x}<br>count=%{y}<extra></extra>",
         "legendgroup": "train",
         "marker": {
          "color": "#636efa"
         },
         "name": "train",
         "offsetgroup": "train",
         "opacity": 0.5,
         "showlegend": false,
         "type": "histogram",
         "x": [
          12.6,
          25.68,
          11.52,
          20.88,
          11.4,
          15.36,
          30.48,
          17.64,
          25.8,
          19.92,
          24.84,
          15.48,
          12.72,
          11.64,
          13.68,
          27.12,
          24.24,
          6.6,
          15.84,
          29.04,
          18.84,
          16.8,
          21.6,
          11.4,
          16.08,
          22.68,
          26.76,
          21.96,
          10.56,
          13.2,
          10.44,
          8.28,
          17.04,
          6.36,
          13.2,
          14.76,
          13.56,
          16.32,
          14.4,
          19.2,
          15.48,
          13.44,
          8.76,
          23.28,
          26.64,
          13.8,
          14.04,
          18.6,
          20.64,
          14.04,
          28.56,
          17.76,
          17.64,
          8.64,
          6.36,
          23.76,
          16.08,
          16.92,
          19.08,
          17.52,
          15.12,
          14.64,
          11.28,
          19.08,
          18.6,
          8.4,
          13.92,
          18.24,
          12.72,
          7.92,
          10.56,
          29.64,
          15.24,
          6.84,
          12.96,
          13.92,
          11.4,
          24.84,
          13.08,
          13.68,
          12.36,
          30.48,
          13.08,
          12.12,
          19.32,
          13.92,
          19.92,
          18.72,
          3.84,
          18.36,
          12.12,
          8.76,
          15.48,
          17.28,
          17.88,
          21.6,
          14.64,
          10.08,
          17.4,
          9.12,
          32.4,
          14.04,
          14.16,
          15.12,
          12.6,
          10.44,
          31.44,
          21.12,
          27.12,
          20.76,
          8.04,
          12.96,
          7.08,
          23.52,
          20.76,
          9.12,
          15.36,
          30.6,
          16.08
         ],
         "xaxis": "x3",
         "yaxis": "y3"
        },
        {
         "alignmentgroup": "True",
         "bingroup": "y",
         "histnorm": "probability",
         "hovertemplate": "split=train<br>prediction=%{y}<br>count=%{x}<extra></extra>",
         "legendgroup": "train",
         "marker": {
          "color": "#636efa"
         },
         "name": "train",
         "offsetgroup": "train",
         "opacity": 0.5,
         "showlegend": false,
         "type": "histogram",
         "xaxis": "x2",
         "y": [
          11.101074262288535,
          25.93902765757244,
          9.27392046916452,
          22.591539956326024,
          9.173637271141697,
          20.363954986235463,
          28.03238858595376,
          18.86030811055791,
          24.540566722279806,
          19.681540149759762,
          25.84834369970777,
          16.78425429138879,
          10.761697229297518,
          9.930550418686206,
          15.20157742914442,
          24.81258695764471,
          24.417582859403858,
          10.39683618814818,
          15.386788869532927,
          27.47218786183351,
          20.144505176272766,
          15.917355245831072,
          20.433986059227372,
          10.926502850637107,
          14.49536999173194,
          22.75216297406076,
          25.332795612912456,
          21.36899749329765,
          12.56435914682257,
          11.968795374554155,
          14.430478692328846,
          5.515910293998028,
          16.63403971321398,
          10.705160883761145,
          11.694363948689585,
          17.59737553828966,
          12.327862263005903,
          17.414289497013343,
          14.009672164692558,
          18.824964795628922,
          14.20012927404828,
          12.057721351770146,
          5.551029704064149,
          23.02943337780382,
          25.50580743289465,
          12.651446974716386,
          15.177140914026037,
          18.434705845988965,
          20.405452554494936,
          16.696244983856072,
          27.924958402368688,
          21.146151976883985,
          17.740594196689457,
          7.500137452470087,
          4.462923527366338,
          23.594376568855594,
          17.759780571399183,
          16.674899526852187,
          19.686556673003338,
          18.46529351613561,
          15.631149431607513,
          14.442302456740276,
          7.989762938932064,
          18.80129869050232,
          17.373842431564952,
          9.575067446580642,
          16.359847564700747,
          18.152034348115592,
          11.056419121711198,
          12.859763514261699,
          8.01633127311851,
          26.677564000915254,
          18.703838102389092,
          10.259812849867757,
          14.368656433297517,
          16.892213288568726,
          13.854923511925547,
          23.605974097016208,
          11.483224877353337,
          12.219691249770785,
          11.706318812480339,
          27.91348488894551,
          14.820732387410839,
          11.9105828100779,
          22.028310587384354,
          12.119482602477,
          19.64416127831239,
          18.61666869506335,
          6.505363713236771,
          18.56988123411392,
          12.083916733644699,
          12.620915171569072,
          14.959138337376782,
          17.105977488359585,
          17.969580073747615,
          20.841535817816883,
          16.05780625437125,
          8.993942317120055,
          17.301051137846923,
          9.262832484301702,
          29.719968026189214,
          14.655985878535514,
          19.195591760093656,
          14.905728655036643,
          12.748883019654807,
          7.997046056417994,
          28.964209410298302,
          22.23978776765032,
          24.96454617852018,
          20.509451199911112,
          7.407552274448815,
          15.083659003997202,
          5.519421671975958,
          22.194731858151854,
          19.822131783844725,
          6.571559341099682,
          15.368170326969294,
          28.522395746764147,
          18.199683068118546
         ],
         "yaxis": "y2"
        },
        {
         "hovertemplate": "<b>OLS trendline</b><br>prediction = 0.906864 * sales + 1.54046<br>R<sup>2</sup>=0.906864<br><br>split=train<br>sales=%{x}<br>prediction=%{y} <b>(trend)</b><extra></extra>",
         "legendgroup": "train",
         "marker": {
          "color": "#636efa",
          "symbol": "circle"
         },
         "mode": "lines",
         "name": "train",
         "showlegend": false,
         "type": "scatter",
         "x": [
          3.84,
          6.36,
          6.36,
          6.6,
          6.84,
          7.08,
          7.92,
          8.04,
          8.28,
          8.4,
          8.64,
          8.76,
          8.76,
          9.12,
          9.12,
          10.08,
          10.44,
          10.44,
          10.56,
          10.56,
          11.28,
          11.4,
          11.4,
          11.4,
          11.52,
          11.64,
          12.12,
          12.12,
          12.36,
          12.6,
          12.6,
          12.72,
          12.72,
          12.96,
          12.96,
          13.08,
          13.08,
          13.2,
          13.2,
          13.44,
          13.56,
          13.68,
          13.68,
          13.8,
          13.92,
          13.92,
          13.92,
          14.04,
          14.04,
          14.04,
          14.16,
          14.4,
          14.64,
          14.64,
          14.76,
          15.12,
          15.12,
          15.24,
          15.36,
          15.36,
          15.48,
          15.48,
          15.48,
          15.84,
          16.08,
          16.08,
          16.08,
          16.32,
          16.8,
          16.92,
          17.04,
          17.28,
          17.4,
          17.52,
          17.64,
          17.64,
          17.76,
          17.88,
          18.24,
          18.36,
          18.6,
          18.6,
          18.72,
          18.84,
          19.08,
          19.08,
          19.2,
          19.32,
          19.92,
          19.92,
          20.64,
          20.76,
          20.76,
          20.88,
          21.12,
          21.6,
          21.6,
          21.96,
          22.68,
          23.28,
          23.52,
          23.76,
          24.24,
          24.84,
          24.84,
          25.68,
          25.8,
          26.64,
          26.76,
          27.12,
          27.12,
          28.56,
          29.04,
          29.64,
          30.48,
          30.48,
          30.6,
          31.44,
          32.4
         ],
         "xaxis": "x",
         "y": [
          5.022813460072252,
          7.3081103604438145,
          7.3081103604438145,
          7.525757684288726,
          7.743405008133637,
          7.961052331978548,
          8.722817965435734,
          8.83164162735819,
          9.049288951203101,
          9.158112613125557,
          9.375759936970468,
          9.484583598892922,
          9.484583598892922,
          9.811054584660289,
          9.811054584660289,
          10.681643880039932,
          11.008114865807299,
          11.008114865807299,
          11.116938527729754,
          11.116938527729754,
          11.769880499264486,
          11.878704161186942,
          11.878704161186942,
          11.878704161186942,
          11.987527823109396,
          12.096351485031853,
          12.531646132721672,
          12.531646132721672,
          12.749293456566583,
          12.966940780411495,
          12.966940780411495,
          13.07576444233395,
          13.07576444233395,
          13.293411766178862,
          13.293411766178862,
          13.402235428101317,
          13.402235428101317,
          13.511059090023771,
          13.511059090023771,
          13.728706413868682,
          13.837530075791138,
          13.946353737713594,
          13.946353737713594,
          14.05517739963605,
          14.164001061558505,
          14.164001061558505,
          14.164001061558505,
          14.272824723480959,
          14.272824723480959,
          14.272824723480959,
          14.381648385403416,
          14.599295709248326,
          14.816943033093237,
          14.816943033093237,
          14.925766695015692,
          15.252237680783058,
          15.252237680783058,
          15.361061342705513,
          15.469885004627969,
          15.469885004627969,
          15.578708666550424,
          15.578708666550424,
          15.578708666550424,
          15.90517965231779,
          16.1228269761627,
          16.1228269761627,
          16.1228269761627,
          16.34047430000761,
          16.775768947697433,
          16.88459260961989,
          16.993416271542344,
          17.211063595387255,
          17.31988725730971,
          17.428710919232163,
          17.53753458115462,
          17.53753458115462,
          17.646358243077078,
          17.75518190499953,
          18.081652890766897,
          18.190476552689354,
          18.408123876534265,
          18.408123876534265,
          18.51694753845672,
          18.625771200379173,
          18.843418524224084,
          18.843418524224084,
          18.95224218614654,
          19.061065848068996,
          19.605184157681276,
          19.605184157681276,
          20.258126129216006,
          20.366949791138463,
          20.366949791138463,
          20.475773453060917,
          20.69342077690583,
          21.12871542459565,
          21.12871542459565,
          21.455186410363016,
          22.108128381897746,
          22.652246691510026,
          22.869894015354934,
          23.08754133919985,
          23.522835986889664,
          24.066954296501944,
          24.066954296501944,
          24.82871992995913,
          24.93754359188159,
          25.699309225338776,
          25.80813288726123,
          26.134603873028595,
          26.134603873028595,
          27.44048781609806,
          27.875782463787882,
          28.41990077340016,
          29.181666406857346,
          29.181666406857346,
          29.290490068779803,
          30.05225570223699,
          30.922844997616632
         ],
         "yaxis": "y"
        },
        {
         "hovertemplate": "split=test<br>sales=%{x}<br>prediction=%{y}<extra></extra>",
         "legendgroup": "test",
         "marker": {
          "color": "#EF553B",
          "symbol": "circle"
         },
         "mode": "markers",
         "name": "test",
         "orientation": "v",
         "showlegend": true,
         "type": "scatter",
         "x": [
          14.28,
          12.12,
          20.52,
          10.2,
          17.88,
          27.84,
          17.76,
          12.84,
          25.44,
          28.44,
          28.56,
          22.08,
          9.72,
          11.16,
          14.88,
          20.4,
          14.16,
          26.04,
          18.24,
          20.04,
          20.28,
          30.48,
          24.84,
          23.04,
          10.44,
          26.16,
          7.92,
          23.64,
          11.64,
          1.92,
          23.52,
          24.96,
          11.52,
          23.04,
          24.12,
          12.48,
          15.84,
          22.8,
          15.96,
          14.28,
          14.28,
          9.6,
          20.52,
          18,
          14.04,
          13.8,
          24.24,
          14.64,
          12.36,
          19.08,
          11.88,
          11.64
         ],
         "xaxis": "x",
         "y": [
          13.71267841885597,
          12.02451094185066,
          20.80168870784548,
          10.820777448098458,
          18.239900967593577,
          26.046052807181425,
          19.551954419801653,
          11.279826638220245,
          23.99094741766634,
          25.597374413712593,
          26.291861516646442,
          21.754983435636042,
          7.016889617682711,
          9.508723220493629,
          12.845994355527953,
          20.795064554142584,
          13.833532883937718,
          24.9495477244648,
          18.291216355917214,
          20.402911196250024,
          19.64976695223676,
          28.923540281838214,
          24.331092650384356,
          21.610503139854885,
          8.635232236954861,
          25.353096705840777,
          8.325848696675173,
          23.396445971240396,
          9.601112013413772,
          12.63929189379222,
          23.14564659292941,
          25.02990898502817,
          11.840920488189274,
          22.153216680336868,
          23.11709944356415,
          10.622582667333322,
          18.340404587373577,
          21.914310061138302,
          16.387424735999687,
          13.34208656472147,
          17.144016602220717,
          13.119155656330616,
          20.670672070876137,
          21.483906718477606,
          14.403986218164304,
          16.499109845334083,
          23.956859510922186,
          16.736509782170693,
          11.705179668942353,
          22.321320770347043,
          10.199111978993992,
          9.881993292736954
         ],
         "yaxis": "y"
        },
        {
         "alignmentgroup": "True",
         "bingroup": "x",
         "histnorm": "probability",
         "hovertemplate": "split=test<br>sales=%{x}<br>count=%{y}<extra></extra>",
         "legendgroup": "test",
         "marker": {
          "color": "#EF553B"
         },
         "name": "test",
         "offsetgroup": "test",
         "opacity": 0.5,
         "showlegend": false,
         "type": "histogram",
         "x": [
          14.28,
          12.12,
          20.52,
          10.2,
          17.88,
          27.84,
          17.76,
          12.84,
          25.44,
          28.44,
          28.56,
          22.08,
          9.72,
          11.16,
          14.88,
          20.4,
          14.16,
          26.04,
          18.24,
          20.04,
          20.28,
          30.48,
          24.84,
          23.04,
          10.44,
          26.16,
          7.92,
          23.64,
          11.64,
          1.92,
          23.52,
          24.96,
          11.52,
          23.04,
          24.12,
          12.48,
          15.84,
          22.8,
          15.96,
          14.28,
          14.28,
          9.6,
          20.52,
          18,
          14.04,
          13.8,
          24.24,
          14.64,
          12.36,
          19.08,
          11.88,
          11.64
         ],
         "xaxis": "x3",
         "yaxis": "y3"
        },
        {
         "alignmentgroup": "True",
         "bingroup": "y",
         "histnorm": "probability",
         "hovertemplate": "split=test<br>prediction=%{y}<br>count=%{x}<extra></extra>",
         "legendgroup": "test",
         "marker": {
          "color": "#EF553B"
         },
         "name": "test",
         "offsetgroup": "test",
         "opacity": 0.5,
         "showlegend": false,
         "type": "histogram",
         "xaxis": "x2",
         "y": [
          13.71267841885597,
          12.02451094185066,
          20.80168870784548,
          10.820777448098458,
          18.239900967593577,
          26.046052807181425,
          19.551954419801653,
          11.279826638220245,
          23.99094741766634,
          25.597374413712593,
          26.291861516646442,
          21.754983435636042,
          7.016889617682711,
          9.508723220493629,
          12.845994355527953,
          20.795064554142584,
          13.833532883937718,
          24.9495477244648,
          18.291216355917214,
          20.402911196250024,
          19.64976695223676,
          28.923540281838214,
          24.331092650384356,
          21.610503139854885,
          8.635232236954861,
          25.353096705840777,
          8.325848696675173,
          23.396445971240396,
          9.601112013413772,
          12.63929189379222,
          23.14564659292941,
          25.02990898502817,
          11.840920488189274,
          22.153216680336868,
          23.11709944356415,
          10.622582667333322,
          18.340404587373577,
          21.914310061138302,
          16.387424735999687,
          13.34208656472147,
          17.144016602220717,
          13.119155656330616,
          20.670672070876137,
          21.483906718477606,
          14.403986218164304,
          16.499109845334083,
          23.956859510922186,
          16.736509782170693,
          11.705179668942353,
          22.321320770347043,
          10.199111978993992,
          9.881993292736954
         ],
         "yaxis": "y2"
        },
        {
         "hovertemplate": "<b>OLS trendline</b><br>prediction = 0.866971 * sales + 2.3424<br>R<sup>2</sup>=0.882721<br><br>split=test<br>sales=%{x}<br>prediction=%{y} <b>(trend)</b><extra></extra>",
         "legendgroup": "test",
         "marker": {
          "color": "#EF553B",
          "symbol": "circle"
         },
         "mode": "lines",
         "name": "test",
         "showlegend": false,
         "type": "scatter",
         "x": [
          1.92,
          7.92,
          9.6,
          9.72,
          10.2,
          10.44,
          11.16,
          11.52,
          11.64,
          11.64,
          11.88,
          12.12,
          12.36,
          12.48,
          12.84,
          13.8,
          14.04,
          14.16,
          14.28,
          14.28,
          14.28,
          14.64,
          14.88,
          15.84,
          15.96,
          17.76,
          17.88,
          18,
          18.24,
          19.08,
          20.04,
          20.28,
          20.4,
          20.52,
          20.52,
          22.08,
          22.8,
          23.04,
          23.04,
          23.52,
          23.64,
          24.12,
          24.24,
          24.84,
          24.96,
          25.44,
          26.04,
          26.16,
          27.84,
          28.44,
          28.56,
          30.48
         ],
         "xaxis": "x",
         "y": [
          4.006978818268962,
          9.208801895989515,
          10.66531235775127,
          10.769348819305682,
          11.185494665523326,
          11.393567588632148,
          12.017786357958615,
          12.329895742621847,
          12.433932204176259,
          12.433932204176259,
          12.642005127285081,
          12.850078050393902,
          13.058150973502725,
          13.162187435057136,
          13.474296819720369,
          14.306588512155658,
          14.514661435264479,
          14.61869789681889,
          14.722734358373302,
          14.722734358373302,
          14.722734358373302,
          15.034843743036536,
          15.242916666145359,
          16.075208358580646,
          16.179244820135057,
          17.739791743451224,
          17.843828205005632,
          17.947864666560044,
          18.155937589668866,
          18.884192820549742,
          19.71648451298503,
          19.924557436093853,
          20.028593897648264,
          20.132630359202675,
          20.132630359202675,
          21.485104359410016,
          22.109323128736488,
          22.317396051845307,
          22.317396051845307,
          22.733541898062953,
          22.837578359617364,
          23.25372420583501,
          23.357760667389417,
          23.877942975161474,
          23.981979436715886,
          24.39812528293353,
          24.918307590705584,
          25.022344052259996,
          26.47885451402175,
          26.99903682179381,
          27.103073283348216,
          28.767656668218795
         ],
         "yaxis": "y"
        }
       ],
       "layout": {
        "barmode": "overlay",
        "legend": {
         "title": {
          "text": "split"
         },
         "tracegroupgap": 0
        },
        "margin": {
         "t": 60
        },
        "shapes": [
         {
          "line": {
           "dash": "dash"
          },
          "type": "line",
          "x0": 1.92,
          "x1": 32.4,
          "y0": 1.92,
          "y1": 32.4
         }
        ],
        "template": {
         "data": {
          "bar": [
           {
            "error_x": {
             "color": "#2a3f5f"
            },
            "error_y": {
             "color": "#2a3f5f"
            },
            "marker": {
             "line": {
              "color": "#E5ECF6",
              "width": 0.5
             },
             "pattern": {
              "fillmode": "overlay",
              "size": 10,
              "solidity": 0.2
             }
            },
            "type": "bar"
           }
          ],
          "barpolar": [
           {
            "marker": {
             "line": {
              "color": "#E5ECF6",
              "width": 0.5
             },
             "pattern": {
              "fillmode": "overlay",
              "size": 10,
              "solidity": 0.2
             }
            },
            "type": "barpolar"
           }
          ],
          "carpet": [
           {
            "aaxis": {
             "endlinecolor": "#2a3f5f",
             "gridcolor": "white",
             "linecolor": "white",
             "minorgridcolor": "white",
             "startlinecolor": "#2a3f5f"
            },
            "baxis": {
             "endlinecolor": "#2a3f5f",
             "gridcolor": "white",
             "linecolor": "white",
             "minorgridcolor": "white",
             "startlinecolor": "#2a3f5f"
            },
            "type": "carpet"
           }
          ],
          "choropleth": [
           {
            "colorbar": {
             "outlinewidth": 0,
             "ticks": ""
            },
            "type": "choropleth"
           }
          ],
          "contour": [
           {
            "colorbar": {
             "outlinewidth": 0,
             "ticks": ""
            },
            "colorscale": [
             [
              0,
              "#0d0887"
             ],
             [
              0.1111111111111111,
              "#46039f"
             ],
             [
              0.2222222222222222,
              "#7201a8"
             ],
             [
              0.3333333333333333,
              "#9c179e"
             ],
             [
              0.4444444444444444,
              "#bd3786"
             ],
             [
              0.5555555555555556,
              "#d8576b"
             ],
             [
              0.6666666666666666,
              "#ed7953"
             ],
             [
              0.7777777777777778,
              "#fb9f3a"
             ],
             [
              0.8888888888888888,
              "#fdca26"
             ],
             [
              1,
              "#f0f921"
             ]
            ],
            "type": "contour"
           }
          ],
          "contourcarpet": [
           {
            "colorbar": {
             "outlinewidth": 0,
             "ticks": ""
            },
            "type": "contourcarpet"
           }
          ],
          "heatmap": [
           {
            "colorbar": {
             "outlinewidth": 0,
             "ticks": ""
            },
            "colorscale": [
             [
              0,
              "#0d0887"
             ],
             [
              0.1111111111111111,
              "#46039f"
             ],
             [
              0.2222222222222222,
              "#7201a8"
             ],
             [
              0.3333333333333333,
              "#9c179e"
             ],
             [
              0.4444444444444444,
              "#bd3786"
             ],
             [
              0.5555555555555556,
              "#d8576b"
             ],
             [
              0.6666666666666666,
              "#ed7953"
             ],
             [
              0.7777777777777778,
              "#fb9f3a"
             ],
             [
              0.8888888888888888,
              "#fdca26"
             ],
             [
              1,
              "#f0f921"
             ]
            ],
            "type": "heatmap"
           }
          ],
          "heatmapgl": [
           {
            "colorbar": {
             "outlinewidth": 0,
             "ticks": ""
            },
            "colorscale": [
             [
              0,
              "#0d0887"
             ],
             [
              0.1111111111111111,
              "#46039f"
             ],
             [
              0.2222222222222222,
              "#7201a8"
             ],
             [
              0.3333333333333333,
              "#9c179e"
             ],
             [
              0.4444444444444444,
              "#bd3786"
             ],
             [
              0.5555555555555556,
              "#d8576b"
             ],
             [
              0.6666666666666666,
              "#ed7953"
             ],
             [
              0.7777777777777778,
              "#fb9f3a"
             ],
             [
              0.8888888888888888,
              "#fdca26"
             ],
             [
              1,
              "#f0f921"
             ]
            ],
            "type": "heatmapgl"
           }
          ],
          "histogram": [
           {
            "marker": {
             "pattern": {
              "fillmode": "overlay",
              "size": 10,
              "solidity": 0.2
             }
            },
            "type": "histogram"
           }
          ],
          "histogram2d": [
           {
            "colorbar": {
             "outlinewidth": 0,
             "ticks": ""
            },
            "colorscale": [
             [
              0,
              "#0d0887"
             ],
             [
              0.1111111111111111,
              "#46039f"
             ],
             [
              0.2222222222222222,
              "#7201a8"
             ],
             [
              0.3333333333333333,
              "#9c179e"
             ],
             [
              0.4444444444444444,
              "#bd3786"
             ],
             [
              0.5555555555555556,
              "#d8576b"
             ],
             [
              0.6666666666666666,
              "#ed7953"
             ],
             [
              0.7777777777777778,
              "#fb9f3a"
             ],
             [
              0.8888888888888888,
              "#fdca26"
             ],
             [
              1,
              "#f0f921"
             ]
            ],
            "type": "histogram2d"
           }
          ],
          "histogram2dcontour": [
           {
            "colorbar": {
             "outlinewidth": 0,
             "ticks": ""
            },
            "colorscale": [
             [
              0,
              "#0d0887"
             ],
             [
              0.1111111111111111,
              "#46039f"
             ],
             [
              0.2222222222222222,
              "#7201a8"
             ],
             [
              0.3333333333333333,
              "#9c179e"
             ],
             [
              0.4444444444444444,
              "#bd3786"
             ],
             [
              0.5555555555555556,
              "#d8576b"
             ],
             [
              0.6666666666666666,
              "#ed7953"
             ],
             [
              0.7777777777777778,
              "#fb9f3a"
             ],
             [
              0.8888888888888888,
              "#fdca26"
             ],
             [
              1,
              "#f0f921"
             ]
            ],
            "type": "histogram2dcontour"
           }
          ],
          "mesh3d": [
           {
            "colorbar": {
             "outlinewidth": 0,
             "ticks": ""
            },
            "type": "mesh3d"
           }
          ],
          "parcoords": [
           {
            "line": {
             "colorbar": {
              "outlinewidth": 0,
              "ticks": ""
             }
            },
            "type": "parcoords"
           }
          ],
          "pie": [
           {
            "automargin": true,
            "type": "pie"
           }
          ],
          "scatter": [
           {
            "fillpattern": {
             "fillmode": "overlay",
             "size": 10,
             "solidity": 0.2
            },
            "type": "scatter"
           }
          ],
          "scatter3d": [
           {
            "line": {
             "colorbar": {
              "outlinewidth": 0,
              "ticks": ""
             }
            },
            "marker": {
             "colorbar": {
              "outlinewidth": 0,
              "ticks": ""
             }
            },
            "type": "scatter3d"
           }
          ],
          "scattercarpet": [
           {
            "marker": {
             "colorbar": {
              "outlinewidth": 0,
              "ticks": ""
             }
            },
            "type": "scattercarpet"
           }
          ],
          "scattergeo": [
           {
            "marker": {
             "colorbar": {
              "outlinewidth": 0,
              "ticks": ""
             }
            },
            "type": "scattergeo"
           }
          ],
          "scattergl": [
           {
            "marker": {
             "colorbar": {
              "outlinewidth": 0,
              "ticks": ""
             }
            },
            "type": "scattergl"
           }
          ],
          "scattermapbox": [
           {
            "marker": {
             "colorbar": {
              "outlinewidth": 0,
              "ticks": ""
             }
            },
            "type": "scattermapbox"
           }
          ],
          "scatterpolar": [
           {
            "marker": {
             "colorbar": {
              "outlinewidth": 0,
              "ticks": ""
             }
            },
            "type": "scatterpolar"
           }
          ],
          "scatterpolargl": [
           {
            "marker": {
             "colorbar": {
              "outlinewidth": 0,
              "ticks": ""
             }
            },
            "type": "scatterpolargl"
           }
          ],
          "scatterternary": [
           {
            "marker": {
             "colorbar": {
              "outlinewidth": 0,
              "ticks": ""
             }
            },
            "type": "scatterternary"
           }
          ],
          "surface": [
           {
            "colorbar": {
             "outlinewidth": 0,
             "ticks": ""
            },
            "colorscale": [
             [
              0,
              "#0d0887"
             ],
             [
              0.1111111111111111,
              "#46039f"
             ],
             [
              0.2222222222222222,
              "#7201a8"
             ],
             [
              0.3333333333333333,
              "#9c179e"
             ],
             [
              0.4444444444444444,
              "#bd3786"
             ],
             [
              0.5555555555555556,
              "#d8576b"
             ],
             [
              0.6666666666666666,
              "#ed7953"
             ],
             [
              0.7777777777777778,
              "#fb9f3a"
             ],
             [
              0.8888888888888888,
              "#fdca26"
             ],
             [
              1,
              "#f0f921"
             ]
            ],
            "type": "surface"
           }
          ],
          "table": [
           {
            "cells": {
             "fill": {
              "color": "#EBF0F8"
             },
             "line": {
              "color": "white"
             }
            },
            "header": {
             "fill": {
              "color": "#C8D4E3"
             },
             "line": {
              "color": "white"
             }
            },
            "type": "table"
           }
          ]
         },
         "layout": {
          "annotationdefaults": {
           "arrowcolor": "#2a3f5f",
           "arrowhead": 0,
           "arrowwidth": 1
          },
          "autotypenumbers": "strict",
          "coloraxis": {
           "colorbar": {
            "outlinewidth": 0,
            "ticks": ""
           }
          },
          "colorscale": {
           "diverging": [
            [
             0,
             "#8e0152"
            ],
            [
             0.1,
             "#c51b7d"
            ],
            [
             0.2,
             "#de77ae"
            ],
            [
             0.3,
             "#f1b6da"
            ],
            [
             0.4,
             "#fde0ef"
            ],
            [
             0.5,
             "#f7f7f7"
            ],
            [
             0.6,
             "#e6f5d0"
            ],
            [
             0.7,
             "#b8e186"
            ],
            [
             0.8,
             "#7fbc41"
            ],
            [
             0.9,
             "#4d9221"
            ],
            [
             1,
             "#276419"
            ]
           ],
           "sequential": [
            [
             0,
             "#0d0887"
            ],
            [
             0.1111111111111111,
             "#46039f"
            ],
            [
             0.2222222222222222,
             "#7201a8"
            ],
            [
             0.3333333333333333,
             "#9c179e"
            ],
            [
             0.4444444444444444,
             "#bd3786"
            ],
            [
             0.5555555555555556,
             "#d8576b"
            ],
            [
             0.6666666666666666,
             "#ed7953"
            ],
            [
             0.7777777777777778,
             "#fb9f3a"
            ],
            [
             0.8888888888888888,
             "#fdca26"
            ],
            [
             1,
             "#f0f921"
            ]
           ],
           "sequentialminus": [
            [
             0,
             "#0d0887"
            ],
            [
             0.1111111111111111,
             "#46039f"
            ],
            [
             0.2222222222222222,
             "#7201a8"
            ],
            [
             0.3333333333333333,
             "#9c179e"
            ],
            [
             0.4444444444444444,
             "#bd3786"
            ],
            [
             0.5555555555555556,
             "#d8576b"
            ],
            [
             0.6666666666666666,
             "#ed7953"
            ],
            [
             0.7777777777777778,
             "#fb9f3a"
            ],
            [
             0.8888888888888888,
             "#fdca26"
            ],
            [
             1,
             "#f0f921"
            ]
           ]
          },
          "colorway": [
           "#636efa",
           "#EF553B",
           "#00cc96",
           "#ab63fa",
           "#FFA15A",
           "#19d3f3",
           "#FF6692",
           "#B6E880",
           "#FF97FF",
           "#FECB52"
          ],
          "font": {
           "color": "#2a3f5f"
          },
          "geo": {
           "bgcolor": "white",
           "lakecolor": "white",
           "landcolor": "#E5ECF6",
           "showlakes": true,
           "showland": true,
           "subunitcolor": "white"
          },
          "hoverlabel": {
           "align": "left"
          },
          "hovermode": "closest",
          "mapbox": {
           "style": "light"
          },
          "paper_bgcolor": "white",
          "plot_bgcolor": "#E5ECF6",
          "polar": {
           "angularaxis": {
            "gridcolor": "white",
            "linecolor": "white",
            "ticks": ""
           },
           "bgcolor": "#E5ECF6",
           "radialaxis": {
            "gridcolor": "white",
            "linecolor": "white",
            "ticks": ""
           }
          },
          "scene": {
           "xaxis": {
            "backgroundcolor": "#E5ECF6",
            "gridcolor": "white",
            "gridwidth": 2,
            "linecolor": "white",
            "showbackground": true,
            "ticks": "",
            "zerolinecolor": "white"
           },
           "yaxis": {
            "backgroundcolor": "#E5ECF6",
            "gridcolor": "white",
            "gridwidth": 2,
            "linecolor": "white",
            "showbackground": true,
            "ticks": "",
            "zerolinecolor": "white"
           },
           "zaxis": {
            "backgroundcolor": "#E5ECF6",
            "gridcolor": "white",
            "gridwidth": 2,
            "linecolor": "white",
            "showbackground": true,
            "ticks": "",
            "zerolinecolor": "white"
           }
          },
          "shapedefaults": {
           "line": {
            "color": "#2a3f5f"
           }
          },
          "ternary": {
           "aaxis": {
            "gridcolor": "white",
            "linecolor": "white",
            "ticks": ""
           },
           "baxis": {
            "gridcolor": "white",
            "linecolor": "white",
            "ticks": ""
           },
           "bgcolor": "#E5ECF6",
           "caxis": {
            "gridcolor": "white",
            "linecolor": "white",
            "ticks": ""
           }
          },
          "title": {
           "x": 0.05
          },
          "xaxis": {
           "automargin": true,
           "gridcolor": "white",
           "linecolor": "white",
           "ticks": "",
           "title": {
            "standoff": 15
           },
           "zerolinecolor": "white",
           "zerolinewidth": 2
          },
          "yaxis": {
           "automargin": true,
           "gridcolor": "white",
           "linecolor": "white",
           "ticks": "",
           "title": {
            "standoff": 15
           },
           "zerolinecolor": "white",
           "zerolinewidth": 2
          }
         }
        },
        "xaxis": {
         "anchor": "y",
         "domain": [
          0,
          0.7363
         ],
         "title": {
          "text": "sales"
         }
        },
        "xaxis2": {
         "anchor": "y2",
         "domain": [
          0.7413,
          1
         ],
         "matches": "x2",
         "showgrid": true,
         "showline": false,
         "showticklabels": false,
         "ticks": ""
        },
        "xaxis3": {
         "anchor": "y3",
         "domain": [
          0,
          0.7363
         ],
         "matches": "x",
         "showgrid": true,
         "showticklabels": false
        },
        "xaxis4": {
         "anchor": "y4",
         "domain": [
          0.7413,
          1
         ],
         "matches": "x2",
         "showgrid": true,
         "showline": false,
         "showticklabels": false,
         "ticks": ""
        },
        "yaxis": {
         "anchor": "x",
         "domain": [
          0,
          0.7326
         ],
         "title": {
          "text": "prediction"
         }
        },
        "yaxis2": {
         "anchor": "x2",
         "domain": [
          0,
          0.7326
         ],
         "matches": "y",
         "showgrid": true,
         "showticklabels": false
        },
        "yaxis3": {
         "anchor": "x3",
         "domain": [
          0.7426,
          1
         ],
         "matches": "y3",
         "showgrid": true,
         "showline": false,
         "showticklabels": false,
         "ticks": ""
        },
        "yaxis4": {
         "anchor": "x4",
         "domain": [
          0.7426,
          1
         ],
         "matches": "y3",
         "showgrid": true,
         "showline": false,
         "showticklabels": false,
         "ticks": ""
        }
       }
      }
     },
     "metadata": {},
     "output_type": "display_data"
    }
   ],
   "source": [
    "# Crie um novo dataframe df_full\n",
    "df_full = df.copy()\n",
    "\n",
    "# Antes da divisão, crie uma nova coluna chamada 'split'\n",
    "df_full['split'] = 'train'\n",
    "\n",
    "# Divida os dados\n",
    "X_train, X_test, y_train, y_test = train_test_split(X, y, test_size=0.3, random_state=42)\n",
    "\n",
    "# Indique que os dados em X_test estão na partição de teste\n",
    "df_full.loc[X_test.index, 'split'] = 'test'\n",
    "\n",
    "# Treine o modelo\n",
    "model = LinearRegression()\n",
    "model.fit(X_train, y_train)\n",
    "\n",
    "# Crie as previsões\n",
    "y_train_pred = model.predict(X_train)\n",
    "y_test_pred = model.predict(X_test)\n",
    "\n",
    "# Adicione as previsões ao dataframe\n",
    "df_full.loc[X_train.index, 'prediction'] = y_train_pred\n",
    "df_full.loc[X_test.index, 'prediction'] = y_test_pred\n",
    "\n",
    "# Agora crie o scatter plot\n",
    "fig = px.scatter(\n",
    "    df_full, x='sales', y='prediction',\n",
    "    marginal_x='histogram', marginal_y='histogram',\n",
    "    color='split', trendline='ols'\n",
    ")\n",
    "fig.update_traces(histnorm='probability', selector={'type':'histogram'})\n",
    "fig.add_shape(\n",
    "    type=\"line\", line=dict(dash='dash'),\n",
    "    x0=y.min(), y0=y.min(),\n",
    "    x1=y.max(), y1=y.max()\n",
    ")\n",
    "\n",
    "fig.show()\n"
   ]
  },
  {
   "attachments": {},
   "cell_type": "markdown",
   "metadata": {},
   "source": [
    "## Etapa 04) Calculando Predição\n",
    "Para concluirmos a demanda solicitada pela empresa, iremos **aplicar o modelo de regressão construído** nas etapas anteriores **para realizar as previsões** de retorno de vendas que pode ser gerado a partir de um determinado investimento em publicidade e assim, poderemos apresentá-lo a empresa.\n",
    "\n",
    "Através dessas previsões, poderemos avaliar o impacto dos diferentes níveis de investimento em marketing nas vendas, auxiliando na tomada de decisões e na definição de estratégias de negócio."
   ]
  }
 ],
 "metadata": {
  "kernelspec": {
   "display_name": "Python 3",
   "language": "python",
   "name": "python3"
  },
  "language_info": {
   "codemirror_mode": {
    "name": "ipython",
    "version": 3
   },
   "file_extension": ".py",
   "mimetype": "text/x-python",
   "name": "python",
   "nbconvert_exporter": "python",
   "pygments_lexer": "ipython3",
   "version": "3.11.3"
  },
  "orig_nbformat": 4
 },
 "nbformat": 4,
 "nbformat_minor": 2
}
