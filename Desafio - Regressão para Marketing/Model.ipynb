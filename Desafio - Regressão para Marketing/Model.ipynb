{
 "cells": [
  {
   "attachments": {},
   "cell_type": "markdown",
   "metadata": {},
   "source": [
    "# Desafio: Construindo um modelo de Regressão para Marketing"
   ]
  },
  {
   "attachments": {},
   "cell_type": "markdown",
   "metadata": {},
   "source": [
    "# Contexto - Introdução"
   ]
  },
  {
   "attachments": {},
   "cell_type": "markdown",
   "metadata": {},
   "source": [
    "Uma empresa está investindo mensalmente em plataformas de publicidade online, como Youtube, Facebook e newspaper, para a prospecção de leads (pessoas interessadas em seus produtos). A fim de acompanhar o desempenho desses investimentos, a empresa registra todos os gastos com publicidade e todos os retornos de vendas gerados a partir desses investimentos.\n",
    "\n",
    "Para **entender** melhor **a relação entre as variáveis** presentes nesses registros e **identificar os fatores que mais impactam** na geração de leads, a empresa solicitou a análise de um especialista em dados. **Além disso, a empresa busca criar um modelo de predição** de valores para estimar o retorno de vendas que pode ser gerado a partir de um determinado investimento em publicidade."
   ]
  },
  {
   "attachments": {},
   "cell_type": "markdown",
   "metadata": {},
   "source": [
    "# Sobre os dados"
   ]
  },
  {
   "attachments": {},
   "cell_type": "markdown",
   "metadata": {},
   "source": [
    "A tabela contém informações dos investimentos feitos pelo youtube, facebook, newspaper e também a quantidade de cada. \n",
    "\n",
    "| Coluna    | Descrição              |\n",
    "|-----------|------------------------|\n",
    "| youtube   | Investimento youtube   |\n",
    "| facebook  | Investimento facebook  |\n",
    "| newspaper | Investimento newspaper |\n",
    "| sales     | Valor das vendas       |"
   ]
  },
  {
   "attachments": {},
   "cell_type": "markdown",
   "metadata": {},
   "source": [
    "# Importando as Bibliotecas"
   ]
  },
  {
   "cell_type": "code",
   "execution_count": 1,
   "metadata": {},
   "outputs": [],
   "source": [
    "#Manipulação de Dados\n",
    "import pandas as pd\n",
    "import numpy as np\n",
    "\n",
    "#Visualização\n",
    "import plotly.express as px\n",
    "import plotly.subplots as sp\n",
    "import plotly.graph_objs as go\n",
    "import plotly.figure_factory as ff\n",
    "\n",
    "#Display\n",
    "import warnings\n",
    "import handcalcs.render\n",
    "from IPython.display            import Markdown"
   ]
  },
  {
   "attachments": {},
   "cell_type": "markdown",
   "metadata": {},
   "source": [
    "# Funções Auxiliares e Configurações"
   ]
  },
  {
   "cell_type": "code",
   "execution_count": 47,
   "metadata": {},
   "outputs": [],
   "source": [
    "warnings.filterwarnings(\"ignore\")\n",
    "pd.options.display.float_format = '{:.2f}'.format\n",
    "\n",
    "def df_informations(df):\n",
    "    # Cria um Dataframe com as informações relativas ao Dataset\n",
    "    df_info = pd.DataFrame({'Not Null': df.notnull().sum(),\n",
    "                            'Null': df.isnull().sum(),\n",
    "                            'Perce Null': df.isnull().sum() / len(df),\n",
    "                            'Dtype': df.dtypes\n",
    "                })\n",
    "    \n",
    "    # Cria outro Dataframe com todos os types do df\n",
    "    df_dtype = df_info['Dtype'].value_counts().reset_index()\n",
    "    df_dtype.columns = ['Dtype', 'Count']\n",
    "    df_dtype['Perce'] = round(df_dtype['Count'] / df_dtype['Count'].sum(), 2)\n",
    "    \n",
    "    # Verificando se tem linhas duplicadas\n",
    "    duplicado = df.duplicated().sum()\n",
    "    mensagem = 'Não possui linhas duplicadas.' if duplicado == 0 else f\"Tem {duplicado} linhas duplicadas, o que representa {round(duplicado/len(df)*100, 2)}% do total de linhas.\"\n",
    "\n",
    "    # Texto automático das dimensões do df\n",
    "    text = f'Dataset tem {df.shape[0]} linhas e {df.shape[1]} colunas. {mensagem} Sobre o dataset, temos:'\n",
    "\n",
    "    # Colore os Dataframes\n",
    "    df_info = df_info.style.background_gradient(cmap='jet', subset=['Perce Null']).format({'Perce Null': '{:.2%}'})\n",
    "    df_dtype = df_dtype.style.background_gradient(cmap='YlGn', subset=['Perce']).format({'Perce': '{:.2%}'})\n",
    "\n",
    "    # Texto final com Markdown\n",
    "    display(Markdown(\"<H3 style='text-align:left;float:lfet;'>Informações sobre o Dataset\"))\n",
    "    display(Markdown(f'<H5> {text}'))\n",
    "    display(df_info)\n",
    "    display(Markdown(\"<H3 style='text-align:left;float:lfet;'>Sobre Dtypes, temos:\"))\n",
    "    display(df_dtype)\n",
    "    display(Markdown(\"<H3 style='text-align:left;float:lfet;'>Estatística Descritiva\"))\n",
    "    display(df.describe(percentiles=[0.01, 0.25, 0.5, 0.75, 0.99]).T)\n",
    "\n",
    "def plot_distribution_and_boxplot(df):\n",
    "    # Obtém a lista de colunas numéricas\n",
    "    num_cols = df.select_dtypes(include=[np.number]).columns\n",
    "    \n",
    "    # Cria a lista de títulos para os subplots\n",
    "    subplot_titles = [title for col in num_cols for title in [f\"Histograma - {col}\", f\"Boxplot - {col}\"]]\n",
    "    \n",
    "    # Cria a figura com subplots\n",
    "    fig = sp.make_subplots(rows=len(num_cols), cols=2, subplot_titles=subplot_titles)\n",
    "    \n",
    "    # Define cores\n",
    "    colors = ['blue', 'red', 'green', 'purple', 'orange', 'brown', 'pink', 'yellow', 'cyan', 'magenta', \n",
    "              'lime', 'lavender', 'maroon', 'navy', 'olive', 'teal', 'aqua', 'fuchsia', 'gray', 'silver']\n",
    "    \n",
    "    # Adiciona os gráficos à figura para cada coluna numérica\n",
    "    for i, col in enumerate(num_cols, start=1):\n",
    "        # Define a cor usando a lógica de ciclagem\n",
    "        color = colors[i % len(colors)]\n",
    "        \n",
    "        # Adiciona o histograma\n",
    "        fig.add_trace(go.Histogram(x=df[col], nbinsx=40, marker_color=color, \n",
    "                                    showlegend=False),\n",
    "                      row=i, col=1)\n",
    "        \n",
    "        # Adiciona o boxplot\n",
    "        fig.add_trace(go.Box(y=df[col], marker_color=color, showlegend=False),\n",
    "                      row=i, col=2)\n",
    "    \n",
    "    # Configura o layout\n",
    "    fig.update_layout(height=300*len(num_cols), title_text=\"Distribuição e Boxplot para cada variável numérica\")\n",
    "    fig.show()\n"
   ]
  },
  {
   "attachments": {},
   "cell_type": "markdown",
   "metadata": {},
   "source": [
    "# Importando o Dataset"
   ]
  },
  {
   "cell_type": "code",
   "execution_count": 34,
   "metadata": {},
   "outputs": [
    {
     "data": {
      "text/html": [
       "<div>\n",
       "<style scoped>\n",
       "    .dataframe tbody tr th:only-of-type {\n",
       "        vertical-align: middle;\n",
       "    }\n",
       "\n",
       "    .dataframe tbody tr th {\n",
       "        vertical-align: top;\n",
       "    }\n",
       "\n",
       "    .dataframe thead th {\n",
       "        text-align: right;\n",
       "    }\n",
       "</style>\n",
       "<table border=\"1\" class=\"dataframe\">\n",
       "  <thead>\n",
       "    <tr style=\"text-align: right;\">\n",
       "      <th></th>\n",
       "      <th>youtube</th>\n",
       "      <th>facebook</th>\n",
       "      <th>newspaper</th>\n",
       "      <th>sales</th>\n",
       "    </tr>\n",
       "  </thead>\n",
       "  <tbody>\n",
       "    <tr>\n",
       "      <th>0</th>\n",
       "      <td>84.72</td>\n",
       "      <td>19.20</td>\n",
       "      <td>48.96</td>\n",
       "      <td>12.60</td>\n",
       "    </tr>\n",
       "    <tr>\n",
       "      <th>1</th>\n",
       "      <td>351.48</td>\n",
       "      <td>33.96</td>\n",
       "      <td>51.84</td>\n",
       "      <td>25.68</td>\n",
       "    </tr>\n",
       "    <tr>\n",
       "      <th>2</th>\n",
       "      <td>135.48</td>\n",
       "      <td>20.88</td>\n",
       "      <td>46.32</td>\n",
       "      <td>14.28</td>\n",
       "    </tr>\n",
       "    <tr>\n",
       "      <th>3</th>\n",
       "      <td>116.64</td>\n",
       "      <td>1.80</td>\n",
       "      <td>36.00</td>\n",
       "      <td>11.52</td>\n",
       "    </tr>\n",
       "    <tr>\n",
       "      <th>4</th>\n",
       "      <td>318.72</td>\n",
       "      <td>24.00</td>\n",
       "      <td>0.36</td>\n",
       "      <td>20.88</td>\n",
       "    </tr>\n",
       "    <tr>\n",
       "      <th>...</th>\n",
       "      <td>...</td>\n",
       "      <td>...</td>\n",
       "      <td>...</td>\n",
       "      <td>...</td>\n",
       "    </tr>\n",
       "    <tr>\n",
       "      <th>166</th>\n",
       "      <td>45.84</td>\n",
       "      <td>4.44</td>\n",
       "      <td>16.56</td>\n",
       "      <td>9.12</td>\n",
       "    </tr>\n",
       "    <tr>\n",
       "      <th>167</th>\n",
       "      <td>113.04</td>\n",
       "      <td>5.88</td>\n",
       "      <td>9.72</td>\n",
       "      <td>11.64</td>\n",
       "    </tr>\n",
       "    <tr>\n",
       "      <th>168</th>\n",
       "      <td>212.40</td>\n",
       "      <td>11.16</td>\n",
       "      <td>7.68</td>\n",
       "      <td>15.36</td>\n",
       "    </tr>\n",
       "    <tr>\n",
       "      <th>169</th>\n",
       "      <td>340.32</td>\n",
       "      <td>50.40</td>\n",
       "      <td>79.44</td>\n",
       "      <td>30.60</td>\n",
       "    </tr>\n",
       "    <tr>\n",
       "      <th>170</th>\n",
       "      <td>278.52</td>\n",
       "      <td>10.32</td>\n",
       "      <td>10.44</td>\n",
       "      <td>16.08</td>\n",
       "    </tr>\n",
       "  </tbody>\n",
       "</table>\n",
       "<p>171 rows × 4 columns</p>\n",
       "</div>"
      ],
      "text/plain": [
       "     youtube  facebook  newspaper  sales\n",
       "0      84.72     19.20      48.96  12.60\n",
       "1     351.48     33.96      51.84  25.68\n",
       "2     135.48     20.88      46.32  14.28\n",
       "3     116.64      1.80      36.00  11.52\n",
       "4     318.72     24.00       0.36  20.88\n",
       "..       ...       ...        ...    ...\n",
       "166    45.84      4.44      16.56   9.12\n",
       "167   113.04      5.88       9.72  11.64\n",
       "168   212.40     11.16       7.68  15.36\n",
       "169   340.32     50.40      79.44  30.60\n",
       "170   278.52     10.32      10.44  16.08\n",
       "\n",
       "[171 rows x 4 columns]"
      ]
     },
     "execution_count": 34,
     "metadata": {},
     "output_type": "execute_result"
    }
   ],
   "source": [
    "df = pd.read_csv('MKT.csv')\n",
    "df"
   ]
  },
  {
   "attachments": {},
   "cell_type": "markdown",
   "metadata": {},
   "source": [
    "# Etapas de Desenvolvimento\n",
    "\n",
    "Para te ajudar nesse processo, detalhar o processo nas etapas a seguir:"
   ]
  },
  {
   "attachments": {},
   "cell_type": "markdown",
   "metadata": {},
   "source": [
    "## Etapa 01) Análise Descritiva\n",
    "Esta etapa consiste em explorar os dados do dataset para **compreender melhor as variáveis e identificar problemas**. Para isso, é recomendado utilizar a biblioteca **Pandas** para importar e manipular os dados e realizar cálculos estatísticos, além das bibliotecas de visualização.\n",
    "\n",
    "É importante investigar o tipo de dado em cada variável, os valores e a distribuição dos\n",
    "dados. Ao final, espera-se ter uma interpretação sólida dos dados para avançar para a\n",
    "próxima etapa"
   ]
  },
  {
   "attachments": {},
   "cell_type": "markdown",
   "metadata": {},
   "source": [
    "### Análise Descritiva do Dataset"
   ]
  },
  {
   "cell_type": "code",
   "execution_count": 42,
   "metadata": {},
   "outputs": [
    {
     "data": {
      "text/markdown": [
       "<H3 style='text-align:left;float:lfet;'>Informações sobre o Dataset"
      ],
      "text/plain": [
       "<IPython.core.display.Markdown object>"
      ]
     },
     "metadata": {},
     "output_type": "display_data"
    },
    {
     "data": {
      "text/markdown": [
       "<H5> Dataset tem 171 linhas e 4 colunas. Não possui linhas duplicadas. Sobre o dataset, temos:"
      ],
      "text/plain": [
       "<IPython.core.display.Markdown object>"
      ]
     },
     "metadata": {},
     "output_type": "display_data"
    },
    {
     "data": {
      "text/html": [
       "<style type=\"text/css\">\n",
       "#T_622b1_row0_col2, #T_622b1_row1_col2, #T_622b1_row2_col2, #T_622b1_row3_col2 {\n",
       "  background-color: #000080;\n",
       "  color: #f1f1f1;\n",
       "}\n",
       "</style>\n",
       "<table id=\"T_622b1\">\n",
       "  <thead>\n",
       "    <tr>\n",
       "      <th class=\"blank level0\" >&nbsp;</th>\n",
       "      <th id=\"T_622b1_level0_col0\" class=\"col_heading level0 col0\" >Not Null</th>\n",
       "      <th id=\"T_622b1_level0_col1\" class=\"col_heading level0 col1\" >Null</th>\n",
       "      <th id=\"T_622b1_level0_col2\" class=\"col_heading level0 col2\" >Perce Null</th>\n",
       "      <th id=\"T_622b1_level0_col3\" class=\"col_heading level0 col3\" >Dtype</th>\n",
       "    </tr>\n",
       "  </thead>\n",
       "  <tbody>\n",
       "    <tr>\n",
       "      <th id=\"T_622b1_level0_row0\" class=\"row_heading level0 row0\" >youtube</th>\n",
       "      <td id=\"T_622b1_row0_col0\" class=\"data row0 col0\" >171</td>\n",
       "      <td id=\"T_622b1_row0_col1\" class=\"data row0 col1\" >0</td>\n",
       "      <td id=\"T_622b1_row0_col2\" class=\"data row0 col2\" >0.00%</td>\n",
       "      <td id=\"T_622b1_row0_col3\" class=\"data row0 col3\" >float64</td>\n",
       "    </tr>\n",
       "    <tr>\n",
       "      <th id=\"T_622b1_level0_row1\" class=\"row_heading level0 row1\" >facebook</th>\n",
       "      <td id=\"T_622b1_row1_col0\" class=\"data row1 col0\" >171</td>\n",
       "      <td id=\"T_622b1_row1_col1\" class=\"data row1 col1\" >0</td>\n",
       "      <td id=\"T_622b1_row1_col2\" class=\"data row1 col2\" >0.00%</td>\n",
       "      <td id=\"T_622b1_row1_col3\" class=\"data row1 col3\" >float64</td>\n",
       "    </tr>\n",
       "    <tr>\n",
       "      <th id=\"T_622b1_level0_row2\" class=\"row_heading level0 row2\" >newspaper</th>\n",
       "      <td id=\"T_622b1_row2_col0\" class=\"data row2 col0\" >171</td>\n",
       "      <td id=\"T_622b1_row2_col1\" class=\"data row2 col1\" >0</td>\n",
       "      <td id=\"T_622b1_row2_col2\" class=\"data row2 col2\" >0.00%</td>\n",
       "      <td id=\"T_622b1_row2_col3\" class=\"data row2 col3\" >float64</td>\n",
       "    </tr>\n",
       "    <tr>\n",
       "      <th id=\"T_622b1_level0_row3\" class=\"row_heading level0 row3\" >sales</th>\n",
       "      <td id=\"T_622b1_row3_col0\" class=\"data row3 col0\" >171</td>\n",
       "      <td id=\"T_622b1_row3_col1\" class=\"data row3 col1\" >0</td>\n",
       "      <td id=\"T_622b1_row3_col2\" class=\"data row3 col2\" >0.00%</td>\n",
       "      <td id=\"T_622b1_row3_col3\" class=\"data row3 col3\" >float64</td>\n",
       "    </tr>\n",
       "  </tbody>\n",
       "</table>\n"
      ],
      "text/plain": [
       "<pandas.io.formats.style.Styler at 0x17417348e50>"
      ]
     },
     "metadata": {},
     "output_type": "display_data"
    },
    {
     "data": {
      "text/markdown": [
       "<H3 style='text-align:left;float:lfet;'>Sobre Dtypes, temos:"
      ],
      "text/plain": [
       "<IPython.core.display.Markdown object>"
      ]
     },
     "metadata": {},
     "output_type": "display_data"
    },
    {
     "data": {
      "text/html": [
       "<style type=\"text/css\">\n",
       "#T_d251a_row0_col2 {\n",
       "  background-color: #ffffe5;\n",
       "  color: #000000;\n",
       "}\n",
       "</style>\n",
       "<table id=\"T_d251a\">\n",
       "  <thead>\n",
       "    <tr>\n",
       "      <th class=\"blank level0\" >&nbsp;</th>\n",
       "      <th id=\"T_d251a_level0_col0\" class=\"col_heading level0 col0\" >Dtype</th>\n",
       "      <th id=\"T_d251a_level0_col1\" class=\"col_heading level0 col1\" >Count</th>\n",
       "      <th id=\"T_d251a_level0_col2\" class=\"col_heading level0 col2\" >Perce</th>\n",
       "    </tr>\n",
       "  </thead>\n",
       "  <tbody>\n",
       "    <tr>\n",
       "      <th id=\"T_d251a_level0_row0\" class=\"row_heading level0 row0\" >0</th>\n",
       "      <td id=\"T_d251a_row0_col0\" class=\"data row0 col0\" >float64</td>\n",
       "      <td id=\"T_d251a_row0_col1\" class=\"data row0 col1\" >4</td>\n",
       "      <td id=\"T_d251a_row0_col2\" class=\"data row0 col2\" >100.00%</td>\n",
       "    </tr>\n",
       "  </tbody>\n",
       "</table>\n"
      ],
      "text/plain": [
       "<pandas.io.formats.style.Styler at 0x174158272d0>"
      ]
     },
     "metadata": {},
     "output_type": "display_data"
    },
    {
     "data": {
      "text/markdown": [
       "<H3 style='text-align:left;float:lfet;'>Estatística Descritiva"
      ],
      "text/plain": [
       "<IPython.core.display.Markdown object>"
      ]
     },
     "metadata": {},
     "output_type": "display_data"
    },
    {
     "data": {
      "text/html": [
       "<div>\n",
       "<style scoped>\n",
       "    .dataframe tbody tr th:only-of-type {\n",
       "        vertical-align: middle;\n",
       "    }\n",
       "\n",
       "    .dataframe tbody tr th {\n",
       "        vertical-align: top;\n",
       "    }\n",
       "\n",
       "    .dataframe thead th {\n",
       "        text-align: right;\n",
       "    }\n",
       "</style>\n",
       "<table border=\"1\" class=\"dataframe\">\n",
       "  <thead>\n",
       "    <tr style=\"text-align: right;\">\n",
       "      <th></th>\n",
       "      <th>count</th>\n",
       "      <th>mean</th>\n",
       "      <th>std</th>\n",
       "      <th>min</th>\n",
       "      <th>1%</th>\n",
       "      <th>25%</th>\n",
       "      <th>50%</th>\n",
       "      <th>75%</th>\n",
       "      <th>99%</th>\n",
       "      <th>max</th>\n",
       "    </tr>\n",
       "  </thead>\n",
       "  <tbody>\n",
       "    <tr>\n",
       "      <th>youtube</th>\n",
       "      <td>171.00</td>\n",
       "      <td>178.02</td>\n",
       "      <td>102.45</td>\n",
       "      <td>0.84</td>\n",
       "      <td>6.01</td>\n",
       "      <td>91.08</td>\n",
       "      <td>179.76</td>\n",
       "      <td>262.98</td>\n",
       "      <td>351.73</td>\n",
       "      <td>355.68</td>\n",
       "    </tr>\n",
       "    <tr>\n",
       "      <th>facebook</th>\n",
       "      <td>171.00</td>\n",
       "      <td>27.67</td>\n",
       "      <td>17.91</td>\n",
       "      <td>0.00</td>\n",
       "      <td>0.44</td>\n",
       "      <td>11.70</td>\n",
       "      <td>26.76</td>\n",
       "      <td>43.68</td>\n",
       "      <td>59.28</td>\n",
       "      <td>59.52</td>\n",
       "    </tr>\n",
       "    <tr>\n",
       "      <th>newspaper</th>\n",
       "      <td>171.00</td>\n",
       "      <td>35.24</td>\n",
       "      <td>24.90</td>\n",
       "      <td>0.36</td>\n",
       "      <td>1.75</td>\n",
       "      <td>13.74</td>\n",
       "      <td>31.08</td>\n",
       "      <td>50.88</td>\n",
       "      <td>103.42</td>\n",
       "      <td>121.08</td>\n",
       "    </tr>\n",
       "    <tr>\n",
       "      <th>sales</th>\n",
       "      <td>171.00</td>\n",
       "      <td>16.92</td>\n",
       "      <td>6.31</td>\n",
       "      <td>1.92</td>\n",
       "      <td>5.60</td>\n",
       "      <td>12.54</td>\n",
       "      <td>15.48</td>\n",
       "      <td>20.82</td>\n",
       "      <td>30.85</td>\n",
       "      <td>32.40</td>\n",
       "    </tr>\n",
       "  </tbody>\n",
       "</table>\n",
       "</div>"
      ],
      "text/plain": [
       "           count   mean    std  min   1%   25%    50%    75%    99%    max\n",
       "youtube   171.00 178.02 102.45 0.84 6.01 91.08 179.76 262.98 351.73 355.68\n",
       "facebook  171.00  27.67  17.91 0.00 0.44 11.70  26.76  43.68  59.28  59.52\n",
       "newspaper 171.00  35.24  24.90 0.36 1.75 13.74  31.08  50.88 103.42 121.08\n",
       "sales     171.00  16.92   6.31 1.92 5.60 12.54  15.48  20.82  30.85  32.40"
      ]
     },
     "metadata": {},
     "output_type": "display_data"
    }
   ],
   "source": [
    "df_informations(df)"
   ]
  },
  {
   "attachments": {},
   "cell_type": "markdown",
   "metadata": {},
   "source": [
    "As informações **.describe** podem ser úteis para entender a dispersão e a tendência central dos dados.\n",
    "\n",
    "- <font color='chartreuse'>Média</font>: Representa a tendência central dos dados;\n",
    "- <font color='chartreuse'>Desvio Padrão</font>: Indica a dispersão, sugerindo uma variabilidade dos valores;\n",
    "- <font color='chartreuse'>Quartis</font>: Fornecem informações sobre a distribuição dos dados ao longo de diferentes partes; e\n",
    "- <font color='chartreuse'>Valor Mínimo e Máximo</font>: Indicam a faixa em que os dados estão concentrados.\n",
    "\n",
    "Logo, podemos observar que:\n",
    "\n",
    "1. **Variável \"youtube\":**\n",
    "    * A média de investimento do YouTube é de aproximadamente 178.02, o que nos mostra que é o que mais investe.\n",
    "    * O desvio padrão é relativamente alto (102.45), o que sugere que os dados do YouTube apresentam uma dispersão considerável em relação à média.\n",
    "    * Os quartis indicam que 25% dos dados estão abaixo de 91.08, 50% estão abaixo de 179.76 e 75% estão abaixo de 262.98.\n",
    "    * O valor mínimo é de 0.84 e o valor máximo é de 355.68, mostrando que a faixa de visualizações varia de forma considerável.\n",
    "<br></br>\n",
    "1. **Variável \"facebook\":**\n",
    "    * A média (27.67) de investimento do Facebook é aproximadamente 6.5x menor em relação ao Youtube.\n",
    "    * O desvio padrão é de 17.91, indicando uma dispersão alta (64.72%) em relação à média.\n",
    "    * Os quartis mostram que 25% dos dados estão abaixo de 11.70, 50% estão abaixo de 26.76 e 75% estão abaixo de 43.68.\n",
    "    * O valor mínimo é 0.00 e o valor máximo é 59.52, mostrando a faixa de valores para a métrica do Facebook.\n",
    "<br></br>\n",
    "1. **Variável \"newspaper\":**\n",
    "    * A média (35.24) do newspaper é a segunda maior ficando atrás apenas do Youtube.\n",
    "    * O desvio padrão é de 24.90, indicando uma dispersão relativamente alta (70.65%) em relação à média.\n",
    "    * Os quartis mostram que 25% dos dados estão abaixo de 13.74, 50% estão abaixo de 31.08 e 75% estão abaixo de 50.88.\n",
    "    * O valor mínimo é 0.36 e o valor máximo é 121.08, indicando uma ampla faixa de valores.\n",
    "<br></br>\n",
    "1. **Variável \"sales\":**\n",
    "    * A média para os dados de vendas é de aproximadamente 16.92.\n",
    "    * O desvio padrão é de 6.31, sugerindo uma dispersão moderada (37.29%) em relação à média.\n",
    "    * Os quartis mostram que 25% dos dados estão abaixo de 12.54, 50% estão abaixo de 15.48 e 75% estão abaixo de 20.82.\n",
    "    * O valor mínimo é 1.92 e o valor máximo é 32.40, mostrando a faixa de valores para as vendas."
   ]
  },
  {
   "attachments": {},
   "cell_type": "markdown",
   "metadata": {},
   "source": [
    "### Análise Gráfica"
   ]
  },
  {
   "cell_type": "code",
   "execution_count": 48,
   "metadata": {},
   "outputs": [
    {
     "data": {
      "application/vnd.plotly.v1+json": {
       "config": {
        "plotlyServerURL": "https://plot.ly"
       },
       "data": [
        {
         "marker": {
          "color": "red"
         },
         "nbinsx": 40,
         "showlegend": false,
         "type": "histogram",
         "x": [
          84.72,
          351.48,
          135.48,
          116.64,
          318.72,
          114.84,
          348.84,
          320.28,
          89.64,
          51.72,
          273.6,
          243,
          212.4,
          352.32,
          248.28,
          30.12,
          210.12,
          107.64,
          287.88,
          272.64,
          80.28,
          239.76,
          120.48,
          259.68,
          219.12,
          315.24,
          238.68,
          8.76,
          163.44,
          252.96,
          252.84,
          64.2,
          313.56,
          287.16,
          123.24,
          157.32,
          82.8,
          37.8,
          167.16,
          284.88,
          260.16,
          238.92,
          131.76,
          32.16,
          155.28,
          256.08,
          20.28,
          33,
          144.6,
          6.48,
          139.2,
          91.68,
          287.76,
          90.36,
          82.08,
          256.2,
          231.84,
          91.56,
          132.84,
          105.96,
          131.76,
          161.16,
          34.32,
          261.24,
          301.08,
          128.88,
          195.96,
          237.12,
          221.88,
          347.64,
          162.24,
          266.88,
          355.68,
          336.24,
          225.48,
          285.84,
          165.48,
          30,
          108.48,
          15.72,
          306.48,
          270.96,
          290.04,
          210.84,
          251.52,
          93.84,
          90.12,
          167.04,
          91.68,
          150.84,
          23.28,
          169.56,
          22.56,
          268.8,
          147.72,
          275.4,
          104.64,
          9.36,
          96.24,
          264.36,
          71.52,
          0.84,
          318.24,
          10.08,
          263.76,
          44.28,
          57.96,
          30.72,
          328.44,
          51.6,
          221.88,
          88.08,
          232.44,
          264.6,
          125.52,
          115.44,
          168.36,
          288.12,
          291.84,
          45.6,
          53.64,
          336.84,
          145.2,
          237.12,
          205.56,
          225.36,
          4.92,
          112.68,
          179.76,
          14.04,
          158.04,
          207,
          102.84,
          226.08,
          196.2,
          140.64,
          281.4,
          21.48,
          248.16,
          258.48,
          341.16,
          60,
          197.4,
          23.52,
          202.08,
          266.88,
          332.28,
          298.08,
          204.24,
          332.04,
          198.72,
          187.92,
          262.2,
          67.44,
          345.12,
          304.56,
          246,
          167.4,
          229.32,
          343.2,
          22.44,
          47.4,
          90.6,
          20.64,
          200.16,
          179.64,
          45.84,
          113.04,
          212.4,
          340.32,
          278.52
         ],
         "xaxis": "x",
         "yaxis": "y"
        },
        {
         "marker": {
          "color": "red"
         },
         "showlegend": false,
         "type": "box",
         "xaxis": "x2",
         "y": [
          84.72,
          351.48,
          135.48,
          116.64,
          318.72,
          114.84,
          348.84,
          320.28,
          89.64,
          51.72,
          273.6,
          243,
          212.4,
          352.32,
          248.28,
          30.12,
          210.12,
          107.64,
          287.88,
          272.64,
          80.28,
          239.76,
          120.48,
          259.68,
          219.12,
          315.24,
          238.68,
          8.76,
          163.44,
          252.96,
          252.84,
          64.2,
          313.56,
          287.16,
          123.24,
          157.32,
          82.8,
          37.8,
          167.16,
          284.88,
          260.16,
          238.92,
          131.76,
          32.16,
          155.28,
          256.08,
          20.28,
          33,
          144.6,
          6.48,
          139.2,
          91.68,
          287.76,
          90.36,
          82.08,
          256.2,
          231.84,
          91.56,
          132.84,
          105.96,
          131.76,
          161.16,
          34.32,
          261.24,
          301.08,
          128.88,
          195.96,
          237.12,
          221.88,
          347.64,
          162.24,
          266.88,
          355.68,
          336.24,
          225.48,
          285.84,
          165.48,
          30,
          108.48,
          15.72,
          306.48,
          270.96,
          290.04,
          210.84,
          251.52,
          93.84,
          90.12,
          167.04,
          91.68,
          150.84,
          23.28,
          169.56,
          22.56,
          268.8,
          147.72,
          275.4,
          104.64,
          9.36,
          96.24,
          264.36,
          71.52,
          0.84,
          318.24,
          10.08,
          263.76,
          44.28,
          57.96,
          30.72,
          328.44,
          51.6,
          221.88,
          88.08,
          232.44,
          264.6,
          125.52,
          115.44,
          168.36,
          288.12,
          291.84,
          45.6,
          53.64,
          336.84,
          145.2,
          237.12,
          205.56,
          225.36,
          4.92,
          112.68,
          179.76,
          14.04,
          158.04,
          207,
          102.84,
          226.08,
          196.2,
          140.64,
          281.4,
          21.48,
          248.16,
          258.48,
          341.16,
          60,
          197.4,
          23.52,
          202.08,
          266.88,
          332.28,
          298.08,
          204.24,
          332.04,
          198.72,
          187.92,
          262.2,
          67.44,
          345.12,
          304.56,
          246,
          167.4,
          229.32,
          343.2,
          22.44,
          47.4,
          90.6,
          20.64,
          200.16,
          179.64,
          45.84,
          113.04,
          212.4,
          340.32,
          278.52
         ],
         "yaxis": "y2"
        },
        {
         "marker": {
          "color": "green"
         },
         "nbinsx": 40,
         "showlegend": false,
         "type": "histogram",
         "x": [
          19.2,
          33.96,
          20.88,
          1.8,
          24,
          1.68,
          4.92,
          52.56,
          59.28,
          32.04,
          45.24,
          26.76,
          40.08,
          33.24,
          10.08,
          30.84,
          27,
          11.88,
          49.8,
          18.96,
          14.04,
          3.72,
          11.52,
          50.04,
          55.44,
          34.56,
          59.28,
          33.72,
          23.04,
          59.52,
          35.4,
          2.4,
          51.24,
          18.6,
          35.52,
          51.36,
          11.16,
          29.52,
          17.4,
          33,
          52.68,
          36.72,
          17.16,
          39.6,
          6.84,
          29.52,
          52.44,
          1.92,
          34.2,
          35.88,
          9.24,
          32.04,
          4.92,
          24.36,
          53.4,
          51.6,
          22.08,
          33,
          48.72,
          30.6,
          57.36,
          5.88,
          1.8,
          40.2,
          43.8,
          16.8,
          37.92,
          4.2,
          25.2,
          50.76,
          50.04,
          5.16,
          43.56,
          12.12,
          20.64,
          41.16,
          55.68,
          13.2,
          0.36,
          0.48,
          32.28,
          9.84,
          45.6,
          18.48,
          24.72,
          56.16,
          42,
          17.16,
          0.96,
          44.28,
          19.2,
          32.16,
          26.04,
          2.88,
          41.52,
          38.76,
          14.16,
          46.68,
          0,
          58.8,
          14.4,
          47.52,
          3.48,
          32.64,
          40.2,
          46.32,
          56.4,
          46.8,
          34.68,
          31.08,
          52.68,
          20.4,
          42.48,
          39.84,
          6.84,
          17.76,
          2.28,
          8.76,
          58.8,
          48.36,
          30.96,
          16.68,
          10.08,
          27.96,
          47.64,
          25.32,
          13.92,
          52.2,
          1.56,
          44.28,
          22.08,
          21.72,
          42.96,
          21.72,
          44.16,
          17.64,
          4.08,
          45.12,
          6.24,
          28.32,
          12.72,
          13.92,
          25.08,
          24.12,
          8.52,
          4.08,
          58.68,
          36.24,
          9.36,
          2.76,
          12,
          3.12,
          6.48,
          6.84,
          51.6,
          25.56,
          54.12,
          2.52,
          34.44,
          16.68,
          14.52,
          49.32,
          12.96,
          4.92,
          50.4,
          42.72,
          4.44,
          5.88,
          11.16,
          50.4,
          10.32
         ],
         "xaxis": "x3",
         "yaxis": "y3"
        },
        {
         "marker": {
          "color": "green"
         },
         "showlegend": false,
         "type": "box",
         "xaxis": "x4",
         "y": [
          19.2,
          33.96,
          20.88,
          1.8,
          24,
          1.68,
          4.92,
          52.56,
          59.28,
          32.04,
          45.24,
          26.76,
          40.08,
          33.24,
          10.08,
          30.84,
          27,
          11.88,
          49.8,
          18.96,
          14.04,
          3.72,
          11.52,
          50.04,
          55.44,
          34.56,
          59.28,
          33.72,
          23.04,
          59.52,
          35.4,
          2.4,
          51.24,
          18.6,
          35.52,
          51.36,
          11.16,
          29.52,
          17.4,
          33,
          52.68,
          36.72,
          17.16,
          39.6,
          6.84,
          29.52,
          52.44,
          1.92,
          34.2,
          35.88,
          9.24,
          32.04,
          4.92,
          24.36,
          53.4,
          51.6,
          22.08,
          33,
          48.72,
          30.6,
          57.36,
          5.88,
          1.8,
          40.2,
          43.8,
          16.8,
          37.92,
          4.2,
          25.2,
          50.76,
          50.04,
          5.16,
          43.56,
          12.12,
          20.64,
          41.16,
          55.68,
          13.2,
          0.36,
          0.48,
          32.28,
          9.84,
          45.6,
          18.48,
          24.72,
          56.16,
          42,
          17.16,
          0.96,
          44.28,
          19.2,
          32.16,
          26.04,
          2.88,
          41.52,
          38.76,
          14.16,
          46.68,
          0,
          58.8,
          14.4,
          47.52,
          3.48,
          32.64,
          40.2,
          46.32,
          56.4,
          46.8,
          34.68,
          31.08,
          52.68,
          20.4,
          42.48,
          39.84,
          6.84,
          17.76,
          2.28,
          8.76,
          58.8,
          48.36,
          30.96,
          16.68,
          10.08,
          27.96,
          47.64,
          25.32,
          13.92,
          52.2,
          1.56,
          44.28,
          22.08,
          21.72,
          42.96,
          21.72,
          44.16,
          17.64,
          4.08,
          45.12,
          6.24,
          28.32,
          12.72,
          13.92,
          25.08,
          24.12,
          8.52,
          4.08,
          58.68,
          36.24,
          9.36,
          2.76,
          12,
          3.12,
          6.48,
          6.84,
          51.6,
          25.56,
          54.12,
          2.52,
          34.44,
          16.68,
          14.52,
          49.32,
          12.96,
          4.92,
          50.4,
          42.72,
          4.44,
          5.88,
          11.16,
          50.4,
          10.32
         ],
         "yaxis": "y4"
        },
        {
         "marker": {
          "color": "purple"
         },
         "nbinsx": 40,
         "showlegend": false,
         "type": "histogram",
         "x": [
          48.96,
          51.84,
          46.32,
          36,
          0.36,
          8.88,
          10.2,
          6,
          54.84,
          42.12,
          38.4,
          37.92,
          46.44,
          2.16,
          31.68,
          51.96,
          37.8,
          42.84,
          22.2,
          59.88,
          44.16,
          41.52,
          4.32,
          47.52,
          70.44,
          19.08,
          72,
          49.68,
          19.92,
          45.24,
          11.16,
          25.68,
          65.64,
          32.76,
          10.08,
          34.68,
          1.08,
          2.64,
          12.24,
          13.2,
          32.64,
          46.44,
          38.04,
          23.16,
          37.56,
          15.72,
          107.28,
          24.84,
          17.04,
          11.28,
          27.72,
          26.76,
          44.28,
          39,
          42.72,
          40.56,
          78.84,
          19.2,
          75.84,
          88.08,
          61.68,
          11.16,
          39.6,
          70.8,
          86.76,
          13.08,
          63.48,
          7.08,
          26.4,
          61.44,
          55.08,
          59.76,
          121.08,
          25.68,
          21.48,
          6.36,
          70.8,
          35.64,
          27.84,
          30.72,
          6.6,
          67.8,
          27.84,
          2.88,
          12.84,
          41.4,
          63.24,
          30.72,
          17.76,
          95.04,
          26.76,
          55.44,
          60.48,
          18.72,
          14.88,
          89.04,
          31.08,
          60.72,
          11.04,
          3.84,
          51.72,
          10.44,
          51.6,
          2.52,
          54.12,
          78.72,
          10.2,
          11.16,
          71.64,
          24.6,
          2.04,
          15.48,
          90.72,
          45.48,
          41.28,
          46.68,
          10.8,
          10.44,
          53.16,
          14.28,
          24.72,
          44.4,
          58.44,
          17.04,
          45.24,
          11.4,
          6.84,
          60.6,
          29.16,
          54.24,
          41.52,
          36.84,
          59.16,
          30.72,
          8.88,
          6.48,
          101.76,
          25.92,
          23.28,
          69.12,
          7.68,
          22.08,
          56.88,
          20.4,
          15.36,
          15.72,
          50.16,
          24.36,
          42.24,
          28.44,
          21.12,
          9.96,
          32.88,
          35.64,
          86.16,
          36,
          23.52,
          31.92,
          21.84,
          4.44,
          28.08,
          6.96,
          7.2,
          37.92,
          4.32,
          7.2,
          16.56,
          9.72,
          7.68,
          79.44,
          10.44
         ],
         "xaxis": "x5",
         "yaxis": "y5"
        },
        {
         "marker": {
          "color": "purple"
         },
         "showlegend": false,
         "type": "box",
         "xaxis": "x6",
         "y": [
          48.96,
          51.84,
          46.32,
          36,
          0.36,
          8.88,
          10.2,
          6,
          54.84,
          42.12,
          38.4,
          37.92,
          46.44,
          2.16,
          31.68,
          51.96,
          37.8,
          42.84,
          22.2,
          59.88,
          44.16,
          41.52,
          4.32,
          47.52,
          70.44,
          19.08,
          72,
          49.68,
          19.92,
          45.24,
          11.16,
          25.68,
          65.64,
          32.76,
          10.08,
          34.68,
          1.08,
          2.64,
          12.24,
          13.2,
          32.64,
          46.44,
          38.04,
          23.16,
          37.56,
          15.72,
          107.28,
          24.84,
          17.04,
          11.28,
          27.72,
          26.76,
          44.28,
          39,
          42.72,
          40.56,
          78.84,
          19.2,
          75.84,
          88.08,
          61.68,
          11.16,
          39.6,
          70.8,
          86.76,
          13.08,
          63.48,
          7.08,
          26.4,
          61.44,
          55.08,
          59.76,
          121.08,
          25.68,
          21.48,
          6.36,
          70.8,
          35.64,
          27.84,
          30.72,
          6.6,
          67.8,
          27.84,
          2.88,
          12.84,
          41.4,
          63.24,
          30.72,
          17.76,
          95.04,
          26.76,
          55.44,
          60.48,
          18.72,
          14.88,
          89.04,
          31.08,
          60.72,
          11.04,
          3.84,
          51.72,
          10.44,
          51.6,
          2.52,
          54.12,
          78.72,
          10.2,
          11.16,
          71.64,
          24.6,
          2.04,
          15.48,
          90.72,
          45.48,
          41.28,
          46.68,
          10.8,
          10.44,
          53.16,
          14.28,
          24.72,
          44.4,
          58.44,
          17.04,
          45.24,
          11.4,
          6.84,
          60.6,
          29.16,
          54.24,
          41.52,
          36.84,
          59.16,
          30.72,
          8.88,
          6.48,
          101.76,
          25.92,
          23.28,
          69.12,
          7.68,
          22.08,
          56.88,
          20.4,
          15.36,
          15.72,
          50.16,
          24.36,
          42.24,
          28.44,
          21.12,
          9.96,
          32.88,
          35.64,
          86.16,
          36,
          23.52,
          31.92,
          21.84,
          4.44,
          28.08,
          6.96,
          7.2,
          37.92,
          4.32,
          7.2,
          16.56,
          9.72,
          7.68,
          79.44,
          10.44
         ],
         "yaxis": "y6"
        },
        {
         "marker": {
          "color": "orange"
         },
         "nbinsx": 40,
         "showlegend": false,
         "type": "histogram",
         "x": [
          12.6,
          25.68,
          14.28,
          11.52,
          20.88,
          11.4,
          15.36,
          30.48,
          17.64,
          12.12,
          25.8,
          19.92,
          20.52,
          24.84,
          15.48,
          10.2,
          17.88,
          12.72,
          27.84,
          17.76,
          11.64,
          13.68,
          12.84,
          27.12,
          25.44,
          24.24,
          28.44,
          6.6,
          15.84,
          28.56,
          22.08,
          9.72,
          29.04,
          18.84,
          16.8,
          21.6,
          11.16,
          11.4,
          16.08,
          22.68,
          26.76,
          21.96,
          14.88,
          10.56,
          13.2,
          20.4,
          10.44,
          8.28,
          17.04,
          6.36,
          13.2,
          14.16,
          14.76,
          13.56,
          16.32,
          26.04,
          18.24,
          14.4,
          19.2,
          15.48,
          20.04,
          13.44,
          8.76,
          23.28,
          26.64,
          13.8,
          20.28,
          14.04,
          18.6,
          30.48,
          20.64,
          14.04,
          28.56,
          17.76,
          17.64,
          24.84,
          23.04,
          8.64,
          10.44,
          6.36,
          23.76,
          16.08,
          26.16,
          16.92,
          19.08,
          17.52,
          15.12,
          14.64,
          11.28,
          19.08,
          7.92,
          18.6,
          8.4,
          13.92,
          18.24,
          23.64,
          12.72,
          7.92,
          10.56,
          29.64,
          11.64,
          1.92,
          15.24,
          6.84,
          23.52,
          12.96,
          13.92,
          11.4,
          24.96,
          11.52,
          24.84,
          13.08,
          23.04,
          24.12,
          12.48,
          13.68,
          12.36,
          15.84,
          30.48,
          13.08,
          12.12,
          19.32,
          13.92,
          19.92,
          22.8,
          18.72,
          3.84,
          18.36,
          12.12,
          8.76,
          15.48,
          17.28,
          15.96,
          17.88,
          21.6,
          14.28,
          14.28,
          9.6,
          14.64,
          20.52,
          18,
          10.08,
          17.4,
          9.12,
          14.04,
          13.8,
          32.4,
          24.24,
          14.04,
          14.16,
          15.12,
          12.6,
          14.64,
          10.44,
          31.44,
          21.12,
          27.12,
          12.36,
          20.76,
          19.08,
          8.04,
          12.96,
          11.88,
          7.08,
          23.52,
          20.76,
          9.12,
          11.64,
          15.36,
          30.6,
          16.08
         ],
         "xaxis": "x7",
         "yaxis": "y7"
        },
        {
         "marker": {
          "color": "orange"
         },
         "showlegend": false,
         "type": "box",
         "xaxis": "x8",
         "y": [
          12.6,
          25.68,
          14.28,
          11.52,
          20.88,
          11.4,
          15.36,
          30.48,
          17.64,
          12.12,
          25.8,
          19.92,
          20.52,
          24.84,
          15.48,
          10.2,
          17.88,
          12.72,
          27.84,
          17.76,
          11.64,
          13.68,
          12.84,
          27.12,
          25.44,
          24.24,
          28.44,
          6.6,
          15.84,
          28.56,
          22.08,
          9.72,
          29.04,
          18.84,
          16.8,
          21.6,
          11.16,
          11.4,
          16.08,
          22.68,
          26.76,
          21.96,
          14.88,
          10.56,
          13.2,
          20.4,
          10.44,
          8.28,
          17.04,
          6.36,
          13.2,
          14.16,
          14.76,
          13.56,
          16.32,
          26.04,
          18.24,
          14.4,
          19.2,
          15.48,
          20.04,
          13.44,
          8.76,
          23.28,
          26.64,
          13.8,
          20.28,
          14.04,
          18.6,
          30.48,
          20.64,
          14.04,
          28.56,
          17.76,
          17.64,
          24.84,
          23.04,
          8.64,
          10.44,
          6.36,
          23.76,
          16.08,
          26.16,
          16.92,
          19.08,
          17.52,
          15.12,
          14.64,
          11.28,
          19.08,
          7.92,
          18.6,
          8.4,
          13.92,
          18.24,
          23.64,
          12.72,
          7.92,
          10.56,
          29.64,
          11.64,
          1.92,
          15.24,
          6.84,
          23.52,
          12.96,
          13.92,
          11.4,
          24.96,
          11.52,
          24.84,
          13.08,
          23.04,
          24.12,
          12.48,
          13.68,
          12.36,
          15.84,
          30.48,
          13.08,
          12.12,
          19.32,
          13.92,
          19.92,
          22.8,
          18.72,
          3.84,
          18.36,
          12.12,
          8.76,
          15.48,
          17.28,
          15.96,
          17.88,
          21.6,
          14.28,
          14.28,
          9.6,
          14.64,
          20.52,
          18,
          10.08,
          17.4,
          9.12,
          14.04,
          13.8,
          32.4,
          24.24,
          14.04,
          14.16,
          15.12,
          12.6,
          14.64,
          10.44,
          31.44,
          21.12,
          27.12,
          12.36,
          20.76,
          19.08,
          8.04,
          12.96,
          11.88,
          7.08,
          23.52,
          20.76,
          9.12,
          11.64,
          15.36,
          30.6,
          16.08
         ],
         "yaxis": "y8"
        }
       ],
       "layout": {
        "annotations": [
         {
          "font": {
           "size": 16
          },
          "showarrow": false,
          "text": "Histograma - youtube",
          "x": 0.225,
          "xanchor": "center",
          "xref": "paper",
          "y": 1,
          "yanchor": "bottom",
          "yref": "paper"
         },
         {
          "font": {
           "size": 16
          },
          "showarrow": false,
          "text": "Boxplot - youtube",
          "x": 0.775,
          "xanchor": "center",
          "xref": "paper",
          "y": 1,
          "yanchor": "bottom",
          "yref": "paper"
         },
         {
          "font": {
           "size": 16
          },
          "showarrow": false,
          "text": "Histograma - facebook",
          "x": 0.225,
          "xanchor": "center",
          "xref": "paper",
          "y": 0.71875,
          "yanchor": "bottom",
          "yref": "paper"
         },
         {
          "font": {
           "size": 16
          },
          "showarrow": false,
          "text": "Boxplot - facebook",
          "x": 0.775,
          "xanchor": "center",
          "xref": "paper",
          "y": 0.71875,
          "yanchor": "bottom",
          "yref": "paper"
         },
         {
          "font": {
           "size": 16
          },
          "showarrow": false,
          "text": "Histograma - newspaper",
          "x": 0.225,
          "xanchor": "center",
          "xref": "paper",
          "y": 0.4375,
          "yanchor": "bottom",
          "yref": "paper"
         },
         {
          "font": {
           "size": 16
          },
          "showarrow": false,
          "text": "Boxplot - newspaper",
          "x": 0.775,
          "xanchor": "center",
          "xref": "paper",
          "y": 0.4375,
          "yanchor": "bottom",
          "yref": "paper"
         },
         {
          "font": {
           "size": 16
          },
          "showarrow": false,
          "text": "Histograma - sales",
          "x": 0.225,
          "xanchor": "center",
          "xref": "paper",
          "y": 0.15625,
          "yanchor": "bottom",
          "yref": "paper"
         },
         {
          "font": {
           "size": 16
          },
          "showarrow": false,
          "text": "Boxplot - sales",
          "x": 0.775,
          "xanchor": "center",
          "xref": "paper",
          "y": 0.15625,
          "yanchor": "bottom",
          "yref": "paper"
         }
        ],
        "height": 1200,
        "template": {
         "data": {
          "bar": [
           {
            "error_x": {
             "color": "#2a3f5f"
            },
            "error_y": {
             "color": "#2a3f5f"
            },
            "marker": {
             "line": {
              "color": "#E5ECF6",
              "width": 0.5
             },
             "pattern": {
              "fillmode": "overlay",
              "size": 10,
              "solidity": 0.2
             }
            },
            "type": "bar"
           }
          ],
          "barpolar": [
           {
            "marker": {
             "line": {
              "color": "#E5ECF6",
              "width": 0.5
             },
             "pattern": {
              "fillmode": "overlay",
              "size": 10,
              "solidity": 0.2
             }
            },
            "type": "barpolar"
           }
          ],
          "carpet": [
           {
            "aaxis": {
             "endlinecolor": "#2a3f5f",
             "gridcolor": "white",
             "linecolor": "white",
             "minorgridcolor": "white",
             "startlinecolor": "#2a3f5f"
            },
            "baxis": {
             "endlinecolor": "#2a3f5f",
             "gridcolor": "white",
             "linecolor": "white",
             "minorgridcolor": "white",
             "startlinecolor": "#2a3f5f"
            },
            "type": "carpet"
           }
          ],
          "choropleth": [
           {
            "colorbar": {
             "outlinewidth": 0,
             "ticks": ""
            },
            "type": "choropleth"
           }
          ],
          "contour": [
           {
            "colorbar": {
             "outlinewidth": 0,
             "ticks": ""
            },
            "colorscale": [
             [
              0,
              "#0d0887"
             ],
             [
              0.1111111111111111,
              "#46039f"
             ],
             [
              0.2222222222222222,
              "#7201a8"
             ],
             [
              0.3333333333333333,
              "#9c179e"
             ],
             [
              0.4444444444444444,
              "#bd3786"
             ],
             [
              0.5555555555555556,
              "#d8576b"
             ],
             [
              0.6666666666666666,
              "#ed7953"
             ],
             [
              0.7777777777777778,
              "#fb9f3a"
             ],
             [
              0.8888888888888888,
              "#fdca26"
             ],
             [
              1,
              "#f0f921"
             ]
            ],
            "type": "contour"
           }
          ],
          "contourcarpet": [
           {
            "colorbar": {
             "outlinewidth": 0,
             "ticks": ""
            },
            "type": "contourcarpet"
           }
          ],
          "heatmap": [
           {
            "colorbar": {
             "outlinewidth": 0,
             "ticks": ""
            },
            "colorscale": [
             [
              0,
              "#0d0887"
             ],
             [
              0.1111111111111111,
              "#46039f"
             ],
             [
              0.2222222222222222,
              "#7201a8"
             ],
             [
              0.3333333333333333,
              "#9c179e"
             ],
             [
              0.4444444444444444,
              "#bd3786"
             ],
             [
              0.5555555555555556,
              "#d8576b"
             ],
             [
              0.6666666666666666,
              "#ed7953"
             ],
             [
              0.7777777777777778,
              "#fb9f3a"
             ],
             [
              0.8888888888888888,
              "#fdca26"
             ],
             [
              1,
              "#f0f921"
             ]
            ],
            "type": "heatmap"
           }
          ],
          "heatmapgl": [
           {
            "colorbar": {
             "outlinewidth": 0,
             "ticks": ""
            },
            "colorscale": [
             [
              0,
              "#0d0887"
             ],
             [
              0.1111111111111111,
              "#46039f"
             ],
             [
              0.2222222222222222,
              "#7201a8"
             ],
             [
              0.3333333333333333,
              "#9c179e"
             ],
             [
              0.4444444444444444,
              "#bd3786"
             ],
             [
              0.5555555555555556,
              "#d8576b"
             ],
             [
              0.6666666666666666,
              "#ed7953"
             ],
             [
              0.7777777777777778,
              "#fb9f3a"
             ],
             [
              0.8888888888888888,
              "#fdca26"
             ],
             [
              1,
              "#f0f921"
             ]
            ],
            "type": "heatmapgl"
           }
          ],
          "histogram": [
           {
            "marker": {
             "pattern": {
              "fillmode": "overlay",
              "size": 10,
              "solidity": 0.2
             }
            },
            "type": "histogram"
           }
          ],
          "histogram2d": [
           {
            "colorbar": {
             "outlinewidth": 0,
             "ticks": ""
            },
            "colorscale": [
             [
              0,
              "#0d0887"
             ],
             [
              0.1111111111111111,
              "#46039f"
             ],
             [
              0.2222222222222222,
              "#7201a8"
             ],
             [
              0.3333333333333333,
              "#9c179e"
             ],
             [
              0.4444444444444444,
              "#bd3786"
             ],
             [
              0.5555555555555556,
              "#d8576b"
             ],
             [
              0.6666666666666666,
              "#ed7953"
             ],
             [
              0.7777777777777778,
              "#fb9f3a"
             ],
             [
              0.8888888888888888,
              "#fdca26"
             ],
             [
              1,
              "#f0f921"
             ]
            ],
            "type": "histogram2d"
           }
          ],
          "histogram2dcontour": [
           {
            "colorbar": {
             "outlinewidth": 0,
             "ticks": ""
            },
            "colorscale": [
             [
              0,
              "#0d0887"
             ],
             [
              0.1111111111111111,
              "#46039f"
             ],
             [
              0.2222222222222222,
              "#7201a8"
             ],
             [
              0.3333333333333333,
              "#9c179e"
             ],
             [
              0.4444444444444444,
              "#bd3786"
             ],
             [
              0.5555555555555556,
              "#d8576b"
             ],
             [
              0.6666666666666666,
              "#ed7953"
             ],
             [
              0.7777777777777778,
              "#fb9f3a"
             ],
             [
              0.8888888888888888,
              "#fdca26"
             ],
             [
              1,
              "#f0f921"
             ]
            ],
            "type": "histogram2dcontour"
           }
          ],
          "mesh3d": [
           {
            "colorbar": {
             "outlinewidth": 0,
             "ticks": ""
            },
            "type": "mesh3d"
           }
          ],
          "parcoords": [
           {
            "line": {
             "colorbar": {
              "outlinewidth": 0,
              "ticks": ""
             }
            },
            "type": "parcoords"
           }
          ],
          "pie": [
           {
            "automargin": true,
            "type": "pie"
           }
          ],
          "scatter": [
           {
            "fillpattern": {
             "fillmode": "overlay",
             "size": 10,
             "solidity": 0.2
            },
            "type": "scatter"
           }
          ],
          "scatter3d": [
           {
            "line": {
             "colorbar": {
              "outlinewidth": 0,
              "ticks": ""
             }
            },
            "marker": {
             "colorbar": {
              "outlinewidth": 0,
              "ticks": ""
             }
            },
            "type": "scatter3d"
           }
          ],
          "scattercarpet": [
           {
            "marker": {
             "colorbar": {
              "outlinewidth": 0,
              "ticks": ""
             }
            },
            "type": "scattercarpet"
           }
          ],
          "scattergeo": [
           {
            "marker": {
             "colorbar": {
              "outlinewidth": 0,
              "ticks": ""
             }
            },
            "type": "scattergeo"
           }
          ],
          "scattergl": [
           {
            "marker": {
             "colorbar": {
              "outlinewidth": 0,
              "ticks": ""
             }
            },
            "type": "scattergl"
           }
          ],
          "scattermapbox": [
           {
            "marker": {
             "colorbar": {
              "outlinewidth": 0,
              "ticks": ""
             }
            },
            "type": "scattermapbox"
           }
          ],
          "scatterpolar": [
           {
            "marker": {
             "colorbar": {
              "outlinewidth": 0,
              "ticks": ""
             }
            },
            "type": "scatterpolar"
           }
          ],
          "scatterpolargl": [
           {
            "marker": {
             "colorbar": {
              "outlinewidth": 0,
              "ticks": ""
             }
            },
            "type": "scatterpolargl"
           }
          ],
          "scatterternary": [
           {
            "marker": {
             "colorbar": {
              "outlinewidth": 0,
              "ticks": ""
             }
            },
            "type": "scatterternary"
           }
          ],
          "surface": [
           {
            "colorbar": {
             "outlinewidth": 0,
             "ticks": ""
            },
            "colorscale": [
             [
              0,
              "#0d0887"
             ],
             [
              0.1111111111111111,
              "#46039f"
             ],
             [
              0.2222222222222222,
              "#7201a8"
             ],
             [
              0.3333333333333333,
              "#9c179e"
             ],
             [
              0.4444444444444444,
              "#bd3786"
             ],
             [
              0.5555555555555556,
              "#d8576b"
             ],
             [
              0.6666666666666666,
              "#ed7953"
             ],
             [
              0.7777777777777778,
              "#fb9f3a"
             ],
             [
              0.8888888888888888,
              "#fdca26"
             ],
             [
              1,
              "#f0f921"
             ]
            ],
            "type": "surface"
           }
          ],
          "table": [
           {
            "cells": {
             "fill": {
              "color": "#EBF0F8"
             },
             "line": {
              "color": "white"
             }
            },
            "header": {
             "fill": {
              "color": "#C8D4E3"
             },
             "line": {
              "color": "white"
             }
            },
            "type": "table"
           }
          ]
         },
         "layout": {
          "annotationdefaults": {
           "arrowcolor": "#2a3f5f",
           "arrowhead": 0,
           "arrowwidth": 1
          },
          "autotypenumbers": "strict",
          "coloraxis": {
           "colorbar": {
            "outlinewidth": 0,
            "ticks": ""
           }
          },
          "colorscale": {
           "diverging": [
            [
             0,
             "#8e0152"
            ],
            [
             0.1,
             "#c51b7d"
            ],
            [
             0.2,
             "#de77ae"
            ],
            [
             0.3,
             "#f1b6da"
            ],
            [
             0.4,
             "#fde0ef"
            ],
            [
             0.5,
             "#f7f7f7"
            ],
            [
             0.6,
             "#e6f5d0"
            ],
            [
             0.7,
             "#b8e186"
            ],
            [
             0.8,
             "#7fbc41"
            ],
            [
             0.9,
             "#4d9221"
            ],
            [
             1,
             "#276419"
            ]
           ],
           "sequential": [
            [
             0,
             "#0d0887"
            ],
            [
             0.1111111111111111,
             "#46039f"
            ],
            [
             0.2222222222222222,
             "#7201a8"
            ],
            [
             0.3333333333333333,
             "#9c179e"
            ],
            [
             0.4444444444444444,
             "#bd3786"
            ],
            [
             0.5555555555555556,
             "#d8576b"
            ],
            [
             0.6666666666666666,
             "#ed7953"
            ],
            [
             0.7777777777777778,
             "#fb9f3a"
            ],
            [
             0.8888888888888888,
             "#fdca26"
            ],
            [
             1,
             "#f0f921"
            ]
           ],
           "sequentialminus": [
            [
             0,
             "#0d0887"
            ],
            [
             0.1111111111111111,
             "#46039f"
            ],
            [
             0.2222222222222222,
             "#7201a8"
            ],
            [
             0.3333333333333333,
             "#9c179e"
            ],
            [
             0.4444444444444444,
             "#bd3786"
            ],
            [
             0.5555555555555556,
             "#d8576b"
            ],
            [
             0.6666666666666666,
             "#ed7953"
            ],
            [
             0.7777777777777778,
             "#fb9f3a"
            ],
            [
             0.8888888888888888,
             "#fdca26"
            ],
            [
             1,
             "#f0f921"
            ]
           ]
          },
          "colorway": [
           "#636efa",
           "#EF553B",
           "#00cc96",
           "#ab63fa",
           "#FFA15A",
           "#19d3f3",
           "#FF6692",
           "#B6E880",
           "#FF97FF",
           "#FECB52"
          ],
          "font": {
           "color": "#2a3f5f"
          },
          "geo": {
           "bgcolor": "white",
           "lakecolor": "white",
           "landcolor": "#E5ECF6",
           "showlakes": true,
           "showland": true,
           "subunitcolor": "white"
          },
          "hoverlabel": {
           "align": "left"
          },
          "hovermode": "closest",
          "mapbox": {
           "style": "light"
          },
          "paper_bgcolor": "white",
          "plot_bgcolor": "#E5ECF6",
          "polar": {
           "angularaxis": {
            "gridcolor": "white",
            "linecolor": "white",
            "ticks": ""
           },
           "bgcolor": "#E5ECF6",
           "radialaxis": {
            "gridcolor": "white",
            "linecolor": "white",
            "ticks": ""
           }
          },
          "scene": {
           "xaxis": {
            "backgroundcolor": "#E5ECF6",
            "gridcolor": "white",
            "gridwidth": 2,
            "linecolor": "white",
            "showbackground": true,
            "ticks": "",
            "zerolinecolor": "white"
           },
           "yaxis": {
            "backgroundcolor": "#E5ECF6",
            "gridcolor": "white",
            "gridwidth": 2,
            "linecolor": "white",
            "showbackground": true,
            "ticks": "",
            "zerolinecolor": "white"
           },
           "zaxis": {
            "backgroundcolor": "#E5ECF6",
            "gridcolor": "white",
            "gridwidth": 2,
            "linecolor": "white",
            "showbackground": true,
            "ticks": "",
            "zerolinecolor": "white"
           }
          },
          "shapedefaults": {
           "line": {
            "color": "#2a3f5f"
           }
          },
          "ternary": {
           "aaxis": {
            "gridcolor": "white",
            "linecolor": "white",
            "ticks": ""
           },
           "baxis": {
            "gridcolor": "white",
            "linecolor": "white",
            "ticks": ""
           },
           "bgcolor": "#E5ECF6",
           "caxis": {
            "gridcolor": "white",
            "linecolor": "white",
            "ticks": ""
           }
          },
          "title": {
           "x": 0.05
          },
          "xaxis": {
           "automargin": true,
           "gridcolor": "white",
           "linecolor": "white",
           "ticks": "",
           "title": {
            "standoff": 15
           },
           "zerolinecolor": "white",
           "zerolinewidth": 2
          },
          "yaxis": {
           "automargin": true,
           "gridcolor": "white",
           "linecolor": "white",
           "ticks": "",
           "title": {
            "standoff": 15
           },
           "zerolinecolor": "white",
           "zerolinewidth": 2
          }
         }
        },
        "title": {
         "text": "Distribuição e Boxplot para cada variável numérica"
        },
        "xaxis": {
         "anchor": "y",
         "domain": [
          0,
          0.45
         ]
        },
        "xaxis2": {
         "anchor": "y2",
         "domain": [
          0.55,
          1
         ]
        },
        "xaxis3": {
         "anchor": "y3",
         "domain": [
          0,
          0.45
         ]
        },
        "xaxis4": {
         "anchor": "y4",
         "domain": [
          0.55,
          1
         ]
        },
        "xaxis5": {
         "anchor": "y5",
         "domain": [
          0,
          0.45
         ]
        },
        "xaxis6": {
         "anchor": "y6",
         "domain": [
          0.55,
          1
         ]
        },
        "xaxis7": {
         "anchor": "y7",
         "domain": [
          0,
          0.45
         ]
        },
        "xaxis8": {
         "anchor": "y8",
         "domain": [
          0.55,
          1
         ]
        },
        "yaxis": {
         "anchor": "x",
         "domain": [
          0.84375,
          1
         ]
        },
        "yaxis2": {
         "anchor": "x2",
         "domain": [
          0.84375,
          1
         ]
        },
        "yaxis3": {
         "anchor": "x3",
         "domain": [
          0.5625,
          0.71875
         ]
        },
        "yaxis4": {
         "anchor": "x4",
         "domain": [
          0.5625,
          0.71875
         ]
        },
        "yaxis5": {
         "anchor": "x5",
         "domain": [
          0.28125,
          0.4375
         ]
        },
        "yaxis6": {
         "anchor": "x6",
         "domain": [
          0.28125,
          0.4375
         ]
        },
        "yaxis7": {
         "anchor": "x7",
         "domain": [
          0,
          0.15625
         ]
        },
        "yaxis8": {
         "anchor": "x8",
         "domain": [
          0,
          0.15625
         ]
        }
       }
      }
     },
     "metadata": {},
     "output_type": "display_data"
    }
   ],
   "source": [
    "plot_distribution_and_boxplot(df)"
   ]
  },
  {
   "attachments": {},
   "cell_type": "markdown",
   "metadata": {},
   "source": [
    "## Etapa 02) Análise Exploratória\n",
    "Neta etapa iremos explorar mais a fundo os dados, **identificando relações entre as variáveis e descobrindo padrões relevantes**. Para isso, utilize técnicas de visualização de dados e análises estatísticas, buscando possíveis correlações e identificando possíveis outliers ou desvios da normalidade."
   ]
  },
  {
   "attachments": {},
   "cell_type": "markdown",
   "metadata": {},
   "source": [
    "### Definição de Correlação"
   ]
  },
  {
   "attachments": {},
   "cell_type": "markdown",
   "metadata": {},
   "source": [
    "A correlação é uma medida estatística que *avalia a relação entre duas variáveis*. Ela indica a direção e a intensidade dessa relação, ou seja, se as variáveis se movem em conjunto (correlação positiva) ou de forma oposta (correlação negativa), e o quão forte essa relação é.\n",
    "\n",
    "A força da correlação pode ser definida com base no valor do coeficiente de correlação, que varia de -1 a +1. Aqui estão as interpretações comuns para determinar a força da correlação:\n",
    "\n",
    "1. <font color='yellow'>Correlação fraca:</font>\n",
    "    * Quando o coeficiente de correlação está próximo de 0, a correlação é considerada fraca.\n",
    "    * Seja ela positiva ou negativa, a relação entre as variáveis é considerada fraca se o coeficiente de correlação estiver próximo de zero (por exemplo, entre -0,3 e 0,3).\n",
    "    * Nesse caso, as variáveis têm uma associação limitada e seus movimentos não são consistentes.\n",
    "<br></br>\n",
    "2. <font color='orange'>Correlação média:</font>\n",
    "    * Uma correlação é considerada média quando o coeficiente de correlação está em torno de -0,5 a -0,3 ou de 0,3 a 0,5.\n",
    "    * A relação entre as variáveis é moderada e mostra algum grau de consistência em seus movimentos.\n",
    "    * Uma correlação média indica que as variáveis têm alguma influência mútua, mas não é uma relação forte.\n",
    "<br></br>\n",
    "3. <font color='chartreuse'>Correlação forte:</font>\n",
    "    * A correlação é considerada forte quando o coeficiente de correlação está próximo de -1 ou 1.\n",
    "    * Uma correlação positiva forte (próxima de +1) indica que as variáveis estão fortemente relacionadas e tendem a se mover na mesma direção.\n",
    "    * Uma correlação negativa forte (próxima de -1) indica que as variáveis estão fortemente relacionadas, mas se movem em direções opostas.\n",
    "    * Nesses casos, as variáveis têm uma associação consistente e os movimentos de uma variável estão altamente relacionados aos movimentos da outra.\n",
    "\n",
    "\n",
    "É importante destacar que a força da correlação pode variar de acordo com o contexto e o domínio dos dados. Além disso, a correlação não implica causalidade direta, ou seja, apenas porque duas variáveis estão correlacionadas, não significa que uma causa a outra."
   ]
  },
  {
   "attachments": {},
   "cell_type": "markdown",
   "metadata": {},
   "source": [
    "### Matriz de Correlação"
   ]
  },
  {
   "cell_type": "code",
   "execution_count": 7,
   "metadata": {},
   "outputs": [
    {
     "data": {
      "application/vnd.plotly.v1+json": {
       "config": {
        "plotlyServerURL": "https://plot.ly"
       },
       "data": [
        {
         "colorscale": [
          [
           0,
           "#440154"
          ],
          [
           0.1111111111111111,
           "#482878"
          ],
          [
           0.2222222222222222,
           "#3e4989"
          ],
          [
           0.3333333333333333,
           "#31688e"
          ],
          [
           0.4444444444444444,
           "#26828e"
          ],
          [
           0.5555555555555556,
           "#1f9e89"
          ],
          [
           0.6666666666666666,
           "#35b779"
          ],
          [
           0.7777777777777778,
           "#6ece58"
          ],
          [
           0.8888888888888888,
           "#b5de2b"
          ],
          [
           1,
           "#fde725"
          ]
         ],
         "type": "heatmap",
         "x": [
          "youtube",
          "facebook",
          "newspaper",
          "sales"
         ],
         "y": [
          "youtube",
          "facebook",
          "newspaper",
          "sales"
         ],
         "z": [
          [
           1,
           0.08653838911529717,
           0.1107593897645278,
           0.7820300203008933
          ],
          [
           0.08653838911529717,
           1,
           0.2934254231048905,
           0.6029180163242245
          ],
          [
           0.1107593897645278,
           0.2934254231048905,
           1,
           0.2549869780348229
          ],
          [
           0.7820300203008933,
           0.6029180163242245,
           0.2549869780348229,
           1
          ]
         ]
        }
       ],
       "layout": {
        "annotations": [
         {
          "font": {
           "color": "white"
          },
          "showarrow": false,
          "text": "1.0",
          "x": "youtube",
          "y": "youtube"
         },
         {
          "font": {
           "color": "white"
          },
          "showarrow": false,
          "text": "0.09",
          "x": "facebook",
          "y": "youtube"
         },
         {
          "font": {
           "color": "white"
          },
          "showarrow": false,
          "text": "0.11",
          "x": "newspaper",
          "y": "youtube"
         },
         {
          "font": {
           "color": "white"
          },
          "showarrow": false,
          "text": "0.78",
          "x": "sales",
          "y": "youtube"
         },
         {
          "font": {
           "color": "white"
          },
          "showarrow": false,
          "text": "0.09",
          "x": "youtube",
          "y": "facebook"
         },
         {
          "font": {
           "color": "white"
          },
          "showarrow": false,
          "text": "1.0",
          "x": "facebook",
          "y": "facebook"
         },
         {
          "font": {
           "color": "white"
          },
          "showarrow": false,
          "text": "0.29",
          "x": "newspaper",
          "y": "facebook"
         },
         {
          "font": {
           "color": "white"
          },
          "showarrow": false,
          "text": "0.6",
          "x": "sales",
          "y": "facebook"
         },
         {
          "font": {
           "color": "white"
          },
          "showarrow": false,
          "text": "0.11",
          "x": "youtube",
          "y": "newspaper"
         },
         {
          "font": {
           "color": "white"
          },
          "showarrow": false,
          "text": "0.29",
          "x": "facebook",
          "y": "newspaper"
         },
         {
          "font": {
           "color": "white"
          },
          "showarrow": false,
          "text": "1.0",
          "x": "newspaper",
          "y": "newspaper"
         },
         {
          "font": {
           "color": "white"
          },
          "showarrow": false,
          "text": "0.25",
          "x": "sales",
          "y": "newspaper"
         },
         {
          "font": {
           "color": "white"
          },
          "showarrow": false,
          "text": "0.78",
          "x": "youtube",
          "y": "sales"
         },
         {
          "font": {
           "color": "white"
          },
          "showarrow": false,
          "text": "0.6",
          "x": "facebook",
          "y": "sales"
         },
         {
          "font": {
           "color": "white"
          },
          "showarrow": false,
          "text": "0.25",
          "x": "newspaper",
          "y": "sales"
         },
         {
          "font": {
           "color": "white"
          },
          "showarrow": false,
          "text": "1.0",
          "x": "sales",
          "y": "sales"
         }
        ],
        "height": 500,
        "template": {
         "data": {
          "bar": [
           {
            "error_x": {
             "color": "#2a3f5f"
            },
            "error_y": {
             "color": "#2a3f5f"
            },
            "marker": {
             "line": {
              "color": "#E5ECF6",
              "width": 0.5
             },
             "pattern": {
              "fillmode": "overlay",
              "size": 10,
              "solidity": 0.2
             }
            },
            "type": "bar"
           }
          ],
          "barpolar": [
           {
            "marker": {
             "line": {
              "color": "#E5ECF6",
              "width": 0.5
             },
             "pattern": {
              "fillmode": "overlay",
              "size": 10,
              "solidity": 0.2
             }
            },
            "type": "barpolar"
           }
          ],
          "carpet": [
           {
            "aaxis": {
             "endlinecolor": "#2a3f5f",
             "gridcolor": "white",
             "linecolor": "white",
             "minorgridcolor": "white",
             "startlinecolor": "#2a3f5f"
            },
            "baxis": {
             "endlinecolor": "#2a3f5f",
             "gridcolor": "white",
             "linecolor": "white",
             "minorgridcolor": "white",
             "startlinecolor": "#2a3f5f"
            },
            "type": "carpet"
           }
          ],
          "choropleth": [
           {
            "colorbar": {
             "outlinewidth": 0,
             "ticks": ""
            },
            "type": "choropleth"
           }
          ],
          "contour": [
           {
            "colorbar": {
             "outlinewidth": 0,
             "ticks": ""
            },
            "colorscale": [
             [
              0,
              "#0d0887"
             ],
             [
              0.1111111111111111,
              "#46039f"
             ],
             [
              0.2222222222222222,
              "#7201a8"
             ],
             [
              0.3333333333333333,
              "#9c179e"
             ],
             [
              0.4444444444444444,
              "#bd3786"
             ],
             [
              0.5555555555555556,
              "#d8576b"
             ],
             [
              0.6666666666666666,
              "#ed7953"
             ],
             [
              0.7777777777777778,
              "#fb9f3a"
             ],
             [
              0.8888888888888888,
              "#fdca26"
             ],
             [
              1,
              "#f0f921"
             ]
            ],
            "type": "contour"
           }
          ],
          "contourcarpet": [
           {
            "colorbar": {
             "outlinewidth": 0,
             "ticks": ""
            },
            "type": "contourcarpet"
           }
          ],
          "heatmap": [
           {
            "colorbar": {
             "outlinewidth": 0,
             "ticks": ""
            },
            "colorscale": [
             [
              0,
              "#0d0887"
             ],
             [
              0.1111111111111111,
              "#46039f"
             ],
             [
              0.2222222222222222,
              "#7201a8"
             ],
             [
              0.3333333333333333,
              "#9c179e"
             ],
             [
              0.4444444444444444,
              "#bd3786"
             ],
             [
              0.5555555555555556,
              "#d8576b"
             ],
             [
              0.6666666666666666,
              "#ed7953"
             ],
             [
              0.7777777777777778,
              "#fb9f3a"
             ],
             [
              0.8888888888888888,
              "#fdca26"
             ],
             [
              1,
              "#f0f921"
             ]
            ],
            "type": "heatmap"
           }
          ],
          "heatmapgl": [
           {
            "colorbar": {
             "outlinewidth": 0,
             "ticks": ""
            },
            "colorscale": [
             [
              0,
              "#0d0887"
             ],
             [
              0.1111111111111111,
              "#46039f"
             ],
             [
              0.2222222222222222,
              "#7201a8"
             ],
             [
              0.3333333333333333,
              "#9c179e"
             ],
             [
              0.4444444444444444,
              "#bd3786"
             ],
             [
              0.5555555555555556,
              "#d8576b"
             ],
             [
              0.6666666666666666,
              "#ed7953"
             ],
             [
              0.7777777777777778,
              "#fb9f3a"
             ],
             [
              0.8888888888888888,
              "#fdca26"
             ],
             [
              1,
              "#f0f921"
             ]
            ],
            "type": "heatmapgl"
           }
          ],
          "histogram": [
           {
            "marker": {
             "pattern": {
              "fillmode": "overlay",
              "size": 10,
              "solidity": 0.2
             }
            },
            "type": "histogram"
           }
          ],
          "histogram2d": [
           {
            "colorbar": {
             "outlinewidth": 0,
             "ticks": ""
            },
            "colorscale": [
             [
              0,
              "#0d0887"
             ],
             [
              0.1111111111111111,
              "#46039f"
             ],
             [
              0.2222222222222222,
              "#7201a8"
             ],
             [
              0.3333333333333333,
              "#9c179e"
             ],
             [
              0.4444444444444444,
              "#bd3786"
             ],
             [
              0.5555555555555556,
              "#d8576b"
             ],
             [
              0.6666666666666666,
              "#ed7953"
             ],
             [
              0.7777777777777778,
              "#fb9f3a"
             ],
             [
              0.8888888888888888,
              "#fdca26"
             ],
             [
              1,
              "#f0f921"
             ]
            ],
            "type": "histogram2d"
           }
          ],
          "histogram2dcontour": [
           {
            "colorbar": {
             "outlinewidth": 0,
             "ticks": ""
            },
            "colorscale": [
             [
              0,
              "#0d0887"
             ],
             [
              0.1111111111111111,
              "#46039f"
             ],
             [
              0.2222222222222222,
              "#7201a8"
             ],
             [
              0.3333333333333333,
              "#9c179e"
             ],
             [
              0.4444444444444444,
              "#bd3786"
             ],
             [
              0.5555555555555556,
              "#d8576b"
             ],
             [
              0.6666666666666666,
              "#ed7953"
             ],
             [
              0.7777777777777778,
              "#fb9f3a"
             ],
             [
              0.8888888888888888,
              "#fdca26"
             ],
             [
              1,
              "#f0f921"
             ]
            ],
            "type": "histogram2dcontour"
           }
          ],
          "mesh3d": [
           {
            "colorbar": {
             "outlinewidth": 0,
             "ticks": ""
            },
            "type": "mesh3d"
           }
          ],
          "parcoords": [
           {
            "line": {
             "colorbar": {
              "outlinewidth": 0,
              "ticks": ""
             }
            },
            "type": "parcoords"
           }
          ],
          "pie": [
           {
            "automargin": true,
            "type": "pie"
           }
          ],
          "scatter": [
           {
            "fillpattern": {
             "fillmode": "overlay",
             "size": 10,
             "solidity": 0.2
            },
            "type": "scatter"
           }
          ],
          "scatter3d": [
           {
            "line": {
             "colorbar": {
              "outlinewidth": 0,
              "ticks": ""
             }
            },
            "marker": {
             "colorbar": {
              "outlinewidth": 0,
              "ticks": ""
             }
            },
            "type": "scatter3d"
           }
          ],
          "scattercarpet": [
           {
            "marker": {
             "colorbar": {
              "outlinewidth": 0,
              "ticks": ""
             }
            },
            "type": "scattercarpet"
           }
          ],
          "scattergeo": [
           {
            "marker": {
             "colorbar": {
              "outlinewidth": 0,
              "ticks": ""
             }
            },
            "type": "scattergeo"
           }
          ],
          "scattergl": [
           {
            "marker": {
             "colorbar": {
              "outlinewidth": 0,
              "ticks": ""
             }
            },
            "type": "scattergl"
           }
          ],
          "scattermapbox": [
           {
            "marker": {
             "colorbar": {
              "outlinewidth": 0,
              "ticks": ""
             }
            },
            "type": "scattermapbox"
           }
          ],
          "scatterpolar": [
           {
            "marker": {
             "colorbar": {
              "outlinewidth": 0,
              "ticks": ""
             }
            },
            "type": "scatterpolar"
           }
          ],
          "scatterpolargl": [
           {
            "marker": {
             "colorbar": {
              "outlinewidth": 0,
              "ticks": ""
             }
            },
            "type": "scatterpolargl"
           }
          ],
          "scatterternary": [
           {
            "marker": {
             "colorbar": {
              "outlinewidth": 0,
              "ticks": ""
             }
            },
            "type": "scatterternary"
           }
          ],
          "surface": [
           {
            "colorbar": {
             "outlinewidth": 0,
             "ticks": ""
            },
            "colorscale": [
             [
              0,
              "#0d0887"
             ],
             [
              0.1111111111111111,
              "#46039f"
             ],
             [
              0.2222222222222222,
              "#7201a8"
             ],
             [
              0.3333333333333333,
              "#9c179e"
             ],
             [
              0.4444444444444444,
              "#bd3786"
             ],
             [
              0.5555555555555556,
              "#d8576b"
             ],
             [
              0.6666666666666666,
              "#ed7953"
             ],
             [
              0.7777777777777778,
              "#fb9f3a"
             ],
             [
              0.8888888888888888,
              "#fdca26"
             ],
             [
              1,
              "#f0f921"
             ]
            ],
            "type": "surface"
           }
          ],
          "table": [
           {
            "cells": {
             "fill": {
              "color": "#EBF0F8"
             },
             "line": {
              "color": "white"
             }
            },
            "header": {
             "fill": {
              "color": "#C8D4E3"
             },
             "line": {
              "color": "white"
             }
            },
            "type": "table"
           }
          ]
         },
         "layout": {
          "annotationdefaults": {
           "arrowcolor": "#2a3f5f",
           "arrowhead": 0,
           "arrowwidth": 1
          },
          "autotypenumbers": "strict",
          "coloraxis": {
           "colorbar": {
            "outlinewidth": 0,
            "ticks": ""
           }
          },
          "colorscale": {
           "diverging": [
            [
             0,
             "#8e0152"
            ],
            [
             0.1,
             "#c51b7d"
            ],
            [
             0.2,
             "#de77ae"
            ],
            [
             0.3,
             "#f1b6da"
            ],
            [
             0.4,
             "#fde0ef"
            ],
            [
             0.5,
             "#f7f7f7"
            ],
            [
             0.6,
             "#e6f5d0"
            ],
            [
             0.7,
             "#b8e186"
            ],
            [
             0.8,
             "#7fbc41"
            ],
            [
             0.9,
             "#4d9221"
            ],
            [
             1,
             "#276419"
            ]
           ],
           "sequential": [
            [
             0,
             "#0d0887"
            ],
            [
             0.1111111111111111,
             "#46039f"
            ],
            [
             0.2222222222222222,
             "#7201a8"
            ],
            [
             0.3333333333333333,
             "#9c179e"
            ],
            [
             0.4444444444444444,
             "#bd3786"
            ],
            [
             0.5555555555555556,
             "#d8576b"
            ],
            [
             0.6666666666666666,
             "#ed7953"
            ],
            [
             0.7777777777777778,
             "#fb9f3a"
            ],
            [
             0.8888888888888888,
             "#fdca26"
            ],
            [
             1,
             "#f0f921"
            ]
           ],
           "sequentialminus": [
            [
             0,
             "#0d0887"
            ],
            [
             0.1111111111111111,
             "#46039f"
            ],
            [
             0.2222222222222222,
             "#7201a8"
            ],
            [
             0.3333333333333333,
             "#9c179e"
            ],
            [
             0.4444444444444444,
             "#bd3786"
            ],
            [
             0.5555555555555556,
             "#d8576b"
            ],
            [
             0.6666666666666666,
             "#ed7953"
            ],
            [
             0.7777777777777778,
             "#fb9f3a"
            ],
            [
             0.8888888888888888,
             "#fdca26"
            ],
            [
             1,
             "#f0f921"
            ]
           ]
          },
          "colorway": [
           "#636efa",
           "#EF553B",
           "#00cc96",
           "#ab63fa",
           "#FFA15A",
           "#19d3f3",
           "#FF6692",
           "#B6E880",
           "#FF97FF",
           "#FECB52"
          ],
          "font": {
           "color": "#2a3f5f"
          },
          "geo": {
           "bgcolor": "white",
           "lakecolor": "white",
           "landcolor": "#E5ECF6",
           "showlakes": true,
           "showland": true,
           "subunitcolor": "white"
          },
          "hoverlabel": {
           "align": "left"
          },
          "hovermode": "closest",
          "mapbox": {
           "style": "light"
          },
          "paper_bgcolor": "white",
          "plot_bgcolor": "#E5ECF6",
          "polar": {
           "angularaxis": {
            "gridcolor": "white",
            "linecolor": "white",
            "ticks": ""
           },
           "bgcolor": "#E5ECF6",
           "radialaxis": {
            "gridcolor": "white",
            "linecolor": "white",
            "ticks": ""
           }
          },
          "scene": {
           "xaxis": {
            "backgroundcolor": "#E5ECF6",
            "gridcolor": "white",
            "gridwidth": 2,
            "linecolor": "white",
            "showbackground": true,
            "ticks": "",
            "zerolinecolor": "white"
           },
           "yaxis": {
            "backgroundcolor": "#E5ECF6",
            "gridcolor": "white",
            "gridwidth": 2,
            "linecolor": "white",
            "showbackground": true,
            "ticks": "",
            "zerolinecolor": "white"
           },
           "zaxis": {
            "backgroundcolor": "#E5ECF6",
            "gridcolor": "white",
            "gridwidth": 2,
            "linecolor": "white",
            "showbackground": true,
            "ticks": "",
            "zerolinecolor": "white"
           }
          },
          "shapedefaults": {
           "line": {
            "color": "#2a3f5f"
           }
          },
          "ternary": {
           "aaxis": {
            "gridcolor": "white",
            "linecolor": "white",
            "ticks": ""
           },
           "baxis": {
            "gridcolor": "white",
            "linecolor": "white",
            "ticks": ""
           },
           "bgcolor": "#E5ECF6",
           "caxis": {
            "gridcolor": "white",
            "linecolor": "white",
            "ticks": ""
           }
          },
          "title": {
           "x": 0.05
          },
          "xaxis": {
           "automargin": true,
           "gridcolor": "white",
           "linecolor": "white",
           "ticks": "",
           "title": {
            "standoff": 15
           },
           "zerolinecolor": "white",
           "zerolinewidth": 2
          },
          "yaxis": {
           "automargin": true,
           "gridcolor": "white",
           "linecolor": "white",
           "ticks": "",
           "title": {
            "standoff": 15
           },
           "zerolinecolor": "white",
           "zerolinewidth": 2
          }
         }
        },
        "title": {
         "text": "Matriz de Correlação"
        },
        "width": 600
       }
      }
     },
     "metadata": {},
     "output_type": "display_data"
    }
   ],
   "source": [
    "# Matriz de Correlação\n",
    "correlation_matrix = df.corr()\n",
    "\n",
    "# Cria o gráfico de heatmap\n",
    "fig = go.Figure(data=go.Heatmap(\n",
    "                   z=correlation_matrix,\n",
    "                   x=correlation_matrix.columns,\n",
    "                   y=correlation_matrix.columns,\n",
    "                   colorscale='Viridis'))\n",
    "\n",
    "# Adiciona anotações\n",
    "annotations = []\n",
    "for i, row in enumerate(correlation_matrix.values):\n",
    "    for j, val in enumerate(row):\n",
    "        annotations.append(go.layout.Annotation(text=str(round(val, 2)), x=correlation_matrix.columns[j], y=correlation_matrix.columns[i], \n",
    "                                                showarrow=False, font=dict(color='white')))\n",
    "\n",
    "# Atualiza layout\n",
    "fig.update_layout(title='Matriz de Correlação',\n",
    "                  annotations=annotations,\n",
    "                  height=500, width=600)\n",
    "\n",
    "fig.show()\n"
   ]
  },
  {
   "attachments": {},
   "cell_type": "markdown",
   "metadata": {},
   "source": [
    "Explicado o que é correlação, podemos observar que:\n",
    "\n",
    "1. A correlação entre \"youtube\" e \"sales\" é de 0.78, o que indica uma correlação positiva forte. Isso sugere que há uma forte relação entre o investimento no YouTube e as vendas. Aumento nas vendas tendem a estar associados ao aumento de investimento no YouTube.\n",
    "\n",
    "2. A correlação entre \"facebook\" e \"sales\" é de 0.60, o que indica uma correlação positiva forte. Isso sugere que há uma relação forte entre o investimento no Facebook e as vendas. Aumentos nas vendas tendem a estar associados ao aumento de investimento no Facebook.\n",
    "\n",
    "3. A correlação entre \"newspaper\" e \"sales\" é de 0.25, o que indica uma correlação positiva fraca. Isso sugere que há uma relação fraca entre o investimento em newspaper e as vendas. A influência dos newspaper nas vendas é limitada, pois a correlação é relativamente baixa."
   ]
  },
  {
   "attachments": {},
   "cell_type": "markdown",
   "metadata": {},
   "source": [
    "### Scatter plot: Sales vs Investimento"
   ]
  },
  {
   "cell_type": "code",
   "execution_count": 8,
   "metadata": {},
   "outputs": [
    {
     "data": {
      "application/vnd.plotly.v1+json": {
       "config": {
        "plotlyServerURL": "https://plot.ly"
       },
       "data": [
        {
         "customdata": [
          [
           "youtube"
          ],
          [
           "youtube"
          ],
          [
           "youtube"
          ],
          [
           "youtube"
          ],
          [
           "youtube"
          ],
          [
           "youtube"
          ],
          [
           "youtube"
          ],
          [
           "youtube"
          ],
          [
           "youtube"
          ],
          [
           "youtube"
          ],
          [
           "youtube"
          ],
          [
           "youtube"
          ],
          [
           "youtube"
          ],
          [
           "youtube"
          ],
          [
           "youtube"
          ],
          [
           "youtube"
          ],
          [
           "youtube"
          ],
          [
           "youtube"
          ],
          [
           "youtube"
          ],
          [
           "youtube"
          ],
          [
           "youtube"
          ],
          [
           "youtube"
          ],
          [
           "youtube"
          ],
          [
           "youtube"
          ],
          [
           "youtube"
          ],
          [
           "youtube"
          ],
          [
           "youtube"
          ],
          [
           "youtube"
          ],
          [
           "youtube"
          ],
          [
           "youtube"
          ],
          [
           "youtube"
          ],
          [
           "youtube"
          ],
          [
           "youtube"
          ],
          [
           "youtube"
          ],
          [
           "youtube"
          ],
          [
           "youtube"
          ],
          [
           "youtube"
          ],
          [
           "youtube"
          ],
          [
           "youtube"
          ],
          [
           "youtube"
          ],
          [
           "youtube"
          ],
          [
           "youtube"
          ],
          [
           "youtube"
          ],
          [
           "youtube"
          ],
          [
           "youtube"
          ],
          [
           "youtube"
          ],
          [
           "youtube"
          ],
          [
           "youtube"
          ],
          [
           "youtube"
          ],
          [
           "youtube"
          ],
          [
           "youtube"
          ],
          [
           "youtube"
          ],
          [
           "youtube"
          ],
          [
           "youtube"
          ],
          [
           "youtube"
          ],
          [
           "youtube"
          ],
          [
           "youtube"
          ],
          [
           "youtube"
          ],
          [
           "youtube"
          ],
          [
           "youtube"
          ],
          [
           "youtube"
          ],
          [
           "youtube"
          ],
          [
           "youtube"
          ],
          [
           "youtube"
          ],
          [
           "youtube"
          ],
          [
           "youtube"
          ],
          [
           "youtube"
          ],
          [
           "youtube"
          ],
          [
           "youtube"
          ],
          [
           "youtube"
          ],
          [
           "youtube"
          ],
          [
           "youtube"
          ],
          [
           "youtube"
          ],
          [
           "youtube"
          ],
          [
           "youtube"
          ],
          [
           "youtube"
          ],
          [
           "youtube"
          ],
          [
           "youtube"
          ],
          [
           "youtube"
          ],
          [
           "youtube"
          ],
          [
           "youtube"
          ],
          [
           "youtube"
          ],
          [
           "youtube"
          ],
          [
           "youtube"
          ],
          [
           "youtube"
          ],
          [
           "youtube"
          ],
          [
           "youtube"
          ],
          [
           "youtube"
          ],
          [
           "youtube"
          ],
          [
           "youtube"
          ],
          [
           "youtube"
          ],
          [
           "youtube"
          ],
          [
           "youtube"
          ],
          [
           "youtube"
          ],
          [
           "youtube"
          ],
          [
           "youtube"
          ],
          [
           "youtube"
          ],
          [
           "youtube"
          ],
          [
           "youtube"
          ],
          [
           "youtube"
          ],
          [
           "youtube"
          ],
          [
           "youtube"
          ],
          [
           "youtube"
          ],
          [
           "youtube"
          ],
          [
           "youtube"
          ],
          [
           "youtube"
          ],
          [
           "youtube"
          ],
          [
           "youtube"
          ],
          [
           "youtube"
          ],
          [
           "youtube"
          ],
          [
           "youtube"
          ],
          [
           "youtube"
          ],
          [
           "youtube"
          ],
          [
           "youtube"
          ],
          [
           "youtube"
          ],
          [
           "youtube"
          ],
          [
           "youtube"
          ],
          [
           "youtube"
          ],
          [
           "youtube"
          ],
          [
           "youtube"
          ],
          [
           "youtube"
          ],
          [
           "youtube"
          ],
          [
           "youtube"
          ],
          [
           "youtube"
          ],
          [
           "youtube"
          ],
          [
           "youtube"
          ],
          [
           "youtube"
          ],
          [
           "youtube"
          ],
          [
           "youtube"
          ],
          [
           "youtube"
          ],
          [
           "youtube"
          ],
          [
           "youtube"
          ],
          [
           "youtube"
          ],
          [
           "youtube"
          ],
          [
           "youtube"
          ],
          [
           "youtube"
          ],
          [
           "youtube"
          ],
          [
           "youtube"
          ],
          [
           "youtube"
          ],
          [
           "youtube"
          ],
          [
           "youtube"
          ],
          [
           "youtube"
          ],
          [
           "youtube"
          ],
          [
           "youtube"
          ],
          [
           "youtube"
          ],
          [
           "youtube"
          ],
          [
           "youtube"
          ],
          [
           "youtube"
          ],
          [
           "youtube"
          ],
          [
           "youtube"
          ],
          [
           "youtube"
          ],
          [
           "youtube"
          ],
          [
           "youtube"
          ],
          [
           "youtube"
          ],
          [
           "youtube"
          ],
          [
           "youtube"
          ],
          [
           "youtube"
          ],
          [
           "youtube"
          ],
          [
           "youtube"
          ],
          [
           "youtube"
          ],
          [
           "youtube"
          ],
          [
           "youtube"
          ],
          [
           "youtube"
          ],
          [
           "youtube"
          ],
          [
           "youtube"
          ],
          [
           "youtube"
          ],
          [
           "youtube"
          ],
          [
           "youtube"
          ],
          [
           "youtube"
          ],
          [
           "youtube"
          ],
          [
           "youtube"
          ]
         ],
         "hovertemplate": "platform=%{customdata[0]}<br>symbol=circle<br>Investimento=%{x}<br>Sales=%{y}<extra></extra>",
         "legendgroup": "youtube, circle",
         "marker": {
          "color": "#636efa",
          "symbol": "circle"
         },
         "mode": "markers",
         "name": "youtube, circle",
         "orientation": "v",
         "showlegend": true,
         "type": "scatter",
         "x": [
          84.72,
          351.48,
          135.48,
          116.64,
          318.72,
          114.84,
          348.84,
          320.28,
          89.64,
          51.72,
          273.6,
          243,
          212.4,
          352.32,
          248.28,
          30.12,
          210.12,
          107.64,
          287.88,
          272.64,
          80.28,
          239.76,
          120.48,
          259.68,
          219.12,
          315.24,
          238.68,
          8.76,
          163.44,
          252.96,
          252.84,
          64.2,
          313.56,
          287.16,
          123.24,
          157.32,
          82.8,
          37.8,
          167.16,
          284.88,
          260.16,
          238.92,
          131.76,
          32.16,
          155.28,
          256.08,
          20.28,
          33,
          144.6,
          6.48,
          139.2,
          91.68,
          287.76,
          90.36,
          82.08,
          256.2,
          231.84,
          91.56,
          132.84,
          105.96,
          131.76,
          161.16,
          34.32,
          261.24,
          301.08,
          128.88,
          195.96,
          237.12,
          221.88,
          347.64,
          162.24,
          266.88,
          355.68,
          336.24,
          225.48,
          285.84,
          165.48,
          30,
          108.48,
          15.72,
          306.48,
          270.96,
          290.04,
          210.84,
          251.52,
          93.84,
          90.12,
          167.04,
          91.68,
          150.84,
          23.28,
          169.56,
          22.56,
          268.8,
          147.72,
          275.4,
          104.64,
          9.36,
          96.24,
          264.36,
          71.52,
          0.84,
          318.24,
          10.08,
          263.76,
          44.28,
          57.96,
          30.72,
          328.44,
          51.6,
          221.88,
          88.08,
          232.44,
          264.6,
          125.52,
          115.44,
          168.36,
          288.12,
          291.84,
          45.6,
          53.64,
          336.84,
          145.2,
          237.12,
          205.56,
          225.36,
          4.92,
          112.68,
          179.76,
          14.04,
          158.04,
          207,
          102.84,
          226.08,
          196.2,
          140.64,
          281.4,
          21.48,
          248.16,
          258.48,
          341.16,
          60,
          197.4,
          23.52,
          202.08,
          266.88,
          332.28,
          298.08,
          204.24,
          332.04,
          198.72,
          187.92,
          262.2,
          67.44,
          345.12,
          304.56,
          246,
          167.4,
          229.32,
          343.2,
          22.44,
          47.4,
          90.6,
          20.64,
          200.16,
          179.64,
          45.84,
          113.04,
          212.4,
          340.32,
          278.52
         ],
         "xaxis": "x",
         "y": [
          12.6,
          25.68,
          14.28,
          11.52,
          20.88,
          11.4,
          15.36,
          30.48,
          17.64,
          12.12,
          25.8,
          19.92,
          20.52,
          24.84,
          15.48,
          10.2,
          17.88,
          12.72,
          27.84,
          17.76,
          11.64,
          13.68,
          12.84,
          27.12,
          25.44,
          24.24,
          28.44,
          6.6,
          15.84,
          28.56,
          22.08,
          9.72,
          29.04,
          18.84,
          16.8,
          21.6,
          11.16,
          11.4,
          16.08,
          22.68,
          26.76,
          21.96,
          14.88,
          10.56,
          13.2,
          20.4,
          10.44,
          8.28,
          17.04,
          6.36,
          13.2,
          14.16,
          14.76,
          13.56,
          16.32,
          26.04,
          18.24,
          14.4,
          19.2,
          15.48,
          20.04,
          13.44,
          8.76,
          23.28,
          26.64,
          13.8,
          20.28,
          14.04,
          18.6,
          30.48,
          20.64,
          14.04,
          28.56,
          17.76,
          17.64,
          24.84,
          23.04,
          8.64,
          10.44,
          6.36,
          23.76,
          16.08,
          26.16,
          16.92,
          19.08,
          17.52,
          15.12,
          14.64,
          11.28,
          19.08,
          7.92,
          18.6,
          8.4,
          13.92,
          18.24,
          23.64,
          12.72,
          7.92,
          10.56,
          29.64,
          11.64,
          1.92,
          15.24,
          6.84,
          23.52,
          12.96,
          13.92,
          11.4,
          24.96,
          11.52,
          24.84,
          13.08,
          23.04,
          24.12,
          12.48,
          13.68,
          12.36,
          15.84,
          30.48,
          13.08,
          12.12,
          19.32,
          13.92,
          19.92,
          22.8,
          18.72,
          3.84,
          18.36,
          12.12,
          8.76,
          15.48,
          17.28,
          15.96,
          17.88,
          21.6,
          14.28,
          14.28,
          9.6,
          14.64,
          20.52,
          18,
          10.08,
          17.4,
          9.12,
          14.04,
          13.8,
          32.4,
          24.24,
          14.04,
          14.16,
          15.12,
          12.6,
          14.64,
          10.44,
          31.44,
          21.12,
          27.12,
          12.36,
          20.76,
          19.08,
          8.04,
          12.96,
          11.88,
          7.08,
          23.52,
          20.76,
          9.12,
          11.64,
          15.36,
          30.6,
          16.08
         ],
         "yaxis": "y"
        },
        {
         "customdata": [
          [
           "facebook"
          ],
          [
           "facebook"
          ],
          [
           "facebook"
          ],
          [
           "facebook"
          ],
          [
           "facebook"
          ],
          [
           "facebook"
          ],
          [
           "facebook"
          ],
          [
           "facebook"
          ],
          [
           "facebook"
          ],
          [
           "facebook"
          ],
          [
           "facebook"
          ],
          [
           "facebook"
          ],
          [
           "facebook"
          ],
          [
           "facebook"
          ],
          [
           "facebook"
          ],
          [
           "facebook"
          ],
          [
           "facebook"
          ],
          [
           "facebook"
          ],
          [
           "facebook"
          ],
          [
           "facebook"
          ],
          [
           "facebook"
          ],
          [
           "facebook"
          ],
          [
           "facebook"
          ],
          [
           "facebook"
          ],
          [
           "facebook"
          ],
          [
           "facebook"
          ],
          [
           "facebook"
          ],
          [
           "facebook"
          ],
          [
           "facebook"
          ],
          [
           "facebook"
          ],
          [
           "facebook"
          ],
          [
           "facebook"
          ],
          [
           "facebook"
          ],
          [
           "facebook"
          ],
          [
           "facebook"
          ],
          [
           "facebook"
          ],
          [
           "facebook"
          ],
          [
           "facebook"
          ],
          [
           "facebook"
          ],
          [
           "facebook"
          ],
          [
           "facebook"
          ],
          [
           "facebook"
          ],
          [
           "facebook"
          ],
          [
           "facebook"
          ],
          [
           "facebook"
          ],
          [
           "facebook"
          ],
          [
           "facebook"
          ],
          [
           "facebook"
          ],
          [
           "facebook"
          ],
          [
           "facebook"
          ],
          [
           "facebook"
          ],
          [
           "facebook"
          ],
          [
           "facebook"
          ],
          [
           "facebook"
          ],
          [
           "facebook"
          ],
          [
           "facebook"
          ],
          [
           "facebook"
          ],
          [
           "facebook"
          ],
          [
           "facebook"
          ],
          [
           "facebook"
          ],
          [
           "facebook"
          ],
          [
           "facebook"
          ],
          [
           "facebook"
          ],
          [
           "facebook"
          ],
          [
           "facebook"
          ],
          [
           "facebook"
          ],
          [
           "facebook"
          ],
          [
           "facebook"
          ],
          [
           "facebook"
          ],
          [
           "facebook"
          ],
          [
           "facebook"
          ],
          [
           "facebook"
          ],
          [
           "facebook"
          ],
          [
           "facebook"
          ],
          [
           "facebook"
          ],
          [
           "facebook"
          ],
          [
           "facebook"
          ],
          [
           "facebook"
          ],
          [
           "facebook"
          ],
          [
           "facebook"
          ],
          [
           "facebook"
          ],
          [
           "facebook"
          ],
          [
           "facebook"
          ],
          [
           "facebook"
          ],
          [
           "facebook"
          ],
          [
           "facebook"
          ],
          [
           "facebook"
          ],
          [
           "facebook"
          ],
          [
           "facebook"
          ],
          [
           "facebook"
          ],
          [
           "facebook"
          ],
          [
           "facebook"
          ],
          [
           "facebook"
          ],
          [
           "facebook"
          ],
          [
           "facebook"
          ],
          [
           "facebook"
          ],
          [
           "facebook"
          ],
          [
           "facebook"
          ],
          [
           "facebook"
          ],
          [
           "facebook"
          ],
          [
           "facebook"
          ],
          [
           "facebook"
          ],
          [
           "facebook"
          ],
          [
           "facebook"
          ],
          [
           "facebook"
          ],
          [
           "facebook"
          ],
          [
           "facebook"
          ],
          [
           "facebook"
          ],
          [
           "facebook"
          ],
          [
           "facebook"
          ],
          [
           "facebook"
          ],
          [
           "facebook"
          ],
          [
           "facebook"
          ],
          [
           "facebook"
          ],
          [
           "facebook"
          ],
          [
           "facebook"
          ],
          [
           "facebook"
          ],
          [
           "facebook"
          ],
          [
           "facebook"
          ],
          [
           "facebook"
          ],
          [
           "facebook"
          ],
          [
           "facebook"
          ],
          [
           "facebook"
          ],
          [
           "facebook"
          ],
          [
           "facebook"
          ],
          [
           "facebook"
          ],
          [
           "facebook"
          ],
          [
           "facebook"
          ],
          [
           "facebook"
          ],
          [
           "facebook"
          ],
          [
           "facebook"
          ],
          [
           "facebook"
          ],
          [
           "facebook"
          ],
          [
           "facebook"
          ],
          [
           "facebook"
          ],
          [
           "facebook"
          ],
          [
           "facebook"
          ],
          [
           "facebook"
          ],
          [
           "facebook"
          ],
          [
           "facebook"
          ],
          [
           "facebook"
          ],
          [
           "facebook"
          ],
          [
           "facebook"
          ],
          [
           "facebook"
          ],
          [
           "facebook"
          ],
          [
           "facebook"
          ],
          [
           "facebook"
          ],
          [
           "facebook"
          ],
          [
           "facebook"
          ],
          [
           "facebook"
          ],
          [
           "facebook"
          ],
          [
           "facebook"
          ],
          [
           "facebook"
          ],
          [
           "facebook"
          ],
          [
           "facebook"
          ],
          [
           "facebook"
          ],
          [
           "facebook"
          ],
          [
           "facebook"
          ],
          [
           "facebook"
          ],
          [
           "facebook"
          ],
          [
           "facebook"
          ],
          [
           "facebook"
          ],
          [
           "facebook"
          ],
          [
           "facebook"
          ],
          [
           "facebook"
          ],
          [
           "facebook"
          ],
          [
           "facebook"
          ],
          [
           "facebook"
          ],
          [
           "facebook"
          ],
          [
           "facebook"
          ],
          [
           "facebook"
          ]
         ],
         "hovertemplate": "platform=%{customdata[0]}<br>symbol=diamond<br>Investimento=%{x}<br>Sales=%{y}<extra></extra>",
         "legendgroup": "facebook, diamond",
         "marker": {
          "color": "#EF553B",
          "symbol": "diamond"
         },
         "mode": "markers",
         "name": "facebook, diamond",
         "orientation": "v",
         "showlegend": true,
         "type": "scatter",
         "x": [
          19.2,
          33.96,
          20.88,
          1.8,
          24,
          1.68,
          4.92,
          52.56,
          59.28,
          32.04,
          45.24,
          26.76,
          40.08,
          33.24,
          10.08,
          30.84,
          27,
          11.88,
          49.8,
          18.96,
          14.04,
          3.72,
          11.52,
          50.04,
          55.44,
          34.56,
          59.28,
          33.72,
          23.04,
          59.52,
          35.4,
          2.4,
          51.24,
          18.6,
          35.52,
          51.36,
          11.16,
          29.52,
          17.4,
          33,
          52.68,
          36.72,
          17.16,
          39.6,
          6.84,
          29.52,
          52.44,
          1.92,
          34.2,
          35.88,
          9.24,
          32.04,
          4.92,
          24.36,
          53.4,
          51.6,
          22.08,
          33,
          48.72,
          30.6,
          57.36,
          5.88,
          1.8,
          40.2,
          43.8,
          16.8,
          37.92,
          4.2,
          25.2,
          50.76,
          50.04,
          5.16,
          43.56,
          12.12,
          20.64,
          41.16,
          55.68,
          13.2,
          0.36,
          0.48,
          32.28,
          9.84,
          45.6,
          18.48,
          24.72,
          56.16,
          42,
          17.16,
          0.96,
          44.28,
          19.2,
          32.16,
          26.04,
          2.88,
          41.52,
          38.76,
          14.16,
          46.68,
          0,
          58.8,
          14.4,
          47.52,
          3.48,
          32.64,
          40.2,
          46.32,
          56.4,
          46.8,
          34.68,
          31.08,
          52.68,
          20.4,
          42.48,
          39.84,
          6.84,
          17.76,
          2.28,
          8.76,
          58.8,
          48.36,
          30.96,
          16.68,
          10.08,
          27.96,
          47.64,
          25.32,
          13.92,
          52.2,
          1.56,
          44.28,
          22.08,
          21.72,
          42.96,
          21.72,
          44.16,
          17.64,
          4.08,
          45.12,
          6.24,
          28.32,
          12.72,
          13.92,
          25.08,
          24.12,
          8.52,
          4.08,
          58.68,
          36.24,
          9.36,
          2.76,
          12,
          3.12,
          6.48,
          6.84,
          51.6,
          25.56,
          54.12,
          2.52,
          34.44,
          16.68,
          14.52,
          49.32,
          12.96,
          4.92,
          50.4,
          42.72,
          4.44,
          5.88,
          11.16,
          50.4,
          10.32
         ],
         "xaxis": "x",
         "y": [
          12.6,
          25.68,
          14.28,
          11.52,
          20.88,
          11.4,
          15.36,
          30.48,
          17.64,
          12.12,
          25.8,
          19.92,
          20.52,
          24.84,
          15.48,
          10.2,
          17.88,
          12.72,
          27.84,
          17.76,
          11.64,
          13.68,
          12.84,
          27.12,
          25.44,
          24.24,
          28.44,
          6.6,
          15.84,
          28.56,
          22.08,
          9.72,
          29.04,
          18.84,
          16.8,
          21.6,
          11.16,
          11.4,
          16.08,
          22.68,
          26.76,
          21.96,
          14.88,
          10.56,
          13.2,
          20.4,
          10.44,
          8.28,
          17.04,
          6.36,
          13.2,
          14.16,
          14.76,
          13.56,
          16.32,
          26.04,
          18.24,
          14.4,
          19.2,
          15.48,
          20.04,
          13.44,
          8.76,
          23.28,
          26.64,
          13.8,
          20.28,
          14.04,
          18.6,
          30.48,
          20.64,
          14.04,
          28.56,
          17.76,
          17.64,
          24.84,
          23.04,
          8.64,
          10.44,
          6.36,
          23.76,
          16.08,
          26.16,
          16.92,
          19.08,
          17.52,
          15.12,
          14.64,
          11.28,
          19.08,
          7.92,
          18.6,
          8.4,
          13.92,
          18.24,
          23.64,
          12.72,
          7.92,
          10.56,
          29.64,
          11.64,
          1.92,
          15.24,
          6.84,
          23.52,
          12.96,
          13.92,
          11.4,
          24.96,
          11.52,
          24.84,
          13.08,
          23.04,
          24.12,
          12.48,
          13.68,
          12.36,
          15.84,
          30.48,
          13.08,
          12.12,
          19.32,
          13.92,
          19.92,
          22.8,
          18.72,
          3.84,
          18.36,
          12.12,
          8.76,
          15.48,
          17.28,
          15.96,
          17.88,
          21.6,
          14.28,
          14.28,
          9.6,
          14.64,
          20.52,
          18,
          10.08,
          17.4,
          9.12,
          14.04,
          13.8,
          32.4,
          24.24,
          14.04,
          14.16,
          15.12,
          12.6,
          14.64,
          10.44,
          31.44,
          21.12,
          27.12,
          12.36,
          20.76,
          19.08,
          8.04,
          12.96,
          11.88,
          7.08,
          23.52,
          20.76,
          9.12,
          11.64,
          15.36,
          30.6,
          16.08
         ],
         "yaxis": "y"
        },
        {
         "customdata": [
          [
           "newspaper"
          ],
          [
           "newspaper"
          ],
          [
           "newspaper"
          ],
          [
           "newspaper"
          ],
          [
           "newspaper"
          ],
          [
           "newspaper"
          ],
          [
           "newspaper"
          ],
          [
           "newspaper"
          ],
          [
           "newspaper"
          ],
          [
           "newspaper"
          ],
          [
           "newspaper"
          ],
          [
           "newspaper"
          ],
          [
           "newspaper"
          ],
          [
           "newspaper"
          ],
          [
           "newspaper"
          ],
          [
           "newspaper"
          ],
          [
           "newspaper"
          ],
          [
           "newspaper"
          ],
          [
           "newspaper"
          ],
          [
           "newspaper"
          ],
          [
           "newspaper"
          ],
          [
           "newspaper"
          ],
          [
           "newspaper"
          ],
          [
           "newspaper"
          ],
          [
           "newspaper"
          ],
          [
           "newspaper"
          ],
          [
           "newspaper"
          ],
          [
           "newspaper"
          ],
          [
           "newspaper"
          ],
          [
           "newspaper"
          ],
          [
           "newspaper"
          ],
          [
           "newspaper"
          ],
          [
           "newspaper"
          ],
          [
           "newspaper"
          ],
          [
           "newspaper"
          ],
          [
           "newspaper"
          ],
          [
           "newspaper"
          ],
          [
           "newspaper"
          ],
          [
           "newspaper"
          ],
          [
           "newspaper"
          ],
          [
           "newspaper"
          ],
          [
           "newspaper"
          ],
          [
           "newspaper"
          ],
          [
           "newspaper"
          ],
          [
           "newspaper"
          ],
          [
           "newspaper"
          ],
          [
           "newspaper"
          ],
          [
           "newspaper"
          ],
          [
           "newspaper"
          ],
          [
           "newspaper"
          ],
          [
           "newspaper"
          ],
          [
           "newspaper"
          ],
          [
           "newspaper"
          ],
          [
           "newspaper"
          ],
          [
           "newspaper"
          ],
          [
           "newspaper"
          ],
          [
           "newspaper"
          ],
          [
           "newspaper"
          ],
          [
           "newspaper"
          ],
          [
           "newspaper"
          ],
          [
           "newspaper"
          ],
          [
           "newspaper"
          ],
          [
           "newspaper"
          ],
          [
           "newspaper"
          ],
          [
           "newspaper"
          ],
          [
           "newspaper"
          ],
          [
           "newspaper"
          ],
          [
           "newspaper"
          ],
          [
           "newspaper"
          ],
          [
           "newspaper"
          ],
          [
           "newspaper"
          ],
          [
           "newspaper"
          ],
          [
           "newspaper"
          ],
          [
           "newspaper"
          ],
          [
           "newspaper"
          ],
          [
           "newspaper"
          ],
          [
           "newspaper"
          ],
          [
           "newspaper"
          ],
          [
           "newspaper"
          ],
          [
           "newspaper"
          ],
          [
           "newspaper"
          ],
          [
           "newspaper"
          ],
          [
           "newspaper"
          ],
          [
           "newspaper"
          ],
          [
           "newspaper"
          ],
          [
           "newspaper"
          ],
          [
           "newspaper"
          ],
          [
           "newspaper"
          ],
          [
           "newspaper"
          ],
          [
           "newspaper"
          ],
          [
           "newspaper"
          ],
          [
           "newspaper"
          ],
          [
           "newspaper"
          ],
          [
           "newspaper"
          ],
          [
           "newspaper"
          ],
          [
           "newspaper"
          ],
          [
           "newspaper"
          ],
          [
           "newspaper"
          ],
          [
           "newspaper"
          ],
          [
           "newspaper"
          ],
          [
           "newspaper"
          ],
          [
           "newspaper"
          ],
          [
           "newspaper"
          ],
          [
           "newspaper"
          ],
          [
           "newspaper"
          ],
          [
           "newspaper"
          ],
          [
           "newspaper"
          ],
          [
           "newspaper"
          ],
          [
           "newspaper"
          ],
          [
           "newspaper"
          ],
          [
           "newspaper"
          ],
          [
           "newspaper"
          ],
          [
           "newspaper"
          ],
          [
           "newspaper"
          ],
          [
           "newspaper"
          ],
          [
           "newspaper"
          ],
          [
           "newspaper"
          ],
          [
           "newspaper"
          ],
          [
           "newspaper"
          ],
          [
           "newspaper"
          ],
          [
           "newspaper"
          ],
          [
           "newspaper"
          ],
          [
           "newspaper"
          ],
          [
           "newspaper"
          ],
          [
           "newspaper"
          ],
          [
           "newspaper"
          ],
          [
           "newspaper"
          ],
          [
           "newspaper"
          ],
          [
           "newspaper"
          ],
          [
           "newspaper"
          ],
          [
           "newspaper"
          ],
          [
           "newspaper"
          ],
          [
           "newspaper"
          ],
          [
           "newspaper"
          ],
          [
           "newspaper"
          ],
          [
           "newspaper"
          ],
          [
           "newspaper"
          ],
          [
           "newspaper"
          ],
          [
           "newspaper"
          ],
          [
           "newspaper"
          ],
          [
           "newspaper"
          ],
          [
           "newspaper"
          ],
          [
           "newspaper"
          ],
          [
           "newspaper"
          ],
          [
           "newspaper"
          ],
          [
           "newspaper"
          ],
          [
           "newspaper"
          ],
          [
           "newspaper"
          ],
          [
           "newspaper"
          ],
          [
           "newspaper"
          ],
          [
           "newspaper"
          ],
          [
           "newspaper"
          ],
          [
           "newspaper"
          ],
          [
           "newspaper"
          ],
          [
           "newspaper"
          ],
          [
           "newspaper"
          ],
          [
           "newspaper"
          ],
          [
           "newspaper"
          ],
          [
           "newspaper"
          ],
          [
           "newspaper"
          ],
          [
           "newspaper"
          ],
          [
           "newspaper"
          ],
          [
           "newspaper"
          ],
          [
           "newspaper"
          ],
          [
           "newspaper"
          ],
          [
           "newspaper"
          ],
          [
           "newspaper"
          ],
          [
           "newspaper"
          ],
          [
           "newspaper"
          ],
          [
           "newspaper"
          ],
          [
           "newspaper"
          ]
         ],
         "hovertemplate": "platform=%{customdata[0]}<br>symbol=square<br>Investimento=%{x}<br>Sales=%{y}<extra></extra>",
         "legendgroup": "newspaper, square",
         "marker": {
          "color": "#00cc96",
          "symbol": "square"
         },
         "mode": "markers",
         "name": "newspaper, square",
         "orientation": "v",
         "showlegend": true,
         "type": "scatter",
         "x": [
          48.96,
          51.84,
          46.32,
          36,
          0.36,
          8.88,
          10.2,
          6,
          54.84,
          42.12,
          38.4,
          37.92,
          46.44,
          2.16,
          31.68,
          51.96,
          37.8,
          42.84,
          22.2,
          59.88,
          44.16,
          41.52,
          4.32,
          47.52,
          70.44,
          19.08,
          72,
          49.68,
          19.92,
          45.24,
          11.16,
          25.68,
          65.64,
          32.76,
          10.08,
          34.68,
          1.08,
          2.64,
          12.24,
          13.2,
          32.64,
          46.44,
          38.04,
          23.16,
          37.56,
          15.72,
          107.28,
          24.84,
          17.04,
          11.28,
          27.72,
          26.76,
          44.28,
          39,
          42.72,
          40.56,
          78.84,
          19.2,
          75.84,
          88.08,
          61.68,
          11.16,
          39.6,
          70.8,
          86.76,
          13.08,
          63.48,
          7.08,
          26.4,
          61.44,
          55.08,
          59.76,
          121.08,
          25.68,
          21.48,
          6.36,
          70.8,
          35.64,
          27.84,
          30.72,
          6.6,
          67.8,
          27.84,
          2.88,
          12.84,
          41.4,
          63.24,
          30.72,
          17.76,
          95.04,
          26.76,
          55.44,
          60.48,
          18.72,
          14.88,
          89.04,
          31.08,
          60.72,
          11.04,
          3.84,
          51.72,
          10.44,
          51.6,
          2.52,
          54.12,
          78.72,
          10.2,
          11.16,
          71.64,
          24.6,
          2.04,
          15.48,
          90.72,
          45.48,
          41.28,
          46.68,
          10.8,
          10.44,
          53.16,
          14.28,
          24.72,
          44.4,
          58.44,
          17.04,
          45.24,
          11.4,
          6.84,
          60.6,
          29.16,
          54.24,
          41.52,
          36.84,
          59.16,
          30.72,
          8.88,
          6.48,
          101.76,
          25.92,
          23.28,
          69.12,
          7.68,
          22.08,
          56.88,
          20.4,
          15.36,
          15.72,
          50.16,
          24.36,
          42.24,
          28.44,
          21.12,
          9.96,
          32.88,
          35.64,
          86.16,
          36,
          23.52,
          31.92,
          21.84,
          4.44,
          28.08,
          6.96,
          7.2,
          37.92,
          4.32,
          7.2,
          16.56,
          9.72,
          7.68,
          79.44,
          10.44
         ],
         "xaxis": "x",
         "y": [
          12.6,
          25.68,
          14.28,
          11.52,
          20.88,
          11.4,
          15.36,
          30.48,
          17.64,
          12.12,
          25.8,
          19.92,
          20.52,
          24.84,
          15.48,
          10.2,
          17.88,
          12.72,
          27.84,
          17.76,
          11.64,
          13.68,
          12.84,
          27.12,
          25.44,
          24.24,
          28.44,
          6.6,
          15.84,
          28.56,
          22.08,
          9.72,
          29.04,
          18.84,
          16.8,
          21.6,
          11.16,
          11.4,
          16.08,
          22.68,
          26.76,
          21.96,
          14.88,
          10.56,
          13.2,
          20.4,
          10.44,
          8.28,
          17.04,
          6.36,
          13.2,
          14.16,
          14.76,
          13.56,
          16.32,
          26.04,
          18.24,
          14.4,
          19.2,
          15.48,
          20.04,
          13.44,
          8.76,
          23.28,
          26.64,
          13.8,
          20.28,
          14.04,
          18.6,
          30.48,
          20.64,
          14.04,
          28.56,
          17.76,
          17.64,
          24.84,
          23.04,
          8.64,
          10.44,
          6.36,
          23.76,
          16.08,
          26.16,
          16.92,
          19.08,
          17.52,
          15.12,
          14.64,
          11.28,
          19.08,
          7.92,
          18.6,
          8.4,
          13.92,
          18.24,
          23.64,
          12.72,
          7.92,
          10.56,
          29.64,
          11.64,
          1.92,
          15.24,
          6.84,
          23.52,
          12.96,
          13.92,
          11.4,
          24.96,
          11.52,
          24.84,
          13.08,
          23.04,
          24.12,
          12.48,
          13.68,
          12.36,
          15.84,
          30.48,
          13.08,
          12.12,
          19.32,
          13.92,
          19.92,
          22.8,
          18.72,
          3.84,
          18.36,
          12.12,
          8.76,
          15.48,
          17.28,
          15.96,
          17.88,
          21.6,
          14.28,
          14.28,
          9.6,
          14.64,
          20.52,
          18,
          10.08,
          17.4,
          9.12,
          14.04,
          13.8,
          32.4,
          24.24,
          14.04,
          14.16,
          15.12,
          12.6,
          14.64,
          10.44,
          31.44,
          21.12,
          27.12,
          12.36,
          20.76,
          19.08,
          8.04,
          12.96,
          11.88,
          7.08,
          23.52,
          20.76,
          9.12,
          11.64,
          15.36,
          30.6,
          16.08
         ],
         "yaxis": "y"
        }
       ],
       "layout": {
        "legend": {
         "title": {
          "text": "platform, symbol"
         },
         "tracegroupgap": 0
        },
        "template": {
         "data": {
          "bar": [
           {
            "error_x": {
             "color": "#2a3f5f"
            },
            "error_y": {
             "color": "#2a3f5f"
            },
            "marker": {
             "line": {
              "color": "#E5ECF6",
              "width": 0.5
             },
             "pattern": {
              "fillmode": "overlay",
              "size": 10,
              "solidity": 0.2
             }
            },
            "type": "bar"
           }
          ],
          "barpolar": [
           {
            "marker": {
             "line": {
              "color": "#E5ECF6",
              "width": 0.5
             },
             "pattern": {
              "fillmode": "overlay",
              "size": 10,
              "solidity": 0.2
             }
            },
            "type": "barpolar"
           }
          ],
          "carpet": [
           {
            "aaxis": {
             "endlinecolor": "#2a3f5f",
             "gridcolor": "white",
             "linecolor": "white",
             "minorgridcolor": "white",
             "startlinecolor": "#2a3f5f"
            },
            "baxis": {
             "endlinecolor": "#2a3f5f",
             "gridcolor": "white",
             "linecolor": "white",
             "minorgridcolor": "white",
             "startlinecolor": "#2a3f5f"
            },
            "type": "carpet"
           }
          ],
          "choropleth": [
           {
            "colorbar": {
             "outlinewidth": 0,
             "ticks": ""
            },
            "type": "choropleth"
           }
          ],
          "contour": [
           {
            "colorbar": {
             "outlinewidth": 0,
             "ticks": ""
            },
            "colorscale": [
             [
              0,
              "#0d0887"
             ],
             [
              0.1111111111111111,
              "#46039f"
             ],
             [
              0.2222222222222222,
              "#7201a8"
             ],
             [
              0.3333333333333333,
              "#9c179e"
             ],
             [
              0.4444444444444444,
              "#bd3786"
             ],
             [
              0.5555555555555556,
              "#d8576b"
             ],
             [
              0.6666666666666666,
              "#ed7953"
             ],
             [
              0.7777777777777778,
              "#fb9f3a"
             ],
             [
              0.8888888888888888,
              "#fdca26"
             ],
             [
              1,
              "#f0f921"
             ]
            ],
            "type": "contour"
           }
          ],
          "contourcarpet": [
           {
            "colorbar": {
             "outlinewidth": 0,
             "ticks": ""
            },
            "type": "contourcarpet"
           }
          ],
          "heatmap": [
           {
            "colorbar": {
             "outlinewidth": 0,
             "ticks": ""
            },
            "colorscale": [
             [
              0,
              "#0d0887"
             ],
             [
              0.1111111111111111,
              "#46039f"
             ],
             [
              0.2222222222222222,
              "#7201a8"
             ],
             [
              0.3333333333333333,
              "#9c179e"
             ],
             [
              0.4444444444444444,
              "#bd3786"
             ],
             [
              0.5555555555555556,
              "#d8576b"
             ],
             [
              0.6666666666666666,
              "#ed7953"
             ],
             [
              0.7777777777777778,
              "#fb9f3a"
             ],
             [
              0.8888888888888888,
              "#fdca26"
             ],
             [
              1,
              "#f0f921"
             ]
            ],
            "type": "heatmap"
           }
          ],
          "heatmapgl": [
           {
            "colorbar": {
             "outlinewidth": 0,
             "ticks": ""
            },
            "colorscale": [
             [
              0,
              "#0d0887"
             ],
             [
              0.1111111111111111,
              "#46039f"
             ],
             [
              0.2222222222222222,
              "#7201a8"
             ],
             [
              0.3333333333333333,
              "#9c179e"
             ],
             [
              0.4444444444444444,
              "#bd3786"
             ],
             [
              0.5555555555555556,
              "#d8576b"
             ],
             [
              0.6666666666666666,
              "#ed7953"
             ],
             [
              0.7777777777777778,
              "#fb9f3a"
             ],
             [
              0.8888888888888888,
              "#fdca26"
             ],
             [
              1,
              "#f0f921"
             ]
            ],
            "type": "heatmapgl"
           }
          ],
          "histogram": [
           {
            "marker": {
             "pattern": {
              "fillmode": "overlay",
              "size": 10,
              "solidity": 0.2
             }
            },
            "type": "histogram"
           }
          ],
          "histogram2d": [
           {
            "colorbar": {
             "outlinewidth": 0,
             "ticks": ""
            },
            "colorscale": [
             [
              0,
              "#0d0887"
             ],
             [
              0.1111111111111111,
              "#46039f"
             ],
             [
              0.2222222222222222,
              "#7201a8"
             ],
             [
              0.3333333333333333,
              "#9c179e"
             ],
             [
              0.4444444444444444,
              "#bd3786"
             ],
             [
              0.5555555555555556,
              "#d8576b"
             ],
             [
              0.6666666666666666,
              "#ed7953"
             ],
             [
              0.7777777777777778,
              "#fb9f3a"
             ],
             [
              0.8888888888888888,
              "#fdca26"
             ],
             [
              1,
              "#f0f921"
             ]
            ],
            "type": "histogram2d"
           }
          ],
          "histogram2dcontour": [
           {
            "colorbar": {
             "outlinewidth": 0,
             "ticks": ""
            },
            "colorscale": [
             [
              0,
              "#0d0887"
             ],
             [
              0.1111111111111111,
              "#46039f"
             ],
             [
              0.2222222222222222,
              "#7201a8"
             ],
             [
              0.3333333333333333,
              "#9c179e"
             ],
             [
              0.4444444444444444,
              "#bd3786"
             ],
             [
              0.5555555555555556,
              "#d8576b"
             ],
             [
              0.6666666666666666,
              "#ed7953"
             ],
             [
              0.7777777777777778,
              "#fb9f3a"
             ],
             [
              0.8888888888888888,
              "#fdca26"
             ],
             [
              1,
              "#f0f921"
             ]
            ],
            "type": "histogram2dcontour"
           }
          ],
          "mesh3d": [
           {
            "colorbar": {
             "outlinewidth": 0,
             "ticks": ""
            },
            "type": "mesh3d"
           }
          ],
          "parcoords": [
           {
            "line": {
             "colorbar": {
              "outlinewidth": 0,
              "ticks": ""
             }
            },
            "type": "parcoords"
           }
          ],
          "pie": [
           {
            "automargin": true,
            "type": "pie"
           }
          ],
          "scatter": [
           {
            "fillpattern": {
             "fillmode": "overlay",
             "size": 10,
             "solidity": 0.2
            },
            "type": "scatter"
           }
          ],
          "scatter3d": [
           {
            "line": {
             "colorbar": {
              "outlinewidth": 0,
              "ticks": ""
             }
            },
            "marker": {
             "colorbar": {
              "outlinewidth": 0,
              "ticks": ""
             }
            },
            "type": "scatter3d"
           }
          ],
          "scattercarpet": [
           {
            "marker": {
             "colorbar": {
              "outlinewidth": 0,
              "ticks": ""
             }
            },
            "type": "scattercarpet"
           }
          ],
          "scattergeo": [
           {
            "marker": {
             "colorbar": {
              "outlinewidth": 0,
              "ticks": ""
             }
            },
            "type": "scattergeo"
           }
          ],
          "scattergl": [
           {
            "marker": {
             "colorbar": {
              "outlinewidth": 0,
              "ticks": ""
             }
            },
            "type": "scattergl"
           }
          ],
          "scattermapbox": [
           {
            "marker": {
             "colorbar": {
              "outlinewidth": 0,
              "ticks": ""
             }
            },
            "type": "scattermapbox"
           }
          ],
          "scatterpolar": [
           {
            "marker": {
             "colorbar": {
              "outlinewidth": 0,
              "ticks": ""
             }
            },
            "type": "scatterpolar"
           }
          ],
          "scatterpolargl": [
           {
            "marker": {
             "colorbar": {
              "outlinewidth": 0,
              "ticks": ""
             }
            },
            "type": "scatterpolargl"
           }
          ],
          "scatterternary": [
           {
            "marker": {
             "colorbar": {
              "outlinewidth": 0,
              "ticks": ""
             }
            },
            "type": "scatterternary"
           }
          ],
          "surface": [
           {
            "colorbar": {
             "outlinewidth": 0,
             "ticks": ""
            },
            "colorscale": [
             [
              0,
              "#0d0887"
             ],
             [
              0.1111111111111111,
              "#46039f"
             ],
             [
              0.2222222222222222,
              "#7201a8"
             ],
             [
              0.3333333333333333,
              "#9c179e"
             ],
             [
              0.4444444444444444,
              "#bd3786"
             ],
             [
              0.5555555555555556,
              "#d8576b"
             ],
             [
              0.6666666666666666,
              "#ed7953"
             ],
             [
              0.7777777777777778,
              "#fb9f3a"
             ],
             [
              0.8888888888888888,
              "#fdca26"
             ],
             [
              1,
              "#f0f921"
             ]
            ],
            "type": "surface"
           }
          ],
          "table": [
           {
            "cells": {
             "fill": {
              "color": "#EBF0F8"
             },
             "line": {
              "color": "white"
             }
            },
            "header": {
             "fill": {
              "color": "#C8D4E3"
             },
             "line": {
              "color": "white"
             }
            },
            "type": "table"
           }
          ]
         },
         "layout": {
          "annotationdefaults": {
           "arrowcolor": "#2a3f5f",
           "arrowhead": 0,
           "arrowwidth": 1
          },
          "autotypenumbers": "strict",
          "coloraxis": {
           "colorbar": {
            "outlinewidth": 0,
            "ticks": ""
           }
          },
          "colorscale": {
           "diverging": [
            [
             0,
             "#8e0152"
            ],
            [
             0.1,
             "#c51b7d"
            ],
            [
             0.2,
             "#de77ae"
            ],
            [
             0.3,
             "#f1b6da"
            ],
            [
             0.4,
             "#fde0ef"
            ],
            [
             0.5,
             "#f7f7f7"
            ],
            [
             0.6,
             "#e6f5d0"
            ],
            [
             0.7,
             "#b8e186"
            ],
            [
             0.8,
             "#7fbc41"
            ],
            [
             0.9,
             "#4d9221"
            ],
            [
             1,
             "#276419"
            ]
           ],
           "sequential": [
            [
             0,
             "#0d0887"
            ],
            [
             0.1111111111111111,
             "#46039f"
            ],
            [
             0.2222222222222222,
             "#7201a8"
            ],
            [
             0.3333333333333333,
             "#9c179e"
            ],
            [
             0.4444444444444444,
             "#bd3786"
            ],
            [
             0.5555555555555556,
             "#d8576b"
            ],
            [
             0.6666666666666666,
             "#ed7953"
            ],
            [
             0.7777777777777778,
             "#fb9f3a"
            ],
            [
             0.8888888888888888,
             "#fdca26"
            ],
            [
             1,
             "#f0f921"
            ]
           ],
           "sequentialminus": [
            [
             0,
             "#0d0887"
            ],
            [
             0.1111111111111111,
             "#46039f"
            ],
            [
             0.2222222222222222,
             "#7201a8"
            ],
            [
             0.3333333333333333,
             "#9c179e"
            ],
            [
             0.4444444444444444,
             "#bd3786"
            ],
            [
             0.5555555555555556,
             "#d8576b"
            ],
            [
             0.6666666666666666,
             "#ed7953"
            ],
            [
             0.7777777777777778,
             "#fb9f3a"
            ],
            [
             0.8888888888888888,
             "#fdca26"
            ],
            [
             1,
             "#f0f921"
            ]
           ]
          },
          "colorway": [
           "#636efa",
           "#EF553B",
           "#00cc96",
           "#ab63fa",
           "#FFA15A",
           "#19d3f3",
           "#FF6692",
           "#B6E880",
           "#FF97FF",
           "#FECB52"
          ],
          "font": {
           "color": "#2a3f5f"
          },
          "geo": {
           "bgcolor": "white",
           "lakecolor": "white",
           "landcolor": "#E5ECF6",
           "showlakes": true,
           "showland": true,
           "subunitcolor": "white"
          },
          "hoverlabel": {
           "align": "left"
          },
          "hovermode": "closest",
          "mapbox": {
           "style": "light"
          },
          "paper_bgcolor": "white",
          "plot_bgcolor": "#E5ECF6",
          "polar": {
           "angularaxis": {
            "gridcolor": "white",
            "linecolor": "white",
            "ticks": ""
           },
           "bgcolor": "#E5ECF6",
           "radialaxis": {
            "gridcolor": "white",
            "linecolor": "white",
            "ticks": ""
           }
          },
          "scene": {
           "xaxis": {
            "backgroundcolor": "#E5ECF6",
            "gridcolor": "white",
            "gridwidth": 2,
            "linecolor": "white",
            "showbackground": true,
            "ticks": "",
            "zerolinecolor": "white"
           },
           "yaxis": {
            "backgroundcolor": "#E5ECF6",
            "gridcolor": "white",
            "gridwidth": 2,
            "linecolor": "white",
            "showbackground": true,
            "ticks": "",
            "zerolinecolor": "white"
           },
           "zaxis": {
            "backgroundcolor": "#E5ECF6",
            "gridcolor": "white",
            "gridwidth": 2,
            "linecolor": "white",
            "showbackground": true,
            "ticks": "",
            "zerolinecolor": "white"
           }
          },
          "shapedefaults": {
           "line": {
            "color": "#2a3f5f"
           }
          },
          "ternary": {
           "aaxis": {
            "gridcolor": "white",
            "linecolor": "white",
            "ticks": ""
           },
           "baxis": {
            "gridcolor": "white",
            "linecolor": "white",
            "ticks": ""
           },
           "bgcolor": "#E5ECF6",
           "caxis": {
            "gridcolor": "white",
            "linecolor": "white",
            "ticks": ""
           }
          },
          "title": {
           "x": 0.05
          },
          "xaxis": {
           "automargin": true,
           "gridcolor": "white",
           "linecolor": "white",
           "ticks": "",
           "title": {
            "standoff": 15
           },
           "zerolinecolor": "white",
           "zerolinewidth": 2
          },
          "yaxis": {
           "automargin": true,
           "gridcolor": "white",
           "linecolor": "white",
           "ticks": "",
           "title": {
            "standoff": 15
           },
           "zerolinecolor": "white",
           "zerolinewidth": 2
          }
         }
        },
        "title": {
         "text": "Scatter plot: Sales vs Investimento"
        },
        "xaxis": {
         "anchor": "y",
         "domain": [
          0,
          1
         ],
         "title": {
          "text": "Investimento"
         }
        },
        "yaxis": {
         "anchor": "x",
         "domain": [
          0,
          1
         ],
         "title": {
          "text": "Sales"
         }
        }
       }
      }
     },
     "metadata": {},
     "output_type": "display_data"
    }
   ],
   "source": [
    "# Reestrutura os dados para um formato longo\n",
    "df_melted = df.melt(id_vars='sales', var_name='platform', value_name='investment')\n",
    "\n",
    "# Cria um dicionário com os símbolos para cada plataforma\n",
    "symbols = {'youtube': 'circle', 'facebook': 'diamond', 'newspaper': 'square'}\n",
    "\n",
    "# Cria o gráfico de dispersão\n",
    "fig = px.scatter(df_melted, x='investment', y='sales', color='platform', \n",
    "                 symbol=df_melted['platform'].map(symbols), \n",
    "                 title='Scatter plot: Sales vs Investimento',\n",
    "                 labels={'investment':'Investimento', 'sales':'Sales'}, \n",
    "                 hover_data=['platform', 'investment', 'sales'])\n",
    "\n",
    "fig.show()\n"
   ]
  },
  {
   "attachments": {},
   "cell_type": "markdown",
   "metadata": {},
   "source": [
    "Analisando o Scatter plot é possível observar que é necessário desprender ou investir muito mais dinheiro no Youtube para ter o mesmo retorno que as demais plataformas. Em contra partida o Facebook e Newspaper possuem uma distribuição semelhante, onde a relação Sales vs Investimento é mais vantajosa, sendo necessário despender menos dinheiro para um retorno maior."
   ]
  },
  {
   "attachments": {},
   "cell_type": "markdown",
   "metadata": {},
   "source": [
    "### Analisando a Eficiência da relação Sales vs Investimento"
   ]
  },
  {
   "attachments": {},
   "cell_type": "markdown",
   "metadata": {},
   "source": [
    "Uma maneira de avaliar a eficiência do investimento em marketing é calcular a taxa de retorno do investimento (ROI), que é uma métrica popular para avaliar a eficiência do investimento. O ROI é calculado como:\n",
    "\n",
    "**ROI = (Retorno do Investimento - Custo do Investimento) / Custo do Investimento**\n",
    "\n",
    "Sendo que:\n",
    "* Retorno do Investimento = Vendas (sales)\n",
    "* Custo do Investimento = Investimento nas Plataformas"
   ]
  },
  {
   "cell_type": "code",
   "execution_count": 51,
   "metadata": {},
   "outputs": [
    {
     "data": {
      "text/html": [
       "<div>\n",
       "<style scoped>\n",
       "    .dataframe tbody tr th:only-of-type {\n",
       "        vertical-align: middle;\n",
       "    }\n",
       "\n",
       "    .dataframe tbody tr th {\n",
       "        vertical-align: top;\n",
       "    }\n",
       "\n",
       "    .dataframe thead th {\n",
       "        text-align: right;\n",
       "    }\n",
       "</style>\n",
       "<table border=\"1\" class=\"dataframe\">\n",
       "  <thead>\n",
       "    <tr style=\"text-align: right;\">\n",
       "      <th></th>\n",
       "      <th>youtube</th>\n",
       "      <th>facebook</th>\n",
       "      <th>newspaper</th>\n",
       "      <th>sales</th>\n",
       "      <th>ROI_youtube</th>\n",
       "      <th>ROI_facebook</th>\n",
       "      <th>ROI_newspaper</th>\n",
       "    </tr>\n",
       "  </thead>\n",
       "  <tbody>\n",
       "    <tr>\n",
       "      <th>0</th>\n",
       "      <td>84.72</td>\n",
       "      <td>19.20</td>\n",
       "      <td>48.96</td>\n",
       "      <td>12.60</td>\n",
       "      <td>-0.85</td>\n",
       "      <td>-0.34</td>\n",
       "      <td>-0.74</td>\n",
       "    </tr>\n",
       "    <tr>\n",
       "      <th>1</th>\n",
       "      <td>351.48</td>\n",
       "      <td>33.96</td>\n",
       "      <td>51.84</td>\n",
       "      <td>25.68</td>\n",
       "      <td>-0.93</td>\n",
       "      <td>-0.24</td>\n",
       "      <td>-0.50</td>\n",
       "    </tr>\n",
       "    <tr>\n",
       "      <th>2</th>\n",
       "      <td>135.48</td>\n",
       "      <td>20.88</td>\n",
       "      <td>46.32</td>\n",
       "      <td>14.28</td>\n",
       "      <td>-0.89</td>\n",
       "      <td>-0.32</td>\n",
       "      <td>-0.69</td>\n",
       "    </tr>\n",
       "    <tr>\n",
       "      <th>3</th>\n",
       "      <td>116.64</td>\n",
       "      <td>1.80</td>\n",
       "      <td>36.00</td>\n",
       "      <td>11.52</td>\n",
       "      <td>-0.90</td>\n",
       "      <td>5.40</td>\n",
       "      <td>-0.68</td>\n",
       "    </tr>\n",
       "    <tr>\n",
       "      <th>4</th>\n",
       "      <td>318.72</td>\n",
       "      <td>24.00</td>\n",
       "      <td>0.36</td>\n",
       "      <td>20.88</td>\n",
       "      <td>-0.93</td>\n",
       "      <td>-0.13</td>\n",
       "      <td>57.00</td>\n",
       "    </tr>\n",
       "    <tr>\n",
       "      <th>...</th>\n",
       "      <td>...</td>\n",
       "      <td>...</td>\n",
       "      <td>...</td>\n",
       "      <td>...</td>\n",
       "      <td>...</td>\n",
       "      <td>...</td>\n",
       "      <td>...</td>\n",
       "    </tr>\n",
       "    <tr>\n",
       "      <th>166</th>\n",
       "      <td>45.84</td>\n",
       "      <td>4.44</td>\n",
       "      <td>16.56</td>\n",
       "      <td>9.12</td>\n",
       "      <td>-0.80</td>\n",
       "      <td>1.05</td>\n",
       "      <td>-0.45</td>\n",
       "    </tr>\n",
       "    <tr>\n",
       "      <th>167</th>\n",
       "      <td>113.04</td>\n",
       "      <td>5.88</td>\n",
       "      <td>9.72</td>\n",
       "      <td>11.64</td>\n",
       "      <td>-0.90</td>\n",
       "      <td>0.98</td>\n",
       "      <td>0.20</td>\n",
       "    </tr>\n",
       "    <tr>\n",
       "      <th>168</th>\n",
       "      <td>212.40</td>\n",
       "      <td>11.16</td>\n",
       "      <td>7.68</td>\n",
       "      <td>15.36</td>\n",
       "      <td>-0.93</td>\n",
       "      <td>0.38</td>\n",
       "      <td>1.00</td>\n",
       "    </tr>\n",
       "    <tr>\n",
       "      <th>169</th>\n",
       "      <td>340.32</td>\n",
       "      <td>50.40</td>\n",
       "      <td>79.44</td>\n",
       "      <td>30.60</td>\n",
       "      <td>-0.91</td>\n",
       "      <td>-0.39</td>\n",
       "      <td>-0.61</td>\n",
       "    </tr>\n",
       "    <tr>\n",
       "      <th>170</th>\n",
       "      <td>278.52</td>\n",
       "      <td>10.32</td>\n",
       "      <td>10.44</td>\n",
       "      <td>16.08</td>\n",
       "      <td>-0.94</td>\n",
       "      <td>0.56</td>\n",
       "      <td>0.54</td>\n",
       "    </tr>\n",
       "  </tbody>\n",
       "</table>\n",
       "<p>171 rows × 7 columns</p>\n",
       "</div>"
      ],
      "text/plain": [
       "     youtube  facebook  newspaper  sales  ROI_youtube  ROI_facebook   \n",
       "0      84.72     19.20      48.96  12.60        -0.85         -0.34  \\\n",
       "1     351.48     33.96      51.84  25.68        -0.93         -0.24   \n",
       "2     135.48     20.88      46.32  14.28        -0.89         -0.32   \n",
       "3     116.64      1.80      36.00  11.52        -0.90          5.40   \n",
       "4     318.72     24.00       0.36  20.88        -0.93         -0.13   \n",
       "..       ...       ...        ...    ...          ...           ...   \n",
       "166    45.84      4.44      16.56   9.12        -0.80          1.05   \n",
       "167   113.04      5.88       9.72  11.64        -0.90          0.98   \n",
       "168   212.40     11.16       7.68  15.36        -0.93          0.38   \n",
       "169   340.32     50.40      79.44  30.60        -0.91         -0.39   \n",
       "170   278.52     10.32      10.44  16.08        -0.94          0.56   \n",
       "\n",
       "     ROI_newspaper  \n",
       "0            -0.74  \n",
       "1            -0.50  \n",
       "2            -0.69  \n",
       "3            -0.68  \n",
       "4            57.00  \n",
       "..             ...  \n",
       "166          -0.45  \n",
       "167           0.20  \n",
       "168           1.00  \n",
       "169          -0.61  \n",
       "170           0.54  \n",
       "\n",
       "[171 rows x 7 columns]"
      ]
     },
     "execution_count": 51,
     "metadata": {},
     "output_type": "execute_result"
    }
   ],
   "source": [
    "df['ROI_youtube'] = (df['sales'] - df['youtube']) / df['youtube']\n",
    "df['ROI_facebook'] = (df['sales'] - df['facebook']) / df['facebook']\n",
    "df['ROI_newspaper'] = (df['sales'] - df['newspaper']) / df['newspaper']\n",
    "df"
   ]
  },
  {
   "cell_type": "code",
   "execution_count": 52,
   "metadata": {},
   "outputs": [
    {
     "data": {
      "text/html": [
       "<div>\n",
       "<style scoped>\n",
       "    .dataframe tbody tr th:only-of-type {\n",
       "        vertical-align: middle;\n",
       "    }\n",
       "\n",
       "    .dataframe tbody tr th {\n",
       "        vertical-align: top;\n",
       "    }\n",
       "\n",
       "    .dataframe thead th {\n",
       "        text-align: right;\n",
       "    }\n",
       "</style>\n",
       "<table border=\"1\" class=\"dataframe\">\n",
       "  <thead>\n",
       "    <tr style=\"text-align: right;\">\n",
       "      <th></th>\n",
       "      <th>count</th>\n",
       "      <th>mean</th>\n",
       "      <th>std</th>\n",
       "      <th>min</th>\n",
       "      <th>25%</th>\n",
       "      <th>50%</th>\n",
       "      <th>75%</th>\n",
       "      <th>max</th>\n",
       "    </tr>\n",
       "  </thead>\n",
       "  <tbody>\n",
       "    <tr>\n",
       "      <th>youtube</th>\n",
       "      <td>171.00</td>\n",
       "      <td>178.02</td>\n",
       "      <td>102.45</td>\n",
       "      <td>0.84</td>\n",
       "      <td>91.08</td>\n",
       "      <td>179.76</td>\n",
       "      <td>262.98</td>\n",
       "      <td>355.68</td>\n",
       "    </tr>\n",
       "    <tr>\n",
       "      <th>facebook</th>\n",
       "      <td>171.00</td>\n",
       "      <td>27.67</td>\n",
       "      <td>17.91</td>\n",
       "      <td>0.00</td>\n",
       "      <td>11.70</td>\n",
       "      <td>26.76</td>\n",
       "      <td>43.68</td>\n",
       "      <td>59.52</td>\n",
       "    </tr>\n",
       "    <tr>\n",
       "      <th>newspaper</th>\n",
       "      <td>171.00</td>\n",
       "      <td>35.24</td>\n",
       "      <td>24.90</td>\n",
       "      <td>0.36</td>\n",
       "      <td>13.74</td>\n",
       "      <td>31.08</td>\n",
       "      <td>50.88</td>\n",
       "      <td>121.08</td>\n",
       "    </tr>\n",
       "    <tr>\n",
       "      <th>sales</th>\n",
       "      <td>171.00</td>\n",
       "      <td>16.92</td>\n",
       "      <td>6.31</td>\n",
       "      <td>1.92</td>\n",
       "      <td>12.54</td>\n",
       "      <td>15.48</td>\n",
       "      <td>20.82</td>\n",
       "      <td>32.40</td>\n",
       "    </tr>\n",
       "    <tr>\n",
       "      <th>ROI_youtube</th>\n",
       "      <td>171.00</td>\n",
       "      <td>-0.84</td>\n",
       "      <td>0.22</td>\n",
       "      <td>-0.96</td>\n",
       "      <td>-0.92</td>\n",
       "      <td>-0.90</td>\n",
       "      <td>-0.85</td>\n",
       "      <td>1.29</td>\n",
       "    </tr>\n",
       "    <tr>\n",
       "      <th>ROI_facebook</th>\n",
       "      <td>171.00</td>\n",
       "      <td>inf</td>\n",
       "      <td>NaN</td>\n",
       "      <td>-0.96</td>\n",
       "      <td>-0.52</td>\n",
       "      <td>-0.32</td>\n",
       "      <td>0.32</td>\n",
       "      <td>inf</td>\n",
       "    </tr>\n",
       "    <tr>\n",
       "      <th>ROI_newspaper</th>\n",
       "      <td>171.00</td>\n",
       "      <td>0.41</td>\n",
       "      <td>4.70</td>\n",
       "      <td>-0.90</td>\n",
       "      <td>-0.68</td>\n",
       "      <td>-0.51</td>\n",
       "      <td>0.10</td>\n",
       "      <td>57.00</td>\n",
       "    </tr>\n",
       "  </tbody>\n",
       "</table>\n",
       "</div>"
      ],
      "text/plain": [
       "               count   mean    std   min   25%    50%    75%    max\n",
       "youtube       171.00 178.02 102.45  0.84 91.08 179.76 262.98 355.68\n",
       "facebook      171.00  27.67  17.91  0.00 11.70  26.76  43.68  59.52\n",
       "newspaper     171.00  35.24  24.90  0.36 13.74  31.08  50.88 121.08\n",
       "sales         171.00  16.92   6.31  1.92 12.54  15.48  20.82  32.40\n",
       "ROI_youtube   171.00  -0.84   0.22 -0.96 -0.92  -0.90  -0.85   1.29\n",
       "ROI_facebook  171.00    inf    NaN -0.96 -0.52  -0.32   0.32    inf\n",
       "ROI_newspaper 171.00   0.41   4.70 -0.90 -0.68  -0.51   0.10  57.00"
      ]
     },
     "execution_count": 52,
     "metadata": {},
     "output_type": "execute_result"
    }
   ],
   "source": [
    "df.describe().T"
   ]
  },
  {
   "attachments": {},
   "cell_type": "markdown",
   "metadata": {},
   "source": [
    "#### Corrigindo o inf do ROI_facebook"
   ]
  },
  {
   "attachments": {},
   "cell_type": "markdown",
   "metadata": {},
   "source": [
    "Após análise dos dados foi observado que na linha 98 do dataset a variável facebook é igual a 0, sendo assim quando calculamos o ROI, temos:\n",
    "\n",
    "**ROI = (10.56-0)/0**\n",
    "\n",
    "Matematicamente não é possível dividir um número por zero, então para corrigir esse problema vamos adotar uma premissa."
   ]
  },
  {
   "cell_type": "code",
   "execution_count": 53,
   "metadata": {},
   "outputs": [
    {
     "data": {
      "text/plain": [
       "youtube         96.24\n",
       "facebook         0.00\n",
       "newspaper       11.04\n",
       "sales           10.56\n",
       "ROI_youtube     -0.89\n",
       "ROI_facebook      inf\n",
       "ROI_newspaper   -0.04\n",
       "Name: 98, dtype: float64"
      ]
     },
     "execution_count": 53,
     "metadata": {},
     "output_type": "execute_result"
    }
   ],
   "source": [
    "df.loc[98]"
   ]
  },
  {
   "attachments": {},
   "cell_type": "markdown",
   "metadata": {},
   "source": [
    "Como premissa vamos adotar que o 0 será a média."
   ]
  },
  {
   "cell_type": "code",
   "execution_count": 54,
   "metadata": {},
   "outputs": [],
   "source": [
    "df['ROI_facebook'][98] = df['facebook'].mean()"
   ]
  },
  {
   "cell_type": "code",
   "execution_count": 55,
   "metadata": {},
   "outputs": [
    {
     "data": {
      "text/html": [
       "<div>\n",
       "<style scoped>\n",
       "    .dataframe tbody tr th:only-of-type {\n",
       "        vertical-align: middle;\n",
       "    }\n",
       "\n",
       "    .dataframe tbody tr th {\n",
       "        vertical-align: top;\n",
       "    }\n",
       "\n",
       "    .dataframe thead th {\n",
       "        text-align: right;\n",
       "    }\n",
       "</style>\n",
       "<table border=\"1\" class=\"dataframe\">\n",
       "  <thead>\n",
       "    <tr style=\"text-align: right;\">\n",
       "      <th></th>\n",
       "      <th>count</th>\n",
       "      <th>mean</th>\n",
       "      <th>std</th>\n",
       "      <th>min</th>\n",
       "      <th>25%</th>\n",
       "      <th>50%</th>\n",
       "      <th>75%</th>\n",
       "      <th>max</th>\n",
       "    </tr>\n",
       "  </thead>\n",
       "  <tbody>\n",
       "    <tr>\n",
       "      <th>youtube</th>\n",
       "      <td>171.00</td>\n",
       "      <td>178.02</td>\n",
       "      <td>102.45</td>\n",
       "      <td>0.84</td>\n",
       "      <td>91.08</td>\n",
       "      <td>179.76</td>\n",
       "      <td>262.98</td>\n",
       "      <td>355.68</td>\n",
       "    </tr>\n",
       "    <tr>\n",
       "      <th>facebook</th>\n",
       "      <td>171.00</td>\n",
       "      <td>27.67</td>\n",
       "      <td>17.91</td>\n",
       "      <td>0.00</td>\n",
       "      <td>11.70</td>\n",
       "      <td>26.76</td>\n",
       "      <td>43.68</td>\n",
       "      <td>59.52</td>\n",
       "    </tr>\n",
       "    <tr>\n",
       "      <th>newspaper</th>\n",
       "      <td>171.00</td>\n",
       "      <td>35.24</td>\n",
       "      <td>24.90</td>\n",
       "      <td>0.36</td>\n",
       "      <td>13.74</td>\n",
       "      <td>31.08</td>\n",
       "      <td>50.88</td>\n",
       "      <td>121.08</td>\n",
       "    </tr>\n",
       "    <tr>\n",
       "      <th>sales</th>\n",
       "      <td>171.00</td>\n",
       "      <td>16.92</td>\n",
       "      <td>6.31</td>\n",
       "      <td>1.92</td>\n",
       "      <td>12.54</td>\n",
       "      <td>15.48</td>\n",
       "      <td>20.82</td>\n",
       "      <td>32.40</td>\n",
       "    </tr>\n",
       "    <tr>\n",
       "      <th>ROI_youtube</th>\n",
       "      <td>171.00</td>\n",
       "      <td>-0.84</td>\n",
       "      <td>0.22</td>\n",
       "      <td>-0.96</td>\n",
       "      <td>-0.92</td>\n",
       "      <td>-0.90</td>\n",
       "      <td>-0.85</td>\n",
       "      <td>1.29</td>\n",
       "    </tr>\n",
       "    <tr>\n",
       "      <th>ROI_facebook</th>\n",
       "      <td>171.00</td>\n",
       "      <td>0.62</td>\n",
       "      <td>3.48</td>\n",
       "      <td>-0.96</td>\n",
       "      <td>-0.52</td>\n",
       "      <td>-0.32</td>\n",
       "      <td>0.32</td>\n",
       "      <td>28.00</td>\n",
       "    </tr>\n",
       "    <tr>\n",
       "      <th>ROI_newspaper</th>\n",
       "      <td>171.00</td>\n",
       "      <td>0.41</td>\n",
       "      <td>4.70</td>\n",
       "      <td>-0.90</td>\n",
       "      <td>-0.68</td>\n",
       "      <td>-0.51</td>\n",
       "      <td>0.10</td>\n",
       "      <td>57.00</td>\n",
       "    </tr>\n",
       "  </tbody>\n",
       "</table>\n",
       "</div>"
      ],
      "text/plain": [
       "               count   mean    std   min   25%    50%    75%    max\n",
       "youtube       171.00 178.02 102.45  0.84 91.08 179.76 262.98 355.68\n",
       "facebook      171.00  27.67  17.91  0.00 11.70  26.76  43.68  59.52\n",
       "newspaper     171.00  35.24  24.90  0.36 13.74  31.08  50.88 121.08\n",
       "sales         171.00  16.92   6.31  1.92 12.54  15.48  20.82  32.40\n",
       "ROI_youtube   171.00  -0.84   0.22 -0.96 -0.92  -0.90  -0.85   1.29\n",
       "ROI_facebook  171.00   0.62   3.48 -0.96 -0.52  -0.32   0.32  28.00\n",
       "ROI_newspaper 171.00   0.41   4.70 -0.90 -0.68  -0.51   0.10  57.00"
      ]
     },
     "execution_count": 55,
     "metadata": {},
     "output_type": "execute_result"
    }
   ],
   "source": [
    "df.describe().T"
   ]
  },
  {
   "cell_type": "code",
   "execution_count": null,
   "metadata": {},
   "outputs": [],
   "source": []
  },
  {
   "cell_type": "code",
   "execution_count": null,
   "metadata": {},
   "outputs": [],
   "source": []
  },
  {
   "cell_type": "code",
   "execution_count": null,
   "metadata": {},
   "outputs": [],
   "source": []
  }
 ],
 "metadata": {
  "kernelspec": {
   "display_name": "Python 3",
   "language": "python",
   "name": "python3"
  },
  "language_info": {
   "codemirror_mode": {
    "name": "ipython",
    "version": 3
   },
   "file_extension": ".py",
   "mimetype": "text/x-python",
   "name": "python",
   "nbconvert_exporter": "python",
   "pygments_lexer": "ipython3",
   "version": "3.11.3"
  },
  "orig_nbformat": 4
 },
 "nbformat": 4,
 "nbformat_minor": 2
}
